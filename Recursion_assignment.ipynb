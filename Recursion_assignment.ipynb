{
 "cells": [
  {
   "cell_type": "raw",
   "id": "10f86279-7dca-4b74-9f55-ac200c8f9cdf",
   "metadata": {},
   "source": [
    " Q.1 Can you explain the logic and working of the Tower of Hanoi algorithm by writing a Python program?\n",
    "How does the recursion work, and how are the movements of disks between rods accomplished?"
   ]
  },
  {
   "cell_type": "code",
   "execution_count": 10,
   "id": "af7f99b2-d330-495c-aa3e-08a7ab93dc3b",
   "metadata": {},
   "outputs": [],
   "source": [
    "def TowerOfHanoi(n , source, destination, auxiliary):\n",
    "    if n==1:\n",
    "        print (\"Move disk 1 from source\",source,\"to destination\",destination)\n",
    "        return\n",
    "    TowerOfHanoi(n-1, source, auxiliary, destination)\n",
    "    print (\"Move disk\",n,\"from source\",source,\"to destination\",destination)\n",
    "    TowerOfHanoi(n-1, auxiliary, destination, source)\n",
    "         "
   ]
  },
  {
   "cell_type": "code",
   "execution_count": 12,
   "id": "f209bc0b-9658-4b7e-a48e-4b758a3c863c",
   "metadata": {},
   "outputs": [
    {
     "name": "stdout",
     "output_type": "stream",
     "text": [
      "Move disk 1 from source A to destination C\n",
      "Move disk 2 from source A to destination B\n",
      "Move disk 1 from source C to destination B\n",
      "Move disk 3 from source A to destination C\n",
      "Move disk 1 from source B to destination A\n",
      "Move disk 2 from source B to destination C\n",
      "Move disk 1 from source A to destination C\n",
      "Move disk 4 from source A to destination B\n",
      "Move disk 1 from source C to destination B\n",
      "Move disk 2 from source C to destination A\n",
      "Move disk 1 from source B to destination A\n",
      "Move disk 3 from source C to destination B\n",
      "Move disk 1 from source A to destination C\n",
      "Move disk 2 from source A to destination B\n",
      "Move disk 1 from source C to destination B\n"
     ]
    }
   ],
   "source": [
    "# Driver code\n",
    "n = 4\n",
    "TowerOfHanoi(n,'A','B','C') \n",
    "# A, C, B are the name of rods"
   ]
  },
  {
   "cell_type": "raw",
   "id": "2932f349-88bd-4b7d-b460-cfff74575181",
   "metadata": {},
   "source": [
    "Q.2 Given two strings word1 and word2, return the minimum number of operations required to convert word1\n",
    "to word2."
   ]
  },
  {
   "cell_type": "code",
   "execution_count": 7,
   "id": "5190ed81-0394-4e0c-86df-00635509089c",
   "metadata": {},
   "outputs": [],
   "source": [
    "# recursive Python program to find minimum number of operations to convert s1 to s2\n",
    "def editDistRec(s1, s2, m, n):\n",
    "    # If first string is empty, the only option is to\n",
    "    # insert all characters of second string into first\n",
    "    if m == 0:\n",
    "        return n\n",
    "\n",
    "# If second string is empty, the only option is to remove all characters of first string\n",
    "    if n == 0:\n",
    "        return m\n",
    "\n",
    "    # If last characters of two strings are same,get the count for remaining strings.\n",
    "    if s1[m - 1] == s2[n - 1]:\n",
    "        return editDistRec(s1, s2, m - 1, n - 1)\n",
    "\n",
    "    # If last characters are not same, consider all three\n",
    "    # operations on last character of first string,\n",
    "    # recursively compute minimum cost for all three\n",
    "    # operations and take minimum of three values.\n",
    "    return 1 + min(editDistRec(s1, s2, m, n - 1),    # Insert\n",
    "                   editDistRec(s1, s2, m - 1, n),    # Remove\n",
    "                   editDistRec(s1, s2, m - 1, n - 1) # Replace\n",
    "                   )"
   ]
  },
  {
   "cell_type": "code",
   "execution_count": 8,
   "id": "a778fad3-5e01-4df2-92e3-7dcc725be387",
   "metadata": {},
   "outputs": [
    {
     "name": "stdout",
     "output_type": "stream",
     "text": [
      "3\n"
     ]
    }
   ],
   "source": [
    "def editDist(s1, s2):\n",
    "    return editDistRec(s1, s2, len(s1), len(s2))\n",
    "\n",
    "# Driver code\n",
    "s1 = \"horse\"\n",
    "s2 = \"ros\"\n",
    "print(editDist(s1, s2))\n"
   ]
  },
  {
   "cell_type": "code",
   "execution_count": 9,
   "id": "07826f4f-1383-4bed-b1a1-bf9b70b2efeb",
   "metadata": {},
   "outputs": [
    {
     "name": "stdout",
     "output_type": "stream",
     "text": [
      "5\n"
     ]
    }
   ],
   "source": [
    "s1 = \"intention\"\n",
    "s2 = \"execution\"\n",
    "print(editDist(s1, s2))"
   ]
  },
  {
   "cell_type": "raw",
   "id": "a256ce04-c7b3-424e-9a7b-d069089713e0",
   "metadata": {},
   "source": [
    "Q.3 Print the max value of the array [ 13, 1, -3, 22, 5]"
   ]
  },
  {
   "cell_type": "code",
   "execution_count": 1,
   "id": "f07b5952-5557-4103-a7db-f17605ce70d1",
   "metadata": {},
   "outputs": [
    {
     "name": "stdout",
     "output_type": "stream",
     "text": [
      "22\n"
     ]
    }
   ],
   "source": [
    "# find maximum using recursion \n",
    "def find_Max(A, n): \n",
    "  \n",
    "    # if n = 0 means whole array has been traversed \n",
    "    if (n == 1): \n",
    "        return A[0] \n",
    "    return max(A[n - 1], find_Max(A, n - 1)) \n",
    " \n",
    "if __name__ == \"__main__\": \n",
    "      \n",
    "    A =  [ 13, 1, -3, 22, 5]\n",
    "    n = len(A) \n",
    "    print(find_Max(A, n)) "
   ]
  },
  {
   "cell_type": "raw",
   "id": "7a6216f0-d73e-427b-908e-02d9622d80d9",
   "metadata": {},
   "source": [
    "Q.4 Find the sum of the values of the array [92, 23, 15, -20, 10]."
   ]
  },
  {
   "cell_type": "code",
   "execution_count": 2,
   "id": "02fe532e-4e34-4207-b7de-3d9ef08b7143",
   "metadata": {},
   "outputs": [
    {
     "name": "stdout",
     "output_type": "stream",
     "text": [
      "120\n"
     ]
    }
   ],
   "source": [
    "def findsum(arr, N): \n",
    "    if N <= 0: \n",
    "        return 0\n",
    "    else: \n",
    "        return findsum(arr, N - 1) + arr[N - 1] \n",
    "arr =[] \n",
    "arr = [92, 23, 15, -20, 10] \n",
    "   \n",
    "# calculating length of array \n",
    "N = len(arr) \n",
    "   \n",
    "ans =findsum(arr,N) \n",
    "print (ans) "
   ]
  },
  {
   "cell_type": "raw",
   "id": "da46ec5d-e045-4702-b176-c1459f802883",
   "metadata": {},
   "source": [
    "Q.5 Given a number n. Print if it is an armstrong number or not.An armstrong number is a number if the sum\n",
    "of every digit in that number raised to the power of total digits in that number is equal to the number."
   ]
  },
  {
   "cell_type": "code",
   "execution_count": 3,
   "id": "6d7bcb76-139a-4f42-b1ae-0c967f03d5cc",
   "metadata": {},
   "outputs": [],
   "source": [
    "#abcd... = pow(a,n) + pow(b,n) + pow(c,n) + pow(d,n) + .... "
   ]
  },
  {
   "cell_type": "code",
   "execution_count": 4,
   "id": "78c03ee1-af66-4a45-b1bf-8fcde00af4a4",
   "metadata": {},
   "outputs": [],
   "source": [
    "#Function to calculate x raised to the power y\n",
    "def power(x, y):\n",
    "    if y == 0:\n",
    "        return 1\n",
    "    if y % 2 == 0:\n",
    "        return power(x, y/2)*power(x, y/2)\n",
    "    return x*power(x, y/2)*power(x, y/2)"
   ]
  },
  {
   "cell_type": "code",
   "execution_count": 5,
   "id": "259081eb-daef-42df-9dc2-26d882aee2b3",
   "metadata": {},
   "outputs": [],
   "source": [
    "# Function to calculate order of the number\n",
    "def order(x):\n",
    "\n",
    "    # variable to store of the number\n",
    "    n = 0\n",
    "    while (x != 0):\n",
    "        n = n+1\n",
    "        x = x/10\n",
    "    return n"
   ]
  },
  {
   "cell_type": "code",
   "execution_count": 6,
   "id": "5e95c6ff-5b49-4571-b546-8879cf3153f4",
   "metadata": {},
   "outputs": [],
   "source": [
    "# Function to check whether the given number is Armstrong number or not\n",
    "def isArmstrong(x):\n",
    "    n = order(x)\n",
    "    temp = x\n",
    "    sum1 = 0\n",
    "    while (temp != 0):\n",
    "        r = temp % 10\n",
    "        sum1 = sum1 + power(r, n)\n",
    "        temp = temp/10\n",
    "\n",
    "    # If condition satisfies\n",
    "    return (sum1 == x)"
   ]
  },
  {
   "cell_type": "code",
   "execution_count": null,
   "id": "b9b1c2a1-9c34-44b0-bfad-18a858b87b2c",
   "metadata": {},
   "outputs": [],
   "source": [
    "# Driver Program\n",
    "x = 153\n",
    "print(isArmstrong(x))\n",
    "x = 134\n",
    "print(isArmstrong(x))"
   ]
  },
  {
   "cell_type": "raw",
   "id": "58c56abf-d66f-44ea-9d26-eac3a779730f",
   "metadata": {},
   "source": [
    "Last question takes a while to run. Output: 153 - yes, 134-no"
   ]
  },
  {
   "cell_type": "code",
   "execution_count": null,
   "id": "9df45283-b28d-454a-8252-e95ca5978a68",
   "metadata": {},
   "outputs": [],
   "source": []
  }
 ],
 "metadata": {
  "kernelspec": {
   "display_name": "Python 3 (ipykernel)",
   "language": "python",
   "name": "python3"
  },
  "language_info": {
   "codemirror_mode": {
    "name": "ipython",
    "version": 3
   },
   "file_extension": ".py",
   "mimetype": "text/x-python",
   "name": "python",
   "nbconvert_exporter": "python",
   "pygments_lexer": "ipython3",
   "version": "3.10.8"
  }
 },
 "nbformat": 4,
 "nbformat_minor": 5
}
