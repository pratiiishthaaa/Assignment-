{
 "cells": [
  {
   "cell_type": "raw",
   "id": "8895a857-50b7-4ca2-a22e-4663710c1485",
   "metadata": {},
   "source": [
    "Basic Level:\n",
    "1. Write a Python program to print the numbers from 1 to 10 using a `for` loop.\n",
    "2. Create a program that calculates the sum of all numbers in a list using a `for` loop.\n",
    "3. Write a program to print the characters of a string in reverse order using a `for` loop.\n",
    "4. Develop a program that finds the factorial of a given number using a `for` loop.\n",
    "5. Create a program to print the multiplication table of a given number using a `for` loop.\n",
    "6. Write a program that counts the number of even and odd numbers in a list using a `for` loop.\n",
    "7. Develop a program that prints the squares of numbers from 1 to 5 using a `for` loop.\n",
    "8. Create a program to find the length of a string without using the `len()` function.\n",
    "9. Write a program that calculates the average of a list of numbers using a `for` loop.\n",
    "10. Develop a program that prints the first `n` Fibonacci numbers using a `for` loop."
   ]
  },
  {
   "cell_type": "raw",
   "id": "75d6e3d6-f9a0-40b9-abb5-e6255ea9e7d3",
   "metadata": {},
   "source": [
    "Answer-1"
   ]
  },
  {
   "cell_type": "code",
   "execution_count": 1,
   "id": "0432e1a9-bb66-444b-8e34-f6a2899bfd3d",
   "metadata": {},
   "outputs": [
    {
     "name": "stdout",
     "output_type": "stream",
     "text": [
      "1\n",
      "2\n",
      "3\n",
      "4\n",
      "5\n",
      "6\n",
      "7\n",
      "8\n",
      "9\n",
      "10\n"
     ]
    }
   ],
   "source": [
    "for a in range(1,11):\n",
    "    print(a)"
   ]
  },
  {
   "cell_type": "raw",
   "id": "a73e647a-13e8-4756-af88-ea602197280c",
   "metadata": {},
   "source": [
    "Answer-2"
   ]
  },
  {
   "cell_type": "code",
   "execution_count": 3,
   "id": "af9ce634-ac6d-427b-821e-4b522fbb9f89",
   "metadata": {},
   "outputs": [
    {
     "name": "stdin",
     "output_type": "stream",
     "text": [
      "How many numbers:  5\n",
      "Enter number  21\n",
      "Enter number  17\n",
      "Enter number  22\n",
      "Enter number  11\n",
      "Enter number  16\n"
     ]
    },
    {
     "name": "stdout",
     "output_type": "stream",
     "text": [
      "Sum of elements in given list is : 87\n"
     ]
    }
   ],
   "source": [
    "lst = []           #starting with empty list\n",
    "num = int(input('How many numbers: '))\n",
    "for n in range(num):\n",
    "    numbers = int(input('Enter number '))\n",
    "    lst.append(numbers)               #adding each new element to list\n",
    "print(\"Sum of elements in given list is :\", sum(lst))"
   ]
  },
  {
   "cell_type": "raw",
   "id": "33423f27-2373-49aa-8b9e-274454719fe1",
   "metadata": {},
   "source": [
    "Answer-3"
   ]
  },
  {
   "cell_type": "code",
   "execution_count": 18,
   "id": "77fcdca9-014c-4755-9980-885905b67909",
   "metadata": {},
   "outputs": [],
   "source": [
    "def reverse_string(str):  \n",
    "    str1 = \"\"   # Declaring empty string to store the reversed string  \n",
    "    for i in str:  \n",
    "        str1 = i + str1  \n",
    "    return str1    # It will return the reverse string to the caller function  "
   ]
  },
  {
   "cell_type": "code",
   "execution_count": 19,
   "id": "3b7cf2d5-b243-49d8-bca6-f556eaf08cdd",
   "metadata": {},
   "outputs": [
    {
     "name": "stdout",
     "output_type": "stream",
     "text": [
      "The original string is:  yopeople\n",
      "The reverse string is elpoepoy\n"
     ]
    }
   ],
   "source": [
    "str = \"yopeople\"    # Given String       \n",
    "print(\"The original string is: \",str)  \n",
    "print(\"The reverse string is\",reverse_string(str)) # Function call  "
   ]
  },
  {
   "cell_type": "raw",
   "id": "2fcda04f-daf7-4908-b535-cf564a9dc355",
   "metadata": {},
   "source": [
    "Answer-4"
   ]
  },
  {
   "cell_type": "code",
   "execution_count": 1,
   "id": "04ceca98-b895-4a5c-b623-6cf11fe1ffb4",
   "metadata": {},
   "outputs": [
    {
     "name": "stdout",
     "output_type": "stream",
     "text": [
      "factorial is 720\n"
     ]
    }
   ],
   "source": [
    "n=6\n",
    "fact=1\n",
    "for i in range(1,n+1):\n",
    "    fact*=i\n",
    "print(\"factorial is\", fact)"
   ]
  },
  {
   "cell_type": "raw",
   "id": "7cf6dbf6-dd9f-4cdb-95da-a4f1793e2033",
   "metadata": {},
   "source": [
    "Answer-5"
   ]
  },
  {
   "cell_type": "code",
   "execution_count": 2,
   "id": "8e546dff-9fc8-4833-b635-6d061f4ab0fc",
   "metadata": {},
   "outputs": [
    {
     "name": "stdout",
     "output_type": "stream",
     "text": [
      "6\n",
      "12\n",
      "18\n",
      "24\n",
      "30\n",
      "36\n",
      "42\n",
      "48\n",
      "54\n",
      "60\n"
     ]
    }
   ],
   "source": [
    "n=6\n",
    "for i in range(1,11):\n",
    "    print(i*n)"
   ]
  },
  {
   "cell_type": "raw",
   "id": "6ccc81a0-e655-404c-b392-fd29009279f9",
   "metadata": {},
   "source": [
    "Answer-6"
   ]
  },
  {
   "cell_type": "code",
   "execution_count": 1,
   "id": "c4bd6a40-0851-4114-9849-d7eeac4688b1",
   "metadata": {},
   "outputs": [
    {
     "name": "stdout",
     "output_type": "stream",
     "text": [
      "Even Elements count is: \n",
      "5\n",
      "Odd Elements count is : \n",
      "5\n"
     ]
    }
   ],
   "source": [
    "lis=[1,2,3,5,6,8,9,12,16,21]\n",
    "n=len(lis)           \n",
    "countEven = 0               #initialising iterator\n",
    "countodd = 0\n",
    "for i in range(0, n):\n",
    "    if lis[i]%2==0 :\n",
    "        countEven += 1\n",
    "    else:\n",
    "        countodd += 1            #updation condition\n",
    "\n",
    "print(\"Even Elements count is: \" )\n",
    "print(countEven)\n",
    "\n",
    "print(\"Odd Elements count is : \")\n",
    "print(countodd)"
   ]
  },
  {
   "cell_type": "raw",
   "id": "59d618e7-f50f-435e-9d26-2a345c19e1b6",
   "metadata": {},
   "source": [
    "Answer-7"
   ]
  },
  {
   "cell_type": "code",
   "execution_count": 3,
   "id": "63bc1f51-34d2-4917-956d-91aba04dc0c5",
   "metadata": {},
   "outputs": [
    {
     "name": "stdout",
     "output_type": "stream",
     "text": [
      "1\n",
      "4\n",
      "9\n",
      "16\n",
      "25\n"
     ]
    }
   ],
   "source": [
    "for i in range(1,6):\n",
    "    print(i*i)"
   ]
  },
  {
   "cell_type": "raw",
   "id": "03f22110-4761-4bd3-b43d-2d28e48dee93",
   "metadata": {},
   "source": [
    "Answer-8"
   ]
  },
  {
   "cell_type": "code",
   "execution_count": 4,
   "id": "bd9016b5-5ad4-4cfe-ac62-0759cdd92eb3",
   "metadata": {},
   "outputs": [
    {
     "name": "stdout",
     "output_type": "stream",
     "text": [
      "10\n"
     ]
    }
   ],
   "source": [
    "string=\"My name is\"\n",
    "count=0\n",
    "for i in string:\n",
    "    count+=1           #updation condition\n",
    "print(count)"
   ]
  },
  {
   "cell_type": "raw",
   "id": "93c7081b-8f6f-4fdb-8752-6bba559c8cc6",
   "metadata": {},
   "source": [
    "Answer-9"
   ]
  },
  {
   "cell_type": "code",
   "execution_count": 13,
   "id": "eeb08f88-c346-4e61-ba26-3c74703e9ed6",
   "metadata": {},
   "outputs": [
    {
     "name": "stdout",
     "output_type": "stream",
     "text": [
      "The average of the list is: 6.0\n"
     ]
    }
   ],
   "source": [
    "list = [2, 4, 6, 8, 10]\n",
    "sum = 0\n",
    "for num in list:\n",
    "    sum += num\n",
    "average = sum / len(list)\n",
    "print(\"The average of the list is:\", average)"
   ]
  },
  {
   "cell_type": "code",
   "execution_count": null,
   "id": "ec8ae641-f010-41c5-862a-c416210ee197",
   "metadata": {},
   "outputs": [],
   "source": [
    "Answer-10"
   ]
  },
  {
   "cell_type": "markdown",
   "id": "3c8fd42e-a53c-44b3-b8ae-b798302bf2db",
   "metadata": {},
   "source": [
    "#The Fibonacci series follows a simple mathematical logic. The first two numbers in the sequence are 0 and 1. From the third number onward, each number is the sum of the two preceding ones. F(n)=F(n−1)+F(n−2) ;\n",
    "where F(n) is the nth number in the Fibonacci sequence."
   ]
  },
  {
   "cell_type": "code",
   "execution_count": 14,
   "id": "af44b9a4-e80c-4e7d-9097-5cfa84efe40d",
   "metadata": {},
   "outputs": [],
   "source": [
    "def fibonacci_with_ab(n):\n",
    "    a, b = 0, 1\n",
    "    for _ in range(n):\n",
    "        print(a, end=\" \")\n",
    "        a, b = b, a + b"
   ]
  },
  {
   "cell_type": "code",
   "execution_count": 15,
   "id": "823ce63a-2c99-4b6f-bce3-fe1f39d35767",
   "metadata": {},
   "outputs": [
    {
     "name": "stdout",
     "output_type": "stream",
     "text": [
      "Fibonacci series with 6 elements: 0 1 1 2 3 5 "
     ]
    }
   ],
   "source": [
    "n = 6\n",
    "print(f\"Fibonacci series with {n} elements:\", end=\" \")\n",
    "fibonacci_with_ab(n)"
   ]
  },
  {
   "cell_type": "raw",
   "id": "d165f94d-cda5-44b7-91c6-dae409dea167",
   "metadata": {},
   "source": [
    "or"
   ]
  },
  {
   "cell_type": "code",
   "execution_count": 16,
   "id": "957e7ac2-c3d4-427c-b9cb-91e65a130901",
   "metadata": {},
   "outputs": [],
   "source": [
    "def fibonacci_with_lst(n):\n",
    "    fib_series = [0, 1]\n",
    "    for i in range(2, n):\n",
    "        fib_series.append(fib_series[-1] + fib_series[-2])\n",
    "    return fib_series"
   ]
  },
  {
   "cell_type": "code",
   "execution_count": 17,
   "id": "521b4db4-a013-43c5-8b48-bccd1835df02",
   "metadata": {},
   "outputs": [
    {
     "name": "stdout",
     "output_type": "stream",
     "text": [
      "Fibonacci series with 8 elements: [0, 1, 1, 2, 3, 5, 8, 13]\n"
     ]
    }
   ],
   "source": [
    "n = 8\n",
    "result = fibonacci_with_lst(n)\n",
    "print(f\"Fibonacci series with {n} elements:\", result)"
   ]
  },
  {
   "cell_type": "raw",
   "id": "c6f074c2-1b16-4209-afc5-ef4373be7461",
   "metadata": {},
   "source": [
    "Intermediate Level:\n",
    "11. Write a program to check if a given list contains any duplicates using a `for` loop.\n",
    "12. Create a program that prints the prime numbers in a given range using a `for` loop.\n",
    "13. Develop a program that counts the number of vowels in a string using a `for` loop.\n",
    "14. Write a program to find the maximum element in a 2D list using a nested `for` loop.\n",
    "15. Create a program that removes all occurrences of a specific element from a list using a `for` loop.\n",
    "16. Develop a program that generates a multiplication table for numbers from 1 to 5 using a nested `for` loop.\n",
    "17. Write a program that converts a list of Fahrenheit temperatures to Celsius using a `for` loop.\n",
    "18. Create a program to print the common elements from two lists using a `for` loop.\n",
    "19. Develop a program that prints the pattern of right-angled triangles using a `for` loop. Use ‘*’ to draw the\n",
    "pattern\n",
    "20. Write a program to find the greatest common divisor (GCD) of two numbers using a `for` loop."
   ]
  },
  {
   "cell_type": "raw",
   "id": "c32d9841-75fa-436f-87fc-d2a64ec54678",
   "metadata": {},
   "source": [
    "Answer-11"
   ]
  },
  {
   "cell_type": "code",
   "execution_count": 1,
   "id": "b41b4c32-a8b2-4287-a3db-c71d60ac604e",
   "metadata": {},
   "outputs": [
    {
     "name": "stdout",
     "output_type": "stream",
     "text": [
      "[1, 2, 5, 9]\n"
     ]
    }
   ],
   "source": [
    "lis1 = [1, 2, 1, 2, 3, 4, 5, 1, 1, 2, 5, 6, 7, 8, 9, 9]\n",
    "uniqueList = []          #creating empty lists\n",
    "duplicateList = []\n",
    "for i in lis1:\n",
    "    if i not in uniqueList:\n",
    "        uniqueList.append(i)\n",
    "    elif i not in duplicateList:\n",
    "        duplicateList.append(i)\n",
    "print(duplicateList)"
   ]
  },
  {
   "cell_type": "raw",
   "id": "a322dd3b-be89-4f8f-94fb-922a8395e937",
   "metadata": {},
   "source": [
    "Answer-12"
   ]
  },
  {
   "cell_type": "code",
   "execution_count": 2,
   "id": "6bbacd19-b9d8-4445-a78e-49252ee6b49b",
   "metadata": {},
   "outputs": [
    {
     "name": "stdout",
     "output_type": "stream",
     "text": [
      "2\n",
      "3\n",
      "5\n",
      "7\n",
      "11\n",
      "13\n",
      "17\n",
      "19\n",
      "23\n",
      "29\n"
     ]
    }
   ],
   "source": [
    "for num in range(30):\n",
    "    if num > 1:            #all prime numbers are bigger than 1\n",
    "        for i in range(2, num):\n",
    "            if (num % i) == 0:           #if they are divisible by any number other than themselves and 1,=not prime\n",
    "                break                     #keyword used to terminate current loop\n",
    "        else:\n",
    "                print(num)"
   ]
  },
  {
   "cell_type": "raw",
   "id": "93da3109-a374-4c61-bb3b-eb6cbae36f23",
   "metadata": {},
   "source": [
    "Answer-13"
   ]
  },
  {
   "cell_type": "code",
   "execution_count": 3,
   "id": "5fd7fabe-6612-48a5-8a1e-894de59f4e7b",
   "metadata": {},
   "outputs": [],
   "source": [
    "def count_vowels(string):\n",
    "    vowel_count=0\n",
    "    string=string.lower()\n",
    "    vowels=set(\"aeiou\")\n",
    "    for char in string:\n",
    "        if char in vowels:\n",
    "            vowel_count+=1\n",
    "    return vowel_count"
   ]
  },
  {
   "cell_type": "code",
   "execution_count": 4,
   "id": "a0c58bdf-74fb-4750-b897-2311decc7894",
   "metadata": {},
   "outputs": [
    {
     "data": {
      "text/plain": [
       "10"
      ]
     },
     "execution_count": 4,
     "metadata": {},
     "output_type": "execute_result"
    }
   ],
   "source": [
    "count_vowels(\"My name is Reena Madhumati.\")"
   ]
  },
  {
   "cell_type": "raw",
   "id": "f6653016-2c49-4bb1-b059-c6659765265d",
   "metadata": {},
   "source": [
    "Answer-14"
   ]
  },
  {
   "cell_type": "code",
   "execution_count": 1,
   "id": "1ac8b839-e19f-4d84-ab59-377f89e4e1a6",
   "metadata": {},
   "outputs": [],
   "source": [
    "def get_max(my_list):\n",
    "    m = None\n",
    "    for item in my_list:\n",
    "        if isinstance(item, list):\n",
    "            item = get_max(item)\n",
    "        if not m or m < item:\n",
    "            m = item\n",
    "    return m"
   ]
  },
  {
   "cell_type": "code",
   "execution_count": 2,
   "id": "350f9442-fd13-46a9-b6ce-24496140364c",
   "metadata": {},
   "outputs": [],
   "source": [
    "list1=[3,4,5,6,7,[5,10,3]]"
   ]
  },
  {
   "cell_type": "code",
   "execution_count": 3,
   "id": "7980f4e1-af9e-4d17-9b7c-5644eb58d695",
   "metadata": {},
   "outputs": [
    {
     "data": {
      "text/plain": [
       "10"
      ]
     },
     "execution_count": 3,
     "metadata": {},
     "output_type": "execute_result"
    }
   ],
   "source": [
    "get_max(list1)"
   ]
  },
  {
   "cell_type": "raw",
   "id": "2e0af3ec-0655-4afc-988e-02bd4b0e9e9c",
   "metadata": {},
   "source": [
    "Answer-15"
   ]
  },
  {
   "cell_type": "code",
   "execution_count": 1,
   "id": "bdef160b-65e9-47fd-bfcf-19c33a08cab9",
   "metadata": {},
   "outputs": [],
   "source": [
    "op = [1, 2, 3, 4, 2,3,4,5,6,7]\n",
    "def remove_values_from_list(the_list, val):\n",
    "    for i in range(the_list.count(val)):\n",
    "        the_list.remove(val)\n",
    "    print(the_list)"
   ]
  },
  {
   "cell_type": "code",
   "execution_count": 2,
   "id": "e3d717bd-24f1-44a4-acf9-2fd3edd8a74c",
   "metadata": {},
   "outputs": [
    {
     "name": "stdout",
     "output_type": "stream",
     "text": [
      "[1, 2, 3, 2, 3, 5, 6, 7]\n"
     ]
    }
   ],
   "source": [
    "remove_values_from_list(op,4)"
   ]
  },
  {
   "cell_type": "raw",
   "id": "759d361c-df3a-46cd-bede-8f1652b91004",
   "metadata": {},
   "source": [
    "Answer-16"
   ]
  },
  {
   "cell_type": "code",
   "execution_count": 6,
   "id": "03e9bebe-9435-442b-9d89-5bbaf21c6f02",
   "metadata": {},
   "outputs": [
    {
     "name": "stdout",
     "output_type": "stream",
     "text": [
      "i = 1 :  1  2  3  4  5 \n",
      "i = 2 :  2  4  6  8 10 \n",
      "i = 3 :  3  6  9 12 15 \n",
      "i = 4 :  4  8 12 16 20 \n",
      "i = 5 :  5 10 15 20 25 \n"
     ]
    }
   ],
   "source": [
    "for i in range(1, 6):\n",
    "    print(\"i =\", i, \":\", end=\" \")\n",
    "    for j in range(1, 6):\n",
    "        print(\"{:2d}\".format(i * j), end=\" \")\n",
    "    print()"
   ]
  },
  {
   "cell_type": "raw",
   "id": "4eb83fa3-943e-4c2a-bbeb-c2c0d6bc4b5c",
   "metadata": {},
   "source": [
    "Answer-17"
   ]
  },
  {
   "cell_type": "code",
   "execution_count": 4,
   "id": "fe009e2a-7903-4b95-bc37-f267a2e11395",
   "metadata": {},
   "outputs": [
    {
     "name": "stdout",
     "output_type": "stream",
     "text": [
      "[31.666666666666668, 37.77777777777778, -3.888888888888889, -17.77777777777778]\n"
     ]
    }
   ],
   "source": [
    "fahren = [89, 100, 25, 0]\n",
    "\n",
    "celsius = []       #initialising empty list\n",
    "for f in fahren:\n",
    "    c = (f - 32) * 5 / 9\n",
    "    celsius.append(c)\n",
    "\n",
    "print(celsius)"
   ]
  },
  {
   "cell_type": "raw",
   "id": "b2df3ef2-a8d0-4536-aa86-8c8016dec698",
   "metadata": {},
   "source": [
    "Answer-18"
   ]
  },
  {
   "cell_type": "code",
   "execution_count": 10,
   "id": "7d74cbf8-6b29-42b4-8e03-3ea41211ac8f",
   "metadata": {},
   "outputs": [],
   "source": [
    "def common_elements(list1, list2):\n",
    "    result = []\n",
    "    for element in list1:\n",
    "        if element in list2:\n",
    "            result.append(element)\n",
    "    return result"
   ]
  },
  {
   "cell_type": "code",
   "execution_count": 12,
   "id": "1a63e5fa-114a-48bb-9456-a6f584318c88",
   "metadata": {},
   "outputs": [],
   "source": [
    "List1=[1,2,3,4,2,1,10,19,65]"
   ]
  },
  {
   "cell_type": "code",
   "execution_count": 13,
   "id": "ca51b27f-c5e5-41d1-b701-4faf3553fb40",
   "metadata": {},
   "outputs": [],
   "source": [
    "List2=[1,2,3,5,6,7,8,9]"
   ]
  },
  {
   "cell_type": "code",
   "execution_count": 14,
   "id": "cf402c4e-1663-4a9b-9606-4720b8479b3e",
   "metadata": {},
   "outputs": [
    {
     "data": {
      "text/plain": [
       "[1, 2, 3, 2, 1]"
      ]
     },
     "execution_count": 14,
     "metadata": {},
     "output_type": "execute_result"
    }
   ],
   "source": [
    "common_elements(List1,List2)"
   ]
  },
  {
   "cell_type": "raw",
   "id": "ca8c7cbb-3913-4596-be71-23dc2a390331",
   "metadata": {},
   "source": [
    "Answer-19"
   ]
  },
  {
   "cell_type": "code",
   "execution_count": 7,
   "id": "bc82b204-96d4-453b-889b-d1689b1cc35c",
   "metadata": {},
   "outputs": [
    {
     "name": "stdin",
     "output_type": "stream",
     "text": [
      "Please enter the total number of rows  :  5\n"
     ]
    },
    {
     "name": "stdout",
     "output_type": "stream",
     "text": [
      "Right Angled Triangle Star Pattern\n",
      "*  \n",
      "*  *  \n",
      "*  *  *  \n",
      "*  *  *  *  \n",
      "*  *  *  *  *  \n"
     ]
    }
   ],
   "source": [
    "rows = int(input(\"Please enter the total number of rows  : \"))\n",
    "\n",
    "print(\"Right Angled Triangle Star Pattern\") \n",
    "for i in range(1, rows + 1):\n",
    "    for j in range(1, i + 1):\n",
    "        print('*', end = '  ')\n",
    "    print()"
   ]
  },
  {
   "cell_type": "raw",
   "id": "9f94eb2e-4749-4055-8a64-54004d8d4fbd",
   "metadata": {},
   "source": [
    "Answer-20"
   ]
  },
  {
   "cell_type": "code",
   "execution_count": 9,
   "id": "c428890c-44cd-4641-970a-5551364f3ac9",
   "metadata": {},
   "outputs": [
    {
     "name": "stdout",
     "output_type": "stream",
     "text": [
      "GCD of 25 and 60 is 5\n"
     ]
    }
   ],
   "source": [
    "num1 = 25\n",
    "num2 = 60\n",
    "gcd = 2\n",
    " \n",
    "for i in range(1, min(num1, num2)):\n",
    "    if num1 % i == 0 and num2 % i == 0:\n",
    "        gcd = i\n",
    "print(\"GCD of\", num1, \"and\", num2, \"is\", gcd)"
   ]
  },
  {
   "cell_type": "raw",
   "id": "501058c5-19ff-4dc5-9b31-b2ea773ac421",
   "metadata": {},
   "source": [
    "Advanced Level:\n",
    "21. Create a program that calculates the sum of the digits of numbers in a list using a list comprehension.\n",
    "22. Write a program to find the prime factors of a given number using a `for` loop and list comprehension.\n",
    "23. Develop a program that extracts unique elements from a list and stores them in a new list using a list\n",
    "comprehension.\n",
    "24. Create a program that generates a list of all palindromic numbers up to a specified limit using a list\n",
    "comprehension.\n",
    "25. Write a program to flatten a nested list using list comprehension.\n",
    "26. Develop a program that computes the sum of even and odd numbers in a list separately using list\n",
    "comprehension.\n",
    "27. Create a program that generates a list of squares of odd numbers between 1 and 10 using list\n",
    "comprehension.\n",
    "28. Write a program that combines two lists into a dictionary using list comprehension.\n",
    "29. Develop a program that extracts the vowels from a string and stores them in a list using list comprehension.\n",
    "30. Create a program that removes all non-numeric characters from a list of strings using list comprehension."
   ]
  },
  {
   "cell_type": "raw",
   "id": "e9787bd7-f8fd-4817-b304-b1a67b450d2b",
   "metadata": {},
   "source": [
    "Answer-21"
   ]
  },
  {
   "cell_type": "code",
   "execution_count": 12,
   "id": "cc8a04fd-5d4d-4623-9087-07bd5afb7c48",
   "metadata": {},
   "outputs": [
    {
     "name": "stdout",
     "output_type": "stream",
     "text": [
      "28\n"
     ]
    }
   ],
   "source": [
    "list2=[1,2,3,4,5,6,7]\n",
    "summy = [i for i in list2] \n",
    "print(sum(summy))"
   ]
  },
  {
   "cell_type": "raw",
   "id": "b39c829c-32ca-4526-a3b2-cc9f48b608bb",
   "metadata": {},
   "source": [
    "Answer-22"
   ]
  },
  {
   "cell_type": "code",
   "execution_count": 14,
   "id": "1624ccbf-a44f-4250-9bc0-366c88ec4fa7",
   "metadata": {},
   "outputs": [
    {
     "data": {
      "text/plain": [
       "[2, 3, 4, 5, 7, 11, 13, 17, 19, 23, 29]"
      ]
     },
     "execution_count": 14,
     "metadata": {},
     "output_type": "execute_result"
    }
   ],
   "source": [
    "[x for x in range(2, 30)\n",
    "     if all(x % y for y in range(2, x//2))]"
   ]
  },
  {
   "cell_type": "raw",
   "id": "805c4833-d130-44aa-832a-8b0fe50d5987",
   "metadata": {},
   "source": [
    "Answer-23"
   ]
  },
  {
   "cell_type": "code",
   "execution_count": 39,
   "id": "9677d43e-6711-4c25-8932-af10ca318c31",
   "metadata": {},
   "outputs": [
    {
     "name": "stdout",
     "output_type": "stream",
     "text": [
      "the unique values from 1st list is\n",
      "[10, 20, 30, 40]\n",
      "\n",
      "the unique values from 2nd list is\n",
      "[1, 2, 3, 4, 5]\n"
     ]
    }
   ],
   "source": [
    "from functools import reduce\n",
    "\n",
    "def unique(list1):\n",
    "    ans = reduce(lambda re, x: re+[x] if x not in re else re, list1, [])\n",
    "    print(ans)\n",
    "list1 = [10, 20, 10, 30, 40, 40]\n",
    "print(\"the unique values from 1st list is\")\n",
    "unique(list1)\n",
    "list2 = [1, 2, 1, 1, 3, 4, 3, 3, 5]\n",
    "print(\"\\nthe unique values from 2nd list is\")\n",
    "unique(list2)"
   ]
  },
  {
   "cell_type": "raw",
   "id": "a1cd49c7-66ee-49b4-b058-2aa99142453b",
   "metadata": {},
   "source": [
    "Answer-24"
   ]
  },
  {
   "cell_type": "code",
   "execution_count": 23,
   "id": "d91782e2-9210-4e51-9a91-47905a5accb2",
   "metadata": {},
   "outputs": [],
   "source": [
    "palindrome = [x for x in range(1, 101) if str(x) == str(x)[::-1]] "
   ]
  },
  {
   "cell_type": "code",
   "execution_count": 24,
   "id": "201e7421-766c-4c85-b427-0086ef99c845",
   "metadata": {},
   "outputs": [
    {
     "name": "stdout",
     "output_type": "stream",
     "text": [
      "[1, 2, 3, 4, 5, 6, 7, 8, 9, 11, 22, 33, 44, 55, 66, 77, 88, 99]\n"
     ]
    }
   ],
   "source": [
    "print(palindrome)"
   ]
  },
  {
   "cell_type": "raw",
   "id": "81368cf6-e1ea-49ef-af29-e1c8ce1a9694",
   "metadata": {},
   "source": [
    "Answer-25"
   ]
  },
  {
   "cell_type": "code",
   "execution_count": 20,
   "id": "48bd4a10-b5a5-4839-8980-6aa921d35e55",
   "metadata": {},
   "outputs": [
    {
     "data": {
      "text/plain": [
       "[1, 2, 3, 4, 5, 3, 4, 6, 7, 8]"
      ]
     },
     "execution_count": 20,
     "metadata": {},
     "output_type": "execute_result"
    }
   ],
   "source": [
    "a = [[1,2,3,4,5], [3,4,6,7,8]]\n",
    "[i for g in a for i in g]"
   ]
  },
  {
   "cell_type": "raw",
   "id": "da56852a-6c6c-4b29-b01b-66f797e21a9d",
   "metadata": {},
   "source": [
    "Answer-26"
   ]
  },
  {
   "cell_type": "code",
   "execution_count": 21,
   "id": "e3e3a408-6eb5-42f0-968a-12af6e6add2b",
   "metadata": {},
   "outputs": [
    {
     "name": "stdout",
     "output_type": "stream",
     "text": [
      "Odd digit sum : 29\n",
      "Even digit sum : 28\n"
     ]
    }
   ],
   "source": [
    "list3 = [34, 93, 8, 4, 46,5,72,11]\n",
    "odd_sum = 0\n",
    "even_sum = 0\n",
    " \n",
    "odd_sum += sum([int(ele)\n",
    "                for sub in list3 for ele in str(sub) if int(ele) % 2 == 1])\n",
    "even_sum += sum([int(ele)\n",
    "                 for sub in list3 for ele in str(sub) if int(ele) % 2 == 0])\n",
    " \n",
    "print(\"Odd digit sum : \" + str(odd_sum))\n",
    "print(\"Even digit sum : \" + str(even_sum))"
   ]
  },
  {
   "cell_type": "raw",
   "id": "8a4716a9-29fb-4586-a9eb-25f874e51139",
   "metadata": {},
   "source": [
    "Answer-27"
   ]
  },
  {
   "cell_type": "code",
   "execution_count": 15,
   "id": "83aa0c2b-e5ea-468e-a9ee-8b10aa2f844f",
   "metadata": {},
   "outputs": [
    {
     "name": "stdout",
     "output_type": "stream",
     "text": [
      "[1, 9, 25, 49, 81]\n"
     ]
    }
   ],
   "source": [
    "numbers = [1, 3, 5, 7,9]\n",
    "# create a new list using list comprehension\n",
    "square_numbers = [num * num for num in numbers]\n",
    "\n",
    "print(square_numbers)"
   ]
  },
  {
   "cell_type": "raw",
   "id": "6a2c3cec-dfb7-40f4-be6a-2d19a3ee6306",
   "metadata": {},
   "source": [
    "Answer-28"
   ]
  },
  {
   "cell_type": "code",
   "execution_count": 28,
   "id": "196d855f-e66f-4ee7-b57b-aed11da58080",
   "metadata": {},
   "outputs": [
    {
     "name": "stdout",
     "output_type": "stream",
     "text": [
      "{1: 'spanish', 2: 'hindi', 3: 'urdu', 4: 'portuguese', 5: 'english'}\n"
     ]
    }
   ],
   "source": [
    "numbers = [1, 2, 3,4,5]\n",
    "languages = ['spanish', 'hindi', 'urdu','portuguese','english']\n",
    "\n",
    "dictionary = {k: v for k, v in zip(numbers, languages)}\n",
    "print(dictionary)"
   ]
  },
  {
   "cell_type": "raw",
   "id": "be9f7e04-2751-422a-819f-626d3c0aff03",
   "metadata": {},
   "source": [
    "Answer-29"
   ]
  },
  {
   "cell_type": "code",
   "execution_count": 17,
   "id": "4fa4d912-1e18-489e-ae00-deda67626de2",
   "metadata": {},
   "outputs": [
    {
     "name": "stdout",
     "output_type": "stream",
     "text": [
      "['a', 'e', 'i', 'o', 'o', 'a', 'e']\n"
     ]
    }
   ],
   "source": [
    "string=\"My name is Anthony Gonzalez.\"\n",
    "vowels = \"aeiou\"\n",
    "\n",
    "result = [char for char in string if char in vowels]\n",
    "\n",
    "print(result)"
   ]
  },
  {
   "cell_type": "code",
   "execution_count": null,
   "id": "c1f654b6-28f6-40c9-8ea8-0e6cfb32449d",
   "metadata": {},
   "outputs": [],
   "source": [
    "Answer-30"
   ]
  },
  {
   "cell_type": "code",
   "execution_count": 27,
   "id": "00f1f579-ded2-43d0-9417-0c31417ba21a",
   "metadata": {},
   "outputs": [
    {
     "data": {
      "text/plain": [
       "['12', '65', '34']"
      ]
     },
     "execution_count": 27,
     "metadata": {},
     "output_type": "execute_result"
    }
   ],
   "source": [
    "list4=[\"hello 12\",\"my name 65\", \"johny34\"]\n",
    "digits = \"123456789\"\n",
    "[ele[k:k+2] for ele in list4 for k, l in enumerate(ele) if l in digits and k!= len(ele)-1 and ele[k+1] in digits]\n"
   ]
  },
  {
   "cell_type": "raw",
   "id": "ae783dc9-880c-452c-bdba-161d1d8c799e",
   "metadata": {},
   "source": [
    "Challenge Level:\n",
    "31. Write a program to generate a list of prime numbers using the Sieve of Eratosthenes algorithm and list\n",
    "comprehension.\n",
    "32. Create a program that generates a list of all Pythagorean triplets up to a specified limit using list\n",
    "comprehension.\n",
    "33. Develop a program that generates a list of all possible combinations of two lists using list comprehension.\n",
    "34. Write a program that calculates the mean, median, and mode of a list of numbers using list\n",
    "comprehension.\n",
    "35. Create a program that generates Pascal's triangle up to a specified number of rows using list\n",
    "comprehension.\n",
    "36. Develop a program that calculates the sum of the digits of a factorial of numbers from 1 to 5 using list\n",
    "comprehension.\n",
    "37. Write a program that finds the longest word in a sentence using list comprehension.\n",
    "38. Create a program that filters a list of strings to include only those with more than three vowels using list\n",
    "comprehension."
   ]
  },
  {
   "cell_type": "raw",
   "id": "d887a07b-747b-4939-bef2-43f67a1baad2",
   "metadata": {},
   "source": [
    "Answer-32"
   ]
  },
  {
   "cell_type": "code",
   "execution_count": 41,
   "id": "6b67c6b9-07c5-4a2f-b6af-d005f658a042",
   "metadata": {},
   "outputs": [
    {
     "name": "stdin",
     "output_type": "stream",
     "text": [
      "Enter the value of n:  20\n"
     ]
    },
    {
     "name": "stdout",
     "output_type": "stream",
     "text": [
      "[(3, 4, 5), (5, 12, 13), (6, 8, 10), (8, 15, 17), (9, 12, 15), (12, 16, 20)]\n"
     ]
    }
   ],
   "source": [
    "n = int(input('Enter the value of n: '))\n",
    "print([(a, b, c) for a in range(1, n + 1) for b in range(a, n + 1)\n",
    "       for c in range(b, n + 1) if a**2 + b**2 == c**2])"
   ]
  },
  {
   "cell_type": "raw",
   "id": "c99074d4-a31e-4b1f-9ace-5aee874d0675",
   "metadata": {},
   "source": [
    "Answer-33"
   ]
  },
  {
   "cell_type": "code",
   "execution_count": 9,
   "id": "913e27a8-c5a3-48c4-b0d9-67826a845bbd",
   "metadata": {},
   "outputs": [
    {
     "name": "stdout",
     "output_type": "stream",
     "text": [
      "[(0, 0), (0, 1), (0, 2), (1, 1), (1, 2), (2, 2)]\n"
     ]
    }
   ],
   "source": [
    "list4 = [(i,j) for i in range(3) for j in range(i, 3)] \n",
    "print(list4)"
   ]
  },
  {
   "cell_type": "raw",
   "id": "4dec8f3d-0347-4e94-83e2-c465996f62ea",
   "metadata": {},
   "source": [
    "Answer-35"
   ]
  },
  {
   "cell_type": "code",
   "execution_count": 7,
   "id": "b2bbea61-a31f-430c-aacc-fe08dbb0c1a3",
   "metadata": {},
   "outputs": [
    {
     "name": "stdout",
     "output_type": "stream",
     "text": [
      "[1]\n",
      "[1, 1]\n",
      "[1, 2, 1]\n",
      "[1, 3, 3, 1]\n",
      "[1, 4, 6, 4, 1]\n",
      "[1, 5, 10, 10, 5, 1]\n"
     ]
    }
   ],
   "source": [
    "from math import factorial as fct\n",
    "\n",
    "rows = [[int(fct(n) / (fct(k) * fct(n - k))) for k in range(n + 1)] for n in range(6)]\n",
    "print(*rows, sep=\"\\n\")"
   ]
  },
  {
   "cell_type": "raw",
   "id": "3727a072-7359-4440-b7ec-e05fc69d9ce3",
   "metadata": {},
   "source": [
    "Answer-36"
   ]
  },
  {
   "cell_type": "code",
   "execution_count": 11,
   "id": "087c28d9-db7a-4a5d-9cad-f3ec0cea7474",
   "metadata": {},
   "outputs": [
    {
     "data": {
      "text/plain": [
       "[1, 1, 2, 6, 24, 120]"
      ]
     },
     "execution_count": 11,
     "metadata": {},
     "output_type": "execute_result"
    }
   ],
   "source": [
    "import math\n",
    "\n",
    "[math.factorial(n) for n in range(6)]"
   ]
  },
  {
   "cell_type": "raw",
   "id": "377ed6b0-1a67-4611-a887-159b4800e034",
   "metadata": {},
   "source": [
    "Answer-37"
   ]
  },
  {
   "cell_type": "code",
   "execution_count": 3,
   "id": "34c75b5c-6c38-4d9e-8153-b0d9ad09f94b",
   "metadata": {},
   "outputs": [
    {
     "name": "stdout",
     "output_type": "stream",
     "text": [
      "['Hiroshi']\n"
     ]
    }
   ],
   "source": [
    "s=\"Hiroshi Nohara is Shin Chan's father\"\n",
    "longest_word_len = max(len(word) for word in s.split())\n",
    "longest_word = [word for word in s.split() if len(word) == longest_word_len]\n",
    "print(longest_word)"
   ]
  },
  {
   "cell_type": "raw",
   "id": "71f2958c-a51f-439d-bb31-b252ee572cd1",
   "metadata": {},
   "source": [
    "Answer-38"
   ]
  },
  {
   "cell_type": "code",
   "execution_count": 5,
   "id": "4b14ae86-e6f3-4835-b600-3454a948e661",
   "metadata": {},
   "outputs": [
    {
     "name": "stdout",
     "output_type": "stream",
     "text": [
      "['pineapple', 'orange', 'guava', 'apple custard']\n"
     ]
    }
   ],
   "source": [
    "import re\n",
    "\n",
    "fruits = [\"pineapple\", \"orange\",\"guava\",\"apple custard\",\"strawberry\"]\n",
    "results = [i for i in fruits if len(re.sub(r\"[^aeiouAEIOU]\", \"\", i)) > 2]\n",
    "print(results)"
   ]
  }
 ],
 "metadata": {
  "kernelspec": {
   "display_name": "Python 3 (ipykernel)",
   "language": "python",
   "name": "python3"
  },
  "language_info": {
   "codemirror_mode": {
    "name": "ipython",
    "version": 3
   },
   "file_extension": ".py",
   "mimetype": "text/x-python",
   "name": "python",
   "nbconvert_exporter": "python",
   "pygments_lexer": "ipython3",
   "version": "3.10.8"
  }
 },
 "nbformat": 4,
 "nbformat_minor": 5
}
