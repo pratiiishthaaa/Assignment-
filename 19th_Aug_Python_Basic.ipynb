{
 "cells": [
  {
   "cell_type": "raw",
   "id": "368bc93b-d0cc-45f5-ae4b-4362b90ae86f",
   "metadata": {},
   "source": [
    "Python Basic Variables"
   ]
  },
  {
   "cell_type": "markdown",
   "id": "8905cd4d-749f-4df0-8e44-cef6e43df3ae",
   "metadata": {},
   "source": [
    "1-Declare two variables, `x` and `y`, and assign them integer values. Swap the\n",
    "values of these variables without using any temporary variable."
   ]
  },
  {
   "cell_type": "code",
   "execution_count": 1,
   "id": "14b58732-b55e-444e-9398-df13383de5f0",
   "metadata": {},
   "outputs": [],
   "source": [
    "x=20"
   ]
  },
  {
   "cell_type": "code",
   "execution_count": 2,
   "id": "739fafba-e9ad-40fa-92e3-09ec6f5a346f",
   "metadata": {},
   "outputs": [],
   "source": [
    "y=25"
   ]
  },
  {
   "cell_type": "code",
   "execution_count": 3,
   "id": "ef42109a-00e5-4fa7-ac15-0ef6a6dcdab1",
   "metadata": {},
   "outputs": [],
   "source": [
    "x=x+y"
   ]
  },
  {
   "cell_type": "code",
   "execution_count": 4,
   "id": "15b0e54c-24b5-4750-aeac-34061f9cf329",
   "metadata": {},
   "outputs": [
    {
     "name": "stdout",
     "output_type": "stream",
     "text": [
      "45\n"
     ]
    }
   ],
   "source": [
    "print(x)"
   ]
  },
  {
   "cell_type": "code",
   "execution_count": 5,
   "id": "6b2848eb-4fe7-445a-b88c-c0863527dae0",
   "metadata": {},
   "outputs": [
    {
     "name": "stdout",
     "output_type": "stream",
     "text": [
      "20\n"
     ]
    }
   ],
   "source": [
    "y=x-y\n",
    "print(y)"
   ]
  },
  {
   "cell_type": "code",
   "execution_count": 6,
   "id": "b94b7fc4-0ce9-477b-bf8d-c087ea53ee29",
   "metadata": {},
   "outputs": [],
   "source": [
    "x=x-y"
   ]
  },
  {
   "cell_type": "code",
   "execution_count": 7,
   "id": "15168e22-1b10-4bc2-afe6-b9daf6849beb",
   "metadata": {},
   "outputs": [
    {
     "name": "stdout",
     "output_type": "stream",
     "text": [
      "25\n"
     ]
    }
   ],
   "source": [
    "print(x)"
   ]
  },
  {
   "cell_type": "code",
   "execution_count": 8,
   "id": "93aa6032-cf34-4d6d-a5e6-e867b08dcb5b",
   "metadata": {},
   "outputs": [
    {
     "name": "stdout",
     "output_type": "stream",
     "text": [
      "25 20\n"
     ]
    }
   ],
   "source": [
    "print(x,y)"
   ]
  },
  {
   "cell_type": "markdown",
   "id": "b7920085-d42f-4a46-b9ef-cdd9f176e282",
   "metadata": {},
   "source": [
    "2- Create a program that calculates the area of a rectangle. Take the length and\n",
    "width as inputs from the user and store them in variables. Calculate and\n",
    "display the area."
   ]
  },
  {
   "cell_type": "code",
   "execution_count": 12,
   "id": "eedcb457-1c5c-47ec-8251-af84922f6479",
   "metadata": {},
   "outputs": [
    {
     "name": "stdin",
     "output_type": "stream",
     "text": [
      "Enter length=  15\n",
      "Enter width=  5\n"
     ]
    },
    {
     "name": "stdout",
     "output_type": "stream",
     "text": [
      "Area of rectangle is 75\n"
     ]
    }
   ],
   "source": [
    "length=int(input(\"Enter length= \"))\n",
    "width=int(input(\"Enter width= \"))\n",
    "Area=print(\"Area of rectangle is\", length*width)"
   ]
  },
  {
   "cell_type": "markdown",
   "id": "7b39beb3-5c14-4798-b64a-3e211de7456d",
   "metadata": {},
   "source": [
    "3-Write a Python program that converts temperatures from Celsius to\n",
    "Fahrenheit. Take the temperature in Celsius as input, store it in a variable,\n",
    "convert it to Fahrenheit, and display the result."
   ]
  },
  {
   "cell_type": "code",
   "execution_count": 17,
   "id": "bd70e4ec-cbae-4364-86dc-cfafebb593f8",
   "metadata": {},
   "outputs": [
    {
     "name": "stdin",
     "output_type": "stream",
     "text": [
      "Enter temperature in Celsius=  20\n"
     ]
    },
    {
     "name": "stdout",
     "output_type": "stream",
     "text": [
      "Temperature is 68.0 degrees Fahrenheit.\n"
     ]
    }
   ],
   "source": [
    "Celsius= float(input(\"Enter temperature in Celsius= \"))\n",
    "Fahrenheit = (Celsius*9/5)+32\n",
    "print(\"Temperature is\", Fahrenheit, \"degrees Fahrenheit.\")"
   ]
  },
  {
   "cell_type": "raw",
   "id": "37fbd7fa-f1c3-4458-82a5-b0f55d94d4ab",
   "metadata": {},
   "source": [
    "String Based Questions"
   ]
  },
  {
   "cell_type": "markdown",
   "id": "3413862a-883d-49be-9670-05cb1d5e611e",
   "metadata": {},
   "source": [
    "1-Write a Python program that takes a string as input and prints the length of\n",
    "the string."
   ]
  },
  {
   "cell_type": "code",
   "execution_count": 16,
   "id": "987b6075-9865-41b7-901b-502d7ac35b5d",
   "metadata": {},
   "outputs": [
    {
     "name": "stdin",
     "output_type": "stream",
     "text": [
      "Enter your name:  Anthony Gonzalez\n"
     ]
    },
    {
     "name": "stdout",
     "output_type": "stream",
     "text": [
      "The length of String1 is 16\n"
     ]
    }
   ],
   "source": [
    "String1= str(input(\"Enter your name: \"))\n",
    "print(\"The length of String1 is\", len(String1))"
   ]
  },
  {
   "cell_type": "markdown",
   "id": "a5c19c71-397b-4962-93f2-bd127f738b8f",
   "metadata": {},
   "source": [
    "2-Create a program that takes a sentence from the user and counts the number\n",
    "of vowels (a, e, i, o, u) in the string."
   ]
  },
  {
   "cell_type": "code",
   "execution_count": 21,
   "id": "39a708cc-3190-4507-b7b6-cd214c431544",
   "metadata": {},
   "outputs": [
    {
     "name": "stdin",
     "output_type": "stream",
     "text": [
      "Enter a sentence:  Hello, this is my first assignment submission.\n"
     ]
    },
    {
     "name": "stdout",
     "output_type": "stream",
     "text": [
      "The number of vowels are 12\n"
     ]
    }
   ],
   "source": [
    "Sentence=str(input(\"Enter a sentence: \"))\n",
    "a = Sentence.count(\"a\")\n",
    "e = Sentence.count(\"e\")\n",
    "i = Sentence.count(\"i\")\n",
    "o = Sentence.count(\"o\")\n",
    "u = Sentence.count(\"u\")\n",
    "print(\"The number of vowels are\", a+e+i+o+u)"
   ]
  },
  {
   "cell_type": "markdown",
   "id": "312755af-7fe4-44a1-8304-3e9d2db29458",
   "metadata": {},
   "source": [
    "3-Given a string, reverse the order of characters using string slicing and print\n",
    "the reversed string."
   ]
  },
  {
   "cell_type": "code",
   "execution_count": 22,
   "id": "50c25c95-1198-4274-97e7-bae2804037c8",
   "metadata": {},
   "outputs": [],
   "source": [
    "str=\"This is string which is now going to be reversed.\""
   ]
  },
  {
   "cell_type": "code",
   "execution_count": 24,
   "id": "17475928-9f48-4805-8956-27b6921930fa",
   "metadata": {},
   "outputs": [
    {
     "name": "stdout",
     "output_type": "stream",
     "text": [
      ".desrever eb ot gniog won si hcihw gnirts si sihT\n"
     ]
    }
   ],
   "source": [
    "newstr = str[::-1]\n",
    "print(newstr)"
   ]
  },
  {
   "cell_type": "markdown",
   "id": "794f19de-0d23-441a-bb39-b71d402b7f03",
   "metadata": {},
   "source": [
    "4-Write a program that takes a string as input and checks if it is a palindrome\n",
    "(reads the same forwards and backwards)."
   ]
  },
  {
   "cell_type": "code",
   "execution_count": 27,
   "id": "d2dad280-d252-45b3-bf14-74fbaf121c49",
   "metadata": {},
   "outputs": [
    {
     "name": "stdin",
     "output_type": "stream",
     "text": [
      "Enter a string:  This is a sequence of characters.\n"
     ]
    }
   ],
   "source": [
    "STR=input(\"Enter a string: \")"
   ]
  },
  {
   "cell_type": "code",
   "execution_count": 30,
   "id": "8d618c1f-93a3-4bc9-87d2-024bb7514e30",
   "metadata": {},
   "outputs": [],
   "source": [
    "reverse_STR=STR[::-1]"
   ]
  },
  {
   "cell_type": "code",
   "execution_count": 31,
   "id": "ada4f75b-cd3d-4624-b837-fcfd5f4c3117",
   "metadata": {},
   "outputs": [
    {
     "name": "stdout",
     "output_type": "stream",
     "text": [
      ".sretcarahc fo ecneuqes a si sihT\n"
     ]
    }
   ],
   "source": [
    "print(reverse_STR)"
   ]
  },
  {
   "cell_type": "code",
   "execution_count": 32,
   "id": "6ae6af5a-2637-420e-a501-1a339f1d67e3",
   "metadata": {},
   "outputs": [
    {
     "name": "stdout",
     "output_type": "stream",
     "text": [
      "not palindrome\n"
     ]
    }
   ],
   "source": [
    "if(reverse_STR == STR):\n",
    "    print(\"palindrome\")\n",
    "else:\n",
    "    print(\"not palindrome\")"
   ]
  },
  {
   "cell_type": "markdown",
   "id": "c269bbf5-a231-486a-aebc-7d3fbee17d59",
   "metadata": {},
   "source": [
    "5-Create a program that takes a string as input and removes all the spaces from\n",
    "it. Print the modified string without spaces."
   ]
  },
  {
   "cell_type": "code",
   "execution_count": 36,
   "id": "478135b0-f7e3-430d-b1af-3e4c595d9714",
   "metadata": {},
   "outputs": [
    {
     "name": "stdin",
     "output_type": "stream",
     "text": [
      "Enter a string please:  This is the 2nd sentence.\n"
     ]
    }
   ],
   "source": [
    "string=input(\"Enter a string please: \")"
   ]
  },
  {
   "cell_type": "code",
   "execution_count": 37,
   "id": "0026e8d3-f1c3-4b5d-ad61-1084586a8bd0",
   "metadata": {},
   "outputs": [],
   "source": [
    "def remove(string):\n",
    "    return string.replace(\" \", \"\")"
   ]
  },
  {
   "cell_type": "code",
   "execution_count": 38,
   "id": "c049cb0a-d1b8-4797-8869-b86b27ca7e6a",
   "metadata": {},
   "outputs": [
    {
     "name": "stdout",
     "output_type": "stream",
     "text": [
      "Thisisthe2ndsentence.\n"
     ]
    }
   ],
   "source": [
    "print(remove(string))"
   ]
  },
  {
   "cell_type": "code",
   "execution_count": null,
   "id": "12b3592d-6ef1-45cf-9c8b-e91b1b65c034",
   "metadata": {},
   "outputs": [],
   "source": []
  }
 ],
 "metadata": {
  "kernelspec": {
   "display_name": "Python 3 (ipykernel)",
   "language": "python",
   "name": "python3"
  },
  "language_info": {
   "codemirror_mode": {
    "name": "ipython",
    "version": 3
   },
   "file_extension": ".py",
   "mimetype": "text/x-python",
   "name": "python",
   "nbconvert_exporter": "python",
   "pygments_lexer": "ipython3",
   "version": "3.10.8"
  }
 },
 "nbformat": 4,
 "nbformat_minor": 5
}
