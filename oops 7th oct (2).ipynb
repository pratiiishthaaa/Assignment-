{
 "cells": [
  {
   "cell_type": "code",
   "execution_count": 9,
   "id": "8b6a7b1a-3ff5-4b22-be3e-d3b2d7aa7e3a",
   "metadata": {},
   "outputs": [],
   "source": [
    "class a :\n",
    "    \n",
    "    def test(self):\n",
    "        print(\"this test method is a part of class a\")\n",
    "        \n",
    "    def test1(self):\n",
    "        print(\"this is test1 from class a \")"
   ]
  },
  {
   "cell_type": "code",
   "execution_count": 10,
   "id": "8e4d306f-fdb4-47a0-a93d-597f5b21d30b",
   "metadata": {},
   "outputs": [],
   "source": [
    "obj_a = a()"
   ]
  },
  {
   "cell_type": "code",
   "execution_count": 11,
   "id": "81ef5597-cf96-4ed9-a4f6-21e2e93aca70",
   "metadata": {},
   "outputs": [
    {
     "name": "stdout",
     "output_type": "stream",
     "text": [
      "this test method is a part of class a\n"
     ]
    }
   ],
   "source": [
    "obj_a.test()"
   ]
  },
  {
   "cell_type": "code",
   "execution_count": 16,
   "id": "11ee63d6-433d-48dc-ada0-5dd6771310ba",
   "metadata": {},
   "outputs": [],
   "source": [
    "class b(a) :\n",
    "    def test1b(self):\n",
    "        print(\"this is a part of class b \")"
   ]
  },
  {
   "cell_type": "code",
   "execution_count": 17,
   "id": "badaedfe-57d1-43c6-9193-e5afb0f31dbc",
   "metadata": {},
   "outputs": [],
   "source": [
    "obj_b = b()"
   ]
  },
  {
   "cell_type": "code",
   "execution_count": 18,
   "id": "3ce19f61-ba8e-4050-9d4d-614adfd964c5",
   "metadata": {},
   "outputs": [
    {
     "name": "stdout",
     "output_type": "stream",
     "text": [
      "this test method is a part of class a\n"
     ]
    }
   ],
   "source": [
    "obj_b.test()"
   ]
  },
  {
   "cell_type": "code",
   "execution_count": 19,
   "id": "5e473fae-e094-4407-99df-16a04ab4c80a",
   "metadata": {},
   "outputs": [
    {
     "name": "stdout",
     "output_type": "stream",
     "text": [
      "this is test1 from class a \n"
     ]
    }
   ],
   "source": [
    "obj_b.test1()"
   ]
  },
  {
   "cell_type": "code",
   "execution_count": null,
   "id": "02a8f055-535f-4bc2-adc1-575445f82570",
   "metadata": {},
   "outputs": [],
   "source": [
    "obj_b."
   ]
  },
  {
   "cell_type": "code",
   "execution_count": 21,
   "id": "59361cd3-c0c4-4ddd-abac-cbe3275ade5f",
   "metadata": {},
   "outputs": [],
   "source": [
    "class lecture:\n",
    "    \n",
    "    def topic(self):\n",
    "        print(\"todays class we are discussing about inheritance condept in oops\")\n",
    "        \n",
    "    def timing(self):\n",
    "        print(\"timing for todays class is 9 AM IST\")\n",
    "        \n",
    "    def end_time(self):\n",
    "        print(\"today i will try to end class bit early\")"
   ]
  },
  {
   "cell_type": "code",
   "execution_count": 23,
   "id": "6e3dd2de-883e-4e9e-98a0-4a7089af1627",
   "metadata": {},
   "outputs": [],
   "source": [
    "class student(lecture):\n",
    "    \n",
    "    def student_details(self):\n",
    "        print(\"this class will give you a student details\")"
   ]
  },
  {
   "cell_type": "code",
   "execution_count": 24,
   "id": "c2ad2a89-0f29-4410-86c4-e33f47b4186d",
   "metadata": {},
   "outputs": [],
   "source": [
    "naval = student()"
   ]
  },
  {
   "cell_type": "code",
   "execution_count": 25,
   "id": "38c86e7f-5560-464a-b597-c88a74819f1a",
   "metadata": {},
   "outputs": [
    {
     "name": "stdout",
     "output_type": "stream",
     "text": [
      "todays class we are discussing about inheritance condept in oops\n"
     ]
    }
   ],
   "source": [
    "naval.topic()"
   ]
  },
  {
   "cell_type": "code",
   "execution_count": 26,
   "id": "02efc8a4-f995-4f85-87d2-620ccc0f61fa",
   "metadata": {},
   "outputs": [
    {
     "name": "stdout",
     "output_type": "stream",
     "text": [
      "timing for todays class is 9 AM IST\n"
     ]
    }
   ],
   "source": [
    "satish = student()\n",
    "satish.timing()"
   ]
  },
  {
   "cell_type": "code",
   "execution_count": 28,
   "id": "03932972-a58b-46e5-a3f8-ffc43c84ce53",
   "metadata": {},
   "outputs": [],
   "source": [
    "class teacher(student):\n",
    "    def details(self):\n",
    "        print(\"this will give you a details about teacher\")"
   ]
  },
  {
   "cell_type": "code",
   "execution_count": 29,
   "id": "fff36c1b-f1e9-467e-b29f-c304aa9feec9",
   "metadata": {},
   "outputs": [
    {
     "name": "stdout",
     "output_type": "stream",
     "text": [
      "timing for todays class is 9 AM IST\n"
     ]
    }
   ],
   "source": [
    "sudh = teacher()\n",
    "sudh.timing()"
   ]
  },
  {
   "cell_type": "code",
   "execution_count": 39,
   "id": "a5e8c94b-de62-4ef5-8eba-81259d83dd3d",
   "metadata": {},
   "outputs": [],
   "source": [
    "class lecture:\n",
    "    def topic(self):\n",
    "        print(\"todays class we are discussing about inheritance condept in oops\")\n",
    "        \n",
    "    def timing(self):\n",
    "        print(\"timing for todays class is 9 AM IST\")\n",
    "        \n",
    "    def end_time(self):\n",
    "        print(\"today i will try to end class bit early\")"
   ]
  },
  {
   "cell_type": "code",
   "execution_count": 40,
   "id": "2007141c-1b71-4cd4-9bed-a3cd8d851baa",
   "metadata": {},
   "outputs": [],
   "source": [
    "class student:\n",
    "    \n",
    "    def student_details(self):\n",
    "        print(\"this class will give you a student details\")\n",
    "        \n",
    "    def timing(self):\n",
    "        print(\"this is a timing fun from student class\")\n",
    "        "
   ]
  },
  {
   "cell_type": "code",
   "execution_count": 48,
   "id": "272860d3-1fac-475b-8c09-0490069224bc",
   "metadata": {},
   "outputs": [],
   "source": [
    "class teacher(lecture,student):\n",
    "    def details(self):\n",
    "        print(\"this will give you a details about teacher\")"
   ]
  },
  {
   "cell_type": "code",
   "execution_count": 49,
   "id": "f4a9ae16-f0e3-4a4a-a003-38773611cd2a",
   "metadata": {},
   "outputs": [],
   "source": [
    "krish = teacher()"
   ]
  },
  {
   "cell_type": "code",
   "execution_count": 50,
   "id": "6dc85f37-219e-4c72-927c-9aebb550fea9",
   "metadata": {},
   "outputs": [
    {
     "name": "stdout",
     "output_type": "stream",
     "text": [
      "timing for todays class is 9 AM IST\n"
     ]
    }
   ],
   "source": [
    "krish.timing()"
   ]
  },
  {
   "cell_type": "code",
   "execution_count": 37,
   "id": "8bcbac88-9172-4a31-a191-9c4b9a1c6eac",
   "metadata": {},
   "outputs": [
    {
     "name": "stdout",
     "output_type": "stream",
     "text": [
      "this class will give you a student details\n"
     ]
    }
   ],
   "source": [
    "krish.student_details()"
   ]
  },
  {
   "cell_type": "markdown",
   "id": "86b47d4f-860e-4702-83a0-0145887ab41a",
   "metadata": {},
   "source": [
    "Problem 1: Bank Account Create a class representing a bank account with attributes like account number, account holder name, and balance. Implement methods to deposit and withdraw money from the account.\n",
    "\n",
    "Problem 2: Employee Management Create a class representing an employee with attributes like employee ID, name, and salary. Implement methods to calculate the yearly bonus and display employee details.\n",
    "\n",
    "Problem 3: Vehicle Rental Create a class representing a vehicle rental system. Implement methods to rent a vehicle, return a vehicle, and display available vehicles.\n",
    "\n",
    "Problem 4: Library Catalog Create classes representing a library and a book. Implement methods to add books to the library, borrow books, and display available books.\n",
    "\n",
    "Problem 5: Product Inventory Create classes representing a product and an inventory system. Implement methods to add products to the inventory, update product quantity, and display available products.\n",
    "\n",
    "Problem 6: Shape Calculation Create a class representing a shape with attributes like length, width, and height. Implement methods to calculate the area and perimeter of the shape.\n",
    "\n",
    "Problem 7: Student Management Create a class representing a student with attributes like student ID, name, and grades. Implement methods to calculate the average grade and display student details.\n",
    "\n",
    "Problem 8: Email Management Create a class representing an email with attributes like sender, recipient, and subject. Implement methods to send an email and display email details.\n",
    "\n",
    "Problem 9: Social Media Profile Create a class representing a social media profile with attributes like username and posts. Implement methods to add posts, display posts, and search for posts by keyword.\n",
    "\n",
    "Problem 10: ToDo List Create a class representing a ToDo list with attributes like tasks and due dates. Implement methods to add tasks, mark tasks as completed, and display pending tasks."
   ]
  },
  {
   "cell_type": "raw",
   "id": "f87848a8-3658-4ba9-993f-f19805ab150a",
   "metadata": {},
   "source": [
    "Problem 1"
   ]
  },
  {
   "cell_type": "code",
   "execution_count": 1,
   "id": "fef1683a-faa4-4d27-a0a6-7a742e512e9b",
   "metadata": {},
   "outputs": [],
   "source": [
    "class bank:\n",
    "    def __init__(self,acc_number,name,balance):\n",
    "        self.number =acc_number\n",
    "        self.name = name\n",
    "        self.balance = balance\n",
    "        \n",
    "#     def account_holder_name(self):\n",
    "#         print (\"Hello \",self.name,\" Welcome to HDFC bank this is your account number\",self.number)\n",
    "    \n",
    "#     def account_balance(self):\n",
    "#         print(\"You have \",self.balance,\"Rs in your account\")\n",
    "    \n",
    "    def money_deposit(self,deposit):\n",
    "        self.deposit = deposit\n",
    "        print(deposit,\" Rs of money is deposited\")\n",
    "        self.balance += deposit\n",
    "        print(\"Total money in your back Account is Rs. \",self.balance)\n",
    "    def money_withdraw (self, withdraw):\n",
    "        self.withdraw = withdraw \n",
    "        print(withdraw, \"Rs of money is withdrawed to your bank account \")\n",
    "        self.balance -= withdraw\n",
    "        print (\"Total balance left is Rs.\",self.balance)\n",
    "    def display(self):\n",
    "        print(\"Name of the account holder is\", self.name)\n",
    "        print(\"Balance in account is\", self.balance)\n",
    "        print(\"Account No. :\", self.number)\n",
    "        \n",
    "user1 = bank(102020202,\"Pratishtha\",3000)"
   ]
  },
  {
   "cell_type": "code",
   "execution_count": 2,
   "id": "ca455a9d-c910-4376-810f-af1d0d98fde8",
   "metadata": {},
   "outputs": [
    {
     "name": "stdout",
     "output_type": "stream",
     "text": [
      "Name of the account holder is Pratishtha\n",
      "Balance in account is 3000\n",
      "Account No. : 102020202\n"
     ]
    }
   ],
   "source": [
    "user1.display()"
   ]
  },
  {
   "cell_type": "code",
   "execution_count": 3,
   "id": "07e6d33b-f26a-43a9-a415-03edf353ecba",
   "metadata": {},
   "outputs": [
    {
     "name": "stdout",
     "output_type": "stream",
     "text": [
      "500 Rs of money is withdrawed to your bank account \n",
      "Total balance left is Rs. 2500\n"
     ]
    }
   ],
   "source": [
    "user1.money_withdraw(500)"
   ]
  },
  {
   "cell_type": "code",
   "execution_count": 4,
   "id": "b47acdf6-80df-4939-a17c-15a392b50e73",
   "metadata": {},
   "outputs": [
    {
     "name": "stdout",
     "output_type": "stream",
     "text": [
      "200  Rs of money is deposited\n",
      "Total money in your back Account is Rs.  2700\n"
     ]
    }
   ],
   "source": [
    "user1.money_deposit(200)"
   ]
  },
  {
   "cell_type": "raw",
   "id": "b83a4856-53a0-45f5-867c-07eed83e6211",
   "metadata": {},
   "source": [
    "Problem 2"
   ]
  },
  {
   "cell_type": "code",
   "execution_count": 5,
   "id": "eb7eb110-f85d-4b92-92f2-7facd521f2d4",
   "metadata": {},
   "outputs": [],
   "source": [
    "class employee:\n",
    "    def __init__(self,employee_ID, name,salary, bonus=5000):\n",
    "        self.employee_ID = employee_ID\n",
    "        self.name = name\n",
    "        self.salary = salary \n",
    "        self.bonus = bonus\n",
    "    # def employee_id(self):\n",
    "    #     print(\"Employee ID is\",self.employee_ID)\n",
    "    # def employee_name(self):\n",
    "    #     print(\"Employee name is \",self.name)\n",
    "    # def employee_salary(self):\n",
    "    #     print(\"The salary of the employee is \", self.salary)\n",
    "    # def employee_bonus(self):\n",
    "    #     print(\"The yearly bonus of \", self.name ,\"is \",self.bonus)\n",
    "    def display_datail(self):\n",
    "        print(\"The name of the employee is\",self.name)\n",
    "        print(\"The id of the employee is \",self.employee_ID)\n",
    "        print(\"The salary of the employee is \", self.salary)\n",
    "        print(\"The Yearly Bonus of the employee is \", self.bonus)"
   ]
  },
  {
   "cell_type": "code",
   "execution_count": 6,
   "id": "69ab94da-925e-4eb9-a674-82af115460fd",
   "metadata": {},
   "outputs": [
    {
     "name": "stdout",
     "output_type": "stream",
     "text": [
      "The name of the employee is Tanmay\n",
      "The id of the employee is  1005\n",
      "The salary of the employee is  600000\n",
      "The Yearly Bonus of the employee is  5000\n"
     ]
    }
   ],
   "source": [
    "employee1 = employee(1005,\"Tanmay\",600000)\n",
    "employee1.display_datail()"
   ]
  },
  {
   "cell_type": "raw",
   "id": "eeb92b7f-43c4-4c98-9a73-5c2d1bde7142",
   "metadata": {},
   "source": [
    "Problem 3"
   ]
  },
  {
   "cell_type": "code",
   "execution_count": 7,
   "id": "cbfceffc-c355-40b3-a953-9d786d3b3648",
   "metadata": {},
   "outputs": [],
   "source": [
    "class VehicleRentalSystem:\n",
    "    def __init__(self):\n",
    "        self.available_vehicles = {}\n",
    "\n",
    "    def add_vehicle(self, vehicle_id, vehicle_type):\n",
    "        self.available_vehicles[vehicle_id] = vehicle_type\n",
    "        print(f\"Vehicle {vehicle_id} {vehicle_type} added to the rental system.\")\n",
    "\n",
    "    def rent_vehicle(self, vehicle_id):\n",
    "        if vehicle_id in self.available_vehicles:\n",
    "            del self.available_vehicles[vehicle_id]\n",
    "            print(f\"Vehicle {vehicle_id} rented successfully.\")\n",
    "        else:\n",
    "            print(f\"Vehicle {vehicle_id} not available for rent or not found.\")\n",
    "\n",
    "    def return_vehicle(self, vehicle_id, returned_type=None):\n",
    "        if vehicle_id not in self.available_vehicles:\n",
    "            if returned_type:\n",
    "                self.available_vehicles[vehicle_id] = returned_type\n",
    "            else:\n",
    "                print(f\"Error: Vehicle {vehicle_id} already returned.\")\n",
    "        else:\n",
    "            print(f\"Error: Vehicle {vehicle_id} not found or not rented.\")\n",
    "            \n",
    "    def display_available_vehicles(self):\n",
    "        print(\"Available Vehicles:\")\n",
    "        for vehicle_id, vehicle_type in self.available_vehicles.items():\n",
    "            print(f\"ID: {vehicle_id}, Type: {vehicle_type}\")\n",
    "\n",
    "rental_system = VehicleRentalSystem()\n",
    "                "
   ]
  },
  {
   "cell_type": "code",
   "execution_count": 8,
   "id": "cb7d4258-d9f8-4e93-b9d4-3c54fff8073f",
   "metadata": {},
   "outputs": [
    {
     "name": "stdout",
     "output_type": "stream",
     "text": [
      "Vehicle 1 Car added to the rental system.\n",
      "Vehicle 2 Bike added to the rental system.\n",
      "Vehicle 3 Scooter added to the rental system.\n"
     ]
    }
   ],
   "source": [
    "# Adding vehicles to the system\n",
    "rental_system.add_vehicle(1, \"Car\")\n",
    "rental_system.add_vehicle(2, \"Bike\")\n",
    "rental_system.add_vehicle(3, \"Scooter\")"
   ]
  },
  {
   "cell_type": "code",
   "execution_count": 9,
   "id": "51b974b7-a963-4bfb-9328-db2cace4435a",
   "metadata": {},
   "outputs": [
    {
     "name": "stdout",
     "output_type": "stream",
     "text": [
      "Available Vehicles:\n",
      "ID: 1, Type: Car\n",
      "ID: 2, Type: Bike\n",
      "ID: 3, Type: Scooter\n"
     ]
    }
   ],
   "source": [
    " # Displaying available vehicles\n",
    "rental_system.display_available_vehicles()"
   ]
  },
  {
   "cell_type": "code",
   "execution_count": 12,
   "id": "f14d8a85-b12c-437e-99c1-72384d16a440",
   "metadata": {},
   "outputs": [
    {
     "name": "stdout",
     "output_type": "stream",
     "text": [
      "Vehicle 1 rented successfully.\n"
     ]
    }
   ],
   "source": [
    "# Renting a vehicle\n",
    "rental_system.rent_vehicle(1)"
   ]
  },
  {
   "cell_type": "code",
   "execution_count": 13,
   "id": "ab896256-3a3d-4860-a17f-b72ac524f0a9",
   "metadata": {},
   "outputs": [
    {
     "name": "stdout",
     "output_type": "stream",
     "text": [
      "Available Vehicles:\n",
      "ID: 3, Type: Scooter\n"
     ]
    }
   ],
   "source": [
    "# Displaying available vehicles after renting\n",
    "rental_system.display_available_vehicles()"
   ]
  },
  {
   "cell_type": "code",
   "execution_count": 17,
   "id": "ac0427e6-deec-4014-a190-0f8edd29e0d6",
   "metadata": {},
   "outputs": [
    {
     "name": "stdout",
     "output_type": "stream",
     "text": [
      "Error: Vehicle 1 already returned.\n"
     ]
    }
   ],
   "source": [
    " # Returning a vehicle\n",
    "rental_system.return_vehicle(1)"
   ]
  },
  {
   "cell_type": "raw",
   "id": "3292cb50-8420-4a24-8182-60f2a0f6ed00",
   "metadata": {},
   "source": [
    "Problem 4"
   ]
  },
  {
   "cell_type": "code",
   "execution_count": 18,
   "id": "9f226478-58e2-4019-94ed-6711f93eece4",
   "metadata": {},
   "outputs": [],
   "source": [
    "class Book:\n",
    "    def __init__(self, book_name):\n",
    "        self.book_name = book_name\n",
    "        self.available = True\n",
    "\n",
    "    def borrow(self):\n",
    "        if self.available:\n",
    "            self.available = False\n",
    "            return True\n",
    "        else:\n",
    "            return False\n",
    "\n",
    "    def return_book(self):\n",
    "        if not self.available:\n",
    "            self.available = True\n",
    "            return True\n",
    "        else:\n",
    "            return False\n",
    "    def __str__(self):\n",
    "        return f\"{self.book_name}\"\n",
    "\n",
    "\n",
    "class Library:\n",
    "    def __init__(self):\n",
    "        self.books = []\n",
    "\n",
    "    def add_book(self, book_name):\n",
    "        book = Book(book_name)\n",
    "        self.books.append(book)\n",
    "        print(f\"Book {book_name} added to the library.\")\n",
    "\n",
    "    def borrow_book(self, book_name):\n",
    "        for book in self.books:\n",
    "            if book.book_name == book_name:\n",
    "                if book.borrow():\n",
    "                    print(f\"Book '{book_name}' borrowed successfully.\")\n",
    "                else:\n",
    "                    print(f\"Book '{book_name}' is already borrowed.\")\n",
    "                return\n",
    "        print(f\"Book '{book_name}' not found in the library.\")\n",
    "\n",
    "    def return_book(self, book_name):\n",
    "        for book in self.books:\n",
    "            if book.book_name == book_name:\n",
    "                if book.return_book():\n",
    "                    print(f\"Book '{book_name}' returned successfully.\")\n",
    "                else:\n",
    "                    print(f\"Book '{book_name}' was not borrowed.\")\n",
    "                return\n",
    "        print(f\"Book '{book_name}' not found in the library.\")\n",
    "\n",
    "    def display_available_books(self):\n",
    "        print(\"Available Books in the library:\")\n",
    "        available_books =[book for book in self.books if book.available]\n",
    "        if available_books:\n",
    "            for book in available_books:\n",
    "                print(book)\n",
    "        else:\n",
    "            print(\"No available books in the library.\")\n",
    "\n",
    "\n",
    "library = Library()"
   ]
  },
  {
   "cell_type": "code",
   "execution_count": 19,
   "id": "6e62b999-9764-44dc-9158-f1966b8ddd81",
   "metadata": {},
   "outputs": [
    {
     "name": "stdout",
     "output_type": "stream",
     "text": [
      "Book The Book Thief added to the library.\n",
      "Book The Animal Farm added to the library.\n",
      "Book Wuthering Heights added to the library.\n",
      "Available Books in the library:\n",
      "The Book Thief\n",
      "The Animal Farm\n",
      "Wuthering Heights\n"
     ]
    }
   ],
   "source": [
    "library.add_book(\"The Book Thief\")\n",
    "library.add_book(\"The Animal Farm\")\n",
    "library.add_book(\"Wuthering Heights\")\n",
    "\n",
    "library.display_available_books()"
   ]
  },
  {
   "cell_type": "code",
   "execution_count": 20,
   "id": "7ca413f2-886e-4845-80b2-64edb9c54eea",
   "metadata": {},
   "outputs": [
    {
     "name": "stdout",
     "output_type": "stream",
     "text": [
      "Book 'The Animal Farm' borrowed successfully.\n",
      "Book 'The Great Gatsby' not found in the library.\n",
      "Available Books in the library:\n",
      "The Book Thief\n",
      "Wuthering Heights\n"
     ]
    }
   ],
   "source": [
    "library.borrow_book(\"The Animal Farm\")\n",
    "library.borrow_book(\"The Great Gatsby\")  # Trying to borrow a non-existent book\n",
    "\n",
    "library.display_available_books()\n"
   ]
  },
  {
   "cell_type": "code",
   "execution_count": 21,
   "id": "5292d56b-d9b1-4849-8ed0-0e7a0f27d835",
   "metadata": {},
   "outputs": [
    {
     "name": "stdout",
     "output_type": "stream",
     "text": [
      "Book 'The Animal Farm' returned successfully.\n",
      "Book 'The Book Thief' was not borrowed.\n",
      "Available Books in the library:\n",
      "The Book Thief\n",
      "The Animal Farm\n",
      "Wuthering Heights\n"
     ]
    }
   ],
   "source": [
    "library.return_book(\"The Animal Farm\")\n",
    "library.return_book(\"The Book Thief\")  # Trying to return a book that is not borrowed\n",
    "\n",
    "library.display_available_books()"
   ]
  },
  {
   "cell_type": "raw",
   "id": "f3c96988-c435-400f-bdc3-d50ae578d565",
   "metadata": {},
   "source": [
    "Problem 5"
   ]
  },
  {
   "cell_type": "code",
   "execution_count": 22,
   "id": "5dc7fe81-404d-48c2-a07d-f8ab4951f25d",
   "metadata": {},
   "outputs": [
    {
     "name": "stdout",
     "output_type": "stream",
     "text": [
      "Available Products:\n",
      "Product ID: 1, Name: Laptop, Price: 999.99, Quantity: 10\n",
      "Product ID: 2, Name: Smartphone, Price: 499.99, Quantity: 20\n",
      "Product ID: 3, Name: Camera, Price: 4590.0, Quantity: 5\n",
      "Quantity updated for Product ID 1\n",
      "\n",
      "Updated Available Products:\n",
      "Product ID: 1, Name: Laptop, Price: 999.99, Quantity: 5\n",
      "Product ID: 2, Name: Smartphone, Price: 499.99, Quantity: 20\n",
      "Product ID: 3, Name: Camera, Price: 4590.0, Quantity: 5\n"
     ]
    }
   ],
   "source": [
    "class Product:\n",
    "    def __init__(self, product_id, name, price, quantity):\n",
    "        self.product_id = product_id\n",
    "        self.name = name\n",
    "        self.price = price\n",
    "        self.quantity = quantity\n",
    "\n",
    "    def __str__(self):\n",
    "        return f\"Product ID: {self.product_id}, Name: {self.name}, Price: {self.price}, Quantity: {self.quantity}\"\n",
    "\n",
    "class InventorySystem:\n",
    "    def __init__(self):\n",
    "        self.products = []\n",
    "\n",
    "    def add_product(self, product):\n",
    "        self.products.append(product)\n",
    "\n",
    "    def update_quantity(self, product_id, new_quantity):\n",
    "        for product in self.products:\n",
    "            if product.product_id == product_id:\n",
    "                product.quantity = new_quantity\n",
    "                return True  # Product found and quantity updated\n",
    "        return False  # Product not found\n",
    "\n",
    "    def display_available_products(self):\n",
    "        for product in self.products:\n",
    "            print(product)\n",
    "\n",
    "\n",
    "product1 = Product(1, \"Laptop\", 999.99, 10)\n",
    "product2 = Product(2, \"Smartphone\", 499.99, 20)\n",
    "product3 = Product(3, \"Camera\", 4590.00,5)\n",
    "\n",
    "\n",
    "inventory_system = InventorySystem()\n",
    "\n",
    "# Adding products to the inventory\n",
    "inventory_system.add_product(product1)\n",
    "inventory_system.add_product(product2)\n",
    "inventory_system.add_product(product3)\n",
    "# Displaying  products\n",
    "print(\"Available Products:\")\n",
    "inventory_system.display_available_products()\n",
    "\n",
    "# Updating the  quantity of a product\n",
    "product_id_to_update = 1\n",
    "new_quantity = 5\n",
    "updated = inventory_system.update_quantity(product_id_to_update, new_quantity)\n",
    "\n",
    "if updated:\n",
    "    print(f\"Quantity updated for Product ID {product_id_to_update}\")\n",
    "else:\n",
    "    print(f\"Product ID {product_id_to_update} not found in the inventory\")\n",
    "\n",
    "# Displaying available products after update\n",
    "print(\"\\nUpdated Available Products:\")\n",
    "inventory_system.display_available_products()"
   ]
  },
  {
   "cell_type": "raw",
   "id": "6ff77cd3-6abb-4a2c-9617-c93ca377bb10",
   "metadata": {},
   "source": [
    "Problem 6"
   ]
  },
  {
   "cell_type": "code",
   "execution_count": 23,
   "id": "3a0e0531-fbc2-47dd-b24b-9097a346d77d",
   "metadata": {},
   "outputs": [],
   "source": [
    "import math\n",
    "class Shape:\n",
    "    def calculate_area(self):\n",
    "        pass\n",
    "    def calculate_perimeter(self):\n",
    "        pass\n",
    "    \n",
    "class Circle(Shape):\n",
    "    def __init__(self, radius):\n",
    "        self.radius = radius\n",
    "\n",
    "    def calculate_area(self):\n",
    "        return math.pi * self.radius**2\n",
    "\n",
    "    def calculate_perimeter(self):\n",
    "        return 2 * math.pi * self.radius\n",
    "class Rectangle(Shape):\n",
    "    def __init__(self, length, width):\n",
    "        self.length = length\n",
    "        self.width = width\n",
    "\n",
    "    def calculate_area(self):\n",
    "        return self.length * self.width\n",
    "\n",
    "    def calculate_perimeter(self):\n",
    "        return 2 * (self.length + self.width)\n",
    "\n",
    "class Triangle(Shape):\n",
    "    def __init__(self, width, height, side1, side2, side3):\n",
    "        self.width = width\n",
    "        self.height = height\n",
    "        self.side1 = side1\n",
    "        self.side2 = side2\n",
    "        self.side3 = side3\n",
    "    def calculate_area(self):\n",
    "        return 0.5 * self.width * self.height\n",
    "\n",
    "    def calculate_perimeter(self):\n",
    "        return self.side1 + self.side2 + self.side3"
   ]
  },
  {
   "cell_type": "code",
   "execution_count": 24,
   "id": "3aa137d4-a43f-4a92-8835-d50b2d0cda9d",
   "metadata": {},
   "outputs": [
    {
     "name": "stdout",
     "output_type": "stream",
     "text": [
      "Radius of the circle: 5\n",
      "Circle Area: 78.53981633974483\n",
      "Circle Perimeter: 31.41592653589793\n"
     ]
    }
   ],
   "source": [
    "# Create a Circle object with a given radius and calculate its area and perimeter\n",
    "circle = Circle(5)\n",
    "circle_area = circle.calculate_area()\n",
    "circle_perimeter = circle.calculate_perimeter()\n",
    "\n",
    "# Print the results for the Circle\n",
    "print(\"Radius of the circle:\", 5)\n",
    "print(\"Circle Area:\", circle_area)\n",
    "print(\"Circle Perimeter:\", circle_perimeter)\n"
   ]
  },
  {
   "cell_type": "code",
   "execution_count": 25,
   "id": "bc053416-2f5b-481b-bd3e-caebe6fc4b87",
   "metadata": {},
   "outputs": [
    {
     "name": "stdout",
     "output_type": "stream",
     "text": [
      "Triangle: width = 5  Height = 4  side1 = 4  side2 = 3  side3 = 5\n",
      "Triangle Area: 10.0\n",
      "Triangle Perimeter: 12\n"
     ]
    }
   ],
   "source": [
    "# Create a Triangle object with a base, height, and three side lengths, and calculate its area and perimeter\n",
    "print(\"Triangle: width =\", 5, \" Height =\", 4, \" side1 =\", 4, \" side2 =\", 3, \" side3 =\", 5)\n",
    "triangle = Triangle( width=5, height=4, side1=4, side2 =3, side3=5)\n",
    "triangle_area = triangle.calculate_area()\n",
    "triangle_perimeter = triangle.calculate_perimeter()\n",
    "print(\"Triangle Area:\", triangle_area)\n",
    "print(\"Triangle Perimeter:\", triangle_perimeter)\n"
   ]
  },
  {
   "cell_type": "code",
   "execution_count": 27,
   "id": "4d983753-9d9f-44c4-a542-39388c22df59",
   "metadata": {},
   "outputs": [
    {
     "name": "stdout",
     "output_type": "stream",
     "text": [
      "\n",
      "Rectangle: Length = 5  Width = 7\n",
      "Rectangle Area: 35\n",
      "Rectangle Perimeter: 24\n"
     ]
    }
   ],
   "source": [
    "# Create a Rectangle object with given length and width and calculate its area and perimeter\n",
    "\n",
    "rectangle = Rectangle(5,7)\n",
    "rectangle_area = rectangle.calculate_area()\n",
    "rectangle_perimeter = rectangle.calculate_perimeter()\n",
    "\n",
    "# Print the results for the Rectangle\n",
    "print(\"\\nRectangle: Length =\", 5, \" Width =\", 7)\n",
    "print(\"Rectangle Area:\", rectangle_area)\n",
    "print(\"Rectangle Perimeter:\", rectangle_perimeter)"
   ]
  },
  {
   "cell_type": "raw",
   "id": "b71710c6-01bc-460d-9bf6-fe0b265b2be4",
   "metadata": {},
   "source": [
    "Problem 7"
   ]
  },
  {
   "cell_type": "code",
   "execution_count": 28,
   "id": "39996222-2fa4-40f5-beb4-c821679cd9a4",
   "metadata": {},
   "outputs": [
    {
     "name": "stdout",
     "output_type": "stream",
     "text": [
      "Student ID: S001\n",
      "Name: John Doe\n",
      "Grades: 90, 85, 92\n",
      "Average Grade: 89.0\n",
      "\n",
      "\n",
      "Student ID: S002\n",
      "Name: Jane Smith\n",
      "Grades: 78, 88, 95\n",
      "Average Grade: 87.0\n"
     ]
    }
   ],
   "source": [
    "class Student:\n",
    "    def __init__(self, student_id, name):\n",
    "        self.student_id = student_id\n",
    "        self.name = name\n",
    "        self.grades = []\n",
    "\n",
    "    def add_grade(self, grade):\n",
    "        self.grades.append(grade)\n",
    "\n",
    "    def calculate_average_grade(self):\n",
    "        if not self.grades:\n",
    "            return 0\n",
    "        return sum(self.grades) / len(self.grades)\n",
    "\n",
    "    def display_details(self):\n",
    "        print(f\"Student ID: {self.student_id}\")\n",
    "        print(f\"Name: {self.name}\")\n",
    "        if self.grades:\n",
    "            print(f\"Grades: {', '.join(map(str, self.grades))}\")\n",
    "            print(f\"Average Grade: {self.calculate_average_grade()}\")\n",
    "        else:\n",
    "            print(\"No grades available for this student.\")\n",
    "# Example usage:\n",
    "student1 = Student(student_id=\"S001\", name=\"John Doe\")\n",
    "student1.add_grade(90)\n",
    "student1.add_grade(85)\n",
    "student1.add_grade(92)\n",
    "\n",
    "student2 = Student(student_id=\"S002\", name=\"Jane Smith\")\n",
    "student2.add_grade(78)\n",
    "student2.add_grade(88)\n",
    "student2.add_grade(95)\n",
    "\n",
    "student1.display_details()\n",
    "print(\"\\n\")\n",
    "student2.display_details()\n"
   ]
  },
  {
   "cell_type": "raw",
   "id": "38f4262f-8faa-467e-a2a8-2cfa5796591b",
   "metadata": {},
   "source": [
    "Problem 8"
   ]
  },
  {
   "cell_type": "code",
   "execution_count": 29,
   "id": "9506a3b1-30b2-48f8-99f3-4403937d22c0",
   "metadata": {},
   "outputs": [
    {
     "name": "stdout",
     "output_type": "stream",
     "text": [
      "Email Details:\n",
      "Sender: Pwskills@gmail.com\n",
      "Recipient: pratinanda@gmail.com\n",
      "Subject: Assignment Evalution\n",
      "Body:\n",
      "Hello Pratishtha, Your assignment (Sorting Assignment) has been graded from PW Skills. Check below to see your score and comments from your mentor \n",
      "Status: Draft\n"
     ]
    }
   ],
   "source": [
    "class email_management:\n",
    "    def __init__(self,sender,recipient,subject, body):\n",
    "        self.sender = sender\n",
    "        self.recipient = recipient\n",
    "        self.subject = subject\n",
    "        self.body = body \n",
    "        self.sent = False\n",
    "        \n",
    "    def send_email(self):\n",
    "        print(f\"Email sent from {self.sender} to {self.recipient} with subject '{self.subject}'\")\n",
    "        self.sent = True\n",
    "    \n",
    "    def display_details(self):\n",
    "        print(\"Email Details:\")\n",
    "        print(f\"Sender: {self.sender}\")\n",
    "        print(f\"Recipient: {self.recipient}\")\n",
    "        print(f\"Subject: {self.subject}\")\n",
    "        print(\"Body:\")\n",
    "        print(self.body)\n",
    "        print(\"Status: Sent\" if self.sent else \"Status: Draft\")\n",
    "email_example = email_management(sender=\"Pwskills@gmail.com\", recipient=\"pratinanda@gmail.com\", subject=\"Assignment Evalution\" , body = \"Hello Pratishtha, Your assignment (Sorting Assignment) has been graded from PW Skills. Check below to see your score and comments from your mentor \")\n",
    "\n",
    "# Displaying email details before sending\n",
    "email_example.display_details()       "
   ]
  },
  {
   "cell_type": "code",
   "execution_count": 30,
   "id": "bbb4139c-9b99-4c82-82ce-cece6478aea1",
   "metadata": {},
   "outputs": [
    {
     "name": "stdout",
     "output_type": "stream",
     "text": [
      "Email sent from Pwskills@gmail.com to pratinanda@gmail.com with subject 'Assignment Evalution'\n",
      "Email Details:\n",
      "Sender: Pwskills@gmail.com\n",
      "Recipient: pratinanda@gmail.com\n",
      "Subject: Assignment Evalution\n",
      "Body:\n",
      "Hello Pratishtha, Your assignment (Sorting Assignment) has been graded from PW Skills. Check below to see your score and comments from your mentor \n",
      "Status: Sent\n"
     ]
    }
   ],
   "source": [
    "# Sending the email\n",
    "email_example.send_email()\n",
    "\n",
    "# Displaying email details after sending\n",
    "email_example.display_details()"
   ]
  },
  {
   "cell_type": "raw",
   "id": "2f30e6a7-7582-494c-931d-08da9f47cd2c",
   "metadata": {},
   "source": [
    "Problem 9"
   ]
  },
  {
   "cell_type": "code",
   "execution_count": 31,
   "id": "2f028478-73a8-401a-8e51-8ab19f0a019a",
   "metadata": {},
   "outputs": [
    {
     "name": "stdout",
     "output_type": "stream",
     "text": [
      "Posts by Pooja04:\n",
      "- Dancing my way through the year \n",
      "- Monday Blues\n",
      "- New Day New Life\n",
      "Posts containing 'new':\n",
      "- New Day New Life\n"
     ]
    }
   ],
   "source": [
    "class social_Media:\n",
    "    def __init__(self,username):\n",
    "        self.username = username\n",
    "        self.posts =  []\n",
    "    \n",
    "    def add_post(self, content):\n",
    "        self.posts.append(content)\n",
    "\n",
    "    def display_posts(self):\n",
    "        print(f\"Posts by {self.username}:\")\n",
    "        if not self.posts:\n",
    "            print(\"No posts yet.\")\n",
    "        else:\n",
    "            for post in self.posts:\n",
    "                print(f\"- {post}\")\n",
    "\n",
    "    def search_posts(self, keyword):\n",
    "        matching_posts = [post for post in self.posts if keyword.lower() in post.lower()]\n",
    "        if matching_posts:\n",
    "            print(f\"Posts containing '{keyword}':\")\n",
    "            for post in matching_posts:\n",
    "                print(f\"- {post}\")\n",
    "        else:\n",
    "            print(f\"No posts found containing '{keyword}'.\")\n",
    "    \n",
    "profile_example = social_Media(username=\"Pooja04\")\n",
    "\n",
    "# Adding posts to the profile\n",
    "profile_example.add_post(\"Dancing my way through the year \")\n",
    "profile_example.add_post(\"Monday Blues\")\n",
    "profile_example.add_post(\"New Day New Life\")\n",
    "\n",
    "# Displaying all posts\n",
    "profile_example.display_posts()\n",
    "\n",
    "# Searching for posts containing a keyword\n",
    "profile_example.search_posts(keyword=\"new\")     "
   ]
  },
  {
   "cell_type": "raw",
   "id": "400eae4c-a928-4738-86d2-f9d857f724f1",
   "metadata": {},
   "source": [
    "Problem 10"
   ]
  },
  {
   "cell_type": "code",
   "execution_count": 32,
   "id": "a88c1373-aee9-47ed-846e-7f98469ae7dd",
   "metadata": {},
   "outputs": [],
   "source": [
    "class toDoList:\n",
    "    def __init__(self):\n",
    "        self.tasks = []\n",
    "\n",
    "    def add_task(self, description, due_date):\n",
    "        task = {'description': description, 'due_date': due_date, 'completed': False}\n",
    "        self.tasks.append(task)\n",
    "        print(f'Task \"{description}\" added with due date {due_date}.')\n",
    "\n",
    "    def mark_task_as_completed(self, description):\n",
    "        for task in self.tasks:\n",
    "            if task['description'] == description:\n",
    "                task['completed'] = True\n",
    "                print(f'Task \"{description}\" marked as completed.')\n",
    "                return\n",
    "        print(f'Task \"{description}\" not found in the ToDo list.')\n",
    "    def remove_task(self, description):\n",
    "        for task in self.tasks:\n",
    "            if task['description'] == description:\n",
    "                self.tasks.remove(task)\n",
    "                print(f'Task \"{description}\" removed from the ToDo list.')\n",
    "                return\n",
    "        print(f'Task \"{description}\" not found in the ToDo list.')\n",
    "\n",
    "    def display_pending_tasks(self):\n",
    "        pending_tasks = [task for task in self.tasks if not task['completed']]\n",
    "        if not pending_tasks:\n",
    "            print('No pending tasks.')\n",
    "        else:\n",
    "            print('Pending tasks:')\n",
    "            for task in pending_tasks:\n",
    "                print(f'- {task[\"description\"]} (Due Date: {task[\"due_date\"]})')\n",
    "\n",
    "\n",
    "todo_list_example = toDoList()"
   ]
  },
  {
   "cell_type": "code",
   "execution_count": 33,
   "id": "89c9feed-d057-4d5a-a9d3-709fd5fb28e7",
   "metadata": {},
   "outputs": [
    {
     "name": "stdout",
     "output_type": "stream",
     "text": [
      "Task \"Study for tests\" added with due date 01-09-2024.\n",
      "Task \"Buy lipbalm\" added with due date 20-09-2024.\n",
      "Task \"Read a book\" added with due date 22-09-2024.\n",
      "Pending tasks:\n",
      "- Study for tests (Due Date: 01-09-2024)\n",
      "- Buy lipbalm (Due Date: 20-09-2024)\n",
      "- Read a book (Due Date: 22-09-2024)\n"
     ]
    }
   ],
   "source": [
    "# Adding tasks to the ToDo list\n",
    "todo_list_example.add_task(\"Study for tests\", \"01-09-2024\")\n",
    "todo_list_example.add_task(\"Buy lipbalm\", \"20-09-2024\")\n",
    "todo_list_example.add_task(\"Read a book\",\"22-09-2024\")\n",
    "\n",
    "# Displaying pending tasks\n",
    "todo_list_example.display_pending_tasks()"
   ]
  },
  {
   "cell_type": "code",
   "execution_count": 34,
   "id": "ca52a6e3-6dc3-4ebf-9581-350afe4b5254",
   "metadata": {},
   "outputs": [
    {
     "name": "stdout",
     "output_type": "stream",
     "text": [
      "Task \"Read a book\" marked as completed.\n",
      "Pending tasks:\n",
      "- Study for tests (Due Date: 01-09-2024)\n",
      "- Buy lipbalm (Due Date: 20-09-2024)\n"
     ]
    }
   ],
   "source": [
    "# Marking a task as completed\n",
    "todo_list_example.mark_task_as_completed(\"Read a book\")\n",
    "\n",
    "# Displaying pending after marking one as completed\n",
    "todo_list_example.display_pending_tasks()"
   ]
  },
  {
   "cell_type": "code",
   "execution_count": 35,
   "id": "ab1ab792-6e31-4c11-9942-518101804cbb",
   "metadata": {},
   "outputs": [
    {
     "name": "stdout",
     "output_type": "stream",
     "text": [
      "Task \"Read a book\" removed from the ToDo list.\n",
      "Pending tasks:\n",
      "- Study for tests (Due Date: 01-09-2024)\n",
      "- Buy lipbalm (Due Date: 20-09-2024)\n"
     ]
    }
   ],
   "source": [
    "todo_list_example.remove_task(\"Read a book\")\n",
    "todo_list_example.display_pending_tasks()"
   ]
  },
  {
   "cell_type": "code",
   "execution_count": null,
   "id": "afe74903-22d1-4135-af12-86d338407add",
   "metadata": {},
   "outputs": [],
   "source": []
  }
 ],
 "metadata": {
  "kernelspec": {
   "display_name": "Python 3 (ipykernel)",
   "language": "python",
   "name": "python3"
  },
  "language_info": {
   "codemirror_mode": {
    "name": "ipython",
    "version": 3
   },
   "file_extension": ".py",
   "mimetype": "text/x-python",
   "name": "python",
   "nbconvert_exporter": "python",
   "pygments_lexer": "ipython3",
   "version": "3.10.8"
  }
 },
 "nbformat": 4,
 "nbformat_minor": 5
}
