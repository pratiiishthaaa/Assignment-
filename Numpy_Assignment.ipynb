{
 "cells": [
  {
   "cell_type": "raw",
   "id": "888f15bd-621e-4aa6-90f1-530a0355cd48",
   "metadata": {},
   "source": [
    "1. What is a Python library? Why do we use Python libraries?\n",
    "2. What is the difference between Numpy array and List?"
   ]
  },
  {
   "cell_type": "raw",
   "id": "bda8b14b-0ef0-402d-9a2a-668a248e3582",
   "metadata": {},
   "source": [
    "Answer-1: A Python library is a collection of related modules. It contains bundles of code that can be used repeatedly in different programs. It makes Python Programming simpler and convenient for the programmer. As we don’t need to write the same code again and again for different programs. Instead of using the same code in different programs and making the code complex, we define mostly used functions in modules and we can just simply import them in a program wherever there is a requirement.Multiple interrelated modules are stored in a library. And whenever we need to use a module, we import it from its library."
   ]
  },
  {
   "cell_type": "raw",
   "id": "9f7c030a-4ba4-4e64-9871-0c1fdc824d1f",
   "metadata": {},
   "source": [
    "Answer-2: 1)Lists can hold different data types, but this can decrease memory efficiency and slow numerical operations.Whereas,NumPy arrays have a fixed data type, reducing memory overhead by eliminating the need to store type information for each element.2)Lists may not store elements in contiguous memory locations, causing memory fragmentation and inefficiency. On the other hand, NumPy arrays store elements in adjacent memory locations, reducing fragmentation and allowing for efficient access.3)Lists are not optimized for numerical computations and may have slower mathematical operations due to Python’s interpretation overhead. They are generally used as general-purpose data structures.Whereas,NumPy arrays are optimized for numerical computations, with efficient element-wise operations and mathematical functions. "
   ]
  },
  {
   "cell_type": "raw",
   "id": "43e58a31-2585-440d-a470-4031f7fb3b18",
   "metadata": {},
   "source": [
    "3. Find the shape, size and dimension of the following array?\n",
    "[[1, 2, 3, 4]\n",
    "[5, 6, 7, 8],\n",
    "[9, 10, 11, 12]]\n",
    "4. Write python code to access the first row of the following array?\n",
    "[[1, 2, 3, 4]\n",
    "[5, 6, 7, 8],\n",
    "[9, 10, 11, 12]]"
   ]
  },
  {
   "cell_type": "raw",
   "id": "d3f3be56-5817-4534-bbc9-419f9d46a52e",
   "metadata": {},
   "source": [
    "Answer-3"
   ]
  },
  {
   "cell_type": "code",
   "execution_count": 2,
   "id": "bc96b3b6-aeb1-49f2-8afa-36cd1ac3336c",
   "metadata": {},
   "outputs": [],
   "source": [
    "import numpy as np"
   ]
  },
  {
   "cell_type": "code",
   "execution_count": 7,
   "id": "ea8cc8fe-62f9-45fd-a49e-27211fce7080",
   "metadata": {},
   "outputs": [],
   "source": [
    "a=np.array([[[1, 2, 3, 4],[5, 6, 7, 8],[9, 10, 11, 12]]])"
   ]
  },
  {
   "cell_type": "code",
   "execution_count": 8,
   "id": "5d0ce908-4d3e-4a5c-9f15-b95a110824ac",
   "metadata": {},
   "outputs": [
    {
     "data": {
      "text/plain": [
       "(1, 3, 4)"
      ]
     },
     "execution_count": 8,
     "metadata": {},
     "output_type": "execute_result"
    }
   ],
   "source": [
    "a.shape"
   ]
  },
  {
   "cell_type": "code",
   "execution_count": 9,
   "id": "9c8e8f3e-235f-40c6-a618-e242a9d01615",
   "metadata": {},
   "outputs": [
    {
     "data": {
      "text/plain": [
       "12"
      ]
     },
     "execution_count": 9,
     "metadata": {},
     "output_type": "execute_result"
    }
   ],
   "source": [
    "a.size"
   ]
  },
  {
   "cell_type": "code",
   "execution_count": 10,
   "id": "ef8423b1-bd14-46aa-8e42-3511067d5404",
   "metadata": {},
   "outputs": [
    {
     "data": {
      "text/plain": [
       "3"
      ]
     },
     "execution_count": 10,
     "metadata": {},
     "output_type": "execute_result"
    }
   ],
   "source": [
    "a.ndim"
   ]
  },
  {
   "cell_type": "raw",
   "id": "cace6307-2e4c-4083-a5d7-10dffb523822",
   "metadata": {},
   "source": [
    "Answer-4"
   ]
  },
  {
   "cell_type": "code",
   "execution_count": 14,
   "id": "c68fe0e6-15c2-41c7-a03f-cf4053f97161",
   "metadata": {},
   "outputs": [
    {
     "data": {
      "text/plain": [
       "array([1, 2, 3, 4])"
      ]
     },
     "execution_count": 14,
     "metadata": {},
     "output_type": "execute_result"
    }
   ],
   "source": [
    "a[0,0]"
   ]
  },
  {
   "cell_type": "raw",
   "id": "62dd86c1-e4e9-416c-b27c-1d9c1ef92feb",
   "metadata": {},
   "source": [
    "5. How do you access the element at the third row and fourth column from the given numpy array?\n",
    "[[1, 2, 3, 4]\n",
    "[5, 6, 7, 8],\n",
    "[9, 10, 11, 12]]\n",
    "6. Write code to extract all odd-indexed elements from the given numpy array?\n",
    "[[1, 2, 3, 4]\n",
    "[5, 6, 7, 8],\n",
    "[9, 10, 11, 12]]"
   ]
  },
  {
   "cell_type": "raw",
   "id": "06349467-f369-4579-908a-c70d9ee66508",
   "metadata": {},
   "source": [
    "Answer-5"
   ]
  },
  {
   "cell_type": "code",
   "execution_count": 15,
   "id": "611b8e09-f5f9-4548-9290-c32dbb0aa446",
   "metadata": {},
   "outputs": [
    {
     "data": {
      "text/plain": [
       "12"
      ]
     },
     "execution_count": 15,
     "metadata": {},
     "output_type": "execute_result"
    }
   ],
   "source": [
    "a[0,2,3]"
   ]
  },
  {
   "cell_type": "raw",
   "id": "89ecc620-e3ea-4526-9b3c-7b13cb9c1e15",
   "metadata": {},
   "source": [
    "Answer-6"
   ]
  },
  {
   "cell_type": "code",
   "execution_count": 18,
   "id": "2e49db26-e09f-4212-8164-cc610116ee50",
   "metadata": {},
   "outputs": [
    {
     "data": {
      "text/plain": [
       "array([ 1,  3,  5,  7,  9, 11])"
      ]
     },
     "execution_count": 18,
     "metadata": {},
     "output_type": "execute_result"
    }
   ],
   "source": [
    "a[a % 2 == 1]"
   ]
  },
  {
   "cell_type": "raw",
   "id": "74c6fd9d-2545-4ff2-a707-f904a4e676eb",
   "metadata": {},
   "source": [
    "7. How can you generate a random 3x3 matrix with values between 0 and 1?\n",
    "8. Describe the difference between np.random.rand and np.random.randn?"
   ]
  },
  {
   "cell_type": "raw",
   "id": "8e1a673d-af3b-4ba0-92f1-36c8ed269839",
   "metadata": {},
   "source": [
    "Answer-7"
   ]
  },
  {
   "cell_type": "code",
   "execution_count": 23,
   "id": "37aee6d1-93bf-4f95-a98c-69410afb6efc",
   "metadata": {},
   "outputs": [],
   "source": [
    "x = np.random.random((3, 3))"
   ]
  },
  {
   "cell_type": "code",
   "execution_count": 24,
   "id": "2910c500-ecb1-4130-a27a-3c79ccf439bc",
   "metadata": {},
   "outputs": [
    {
     "data": {
      "text/plain": [
       "array([[0.6436136 , 0.83215945, 0.77297285],\n",
       "       [0.00502131, 0.00351099, 0.96781235],\n",
       "       [0.84155921, 0.70918667, 0.63285964]])"
      ]
     },
     "execution_count": 24,
     "metadata": {},
     "output_type": "execute_result"
    }
   ],
   "source": [
    "x"
   ]
  },
  {
   "cell_type": "raw",
   "id": "f016ce6a-5858-4fc9-b631-1fef678804b7",
   "metadata": {},
   "source": [
    "Answer-8: numpy.random.randn generates samples from the normal distribution, while numpy.random.rand from a uniform distribution (in the range [0,1))."
   ]
  },
  {
   "cell_type": "raw",
   "id": "e54ae7a3-e533-4edc-86cc-92d90e1b4804",
   "metadata": {},
   "source": [
    "9. Write code to increase the dimension of the following array?\n",
    "[[1, 2, 3, 4]\n",
    "[5, 6, 7, 8],\n",
    "[9, 10, 11, 12]]\n",
    "10. How to transpose the following array in NumPy?\n",
    "[[1, 2, 3, 4]\n",
    "[5, 6, 7, 8],\n",
    "[9, 10, 11, 12]]"
   ]
  },
  {
   "cell_type": "raw",
   "id": "2e9401fd-ada1-4f62-9638-3b219c4005c8",
   "metadata": {},
   "source": [
    "Answer-9"
   ]
  },
  {
   "cell_type": "code",
   "execution_count": 17,
   "id": "fd7341aa-6723-4d3d-8063-787ec31307cb",
   "metadata": {},
   "outputs": [
    {
     "data": {
      "text/plain": [
       "array([[ 1,  2,  3,  4],\n",
       "       [ 5,  6,  7,  8],\n",
       "       [ 9, 10, 11, 12],\n",
       "       [ 1,  2,  3,  4]])"
      ]
     },
     "execution_count": 17,
     "metadata": {},
     "output_type": "execute_result"
    }
   ],
   "source": [
    "np.resize(a,(4,4))"
   ]
  },
  {
   "cell_type": "raw",
   "id": "1f7c3320-022a-4e1b-a8af-76e129378200",
   "metadata": {},
   "source": [
    "Answer-10"
   ]
  },
  {
   "cell_type": "code",
   "execution_count": 16,
   "id": "7af02c4c-7b70-4711-96bb-9c189d331995",
   "metadata": {},
   "outputs": [
    {
     "data": {
      "text/plain": [
       "array([[[ 1],\n",
       "        [ 5],\n",
       "        [ 9]],\n",
       "\n",
       "       [[ 2],\n",
       "        [ 6],\n",
       "        [10]],\n",
       "\n",
       "       [[ 3],\n",
       "        [ 7],\n",
       "        [11]],\n",
       "\n",
       "       [[ 4],\n",
       "        [ 8],\n",
       "        [12]]])"
      ]
     },
     "execution_count": 16,
     "metadata": {},
     "output_type": "execute_result"
    }
   ],
   "source": [
    "np.transpose(a)"
   ]
  },
  {
   "cell_type": "raw",
   "id": "ee97be9e-9d6b-494d-b6b4-8de0567b850e",
   "metadata": {},
   "source": [
    "11. Consider the following matrix:\n",
    "Matrix A: [[1, 2, 3, 4] [5, 6, 7, 8],[9, 10, 11, 12]]\n",
    "Matrix B: [[1, 2, 3, 4] [5, 6, 7, 8],[9, 10, 11, 12]]\n",
    "Perform the following operation using Python1\n",
    " Index wise multiplication'\n",
    " Matrix multiplication'\n",
    " Add both the matrix\n",
    " Subtract matrix B from A\n",
    " Divide Matrix B by A"
   ]
  },
  {
   "cell_type": "raw",
   "id": "5a16ce61-9062-4d55-b4dc-dfe9d369d71e",
   "metadata": {},
   "source": [
    "Answer-11"
   ]
  },
  {
   "cell_type": "code",
   "execution_count": 29,
   "id": "48557974-16f1-4508-b7e4-2751c312c686",
   "metadata": {},
   "outputs": [],
   "source": [
    "a=np.array([[[1, 2, 3, 4],[5, 6, 7, 8],[9, 10, 11, 12]]])\n",
    "b=np.array([[[1, 2, 3, 4],[5, 6, 7, 8],[9, 10, 11, 12]]])"
   ]
  },
  {
   "cell_type": "code",
   "execution_count": 31,
   "id": "cc8bb92b-9b2c-4ef8-9da6-13f47b5fec52",
   "metadata": {},
   "outputs": [
    {
     "data": {
      "text/plain": [
       "array([[[ 3,  6,  9, 12],\n",
       "        [15, 18, 21, 24],\n",
       "        [27, 30, 33, 36]]])"
      ]
     },
     "execution_count": 31,
     "metadata": {},
     "output_type": "execute_result"
    }
   ],
   "source": [
    "#index wise multiplication\n",
    "np.multiply(a,3)"
   ]
  },
  {
   "cell_type": "code",
   "execution_count": 32,
   "id": "2adc6fcc-1a4a-4496-bf6d-a8740096d04c",
   "metadata": {},
   "outputs": [
    {
     "data": {
      "text/plain": [
       "array([[[  1,   4,   9,  16],\n",
       "        [ 25,  36,  49,  64],\n",
       "        [ 81, 100, 121, 144]]])"
      ]
     },
     "execution_count": 32,
     "metadata": {},
     "output_type": "execute_result"
    }
   ],
   "source": [
    "#matrix multi\n",
    "np.multiply(a,b)"
   ]
  },
  {
   "cell_type": "code",
   "execution_count": 33,
   "id": "66aeb544-00b0-41b8-a1a4-b15c7cb5cb57",
   "metadata": {},
   "outputs": [
    {
     "data": {
      "text/plain": [
       "array([[[ 2,  4,  6,  8],\n",
       "        [10, 12, 14, 16],\n",
       "        [18, 20, 22, 24]]])"
      ]
     },
     "execution_count": 33,
     "metadata": {},
     "output_type": "execute_result"
    }
   ],
   "source": [
    "#adding both matices\n",
    "np.add(a,b)"
   ]
  },
  {
   "cell_type": "code",
   "execution_count": 34,
   "id": "b469824e-f18d-472c-92a7-e80a9d1c4838",
   "metadata": {},
   "outputs": [
    {
     "data": {
      "text/plain": [
       "array([[[0, 0, 0, 0],\n",
       "        [0, 0, 0, 0],\n",
       "        [0, 0, 0, 0]]])"
      ]
     },
     "execution_count": 34,
     "metadata": {},
     "output_type": "execute_result"
    }
   ],
   "source": [
    "#subtract b from a\n",
    "np.subtract(a,b)"
   ]
  },
  {
   "cell_type": "code",
   "execution_count": 35,
   "id": "18393550-4626-4f3f-ba6b-a8cfda7e22ad",
   "metadata": {},
   "outputs": [
    {
     "data": {
      "text/plain": [
       "array([[[1., 1., 1., 1.],\n",
       "        [1., 1., 1., 1.],\n",
       "        [1., 1., 1., 1.]]])"
      ]
     },
     "execution_count": 35,
     "metadata": {},
     "output_type": "execute_result"
    }
   ],
   "source": [
    "#divide b by a\n",
    "np.divide(b,a)"
   ]
  },
  {
   "cell_type": "raw",
   "id": "c68fc4ca-7c8c-48ef-bdd1-5f34757a6f6a",
   "metadata": {},
   "source": [
    "12. Which function in Numpy can be used to swap the byte order of an array?\n",
    "13. What is the significance of the np.linalg.inv function?\n",
    "14. What does the np.reshape function do, and how is it used?\n",
    "15. What is broadcasting in Numpy?"
   ]
  },
  {
   "cell_type": "raw",
   "id": "20f6d63f-fabf-4116-b560-a393176a1058",
   "metadata": {},
   "source": [
    "Answer-12:In Python, the Numpy library provides the function called “byteswap()”, which can be used to swap the bytes."
   ]
  },
  {
   "cell_type": "raw",
   "id": "1dfd7342-0fd8-4e9a-9a80-fc933aca1c34",
   "metadata": {},
   "source": [
    "Answer-13:We use numpy.linalg.inv() function to calculate the inverse of a matrix. The inverse of a matrix is such that if it is multiplied by the original matrix, it results in identity matrix."
   ]
  },
  {
   "cell_type": "code",
   "execution_count": 28,
   "id": "c9266757-1ca0-49f2-a7d3-7672c321b145",
   "metadata": {},
   "outputs": [
    {
     "data": {
      "text/plain": [
       "array([[-2.90783334e+00,  9.15609920e-02,  3.41159754e+00],\n",
       "       [ 3.44829231e+00, -1.03362602e+00, -2.63104206e+00],\n",
       "       [ 2.57715051e-03,  1.03653285e+00, -8.15562178e-03]])"
      ]
     },
     "execution_count": 28,
     "metadata": {},
     "output_type": "execute_result"
    }
   ],
   "source": [
    "np.linalg.inv(x)"
   ]
  },
  {
   "cell_type": "raw",
   "id": "17dfb692-3b09-47d9-9de5-4dc33aecc05b",
   "metadata": {},
   "source": [
    "Answer-14:The .reshape() function rearranges the data in an ndarray into a new shape. The new shape must be compatible with the old one, though an index of -1 can be used to infer one dimension. Syntax: numpy.reshape(array, newshape)."
   ]
  },
  {
   "cell_type": "code",
   "execution_count": 26,
   "id": "b8dfdb44-b929-4394-a13f-3555779061a1",
   "metadata": {},
   "outputs": [
    {
     "data": {
      "text/plain": [
       "array([[ 1,  2,  3,  4,  5,  6],\n",
       "       [ 7,  8,  9, 10, 11, 12]])"
      ]
     },
     "execution_count": 26,
     "metadata": {},
     "output_type": "execute_result"
    }
   ],
   "source": [
    "np.reshape(a,(2,6))"
   ]
  },
  {
   "cell_type": "raw",
   "id": "48b1afdb-1033-486e-8c49-e2d365f2c1bc",
   "metadata": {},
   "source": [
    "Answer-15:The term broadcasting describes how NumPy treats arrays with different shapes during arithmetic operations. Subject to certain constraints, the smaller array is “broadcast” across the larger array so that they have compatible shapes. Broadcasting provides a means of vectorizing array operations so that looping occurs in C instead of Python."
   ]
  }
 ],
 "metadata": {
  "kernelspec": {
   "display_name": "Python 3 (ipykernel)",
   "language": "python",
   "name": "python3"
  },
  "language_info": {
   "codemirror_mode": {
    "name": "ipython",
    "version": 3
   },
   "file_extension": ".py",
   "mimetype": "text/x-python",
   "name": "python",
   "nbconvert_exporter": "python",
   "pygments_lexer": "ipython3",
   "version": "3.10.8"
  }
 },
 "nbformat": 4,
 "nbformat_minor": 5
}
