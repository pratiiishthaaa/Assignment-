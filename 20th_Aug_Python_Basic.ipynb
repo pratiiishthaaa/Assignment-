{
 "cells": [
  {
   "cell_type": "markdown",
   "id": "6ed0972d-e0e8-4e77-9b9d-08942712353b",
   "metadata": {},
   "source": [
    "String Based Questions"
   ]
  },
  {
   "cell_type": "raw",
   "id": "064c46f6-9eb6-4bba-a75b-fd9aff293f32",
   "metadata": {},
   "source": [
    "1. Write a program to reverse a string.\n",
    "2. Check if a string is a palindrome.\n",
    "3. Convert a string to uppercase.\n",
    "4. Convert a string to lowercase.\n",
    "5. Count the number of vowels in a string.\n",
    "6. Count the number of consonants in a string.\n",
    "7. Remove all whitespaces from a string."
   ]
  },
  {
   "cell_type": "raw",
   "id": "06db26dc-4564-4d04-b772-5296112c8ad0",
   "metadata": {},
   "source": [
    "Answer-1"
   ]
  },
  {
   "cell_type": "code",
   "execution_count": 1,
   "id": "8f9c5406-1612-4d10-8bb8-cba502d4fa61",
   "metadata": {},
   "outputs": [
    {
     "name": "stdin",
     "output_type": "stream",
     "text": [
      "Enter a string:  This is my first answer.\n"
     ]
    }
   ],
   "source": [
    "str=input(\"Enter a string: \")"
   ]
  },
  {
   "cell_type": "code",
   "execution_count": 2,
   "id": "f751420b-6818-4e9d-adc4-6d65bed6bca4",
   "metadata": {},
   "outputs": [
    {
     "data": {
      "text/plain": [
       "'.rewsna tsrif ym si sihT'"
      ]
     },
     "execution_count": 2,
     "metadata": {},
     "output_type": "execute_result"
    }
   ],
   "source": [
    "str[::-1]"
   ]
  },
  {
   "cell_type": "raw",
   "id": "57ce72ef-299f-49af-bdc9-a6b8fde7cea8",
   "metadata": {},
   "source": [
    "Answer-2 "
   ]
  },
  {
   "cell_type": "code",
   "execution_count": 4,
   "id": "2fd86bec-4d56-4b13-844d-d297f60ea291",
   "metadata": {},
   "outputs": [
    {
     "name": "stdout",
     "output_type": "stream",
     "text": [
      "not palindrome\n"
     ]
    }
   ],
   "source": [
    "reverse_str=str[::-1]\n",
    "if(reverse_str == str):\n",
    "    print(\"palindrome\")\n",
    "else:\n",
    "    print(\"not palindrome\")"
   ]
  },
  {
   "cell_type": "raw",
   "id": "8a4b9750-ce67-4bab-98be-80876c9615d9",
   "metadata": {},
   "source": [
    "Answer -3"
   ]
  },
  {
   "cell_type": "code",
   "execution_count": 5,
   "id": "8c53069f-a864-47f6-911d-e2d0a24e3d54",
   "metadata": {},
   "outputs": [
    {
     "data": {
      "text/plain": [
       "'THIS IS MY FIRST ANSWER.'"
      ]
     },
     "execution_count": 5,
     "metadata": {},
     "output_type": "execute_result"
    }
   ],
   "source": [
    "str.upper()"
   ]
  },
  {
   "cell_type": "raw",
   "id": "8423a184-a31b-48e4-808a-e4dda151b5d2",
   "metadata": {},
   "source": [
    "Answer-4 "
   ]
  },
  {
   "cell_type": "code",
   "execution_count": 6,
   "id": "cda35dc5-91a0-4de4-959e-a63f83000d7d",
   "metadata": {},
   "outputs": [
    {
     "data": {
      "text/plain": [
       "'this is my first answer.'"
      ]
     },
     "execution_count": 6,
     "metadata": {},
     "output_type": "execute_result"
    }
   ],
   "source": [
    "str.lower()"
   ]
  },
  {
   "cell_type": "raw",
   "id": "32ceb950-542f-4b81-9626-17059681b5f4",
   "metadata": {},
   "source": [
    "Answer-5"
   ]
  },
  {
   "cell_type": "code",
   "execution_count": 2,
   "id": "6252059c-def4-4763-a75a-7358588d335c",
   "metadata": {},
   "outputs": [],
   "source": [
    "def count_vowels(string):\n",
    "    vowel_count=0\n",
    "    string=string.lower()\n",
    "    vowels=set(\"aeiou\")\n",
    "    for char in string:\n",
    "        if char in vowels:\n",
    "            vowel_count+=1\n",
    "    return vowel_count"
   ]
  },
  {
   "cell_type": "code",
   "execution_count": 3,
   "id": "2019487a-fbb9-4ff2-8d6e-5c7370e5d133",
   "metadata": {},
   "outputs": [],
   "source": [
    "new_string=\"This is my 5th answer.\""
   ]
  },
  {
   "cell_type": "code",
   "execution_count": 4,
   "id": "e2e45107-9902-4367-91a0-39ca526f0bcf",
   "metadata": {},
   "outputs": [
    {
     "name": "stdout",
     "output_type": "stream",
     "text": [
      "The number of vowels are 4\n"
     ]
    }
   ],
   "source": [
    "sent= count_vowels(new_string)\n",
    "print(\"The number of vowels are\", sent)"
   ]
  },
  {
   "cell_type": "markdown",
   "id": "3dc6f92e-1f0d-4514-b2f5-f1b7b40ccd17",
   "metadata": {},
   "source": [
    "I defined a variable to keep track of the vowel count. Defined a set of vowels and converted the string to lowercase for convenience. I then created a for loop to check whether a character is vowel or not. Then I tested my function and put in a command to print the number of vowels in the sentence."
   ]
  },
  {
   "cell_type": "raw",
   "id": "afee5ab0-e0c7-41d1-bb3e-0869d3daa795",
   "metadata": {},
   "source": [
    "Answer-6"
   ]
  },
  {
   "cell_type": "code",
   "execution_count": 11,
   "id": "f85cd582-2b77-4dfa-97c2-2d6621ed457b",
   "metadata": {},
   "outputs": [],
   "source": [
    "def count_consonants(string):\n",
    "    cons_count=0\n",
    "    consonants=\"bcdfghjklmnpqrstvwxyzBCDFGHJKLMNPQRSTVWXYZ\"\n",
    "    for char in string:\n",
    "        if char in consonants:\n",
    "            cons_count+=1\n",
    "    return cons_count"
   ]
  },
  {
   "cell_type": "code",
   "execution_count": 12,
   "id": "155a5984-177f-4f5d-a5a1-0becaeb3a55e",
   "metadata": {},
   "outputs": [],
   "source": [
    "new_sentence=\"My eyes are fried and I need to rest them.\""
   ]
  },
  {
   "cell_type": "code",
   "execution_count": 13,
   "id": "268bef16-10a9-4f6b-a1fc-736b9c11e81c",
   "metadata": {},
   "outputs": [
    {
     "name": "stdout",
     "output_type": "stream",
     "text": [
      "The number of consonants are 19\n"
     ]
    }
   ],
   "source": [
    "print(\"The number of consonants are\", count_consonants(new_sentence))"
   ]
  },
  {
   "cell_type": "markdown",
   "id": "1def73cf-4d0c-4e6e-ab4a-45fde721db0a",
   "metadata": {},
   "source": [
    "I defined a new function to find out the consonant count in a given string. I did it in a similar manner as shown in answer 5."
   ]
  },
  {
   "cell_type": "raw",
   "id": "4125ef45-b396-4c83-a20f-02f25db96ab8",
   "metadata": {},
   "source": [
    "Answer-7"
   ]
  },
  {
   "cell_type": "code",
   "execution_count": 2,
   "id": "23b38e89-ea15-46b9-8255-08ebae774cae",
   "metadata": {},
   "outputs": [
    {
     "name": "stdin",
     "output_type": "stream",
     "text": [
      "Enter the name of your birthplace:  The name is New Delhi.\n"
     ]
    }
   ],
   "source": [
    "name=input(\"Enter the name of your birthplace: \")"
   ]
  },
  {
   "cell_type": "code",
   "execution_count": 3,
   "id": "444ca9a2-a932-4717-8280-4cd282022d89",
   "metadata": {},
   "outputs": [],
   "source": [
    "def remove(name):\n",
    "    return name.replace(\" \", \"\")"
   ]
  },
  {
   "cell_type": "code",
   "execution_count": 4,
   "id": "6ebefc3a-0b0d-4016-922d-cbab3046a4b4",
   "metadata": {},
   "outputs": [
    {
     "name": "stdout",
     "output_type": "stream",
     "text": [
      "ThenameisNewDelhi.\n"
     ]
    }
   ],
   "source": [
    "print(remove(name))"
   ]
  },
  {
   "cell_type": "raw",
   "id": "6164390f-b647-485a-b1ca-2805acfe41eb",
   "metadata": {},
   "source": [
    "8. Find the length of a string without using the `len()` function.\n",
    "9. Check if a string contains a specific word.\n",
    "10. Replace a word in a string with another word.\n",
    "11. Count the occurrences of a word in a string.\n",
    "12. Find the first occurrence of a word in a string.\n",
    "13. Find the last occurrence of a word in a string.\n",
    "14. Split a string into a list of words.\n",
    "15. Join a list of words into a string."
   ]
  },
  {
   "cell_type": "raw",
   "id": "0842e308-b71b-4b35-97db-34147c60f126",
   "metadata": {},
   "source": [
    "Answer-8"
   ]
  },
  {
   "cell_type": "code",
   "execution_count": 5,
   "id": "748c5401-7512-461e-af5e-751c8e13aaa8",
   "metadata": {},
   "outputs": [
    {
     "name": "stdout",
     "output_type": "stream",
     "text": [
      "The length of string/name is 22\n"
     ]
    }
   ],
   "source": [
    "count=0\n",
    "for char in name:\n",
    "    count+=1\n",
    "print(\"The length of string/name is\",count) "
   ]
  },
  {
   "cell_type": "raw",
   "id": "59ce0e0a-62cc-4ec3-bbe7-dc4238ee2048",
   "metadata": {},
   "source": [
    "Answer -9"
   ]
  },
  {
   "cell_type": "code",
   "execution_count": 7,
   "id": "63c0e920-c873-4970-93a7-b899248e162d",
   "metadata": {},
   "outputs": [
    {
     "data": {
      "text/plain": [
       "9"
      ]
     },
     "execution_count": 7,
     "metadata": {},
     "output_type": "execute_result"
    }
   ],
   "source": [
    "#To check this use the find function\n",
    "#str.find(word) - returns 1st index of 1st occurence\n",
    "name.find(\"is\")"
   ]
  },
  {
   "cell_type": "raw",
   "id": "bcb4df11-12f6-408c-849a-032d380b421b",
   "metadata": {},
   "source": [
    "Answer 10"
   ]
  },
  {
   "cell_type": "code",
   "execution_count": 8,
   "id": "9271e8ac-8fbd-47e4-b3c8-df5db6c25261",
   "metadata": {},
   "outputs": [
    {
     "data": {
      "text/plain": [
       "'The name is New Chandigarh.'"
      ]
     },
     "execution_count": 8,
     "metadata": {},
     "output_type": "execute_result"
    }
   ],
   "source": [
    "#str.replace(old,new)- replaces old with new.\n",
    "name.replace(\"Delhi\",\"Chandigarh\")"
   ]
  },
  {
   "cell_type": "raw",
   "id": "801089be-b77e-441c-bf4e-eeb0fd6affc3",
   "metadata": {},
   "source": [
    "Answer-11"
   ]
  },
  {
   "cell_type": "code",
   "execution_count": 9,
   "id": "dae4a79f-c2d1-4f08-a27a-3089b1509951",
   "metadata": {},
   "outputs": [
    {
     "data": {
      "text/plain": [
       "1"
      ]
     },
     "execution_count": 9,
     "metadata": {},
     "output_type": "execute_result"
    }
   ],
   "source": [
    "#str.count(\"substr\") - counts its occurence\n",
    "name.count(\"is\")"
   ]
  },
  {
   "cell_type": "raw",
   "id": "0838b6dc-2bc6-4f43-a2de-e2199d1bf3c4",
   "metadata": {},
   "source": [
    "Answer-12"
   ]
  },
  {
   "cell_type": "code",
   "execution_count": 10,
   "id": "d2270088-fa3d-41b8-8120-4bed39e9ca75",
   "metadata": {},
   "outputs": [
    {
     "data": {
      "text/plain": [
       "12"
      ]
     },
     "execution_count": 10,
     "metadata": {},
     "output_type": "execute_result"
    }
   ],
   "source": [
    "#str.find(word) - returns 1st index of 1st occurence\n",
    "name.find(\"New\")"
   ]
  },
  {
   "cell_type": "raw",
   "id": "1bdd1432-a30a-406a-a5bb-cfc87986058a",
   "metadata": {},
   "source": [
    "Answer-13"
   ]
  },
  {
   "cell_type": "code",
   "execution_count": 13,
   "id": "8c207976-07c0-45c2-a9ec-ebb363238569",
   "metadata": {},
   "outputs": [
    {
     "data": {
      "text/plain": [
       "19"
      ]
     },
     "execution_count": 13,
     "metadata": {},
     "output_type": "execute_result"
    }
   ],
   "source": [
    "#string.rfind(value, start, end) - finds the last occurence of a word in string.\n",
    "name.rfind(\"h\",0,-1)"
   ]
  },
  {
   "cell_type": "raw",
   "id": "89d539f8-a2be-4c62-870b-067d00cc910b",
   "metadata": {},
   "source": [
    "Answer 14"
   ]
  },
  {
   "cell_type": "code",
   "execution_count": 17,
   "id": "204ab98b-7696-4552-ae75-41fe824b136e",
   "metadata": {},
   "outputs": [
    {
     "name": "stdout",
     "output_type": "stream",
     "text": [
      "['This', 'is', 'a', 'brand', 'new', 'day.']\n"
     ]
    }
   ],
   "source": [
    "text=\"This is a brand new day.\"\n",
    "x=text.split()\n",
    "print (x)"
   ]
  },
  {
   "cell_type": "raw",
   "id": "1f277686-95c2-4f70-a2ea-9d1cb5c9e5bb",
   "metadata": {},
   "source": [
    "Answer 15"
   ]
  },
  {
   "cell_type": "code",
   "execution_count": 22,
   "id": "47cf9fb0-ba10-42ea-923e-89bbba1f2d92",
   "metadata": {},
   "outputs": [
    {
     "name": "stdout",
     "output_type": "stream",
     "text": [
      "1 2 3 hello how are you\n"
     ]
    }
   ],
   "source": [
    "List=[1,2,3,\"hello\",\"how\",\"are\",\"you\"]\n",
    "string= ' '.join(map(str,List))\n",
    "print(string)"
   ]
  },
  {
   "cell_type": "raw",
   "id": "873d7e73-2dbf-49ae-8089-0166f6c2d6c8",
   "metadata": {},
   "source": [
    "16. Convert a string where words are separated by spaces to one where words\n",
    "are separated by underscores.\n",
    "17. Check if a string starts with a specific word or phrase.\n",
    "18. Check if a string ends with a specific word or phrase.\n",
    "19. Convert a string to title case (e.g., \"hello world\" to \"Hello World\").\n",
    "20. Find the longest word in a string.\n",
    "21. Find the shortest word in a string.\n",
    "22. Reverse the order of words in a string.\n",
    "23. Check if a string is alphanumeric.\n",
    "24. Extract all digits from a string."
   ]
  },
  {
   "cell_type": "raw",
   "id": "bf54c8b9-2b36-4158-8082-f4fa82cbfb3f",
   "metadata": {},
   "source": [
    "Answer 16"
   ]
  },
  {
   "cell_type": "code",
   "execution_count": 23,
   "id": "a9f7824c-b097-448a-844f-5fe7481d79db",
   "metadata": {},
   "outputs": [
    {
     "data": {
      "text/plain": [
       "'This_is_my_python_homework.'"
      ]
     },
     "execution_count": 23,
     "metadata": {},
     "output_type": "execute_result"
    }
   ],
   "source": [
    "space=\"This is my python homework.\"\n",
    "# str.replace(old,new)- replaces old with new. \n",
    "space.replace(\" \",\"_\")"
   ]
  },
  {
   "cell_type": "raw",
   "id": "066113bc-9cb0-49c2-8d91-1b4580d99f68",
   "metadata": {},
   "source": [
    "Answer-17"
   ]
  },
  {
   "cell_type": "code",
   "execution_count": 24,
   "id": "a0f0d593-39f8-43b1-8dc4-d5030b98b2ad",
   "metadata": {},
   "outputs": [
    {
     "data": {
      "text/plain": [
       "False"
      ]
     },
     "execution_count": 24,
     "metadata": {},
     "output_type": "execute_result"
    }
   ],
   "source": [
    "#str.startswith(\"substr\") - replies with T/F\n",
    "space.startswith(\"is\")"
   ]
  },
  {
   "cell_type": "raw",
   "id": "7b4e76a6-faa3-4b53-998b-fb59b43a98fb",
   "metadata": {},
   "source": [
    "Answer-18"
   ]
  },
  {
   "cell_type": "code",
   "execution_count": 29,
   "id": "85b90475-90d0-4f1a-a87f-d8420d274048",
   "metadata": {},
   "outputs": [
    {
     "data": {
      "text/plain": [
       "True"
      ]
     },
     "execution_count": 29,
     "metadata": {},
     "output_type": "execute_result"
    }
   ],
   "source": [
    "##str.endswith(\"substr\") - replies with T/F\n",
    "space.endswith(\".\")"
   ]
  },
  {
   "cell_type": "raw",
   "id": "bb6cb58b-a8dd-44c5-a94e-43527b18531f",
   "metadata": {},
   "source": [
    "Answer-19"
   ]
  },
  {
   "cell_type": "code",
   "execution_count": 30,
   "id": "581d9fb1-1c63-453a-acd5-3e03911be1a2",
   "metadata": {},
   "outputs": [
    {
     "data": {
      "text/plain": [
       "'This Is My Python Homework.'"
      ]
     },
     "execution_count": 30,
     "metadata": {},
     "output_type": "execute_result"
    }
   ],
   "source": [
    "space.title()"
   ]
  },
  {
   "cell_type": "raw",
   "id": "f997baea-e0fd-4a60-97df-80d334612d42",
   "metadata": {},
   "source": [
    "Answer-20"
   ]
  },
  {
   "cell_type": "code",
   "execution_count": 5,
   "id": "f9b60ea3-a4ad-416f-bbfd-cb7f01f3d32b",
   "metadata": {},
   "outputs": [],
   "source": [
    "string=\"My name is Anthony Gonzalez\"    #splitting string into list and then using len function\n",
    "word=string.split()\n",
    "longest_word=\" \""
   ]
  },
  {
   "cell_type": "code",
   "execution_count": 3,
   "id": "2cbe421a-77b5-474f-be1a-871aafc68867",
   "metadata": {},
   "outputs": [
    {
     "name": "stdout",
     "output_type": "stream",
     "text": [
      "Longest word:  Gonzalez\n"
     ]
    }
   ],
   "source": [
    "for w in word:\n",
    "    if len(w)>len(longest_word):\n",
    "        longest_word=w\n",
    "print(\"Longest word: \",longest_word)"
   ]
  },
  {
   "cell_type": "raw",
   "id": "a1d78cda-557f-4ab1-a738-67edcaaa5bc2",
   "metadata": {},
   "source": [
    "Answer-21"
   ]
  },
  {
   "cell_type": "code",
   "execution_count": 4,
   "id": "91ef63b3-a5a8-434c-a1f1-995e3a2b6b15",
   "metadata": {},
   "outputs": [
    {
     "name": "stdout",
     "output_type": "stream",
     "text": [
      "Shortest word: My\n"
     ]
    }
   ],
   "source": [
    "shortest_word=word[0]\n",
    "for w in word:\n",
    "    if len(w)<len(shortest_word):\n",
    "        shortest_word=w\n",
    "print(\"Shortest word:\",shortest_word)"
   ]
  },
  {
   "cell_type": "raw",
   "id": "77c131e9-8cc9-42dd-8c11-a2980d3b8cb1",
   "metadata": {},
   "source": [
    "Answer-22"
   ]
  },
  {
   "cell_type": "code",
   "execution_count": 6,
   "id": "31c6f597-9c1d-414a-9c39-d3354057473b",
   "metadata": {},
   "outputs": [
    {
     "name": "stdout",
     "output_type": "stream",
     "text": [
      "student a am I people, lovely Hello\n"
     ]
    }
   ],
   "source": [
    "m=\"Hello lovely people, I am a student\"\n",
    "n=m.split()  #splitting into a list\n",
    "n.reverse()\n",
    "#now joining them\n",
    "result=\" \".join(n)\n",
    "print(result)"
   ]
  },
  {
   "cell_type": "raw",
   "id": "cc806e85-d513-4711-bc39-87aed303d5fd",
   "metadata": {},
   "source": [
    "Answer-23"
   ]
  },
  {
   "cell_type": "code",
   "execution_count": 1,
   "id": "84e82b72-bd3b-4e47-ba0a-548a876e9910",
   "metadata": {},
   "outputs": [
    {
     "name": "stdout",
     "output_type": "stream",
     "text": [
      "Is Hello 123 alphanumeric?\n",
      "False\n",
      "Is abcdefv alphanumeric?\n",
      "True\n"
     ]
    }
   ],
   "source": [
    "p=\"Hello 123\"\n",
    "q=\"abcdefv\"\n",
    "print(\"Is\",p,\"alphanumeric?\")\n",
    "print(p.isalnum())\n",
    "print(\"Is\",q,\"alphanumeric?\")\n",
    "print(q.isalnum())           #will return true if all are either letters or numbers, false if a combi of both"
   ]
  },
  {
   "cell_type": "raw",
   "id": "e06d71f4-f965-4acf-89c2-937710f9ed85",
   "metadata": {},
   "source": [
    "Answer-24"
   ]
  },
  {
   "cell_type": "code",
   "execution_count": 3,
   "id": "4d2c919d-3d7b-4eab-9d62-1040d04df7de",
   "metadata": {},
   "outputs": [],
   "source": [
    "def extract_digits(string):\n",
    "    digits = \"\"   #initialising empty string        \n",
    "    for char in string:\n",
    "        if char.isdigit():    #returns True if all the characters are digits, otherwise False\n",
    "            digits += char\n",
    "    return digits"
   ]
  },
  {
   "cell_type": "code",
   "execution_count": 7,
   "id": "40288bd8-d199-40f9-bcdf-3b335dc5e1a1",
   "metadata": {},
   "outputs": [],
   "source": [
    "hello=\"1234heywhy36\""
   ]
  },
  {
   "cell_type": "code",
   "execution_count": 8,
   "id": "a2b7b964-342e-4de3-a124-67f0b8775683",
   "metadata": {},
   "outputs": [
    {
     "data": {
      "text/plain": [
       "'123436'"
      ]
     },
     "execution_count": 8,
     "metadata": {},
     "output_type": "execute_result"
    }
   ],
   "source": [
    "extract_digits(hello)"
   ]
  },
  {
   "cell_type": "raw",
   "id": "a83fd5c8-3e3d-4c72-9360-8b3368035894",
   "metadata": {},
   "source": [
    "25. Extract all alphabets from a string.\n",
    "26. Count the number of uppercase letters in a string.\n",
    "27. Count the number of lowercase letters in a string.\n",
    "28. Swap the case of each character in a string.\n",
    "29. Remove a specific word from a string.\n",
    "30. Check if a string is a valid email address.\n",
    "31. Extract the username from an email address string.\n",
    "32. Extract the domain name from an email address string.\n",
    "33. Replace multiple spaces in a string with a single space.\n",
    "34. Check if a string is a valid URL."
   ]
  },
  {
   "cell_type": "raw",
   "id": "110ffcd6-db6e-4a53-ace8-0610a8f01e78",
   "metadata": {},
   "source": [
    "Answer-25"
   ]
  },
  {
   "cell_type": "code",
   "execution_count": 11,
   "id": "51e63754-da8f-4500-9a09-4820442c5d4b",
   "metadata": {},
   "outputs": [],
   "source": [
    "def extract_alphabets(string):\n",
    "    alphabets = ' '.join([char for char in string if char.isalpha()])\n",
    "    return alphabets"
   ]
  },
  {
   "cell_type": "code",
   "execution_count": 12,
   "id": "dff729c2-a451-4728-b245-b13ec5069366",
   "metadata": {},
   "outputs": [
    {
     "data": {
      "text/plain": [
       "'h e l l o h e l l o'"
      ]
     },
     "execution_count": 12,
     "metadata": {},
     "output_type": "execute_result"
    }
   ],
   "source": [
    "extract_alphabets(\"hello1234hello\")"
   ]
  },
  {
   "cell_type": "raw",
   "id": "3fa04034-f521-4c83-92c3-81c29da30f45",
   "metadata": {},
   "source": [
    "Answer-26"
   ]
  },
  {
   "cell_type": "code",
   "execution_count": 14,
   "id": "b43112eb-74da-4808-929a-3a2b24058593",
   "metadata": {},
   "outputs": [
    {
     "name": "stdout",
     "output_type": "stream",
     "text": [
      "The number of uppercase characters is: 3\n"
     ]
    }
   ],
   "source": [
    "Str=\"HelloWeirdPeople\"\n",
    "upper=0\n",
    "for i in Str:\n",
    "      if(i.isupper()):\n",
    "            upper+=1           #can have no else statement when code is only returned when true\n",
    "print(\"The number of uppercase characters is:\",upper)"
   ]
  },
  {
   "cell_type": "raw",
   "id": "88584cb3-f85a-44be-8b3a-503f01150189",
   "metadata": {},
   "source": [
    "Answer 27"
   ]
  },
  {
   "cell_type": "code",
   "execution_count": 15,
   "id": "977e6d86-8f98-49e5-b302-5aaf5f715c0a",
   "metadata": {},
   "outputs": [
    {
     "name": "stdout",
     "output_type": "stream",
     "text": [
      "The number of lowercase characters is: 12\n"
     ]
    }
   ],
   "source": [
    "Str=\"HolaPaloozaLola\"\n",
    "lower=0\n",
    "for i in Str:\n",
    "      if(i.islower()):\n",
    "            lower+=1\n",
    "print(\"The number of lowercase characters is:\",lower)"
   ]
  },
  {
   "cell_type": "raw",
   "id": "29f29066-632c-490c-932d-2bd90101f1c9",
   "metadata": {},
   "source": [
    "Answer 28"
   ]
  },
  {
   "cell_type": "code",
   "execution_count": 16,
   "id": "530ad1ee-f42d-4607-8056-537b36575c13",
   "metadata": {},
   "outputs": [],
   "source": [
    "yo=\"Hello My Brain has Stopped working.\""
   ]
  },
  {
   "cell_type": "code",
   "execution_count": 17,
   "id": "82d5fbdc-7f56-472b-9c22-cda17d856d27",
   "metadata": {},
   "outputs": [
    {
     "data": {
      "text/plain": [
       "'hELLO mY bRAIN HAS sTOPPED WORKING.'"
      ]
     },
     "execution_count": 17,
     "metadata": {},
     "output_type": "execute_result"
    }
   ],
   "source": [
    "yo.swapcase()"
   ]
  },
  {
   "cell_type": "raw",
   "id": "1534bf88-0fe8-4922-acee-b6bf8abffebd",
   "metadata": {},
   "source": [
    "Answer 29"
   ]
  },
  {
   "cell_type": "code",
   "execution_count": 18,
   "id": "7197b339-7640-40de-9f31-2468a2b2e4fc",
   "metadata": {},
   "outputs": [],
   "source": [
    "#first split the string into a list, then use loop to remove word, then join list and return filtered string"
   ]
  },
  {
   "cell_type": "code",
   "execution_count": 19,
   "id": "a803ccdf-c801-4e7a-a1e7-7382078d0022",
   "metadata": {},
   "outputs": [],
   "source": [
    "def remove_word(string,unwanted_word):\n",
    "    words=string.split()\n",
    "    filtered_words=[w for w in words if w != unwanted_word]\n",
    "    new_string=\" \".join(filtered_words)\n",
    "    return new_string"
   ]
  },
  {
   "cell_type": "code",
   "execution_count": 22,
   "id": "076b7198-ba86-451d-85ee-ae4178f0fc7a",
   "metadata": {},
   "outputs": [
    {
     "data": {
      "text/plain": [
       "'My name is Gonzalez'"
      ]
     },
     "execution_count": 22,
     "metadata": {},
     "output_type": "execute_result"
    }
   ],
   "source": [
    "remove_word(\"My name is Anthony Gonzalez\",\"Anthony\")      #will have to mention full word, won't remove half word"
   ]
  },
  {
   "cell_type": "raw",
   "id": "9d01bdcd-b437-4796-acdf-34aa02b0baca",
   "metadata": {},
   "source": [
    "Answer-30"
   ]
  },
  {
   "cell_type": "code",
   "execution_count": 1,
   "id": "397716c4-8c64-407f-a5d3-622f09be190b",
   "metadata": {},
   "outputs": [
    {
     "name": "stdout",
     "output_type": "stream",
     "text": [
      "True\n",
      "False\n"
     ]
    }
   ],
   "source": [
    "import re  # Import the regular expression module\n",
    "\n",
    "def is_valid_email(email):\n",
    "    pattern = r'^[\\w\\.-]+@[\\w\\.-]+\\.\\w+$'  # Regular expression pattern for a basic email validation\n",
    "    if re.match(pattern, email):\n",
    "        return True\n",
    "    else:\n",
    "        return False\n",
    "\n",
    "# Example email addresses\n",
    "email1 = \"example@email.com\"\n",
    "email2 = \"invalid-email\"\n",
    "result1 = is_valid_email(email1)\n",
    "result2 = is_valid_email(email2)\n",
    "print(result1)\n",
    "print(result2)"
   ]
  },
  {
   "cell_type": "raw",
   "id": "9df10e58-578d-4579-8ce0-1f7b937bbd53",
   "metadata": {},
   "source": [
    "Answer-31"
   ]
  },
  {
   "cell_type": "code",
   "execution_count": 3,
   "id": "56781ec5-4669-4bbe-9be8-39537b644f51",
   "metadata": {},
   "outputs": [
    {
     "name": "stdout",
     "output_type": "stream",
     "text": [
      "pratinanda\n"
     ]
    }
   ],
   "source": [
    "def extract_username(email):\n",
    "    username = email.split('@')[0]  # Split the email address at \"@\" and take the first part\n",
    "    return username\n",
    "\n",
    "# Example email address\n",
    "email = \"pratinanda@email.com\"\n",
    "result = extract_username(email)\n",
    "print(result)"
   ]
  },
  {
   "cell_type": "raw",
   "id": "9393ea62-f298-44b4-8eda-54336be08019",
   "metadata": {},
   "source": [
    "Answer-32"
   ]
  },
  {
   "cell_type": "code",
   "execution_count": 4,
   "id": "d76b0f92-db55-47e1-a73c-90aeeb38595d",
   "metadata": {},
   "outputs": [
    {
     "name": "stdout",
     "output_type": "stream",
     "text": [
      "email.com\n"
     ]
    }
   ],
   "source": [
    "def extract_domain(email):\n",
    "    domain = email.split('@')[1]  # Split the email address at \"@\" and take the second part\n",
    "    return domain\n",
    "\n",
    "# Example email address\n",
    "email = \"example@email.com\"\n",
    "result = extract_domain(email)\n",
    "print(result)"
   ]
  },
  {
   "cell_type": "raw",
   "id": "bf899291-a240-4359-9d8c-e8b0a7bc207c",
   "metadata": {},
   "source": [
    "Answer-33"
   ]
  },
  {
   "cell_type": "code",
   "execution_count": 5,
   "id": "a3f7c39c-eea6-49f9-8bc8-d9750094859e",
   "metadata": {},
   "outputs": [
    {
     "name": "stdout",
     "output_type": "stream",
     "text": [
      "Hello world! How are you?\n"
     ]
    }
   ],
   "source": [
    "def replace_multiple_spaces(input_string):\n",
    "    cleaned_string = ' '.join(input_string.split())  # Split the string at spaces and then join using a single space\n",
    "    return cleaned_string\n",
    "\n",
    "# Example input string with multiple spaces\n",
    "input_string = \"Hello     world!   How   are   you?\"\n",
    "result = replace_multiple_spaces(input_string)\n",
    "print(result)"
   ]
  },
  {
   "cell_type": "raw",
   "id": "909bfcf0-83b1-486b-9036-ce19b47c1490",
   "metadata": {},
   "source": [
    "Answer-34"
   ]
  },
  {
   "cell_type": "code",
   "execution_count": 6,
   "id": "e6e410ce-79c2-49f9-8862-c451b21539f3",
   "metadata": {},
   "outputs": [
    {
     "name": "stdout",
     "output_type": "stream",
     "text": [
      "True\n",
      "False\n"
     ]
    }
   ],
   "source": [
    "from urllib.parse import urlparse\n",
    "\n",
    "def is_valid_url(url):\n",
    "    try:\n",
    "        result = urlparse(url)\n",
    "        return all([result.scheme, result.netloc])  # Check if both scheme and netloc are present\n",
    "    except ValueError:\n",
    "        return False\n",
    "\n",
    "# Example URLs\n",
    "url1 = \"https://www.example.com\"\n",
    "url2 = \"invalid-url\"\n",
    "result1 = is_valid_url(url1)\n",
    "result2 = is_valid_url(url2)\n",
    "print(result1)  # Should print True\n",
    "print(result2)  # Should print False"
   ]
  },
  {
   "cell_type": "raw",
   "id": "08605f2b-33a6-4321-aa5c-7227b94f44af",
   "metadata": {},
   "source": [
    "35. Extract the protocol (http or https) from a URL string.\n",
    "36. Find the frequency of each character in a string.\n",
    "37. Remove all punctuation from a string.\n",
    "38. Check if a string contains only digits.\n",
    "39. Check if a string contains only alphabets.\n",
    "40. Convert a string to a list of characters.\n",
    "41. Check if two strings are anagrams.\n",
    "42. Encode a string using a Caesar cipher.\n",
    "43. Decode a Caesar cipher encoded string.\n",
    "44. Find the most frequent word in a string."
   ]
  },
  {
   "cell_type": "raw",
   "id": "bc797a5b-300d-4632-abe5-fa2b7f3bfb24",
   "metadata": {},
   "source": [
    "Answer-35"
   ]
  },
  {
   "cell_type": "code",
   "execution_count": 7,
   "id": "6ec274ae-6c56-4e9f-9280-61f39fc8451c",
   "metadata": {},
   "outputs": [
    {
     "name": "stdout",
     "output_type": "stream",
     "text": [
      "Protocol 1: https\n",
      "Protocol 2: http\n",
      "Protocol 3: ftp\n"
     ]
    }
   ],
   "source": [
    "def extract_protocol(url):\n",
    "    # Find the index of the first occurrence of \"://\"\n",
    "    protocol_end = url.find(\"://\")\n",
    "\n",
    "    if protocol_end != -1:\n",
    "        # Extract the protocol from the URL\n",
    "        protocol = url[:protocol_end]\n",
    "        return protocol\n",
    "    else:\n",
    "        return None\n",
    "\n",
    "# Example URL strings\n",
    "url1 = \"https://www.example.com\"\n",
    "url2 = \"http://google.com\"\n",
    "url3 = \"ftp://ftp.example.com\"\n",
    "\n",
    "# Extract protocols\n",
    "protocol1 = extract_protocol(url1)\n",
    "protocol2 = extract_protocol(url2)\n",
    "protocol3 = extract_protocol(url3)\n",
    " #Print extracted protocols\n",
    "print(\"Protocol 1:\", protocol1)\n",
    "print(\"Protocol 2:\", protocol2)\n",
    "print(\"Protocol 3:\", protocol3)"
   ]
  },
  {
   "cell_type": "raw",
   "id": "2d834eb7-8d67-4203-ba17-2e6f5ed8c845",
   "metadata": {},
   "source": [
    "Answer-36"
   ]
  },
  {
   "cell_type": "code",
   "execution_count": 8,
   "id": "7c1809c2-6cf6-4207-9d89-fb384f2ab1c1",
   "metadata": {},
   "outputs": [
    {
     "name": "stdout",
     "output_type": "stream",
     "text": [
      "Character: 'h', Frequency: 1\n",
      "Character: 'e', Frequency: 1\n",
      "Character: 'l', Frequency: 3\n",
      "Character: 'o', Frequency: 2\n",
      "Character: ' ', Frequency: 1\n",
      "Character: 'w', Frequency: 1\n",
      "Character: 'r', Frequency: 1\n",
      "Character: 'd', Frequency: 1\n"
     ]
    }
   ],
   "source": [
    "def character_frequency(input_string):\n",
    "    frequency = {}  # Create an empty dictionary to store character frequencies\n",
    "\n",
    "    for char in input_string:\n",
    "        if char in frequency:\n",
    "            frequency[char] += 1  # Increment the frequency count if the character is already in the dictionary\n",
    "        else:\n",
    "            frequency[char] = 1   # Initialize the frequency count to 1 if the character is not in the dictionary\n",
    "\n",
    "    return frequency\n",
    "\n",
    "# Example string\n",
    "input_str = \"hello world\"\n",
    "\n",
    "# Calculate character frequencies\n",
    "char_freq = character_frequency(input_str)\n",
    "\n",
    "# Print character frequencies\n",
    "for char, freq in char_freq.items():\n",
    "    print(f\"Character: '{char}', Frequency: {freq}\")"
   ]
  },
  {
   "cell_type": "raw",
   "id": "df0a4077-09d0-4173-99ec-78ba5e7ca2e8",
   "metadata": {},
   "source": [
    "Answer-37"
   ]
  },
  {
   "cell_type": "code",
   "execution_count": 9,
   "id": "bb60c74f-52d0-461f-bfc6-28b134a90039",
   "metadata": {},
   "outputs": [
    {
     "name": "stdout",
     "output_type": "stream",
     "text": [
      "Original string: Hello, world! How's it going?\n",
      "Cleaned string: Hello world Hows it going\n"
     ]
    }
   ],
   "source": [
    "import string\n",
    "\n",
    "def remove_punctuation(input_string):\n",
    "    # Create a translation table to remove punctuation\n",
    "    translator = str.maketrans(\"\", \"\", string.punctuation)\n",
    "\n",
    "    # Use the translation table to remove punctuation from the input string\n",
    "    clean_string = input_string.translate(translator)\n",
    "\n",
    "    return clean_string\n",
    "\n",
    "# Example string with punctuation\n",
    "input_str = \"Hello, world! How's it going?\"\n",
    "\n",
    "# Remove punctuation\n",
    "cleaned_str = remove_punctuation(input_str)\n",
    "\n",
    "# Print the cleaned string\n",
    "print(\"Original string:\", input_str)\n",
    "print(\"Cleaned string:\", cleaned_str)"
   ]
  },
  {
   "cell_type": "raw",
   "id": "062d4e4c-055c-4865-b4a3-5ce99f61bf27",
   "metadata": {},
   "source": [
    "Answer-38"
   ]
  },
  {
   "cell_type": "code",
   "execution_count": 10,
   "id": "01dd6d83-fe14-49ca-92fb-d654750c00c6",
   "metadata": {},
   "outputs": [
    {
     "name": "stdout",
     "output_type": "stream",
     "text": [
      "'12345' contains only digits: True\n",
      "'Hello123' contains only digits: False\n",
      "'456.789' contains only digits: False\n"
     ]
    }
   ],
   "source": [
    "def contains_only_digits(input_string):\n",
    "    # Check if all characters in the string are digits\n",
    "    return input_string.isdigit()\n",
    "\n",
    "# Example strings\n",
    "string1 = \"12345\"\n",
    "string2 = \"Hello123\"\n",
    "string3 = \"456.789\"\n",
    "\n",
    "# Check if strings contain only digits\n",
    "result1 = contains_only_digits(string1)\n",
    "result2 = contains_only_digits(string2)\n",
    "result3 = contains_only_digits(string3)\n",
    "\n",
    "# Print the results\n",
    "print(f\"'{string1}' contains only digits:\", result1)\n",
    "print(f\"'{string2}' contains only digits:\", result2)\n",
    "print(f\"'{string3}' contains only digits:\", result3)"
   ]
  },
  {
   "cell_type": "raw",
   "id": "0e008c2f-7330-4116-998c-d9c4306cc35d",
   "metadata": {},
   "source": [
    "Answer-39"
   ]
  },
  {
   "cell_type": "code",
   "execution_count": 11,
   "id": "7927cad9-5f09-4e50-975e-1e1284858ea4",
   "metadata": {},
   "outputs": [
    {
     "name": "stdout",
     "output_type": "stream",
     "text": [
      "'Hello' contains only alphabets: True\n",
      "'Hello123' contains only alphabets: False\n",
      "'12345' contains only alphabets: False\n"
     ]
    }
   ],
   "source": [
    "def contains_only_alphabets(input_string):\n",
    "    # Check if all characters in the string are alphabetic\n",
    "    return input_string.isalpha()\n",
    "\n",
    "# Example strings\n",
    "string1 = \"Hello\"\n",
    "string2 = \"Hello123\"\n",
    "string3 = \"12345\"\n",
    "\n",
    "# Check if strings contain only alphabets\n",
    "result1 = contains_only_alphabets(string1)\n",
    "result2 = contains_only_alphabets(string2)\n",
    "result3 = contains_only_alphabets(string3)\n",
    "\n",
    "# Print the results\n",
    "print(f\"'{string1}' contains only alphabets:\", result1)\n",
    "print(f\"'{string2}' contains only alphabets:\", result2)\n",
    "print(f\"'{string3}' contains only alphabets:\", result3)"
   ]
  },
  {
   "cell_type": "raw",
   "id": "7972502f-adc8-4809-b038-e5ff1a11ce74",
   "metadata": {},
   "source": [
    "Answer-40"
   ]
  },
  {
   "cell_type": "code",
   "execution_count": 12,
   "id": "098443d9-f26b-448d-879f-9a5dc926793f",
   "metadata": {},
   "outputs": [
    {
     "name": "stdout",
     "output_type": "stream",
     "text": [
      "Original string: Hello, world!\n",
      "List of characters: ['H', 'e', 'l', 'l', 'o', ',', ' ', 'w', 'o', 'r', 'l', 'd', '!']\n"
     ]
    }
   ],
   "source": [
    "def string_to_list(input_string):\n",
    "    # Use list() constructor to convert the string to a list of characters\n",
    "    char_list = list(input_string)\n",
    "    return char_list\n",
    "\n",
    "# Example string\n",
    "input_str = \"Hello, world!\"\n",
    "\n",
    "# Convert the string to a list of characters\n",
    "char_list = string_to_list(input_str)\n",
    "\n",
    "# Print the list of characters\n",
    "print(\"Original string:\", input_str)\n",
    "print(\"List of characters:\", char_list)"
   ]
  },
  {
   "cell_type": "raw",
   "id": "09f6529a-b333-4fbd-83a4-e3647249e3a9",
   "metadata": {},
   "source": [
    "Answer-41"
   ]
  },
  {
   "cell_type": "code",
   "execution_count": 1,
   "id": "0fb4f4f4-ff94-477f-90e5-18354c8e469b",
   "metadata": {},
   "outputs": [
    {
     "name": "stdout",
     "output_type": "stream",
     "text": [
      "'listen' and 'silent' are anagrams: True\n",
      "'hello' and 'world' are anagrams: False\n"
     ]
    }
   ],
   "source": [
    "def are_anagrams(str1, str2):\n",
    "    # Remove spaces and convert strings to lowercase for accurate comparison\n",
    "    str1 = str1.replace(\" \", \"\").lower()\n",
    "    str2 = str2.replace(\" \", \"\").lower()\n",
    "\n",
    "    # Sort the characters in both strings and compare\n",
    "    return sorted(str1) == sorted(str2)\n",
    "\n",
    "# Example strings\n",
    "string1 = \"listen\"\n",
    "string2 = \"silent\"\n",
    "string3 = \"hello\"\n",
    "string4 = \"world\"\n",
    "\n",
    "# Check if strings are anagrams\n",
    "result1 = are_anagrams(string1, string2)\n",
    "result2 = are_anagrams(string3, string4)\n",
    "\n",
    "# Print the results\n",
    "print(f\"'{string1}' and '{string2}' are anagrams:\", result1)\n",
    "print(f\"'{string3}' and '{string4}' are anagrams:\", result2)"
   ]
  },
  {
   "cell_type": "raw",
   "id": "a6d5633c-6902-4feb-8dd6-24bda077f66a",
   "metadata": {},
   "source": [
    "Answer-42"
   ]
  },
  {
   "cell_type": "code",
   "execution_count": 2,
   "id": "397ba872-0e67-41f0-a57a-9aed6d6a7a2d",
   "metadata": {},
   "outputs": [
    {
     "name": "stdout",
     "output_type": "stream",
     "text": [
      "Encoded text: ehoor, zruog!\n"
     ]
    }
   ],
   "source": [
    "# Define a function named caesar_cipher that encodes a string using a Caesar cipher.\n",
    "def caesar_cipher(text, shift):\n",
    "  \"\"\"\n",
    "  Encodes a string using a Caesar cipher.\n",
    "\n",
    "  Args:\n",
    "    text: The string to encode.\n",
    "    shift: The number of positions to shift each letter.\n",
    "\n",
    "  Returns:\n",
    "    The encoded string.\n",
    "  \"\"\"\n",
    "\n",
    "  # Initialize an empty string to store the encoded text.\n",
    "  encoded_text = \"\"\n",
    "\n",
    "  # Iterate through each character in the input text.\n",
    "  for char in text:\n",
    "    # Check if the character is alphabetic.\n",
    "    if char.isalpha():\n",
    "        # Calculate the encoded character's Unicode code point value by shifting it by the specified amount.\n",
    "      # Ensure the value wraps around within the lowercase alphabet range (a-z).\n",
    "      encoded_char = chr((ord(char) + shift - ord('a')) % 26 + ord('a'))\n",
    "    else:\n",
    "      # Keep non-alphabetic characters unchanged.\n",
    "      encoded_char = char\n",
    "\n",
    "    # Add the encoded character to the encoded text.\n",
    "    encoded_text += encoded_char\n",
    "\n",
    "  # Return the resulting encoded text.\n",
    "  return encoded_text\n",
    "\n",
    "# Define the input text and the shift value for encoding.\n",
    "text = \"Hello, world!\"\n",
    "shift = 3\n",
    "\n",
    "# Call the caesar_cipher function to encode the text using the specified shift.\n",
    "encoded_text = caesar_cipher(text, shift)\n",
    "# Print the encoded text.\n",
    "print(\"Encoded text:\", encoded_text)"
   ]
  },
  {
   "cell_type": "raw",
   "id": "189ce2e4-4271-4e3a-9ca9-69fe142899cd",
   "metadata": {},
   "source": [
    "Answer-43"
   ]
  },
  {
   "cell_type": "code",
   "execution_count": 3,
   "id": "d205c19a-e72b-4b05-8118-f5894bdc2c9a",
   "metadata": {},
   "outputs": [
    {
     "name": "stdout",
     "output_type": "stream",
     "text": [
      "Decoded text: ilmm, world!\n"
     ]
    }
   ],
   "source": [
    "# Define a function to decode a string using a Caesar cipher\n",
    "def caesar_cipher_decoder(text, shift):\n",
    "    \"\"\"\n",
    "    Decodes a string using a Caesar cipher.\n",
    "\n",
    "    Args:\n",
    "        text: The string to decode.\n",
    "        shift: The number of positions to shift each letter.\n",
    "\n",
    "    Returns:\n",
    "        The decoded string.\n",
    "    \"\"\"\n",
    "\n",
    "    # Initialize an empty string to store the decoded text\n",
    "    decoded_text = \"\"\n",
    "\n",
    "    # Loop through each character in the input text\n",
    "    for char in text:\n",
    "        # Check if the character is an alphabetic character\n",
    "        if char.isalpha():\n",
    "            # Calculate the decoded character using the shift value\n",
    "            decoded_char = chr((ord(char) - shift - ord('a')) % 26 + ord('a'))\n",
    "        else:\n",
    "            # If the character is not alphabetic, keep it unchanged\n",
    "            decoded_char = char\n",
    "\n",
    "        # Add the decoded character to the decoded text\n",
    "        decoded_text += decoded_char\n",
    "\n",
    "    # Return the fully decoded text\n",
    "    return decoded_text\n",
    "\n",
    "# Example input\n",
    "text = \"lopp, zruog!\"\n",
    "shift = 3\n",
    "# Call the caesar_cipher_decoder function to decode the input text\n",
    "decoded_text = caesar_cipher_decoder(text, shift)\n",
    "\n",
    "# Print the decoded text\n",
    "print(\"Decoded text:\", decoded_text)"
   ]
  },
  {
   "cell_type": "raw",
   "id": "1922e7e1-e066-4a7f-b20c-8719a0530034",
   "metadata": {},
   "source": [
    "Answer-44"
   ]
  },
  {
   "cell_type": "code",
   "execution_count": 6,
   "id": "9e1160ff-4c84-4a4e-8759-0a7e39f8c7ee",
   "metadata": {},
   "outputs": [
    {
     "name": "stdout",
     "output_type": "stream",
     "text": [
      "Most frequent word: hello\n"
     ]
    }
   ],
   "source": [
    "import re\n",
    "from collections import Counter\n",
    "\n",
    "def most_frequent_word(input_string):\n",
    "    # Remove punctuation and convert to lowercase\n",
    "    clean_string = re.sub(r'[^\\w\\s]', '', input_string).lower()\n",
    "\n",
    "    # Split the string into words\n",
    "    words = clean_string.split()\n",
    "\n",
    "    # Use Counter to count word frequencies\n",
    "    word_counter = Counter(words)\n",
    "\n",
    "    # Find the most common word\n",
    "    most_common_word = word_counter.most_common(1)[0][0]\n",
    "    return most_common_word\n",
    "    \n",
    "# Example string\n",
    "input_str = \"Hello world, hello there! How's the world?\"\n",
    "\n",
    "# Find the most frequent word\n",
    "most_common = most_frequent_word(input_str)\n",
    "\n",
    "# Print the result\n",
    "print(\"Most frequent word:\", most_common)"
   ]
  },
  {
   "cell_type": "raw",
   "id": "fce18ea3-2cf3-457d-a6c4-beef5affd9e7",
   "metadata": {},
   "source": [
    "45. Find all unique words in a string.\n",
    "46. Count the number of syllables in a string.\n",
    "47. Check if a string contains any special characters.\n",
    "48. Remove the nth word from a string.\n",
    "49. Insert a word at the nth position in a string.\n",
    "50. Convert a CSV string to a list of lists."
   ]
  },
  {
   "cell_type": "raw",
   "id": "eec7ce60-c553-4181-a428-d8102e90790f",
   "metadata": {},
   "source": [
    "Answer-45"
   ]
  },
  {
   "cell_type": "code",
   "execution_count": 7,
   "id": "d7dd2c59-7a24-4a18-8cf9-376a9f7a8f89",
   "metadata": {},
   "outputs": [
    {
     "name": "stdout",
     "output_type": "stream",
     "text": [
      "Unique words: {'there', 'hello', 'the', 'world', 'hows'}\n"
     ]
    }
   ],
   "source": [
    "import re\n",
    "\n",
    "def unique_words(input_string):\n",
    "    # Remove punctuation and convert to lowercase\n",
    "    clean_string = re.sub(r'[^\\w\\s]', '', input_string).lower()\n",
    "\n",
    "    # Split the string into words and convert to a set for uniqueness\n",
    "    words = set(clean_string.split())\n",
    "\n",
    "    return words\n",
    "\n",
    "# Example string\n",
    "input_str = \"Hello world, hello there! How's the world?\"\n",
    "\n",
    "# Find unique words\n",
    "unique_word_set = unique_words(input_str)\n",
    "\n",
    "# Print the result\n",
    "print(\"Unique words:\", unique_word_set)"
   ]
  },
  {
   "cell_type": "raw",
   "id": "a5fa667d-181a-4af6-be04-995b11daff1c",
   "metadata": {},
   "source": [
    "Answer-46"
   ]
  },
  {
   "cell_type": "code",
   "execution_count": 9,
   "id": "5c701930-96bb-45c7-abca-32c6cdacb795",
   "metadata": {},
   "outputs": [
    {
     "name": "stdout",
     "output_type": "stream",
     "text": [
      "'hello' has 2 syllables.\n",
      "'banana' has 3 syllables.\n",
      "'syllable' has 3 syllables.\n"
     ]
    }
   ],
   "source": [
    "import re\n",
    "\n",
    "def count_syllables(word):\n",
    "    # Count vowel groups using regular expression\n",
    "    vowel_groups = re.findall(r'[aeiouy]+', word, re.IGNORECASE)\n",
    "\n",
    "    return len(vowel_groups)\n",
    "\n",
    "# Example words\n",
    "word1 = \"hello\"\n",
    "word2 = \"banana\"\n",
    "word3 = \"syllable\"\n",
    "\n",
    "# Count syllables\n",
    "syllables1 = count_syllables(word1)\n",
    "syllables2 = count_syllables(word2)\n",
    "syllables3 = count_syllables(word3)\n",
    "\n",
    "# Print the results\n",
    "print(f\"'{word1}' has {syllables1} syllables.\")\n",
    "print(f\"'{word2}' has {syllables2} syllables.\")\n",
    "print(f\"'{word3}' has {syllables3} syllables.\")"
   ]
  },
  {
   "cell_type": "raw",
   "id": "faa4b769-4d71-4605-9dcc-da1889b4fb3a",
   "metadata": {},
   "source": [
    "Answer-47"
   ]
  },
  {
   "cell_type": "code",
   "execution_count": 10,
   "id": "b1516b43-9559-492f-9a9f-67e4fca20a36",
   "metadata": {},
   "outputs": [
    {
     "name": "stdout",
     "output_type": "stream",
     "text": [
      "'Hello, world!' contains special characters: True\n",
      "'This is a test.' contains special characters: True\n",
      "'Special@Characters' contains special characters: True\n"
     ]
    }
   ],
   "source": [
    "import re\n",
    "\n",
    "def contains_special_characters(input_string):\n",
    "    # Define a regular expression pattern to match special characters\n",
    "    pattern = re.compile(r'[!@#$%^&*()_+{}\\[\\]:;<>,.?~\\\\/]')\n",
    "\n",
    "    # Use the search() method to find a match\n",
    "    match = pattern.search(input_string)\n",
    "\n",
    "    # Return True if a match is found, False otherwise\n",
    "    return bool(match)\n",
    "\n",
    "# Example strings\n",
    "string1 = \"Hello, world!\"\n",
    "string2 = \"This is a test.\"\n",
    "string3 = \"Special@Characters\"\n",
    "\n",
    "# Check if strings contain special characters\n",
    "result1 = contains_special_characters(string1)\n",
    "result2 = contains_special_characters(string2)\n",
    "result3 = contains_special_characters(string3)\n",
    "# Print the results\n",
    "print(f\"'{string1}' contains special characters:\", result1)\n",
    "print(f\"'{string2}' contains special characters:\", result2)\n",
    "print(f\"'{string3}' contains special characters:\", result3)"
   ]
  },
  {
   "cell_type": "raw",
   "id": "0c433dc1-2565-419b-b6e5-5c1b915c48ef",
   "metadata": {},
   "source": [
    "Answer-48"
   ]
  },
  {
   "cell_type": "code",
   "execution_count": 11,
   "id": "17ffba79-5621-477e-9639-781f54d5f15b",
   "metadata": {},
   "outputs": [
    {
     "name": "stdout",
     "output_type": "stream",
     "text": [
      "Original string: This is an example sentence to test the function.\n",
      "Modified string: This is an sentence to test the function.\n",
      "Removed word: example\n"
     ]
    }
   ],
   "source": [
    "def remove_nth_word(input_string, n):\n",
    "    # Split the input string into words\n",
    "    words = input_string.split()\n",
    "\n",
    "    # Check if n is within a valid range\n",
    "    if n >= 1 and n <= len(words):\n",
    "        # Remove the nth word by excluding it from the words list\n",
    "        removed_word = words.pop(n - 1)\n",
    "\n",
    "        # Join the remaining words to form the modified string\n",
    "        modified_string = ' '.join(words)\n",
    "\n",
    "        return modified_string, removed_word\n",
    "    else:\n",
    "        return None, None\n",
    "\n",
    "# Example string and n value\n",
    "input_str = \"This is an example sentence to test the function.\"\n",
    "n_value = 4\n",
    "# Remove the nth word\n",
    "modified_str, removed_word = remove_nth_word(input_str, n_value)\n",
    "\n",
    "# Print the results\n",
    "print(\"Original string:\", input_str)\n",
    "if modified_str is not None:\n",
    "    print(\"Modified string:\", modified_str)\n",
    "    print(\"Removed word:\", removed_word)\n",
    "else:\n",
    "    print(\"Invalid n value.\")"
   ]
  },
  {
   "cell_type": "raw",
   "id": "db818915-caca-4a89-adce-39c068fe8ab9",
   "metadata": {},
   "source": [
    "Answer-50"
   ]
  },
  {
   "cell_type": "code",
   "execution_count": 12,
   "id": "16781e16-b6a8-41b0-bd2f-640456263d60",
   "metadata": {},
   "outputs": [
    {
     "name": "stdout",
     "output_type": "stream",
     "text": [
      "['Name', ' Age', ' Country']\n",
      "['John', ' 25', ' USA']\n",
      "['Alice', ' 30', ' Canada']\n",
      "['Bob', ' 22', ' UK']\n"
     ]
    }
   ],
   "source": [
    "def csv_string_to_list(csv_string):\n",
    "    # Split the CSV string into lines\n",
    "    lines = csv_string.split('\\n')\n",
    "\n",
    "    # Initialize an empty list to store the result\n",
    "    result = []\n",
    "\n",
    "    for line in lines:\n",
    "        # Split each line into fields using comma as the delimiter\n",
    "        fields = line.split(',')\n",
    "\n",
    "        # Append the fields to the result list as a row\n",
    "        result.append(fields)\n",
    "\n",
    "    return result\n",
    "\n",
    "# Example CSV string\n",
    "csv_data = \"Name, Age, Country\\nJohn, 25, USA\\nAlice, 30, Canada\\nBob, 22, UK\"\n",
    "\n",
    "# Convert CSV string to a list of lists\n",
    "list_of_lists = csv_string_to_list(csv_data)\n",
    "# Print the result\n",
    "for row in list_of_lists:\n",
    "    print(row)"
   ]
  },
  {
   "cell_type": "markdown",
   "id": "6a291699-e882-4717-b4f2-7e10b7d2a57c",
   "metadata": {},
   "source": [
    "List Based Questions "
   ]
  },
  {
   "cell_type": "raw",
   "id": "a7e1e59c-f378-41ed-8668-0d70b8a003de",
   "metadata": {},
   "source": [
    "1. Create a list with integers from 1 to 10.\n",
    "2. Find the length of a list without using the `len()` function.\n",
    "3. Append an element to the end of a list.\n",
    "4. Insert an element at a specific index in a list.\n",
    "5. Remove an element from a list by its value.\n",
    "6. Remove an element from a list by its index.\n",
    "7. Check if an element exists in a list.\n",
    "8. Find the index of the first occurrence of an element in a list.\n",
    "9. Count the occurrences of an element in a list.\n",
    "10. Reverse the order of elements in a list.\n",
    "11. Sort a list in ascending order.\n",
    "12. Sort a list in descending order.\n",
    "13. Create a list of even numbers from 1 to 20.\n",
    "14. Create a list of odd numbers from 1 to 20.\n",
    "15. Find the sum of all elements in a list.\n",
    "16. Find the maximum value in a list.\n",
    "17. Find the minimum value in a list.\n",
    "18. Create a list of squares of numbers from 1 to 10.\n",
    "19. Create a list of random numbers.\n",
    "20. Remove duplicates from a list."
   ]
  },
  {
   "cell_type": "raw",
   "id": "547a9da0-58bc-48e8-8f72-4d3d904bca7e",
   "metadata": {},
   "source": [
    "Answer-1"
   ]
  },
  {
   "cell_type": "code",
   "execution_count": 14,
   "id": "53b1fa11-5ac5-4bf7-afc5-c6785a8efb11",
   "metadata": {},
   "outputs": [
    {
     "name": "stdout",
     "output_type": "stream",
     "text": [
      "[1, 2, 3, 4, 5, 6, 7, 8, 9, 10]\n"
     ]
    }
   ],
   "source": [
    "a=list(range(1,11))\n",
    "print(a)"
   ]
  },
  {
   "cell_type": "raw",
   "id": "0ad719e9-5749-4948-bd32-af4568ffa1d4",
   "metadata": {},
   "source": [
    "Answer-2"
   ]
  },
  {
   "cell_type": "code",
   "execution_count": 15,
   "id": "e14891ae-bd86-4477-9754-b18715e245b9",
   "metadata": {},
   "outputs": [
    {
     "name": "stdout",
     "output_type": "stream",
     "text": [
      "Length of the list: 5\n"
     ]
    }
   ],
   "source": [
    "def custom_len(input_list):\n",
    "    count = 0\n",
    "    for _ in input_list:\n",
    "        count += 1\n",
    "    return count\n",
    "\n",
    "# Example list\n",
    "my_list = [10, 20, 30, 40, 50]\n",
    "\n",
    "# Find the length of the list using the custom_len function\n",
    "length = custom_len(my_list)\n",
    "\n",
    "# Print the length of the list\n",
    "print(\"Length of the list:\", length)"
   ]
  },
  {
   "cell_type": "raw",
   "id": "b395dbec-a872-4a5b-bcdc-618a3b5e53b2",
   "metadata": {},
   "source": [
    "Answer-3"
   ]
  },
  {
   "cell_type": "code",
   "execution_count": 16,
   "id": "221072b7-392b-4b2f-8454-6d22f5d42097",
   "metadata": {},
   "outputs": [],
   "source": [
    "a.append(20)"
   ]
  },
  {
   "cell_type": "code",
   "execution_count": 17,
   "id": "7ca48879-849f-409c-bc68-ad9250db3278",
   "metadata": {},
   "outputs": [
    {
     "data": {
      "text/plain": [
       "[1, 2, 3, 4, 5, 6, 7, 8, 9, 10, 20]"
      ]
     },
     "execution_count": 17,
     "metadata": {},
     "output_type": "execute_result"
    }
   ],
   "source": [
    "a"
   ]
  },
  {
   "cell_type": "raw",
   "id": "28024208-eb05-4f92-bda9-ec4f46bf3e5a",
   "metadata": {},
   "source": [
    "Answer-4"
   ]
  },
  {
   "cell_type": "code",
   "execution_count": 18,
   "id": "68f18401-8230-458e-a1f0-130e7890d818",
   "metadata": {},
   "outputs": [
    {
     "data": {
      "text/plain": [
       "[1, 2, 3, 4, 5, 67, 6, 7, 8, 9, 10, 20]"
      ]
     },
     "execution_count": 18,
     "metadata": {},
     "output_type": "execute_result"
    }
   ],
   "source": [
    "a.insert(5,67)\n",
    "a"
   ]
  },
  {
   "cell_type": "raw",
   "id": "da4b48cc-b93d-46e6-a501-295b55771fc3",
   "metadata": {},
   "source": [
    "Answer-5"
   ]
  },
  {
   "cell_type": "code",
   "execution_count": 21,
   "id": "c5976e33-a9b8-4651-9302-705bb0c75d6e",
   "metadata": {},
   "outputs": [
    {
     "data": {
      "text/plain": [
       "[1, 2, 3, 4, 6, 7, 8, 9, 10, 20]"
      ]
     },
     "execution_count": 21,
     "metadata": {},
     "output_type": "execute_result"
    }
   ],
   "source": [
    "a.remove(67)\n",
    "a"
   ]
  },
  {
   "cell_type": "raw",
   "id": "f644edf6-75b6-4864-a41f-4360956cfe6e",
   "metadata": {},
   "source": [
    "Answer-6"
   ]
  },
  {
   "cell_type": "code",
   "execution_count": 22,
   "id": "fcb2f362-bc3e-477a-9573-ab211f4fc3be",
   "metadata": {},
   "outputs": [
    {
     "data": {
      "text/plain": [
       "[1, 3, 4, 6, 7, 8, 9, 10, 20]"
      ]
     },
     "execution_count": 22,
     "metadata": {},
     "output_type": "execute_result"
    }
   ],
   "source": [
    "a.pop(1)\n",
    "a"
   ]
  },
  {
   "cell_type": "raw",
   "id": "77474ff8-6cbe-43b8-860d-54826f818a19",
   "metadata": {},
   "source": [
    "Answer-7"
   ]
  },
  {
   "cell_type": "code",
   "execution_count": 23,
   "id": "d2d6a8f7-805a-453d-b04f-435740e07fce",
   "metadata": {},
   "outputs": [
    {
     "name": "stdout",
     "output_type": "stream",
     "text": [
      "30 exists in the list.\n"
     ]
    }
   ],
   "source": [
    "my_list = [10, 20, 30, 40, 50]\n",
    "\n",
    "# Element to check\n",
    "element_to_check = 30\n",
    "\n",
    "# Check if the element exists in the list\n",
    "if element_to_check in my_list:\n",
    "    print(f\"{element_to_check} exists in the list.\")\n",
    "else:\n",
    "    print(f\"{element_to_check} does not exist in the list.\")"
   ]
  },
  {
   "cell_type": "raw",
   "id": "017ac965-03c4-401c-b92f-6bca83b12fb6",
   "metadata": {},
   "source": [
    "Answer-8"
   ]
  },
  {
   "cell_type": "code",
   "execution_count": 24,
   "id": "bc6cc583-f9a6-45c8-8cae-9d8c8e68bb57",
   "metadata": {},
   "outputs": [
    {
     "data": {
      "text/plain": [
       "7"
      ]
     },
     "execution_count": 24,
     "metadata": {},
     "output_type": "execute_result"
    }
   ],
   "source": [
    "a.index(10)"
   ]
  },
  {
   "cell_type": "raw",
   "id": "412b7573-2385-4c6c-965a-a5d10e104438",
   "metadata": {},
   "source": [
    "Answer-9"
   ]
  },
  {
   "cell_type": "code",
   "execution_count": 25,
   "id": "101b5171-25f6-42ed-9913-6d9c5486dc03",
   "metadata": {},
   "outputs": [
    {
     "data": {
      "text/plain": [
       "1"
      ]
     },
     "execution_count": 25,
     "metadata": {},
     "output_type": "execute_result"
    }
   ],
   "source": [
    "a.count(10)"
   ]
  },
  {
   "cell_type": "raw",
   "id": "732528e2-0d1f-4aa0-87e9-55765e2257fb",
   "metadata": {},
   "source": [
    "Answer-10"
   ]
  },
  {
   "cell_type": "code",
   "execution_count": 28,
   "id": "bfe9974a-316e-479a-9499-617102dcd106",
   "metadata": {},
   "outputs": [
    {
     "data": {
      "text/plain": [
       "[20, 10, 9, 8, 7, 6, 4, 3, 1]"
      ]
     },
     "execution_count": 28,
     "metadata": {},
     "output_type": "execute_result"
    }
   ],
   "source": [
    "a.reverse()\n",
    "a"
   ]
  },
  {
   "cell_type": "raw",
   "id": "d7537f3e-dc01-469c-b1fb-ed6ee6a5607b",
   "metadata": {},
   "source": [
    "Answer-11"
   ]
  },
  {
   "cell_type": "code",
   "execution_count": 29,
   "id": "91aba871-5984-4904-a814-539beed97b41",
   "metadata": {},
   "outputs": [
    {
     "data": {
      "text/plain": [
       "[10, 20, 30, 40, 50]"
      ]
     },
     "execution_count": 29,
     "metadata": {},
     "output_type": "execute_result"
    }
   ],
   "source": [
    "my_list.sort()\n",
    "my_list"
   ]
  },
  {
   "cell_type": "raw",
   "id": "238a25eb-add7-448a-85f7-463f229a941d",
   "metadata": {},
   "source": [
    "Answer-12"
   ]
  },
  {
   "cell_type": "code",
   "execution_count": 30,
   "id": "dc081f7f-4061-42c6-99cc-2477d6907508",
   "metadata": {},
   "outputs": [
    {
     "data": {
      "text/plain": [
       "[50, 40, 30, 20, 10]"
      ]
     },
     "execution_count": 30,
     "metadata": {},
     "output_type": "execute_result"
    }
   ],
   "source": [
    "my_list.sort(reverse=True)\n",
    "my_list"
   ]
  },
  {
   "cell_type": "raw",
   "id": "d2f1998e-70dd-4270-a501-c4bc46fed9d5",
   "metadata": {},
   "source": [
    "Answer-13"
   ]
  },
  {
   "cell_type": "code",
   "execution_count": 32,
   "id": "0f6fabb1-219d-4d67-8061-aa096b58b54f",
   "metadata": {},
   "outputs": [
    {
     "data": {
      "text/plain": [
       "[2, 4, 6, 8, 10, 12, 14, 16, 18, 20]"
      ]
     },
     "execution_count": 32,
     "metadata": {},
     "output_type": "execute_result"
    }
   ],
   "source": [
    "b=list(range(2,22,2))\n",
    "b"
   ]
  },
  {
   "cell_type": "raw",
   "id": "542c9346-5e29-4dad-b2c0-220715e47d1e",
   "metadata": {},
   "source": [
    "Answer-14"
   ]
  },
  {
   "cell_type": "code",
   "execution_count": 33,
   "id": "2edd68ab-4e62-4299-89a9-9b14163a1ba6",
   "metadata": {},
   "outputs": [
    {
     "data": {
      "text/plain": [
       "[1, 3, 5, 7, 9, 11, 13, 15, 17, 19]"
      ]
     },
     "execution_count": 33,
     "metadata": {},
     "output_type": "execute_result"
    }
   ],
   "source": [
    "c=list(range(1,20,2))\n",
    "c"
   ]
  },
  {
   "cell_type": "raw",
   "id": "982fa0b9-c162-4d82-9d4e-76c67bfc741c",
   "metadata": {},
   "source": [
    "Answer-15"
   ]
  },
  {
   "cell_type": "code",
   "execution_count": 34,
   "id": "9470d880-4631-41e8-92dd-dae398f76c5d",
   "metadata": {},
   "outputs": [
    {
     "data": {
      "text/plain": [
       "100"
      ]
     },
     "execution_count": 34,
     "metadata": {},
     "output_type": "execute_result"
    }
   ],
   "source": [
    "d=sum(c)\n",
    "d"
   ]
  },
  {
   "cell_type": "raw",
   "id": "f8943d1e-2345-4c05-905d-08b49c79f4eb",
   "metadata": {},
   "source": [
    "Answer-16"
   ]
  },
  {
   "cell_type": "code",
   "execution_count": 35,
   "id": "52679b0e-0278-49c4-beed-0e3e709fdbe8",
   "metadata": {},
   "outputs": [
    {
     "data": {
      "text/plain": [
       "19"
      ]
     },
     "execution_count": 35,
     "metadata": {},
     "output_type": "execute_result"
    }
   ],
   "source": [
    "e=max(c)\n",
    "e"
   ]
  },
  {
   "cell_type": "raw",
   "id": "56f49346-93ef-4092-89e1-bfe4552cb086",
   "metadata": {},
   "source": [
    "Answer-17"
   ]
  },
  {
   "cell_type": "code",
   "execution_count": 36,
   "id": "6d98cbbd-fe6e-49a6-853e-c0350bf46355",
   "metadata": {},
   "outputs": [
    {
     "data": {
      "text/plain": [
       "1"
      ]
     },
     "execution_count": 36,
     "metadata": {},
     "output_type": "execute_result"
    }
   ],
   "source": [
    "f=min(c)\n",
    "f"
   ]
  },
  {
   "cell_type": "raw",
   "id": "b5a3a63e-c5af-4ff0-92c1-4fd17162d430",
   "metadata": {},
   "source": [
    "Answer-18"
   ]
  },
  {
   "cell_type": "code",
   "execution_count": 37,
   "id": "f7b3a774-59f5-4428-9315-75c234b92cda",
   "metadata": {},
   "outputs": [
    {
     "name": "stdout",
     "output_type": "stream",
     "text": [
      "List of squares: [1, 4, 9, 16, 25, 36, 49, 64, 81, 100]\n"
     ]
    }
   ],
   "source": [
    "# Use a list comprehension to create a list of squares of numbers from 1 to 10\n",
    "squares = [x ** 2 for x in range(1, 11)]\n",
    "\n",
    "# Print the list of squares\n",
    "print(\"List of squares:\", squares)"
   ]
  },
  {
   "cell_type": "raw",
   "id": "66c8f906-305b-4607-ba13-2485a24f1912",
   "metadata": {},
   "source": [
    "Answer-19"
   ]
  },
  {
   "cell_type": "code",
   "execution_count": 38,
   "id": "14e26816-80bb-4def-a93c-2514dd0e88be",
   "metadata": {},
   "outputs": [
    {
     "name": "stdout",
     "output_type": "stream",
     "text": [
      "List of random integers: [44, 40, 49, 84, 42, 57, 72, 28, 47, 7]\n"
     ]
    }
   ],
   "source": [
    "import random\n",
    "\n",
    "# Create a list of random integers between 1 and 100\n",
    "random_integers = [random.randint(1, 100) for _ in range(10)]\n",
    "\n",
    "# Print the list of random integers\n",
    "print(\"List of random integers:\", random_integers)"
   ]
  },
  {
   "cell_type": "raw",
   "id": "c1b001ed-9ed7-4140-a7d1-97e1bdb1da72",
   "metadata": {},
   "source": [
    "Answer-20"
   ]
  },
  {
   "cell_type": "code",
   "execution_count": 39,
   "id": "eab1b763-1da1-43c9-800d-33c37de5da21",
   "metadata": {},
   "outputs": [
    {
     "name": "stdout",
     "output_type": "stream",
     "text": [
      "List without duplicates: [40, 10, 50, 20, 30]\n"
     ]
    }
   ],
   "source": [
    "# Example list with duplicates\n",
    "my_list = [10, 20, 30, 20, 40, 10, 50, 30]\n",
    "\n",
    "# Remove duplicates by converting to a set and back to a list\n",
    "unique_list = list(set(my_list))\n",
    "\n",
    "# Print the list without duplicates\n",
    "print(\"List without duplicates:\", unique_list)"
   ]
  },
  {
   "cell_type": "raw",
   "id": "296853db-b2c2-4556-b808-f0c5f0aaf761",
   "metadata": {},
   "source": [
    "21. Find the common elements between two lists.\n",
    "22. Find the difference between two lists.\n",
    "23. Merge two lists.\n",
    "24. Multiply all elements in a list by 2.\n",
    "25. Filter out all even numbers from a list.\n",
    "26. Convert a list of strings to a list of integers.\n",
    "27. Convert a list of integers to a list of strings.\n",
    "28. Flatten a nested list.\n",
    "29. Create a list of the first 10 Fibonacci numbers.\n",
    "30. Check if a list is sorted.\n",
    "31. Rotate a list to the left by `n` positions.\n",
    "32. Rotate a list to the right by `n` positions.\n",
    "33. Create a list of prime numbers up to 50.\n",
    "34. Split a list into chunks of size `n`.\n",
    "35. Find the second largest number in a list.\n",
    "36. Replace every element in a list with its square.\n",
    "37. Convert a list to a dictionary where list elements become keys and their indices become values.\n",
    "38. Shuffle the elements of a list randomly.\n",
    "39. Create a list of the first 10 factorial numbers.\n",
    "40. Check if two lists have at least one element in common."
   ]
  },
  {
   "cell_type": "raw",
   "id": "d2cd189a-bb74-4d73-9df9-f730c5de64bd",
   "metadata": {},
   "source": [
    "Answer-21"
   ]
  },
  {
   "cell_type": "code",
   "execution_count": 40,
   "id": "18c78c1f-0de3-4b39-a744-5426f3cbda0b",
   "metadata": {},
   "outputs": [
    {
     "name": "stdout",
     "output_type": "stream",
     "text": [
      "The common elements in the two lists are: \n",
      "[5]\n"
     ]
    }
   ],
   "source": [
    "def common_member(a, b):\n",
    "    result = [i for i in a if i in b]\n",
    "    return result\n",
    " \n",
    "a = [1, 2, 3, 4, 5]\n",
    "b = [5, 6, 7, 8, 9]\n",
    " \n",
    "print(\"The common elements in the two lists are: \")\n",
    "print(common_member(a, b))"
   ]
  },
  {
   "cell_type": "raw",
   "id": "7fa23c1e-54bb-40f4-bd4d-07bff8f498c6",
   "metadata": {},
   "source": [
    "Answer-22"
   ]
  },
  {
   "cell_type": "code",
   "execution_count": 41,
   "id": "4e137e27-a912-4eee-8aa8-f19dcb082875",
   "metadata": {},
   "outputs": [
    {
     "name": "stdout",
     "output_type": "stream",
     "text": [
      "Difference between lists: [20, 10]\n"
     ]
    }
   ],
   "source": [
    "list1 = [10, 20, 30, 40, 50]\n",
    "list2 = [30, 40, 50, 60, 70]\n",
    "\n",
    "# Find the difference between lists using the difference() method\n",
    "difference = list(set(list1).difference(list2))\n",
    "\n",
    "# Print the difference\n",
    "print(\"Difference between lists:\", difference)"
   ]
  },
  {
   "cell_type": "raw",
   "id": "30ff500c-f40e-4d57-8094-7a563053b771",
   "metadata": {},
   "source": [
    "Answer-23"
   ]
  },
  {
   "cell_type": "code",
   "execution_count": 42,
   "id": "e06851d8-0f21-470d-b9e9-cd4449f8fd1a",
   "metadata": {},
   "outputs": [
    {
     "name": "stdout",
     "output_type": "stream",
     "text": [
      "Merged list: [10, 20, 30, 40, 50, 30, 40, 50, 60, 70]\n"
     ]
    }
   ],
   "source": [
    "merged_list = list1 + list2\n",
    "\n",
    "# Print the merged list\n",
    "print(\"Merged list:\", merged_list)"
   ]
  },
  {
   "cell_type": "raw",
   "id": "fce3ad9a-37e8-45ae-a5ba-af84078347a6",
   "metadata": {},
   "source": [
    "Answer-24"
   ]
  },
  {
   "cell_type": "code",
   "execution_count": 43,
   "id": "58327196-7178-4fb0-b1a7-f496fed02b07",
   "metadata": {},
   "outputs": [
    {
     "name": "stdout",
     "output_type": "stream",
     "text": [
      "Multiplied list: [20, 40, 60, 40, 80, 20, 100, 60]\n"
     ]
    }
   ],
   "source": [
    "multiplied_list = [x * 2 for x in my_list]\n",
    "\n",
    "# Print the multiplied list\n",
    "print(\"Multiplied list:\", multiplied_list)"
   ]
  },
  {
   "cell_type": "raw",
   "id": "d7c56b94-4c89-458e-87ea-fb8ca031a33f",
   "metadata": {},
   "source": [
    "Answer-25"
   ]
  },
  {
   "cell_type": "code",
   "execution_count": 45,
   "id": "f76ff992-6a75-4f1d-a0a4-90051db0b6aa",
   "metadata": {},
   "outputs": [
    {
     "name": "stdout",
     "output_type": "stream",
     "text": [
      "[2, 4]\n"
     ]
    }
   ],
   "source": [
    "# Initialisation of list\n",
    "lis = [1, 2, 3, 4, 5]\n",
    " \n",
    "lis2 = [i for i in lis if i % 2 == 0]\n",
    " \n",
    "# Printing output\n",
    "print(lis2)"
   ]
  },
  {
   "cell_type": "raw",
   "id": "aef993d4-fe4b-4038-a16e-e06c57ccd4b4",
   "metadata": {},
   "source": [
    "Answer-26"
   ]
  },
  {
   "cell_type": "code",
   "execution_count": 44,
   "id": "42585fbf-44df-44bb-a7df-c01ad2e3fd40",
   "metadata": {},
   "outputs": [
    {
     "name": "stdout",
     "output_type": "stream",
     "text": [
      "List of integers: [10, 20, 30, 40, 50]\n"
     ]
    }
   ],
   "source": [
    "string_list = [\"10\", \"20\", \"30\", \"40\", \"50\"]\n",
    "\n",
    "# Convert list of strings to list of integers using a list comprehension\n",
    "integer_list = [int(x) for x in string_list]\n",
    "\n",
    "# Print the list of integers\n",
    "print(\"List of integers:\", integer_list)"
   ]
  },
  {
   "cell_type": "raw",
   "id": "db275230-67cf-4ff1-a9b8-51598976ec6f",
   "metadata": {},
   "source": [
    "Answer-27"
   ]
  },
  {
   "cell_type": "code",
   "execution_count": 46,
   "id": "f0805b94-d1cc-4fd5-98d3-dc7a23a0d06c",
   "metadata": {},
   "outputs": [
    {
     "name": "stdout",
     "output_type": "stream",
     "text": [
      "List of strings: ['10', '20', '30', '40', '50']\n"
     ]
    }
   ],
   "source": [
    "integer_list = [10, 20, 30, 40, 50]\n",
    "\n",
    "# Convert list of integers to list of strings using a list comprehension\n",
    "string_list = [str(x) for x in integer_list]\n",
    "\n",
    "# Print the list of strings\n",
    "print(\"List of strings:\", string_list)"
   ]
  },
  {
   "cell_type": "raw",
   "id": "d16bac7a-89d6-4796-a713-0d0c7b076136",
   "metadata": {},
   "source": [
    "Answer-28"
   ]
  },
  {
   "cell_type": "code",
   "execution_count": 47,
   "id": "1f9b4164-0a04-4350-ae66-0cb8c1dd93b6",
   "metadata": {},
   "outputs": [
    {
     "name": "stdout",
     "output_type": "stream",
     "text": [
      "Flattened list: [1, 2, 3, 4, 5, 6, 7, 8, 9]\n"
     ]
    }
   ],
   "source": [
    "# Example nested list\n",
    "nested_list = [[1, 2, 3], [4, 5], [6, 7, 8, 9]]\n",
    "\n",
    "# Function to flatten a nested list\n",
    "def flatten_list(nested):\n",
    "    flattened = []\n",
    "    for sublist in nested:\n",
    "        if isinstance(sublist, list):\n",
    "            flattened.extend(flatten_list(sublist))\n",
    "        else:\n",
    "            flattened.append(sublist)\n",
    "    return flattened\n",
    "\n",
    "# Flatten the nested list\n",
    "flattened_list = flatten_list(nested_list)\n",
    "\n",
    "# Print the flattened list\n",
    "print(\"Flattened list:\", flattened_list)"
   ]
  },
  {
   "cell_type": "raw",
   "id": "39a26f3c-2b51-4590-97f5-0f181481c23a",
   "metadata": {},
   "source": [
    "Answer-29"
   ]
  },
  {
   "cell_type": "code",
   "execution_count": 48,
   "id": "4f15a27a-f5f1-4eba-bd54-fa30116f8871",
   "metadata": {},
   "outputs": [
    {
     "name": "stdout",
     "output_type": "stream",
     "text": [
      "First 10 Fibonacci numbers: [0, 1]\n"
     ]
    }
   ],
   "source": [
    "# Function to generate the first n Fibonacci numbers\n",
    "def generate_fibonacci(n):\n",
    "    fibonacci_list = [0, 1]  # Initialize the list with the first two Fibonacci numbers\n",
    "\n",
    "    for i in range(2, n):\n",
    "        next_fibonacci = fibonacci_list[i - 1] + fibonacci_list[i - 2]\n",
    "        fibonacci_list.append(next_fibonacci)\n",
    "\n",
    "    return fibonacci_list\n",
    "\n",
    "# Generate the first 10 Fibonacci numbers\n",
    "fibonacci_numbers = generate_fibonacci(2)\n",
    "\n",
    "# Print the list of Fibonacci numbers\n",
    "print(\"First 10 Fibonacci numbers:\", fibonacci_numbers)"
   ]
  },
  {
   "cell_type": "raw",
   "id": "6c696527-80d5-4176-9442-99ee6a4ff736",
   "metadata": {},
   "source": [
    "Answer-30"
   ]
  },
  {
   "cell_type": "code",
   "execution_count": 49,
   "id": "3d539718-f110-4f1e-bafb-338633972daa",
   "metadata": {},
   "outputs": [
    {
     "name": "stdout",
     "output_type": "stream",
     "text": [
      "The list is sorted in ascending order.\n"
     ]
    }
   ],
   "source": [
    "# Function to check if a list is sorted in ascending order\n",
    "def is_sorted_ascending(lst):\n",
    "    for i in range(1, len(lst)):\n",
    "        if lst[i] < lst[i - 1]:\n",
    "            return False\n",
    "    return True\n",
    "\n",
    "# Example list\n",
    "ascending_list = [10, 20, 30, 40, 50]\n",
    "\n",
    "# Check if the list is sorted in ascending order\n",
    "if is_sorted_ascending(ascending_list):\n",
    "    print(\"The list is sorted in ascending order.\")\n",
    "else:\n",
    "    print(\"The list is not sorted in ascending order.\")"
   ]
  },
  {
   "cell_type": "raw",
   "id": "5203823f-ab46-43a2-934a-4237f2c2ff6a",
   "metadata": {},
   "source": [
    "Answer-31"
   ]
  },
  {
   "cell_type": "code",
   "execution_count": 50,
   "id": "d7d32ab8-8a8c-45e3-9c11-94f173b6b1b0",
   "metadata": {},
   "outputs": [
    {
     "name": "stdout",
     "output_type": "stream",
     "text": [
      "Rotated list: [3, 4, 5, 6, 1, 2]\n"
     ]
    }
   ],
   "source": [
    "# Function to rotate a list to the left by n positions\n",
    "def rotate_left(lst, n):\n",
    "    n = n % len(lst)  # Normalize n to handle cases where n is larger than the list length\n",
    "    # print(n)\n",
    "    rotated = lst[n:] + lst[:n]\n",
    "    return rotated\n",
    "\n",
    "# Example list\n",
    "my_list = [1, 2, 3, 4, 5, 6]\n",
    "\n",
    "# Number of positions to rotate by\n",
    "n = 2\n",
    "\n",
    "# Rotate the list to the left by n positions\n",
    "rotated_list = rotate_left(my_list, n)\n",
    "\n",
    "# Print the rotated list\n",
    "print(\"Rotated list:\", rotated_list)"
   ]
  },
  {
   "cell_type": "raw",
   "id": "a54e5e26-9231-4b30-b99a-823a00a89c0f",
   "metadata": {},
   "source": [
    "Answer-32"
   ]
  },
  {
   "cell_type": "code",
   "execution_count": 51,
   "id": "4e878290-aea1-46a3-bad6-deafbd4dde59",
   "metadata": {},
   "outputs": [
    {
     "name": "stdout",
     "output_type": "stream",
     "text": [
      "Rotated list: [5, 6, 1, 2, 3, 4]\n"
     ]
    }
   ],
   "source": [
    "# Function to rotate a list to the right by n positions\n",
    "def rotate_right(lst, n):\n",
    "    n = n % len(lst)  # Normalize n to handle cases where n is larger than the list length\n",
    "    # print(n)\n",
    "    rotated = lst[-n:] + lst[:-n]\n",
    "    return rotated\n",
    "\n",
    "# Example list\n",
    "my_list = [1, 2, 3, 4, 5, 6]\n",
    "\n",
    "# Number of positions to rotate by\n",
    "n = 2\n",
    "\n",
    "# Rotate the list to the right by n positions\n",
    "rotated_list = rotate_right(my_list, n)\n",
    "\n",
    "# Print the rotated list\n",
    "print(\"Rotated list:\", rotated_list)"
   ]
  },
  {
   "cell_type": "raw",
   "id": "a6c9d96e-5abd-45e4-9ba7-d31e54f787c8",
   "metadata": {},
   "source": [
    "Answer-33"
   ]
  },
  {
   "cell_type": "code",
   "execution_count": 52,
   "id": "5d765f77-a3ac-43a8-8854-aeb36dd52d1b",
   "metadata": {},
   "outputs": [
    {
     "name": "stdout",
     "output_type": "stream",
     "text": [
      "5 25\n",
      "5 29\n",
      "List of prime numbers up to 50: [2, 3, 5, 7, 11, 13, 17, 19, 23, 29]\n"
     ]
    }
   ],
   "source": [
    "# Function to check if a number is prime\n",
    "def is_prime(num):\n",
    "    if num <= 1:\n",
    "        return False\n",
    "    if num <= 3:\n",
    "        return True\n",
    "    if num % 2 == 0 or num % 3 == 0:\n",
    "        return False\n",
    "    i = 5\n",
    "    while i * i <= num:\n",
    "      print(i,num)\n",
    "      if num % i == 0 or num % (i + 2) == 0:\n",
    "          return False\n",
    "      i += 6\n",
    "    return True\n",
    "\n",
    "# Create a list of prime numbers up to 50\n",
    "prime_numbers = [num for num in range(2,30) if is_prime(num)]\n",
    "\n",
    "# Print the list of prime numbers\n",
    "print(\"List of prime numbers up to 50:\", prime_numbers)"
   ]
  },
  {
   "cell_type": "raw",
   "id": "421dc671-862b-4b6f-a2a6-4744be9d9dae",
   "metadata": {},
   "source": [
    "Answer-34"
   ]
  },
  {
   "cell_type": "code",
   "execution_count": 53,
   "id": "5e365315-67ce-49a3-9189-aca84128df96",
   "metadata": {},
   "outputs": [
    {
     "name": "stdout",
     "output_type": "stream",
     "text": [
      "List of prime numbers up to 50: [2, 3, 5, 7, 11, 13, 17, 19, 23, 29, 31, 37, 41, 43, 47]\n"
     ]
    }
   ],
   "source": [
    "# Create a list of prime numbers up to 50 using Sieve of Eratosthenes algorithm\n",
    "def sieve_of_eratosthenes(limit):\n",
    "    primes = []\n",
    "    is_prime = [True] * (limit + 1)\n",
    "    is_prime[0] = is_prime[1] = False\n",
    "\n",
    "    for num in range(2, int(limit ** 0.5) + 1):\n",
    "        if is_prime[num]:\n",
    "            primes.append(num)\n",
    "            for multiple in range(num * num, limit + 1, num):\n",
    "                is_prime[multiple] = False\n",
    "\n",
    "    for num in range(int(limit ** 0.5) + 1, limit + 1):\n",
    "        if is_prime[num]:\n",
    "            primes.append(num)\n",
    "\n",
    "    return primes\n",
    "\n",
    "# Create a list of prime numbers up to 50\n",
    "prime_numbers = sieve_of_eratosthenes(50)\n",
    "\n",
    "# Print the list of prime numbers\n",
    "print(\"List of prime numbers up to 50:\", prime_numbers)"
   ]
  },
  {
   "cell_type": "raw",
   "id": "80eec28b-fc47-4fed-9777-5b6f23e857cd",
   "metadata": {},
   "source": [
    "Answer-35"
   ]
  },
  {
   "cell_type": "code",
   "execution_count": 54,
   "id": "c1a688ab-446c-4e76-a4d9-0b49f3a5a333",
   "metadata": {},
   "outputs": [
    {
     "name": "stdout",
     "output_type": "stream",
     "text": [
      "Second largest number: 25\n"
     ]
    }
   ],
   "source": [
    "# Example list\n",
    "my_list = [10, 5, 20, 15, 30, 25]\n",
    "\n",
    "# Remove duplicates and sort the list in ascending order\n",
    "sorted_list = sorted(set(my_list))\n",
    "\n",
    "# Find the second largest number\n",
    "if len(sorted_list) >= 2:\n",
    "    second_largest = sorted_list[-2]\n",
    "    print(\"Second largest number:\", second_largest)\n",
    "else:\n",
    "    print(\"The list does not contain enough elements.\")"
   ]
  },
  {
   "cell_type": "raw",
   "id": "2e634978-62ff-4871-85cf-050d7b84e15c",
   "metadata": {},
   "source": [
    "Answer-36"
   ]
  },
  {
   "cell_type": "code",
   "execution_count": 55,
   "id": "62f4e44d-5d66-4bd9-9637-c708c1201686",
   "metadata": {},
   "outputs": [
    {
     "name": "stdout",
     "output_type": "stream",
     "text": [
      "Squared list: [4, 16, 36, 64, 100]\n"
     ]
    }
   ],
   "source": [
    "# Example list\n",
    "my_list = [2, 4, 6, 8, 10]\n",
    "\n",
    "# Replace every element with its square using a list comprehension\n",
    "squared_list = [x ** 2 for x in my_list]\n",
    "\n",
    "# Print the squared list\n",
    "print(\"Squared list:\", squared_list)"
   ]
  },
  {
   "cell_type": "raw",
   "id": "ca57b83e-cf7c-46fc-b334-53e82c7e2a9d",
   "metadata": {},
   "source": [
    "Answer-37"
   ]
  },
  {
   "cell_type": "code",
   "execution_count": 56,
   "id": "3e3fd54e-fff6-440a-afd1-ac6b6839d512",
   "metadata": {},
   "outputs": [
    {
     "name": "stdout",
     "output_type": "stream",
     "text": [
      "Converted dictionary: {'apple': 0, 'banana': 1, 'cherry': 2, 'date': 3, 'elderberry': 4}\n"
     ]
    }
   ],
   "source": [
    "# Example list\n",
    "my_list = ['apple', 'banana', 'cherry', 'date', 'elderberry']\n",
    "\n",
    "# Convert list to dictionary using dictionary comprehension\n",
    "my_dict = {element: index for index, element in enumerate(my_list)}\n",
    "\n",
    "# Print the resulting dictionary\n",
    "print(\"Converted dictionary:\", my_dict)"
   ]
  },
  {
   "cell_type": "raw",
   "id": "670c6f43-cdd2-43c5-b45a-16d756aa3642",
   "metadata": {},
   "source": [
    "Answer-38"
   ]
  },
  {
   "cell_type": "code",
   "execution_count": 57,
   "id": "64f95ab0-6a8d-46a2-911e-2958d39dc83b",
   "metadata": {},
   "outputs": [
    {
     "name": "stdout",
     "output_type": "stream",
     "text": [
      "Shuffled list: [6, 9, 10, 3, 4, 2, 8, 7, 1, 5]\n"
     ]
    }
   ],
   "source": [
    "import random\n",
    "\n",
    "# Example list\n",
    "my_list = [1, 2, 3, 4, 5, 6, 7, 8, 9, 10]\n",
    "\n",
    "# Shuffle the list randomly\n",
    "random.shuffle(my_list)\n",
    "\n",
    "# Print the shuffled list\n",
    "print(\"Shuffled list:\", my_list)"
   ]
  },
  {
   "cell_type": "raw",
   "id": "37e6b90a-20b0-440c-a0a1-1d09cb02dfe1",
   "metadata": {},
   "source": [
    "Answer-39"
   ]
  },
  {
   "cell_type": "code",
   "execution_count": 58,
   "id": "824c32f4-24ba-4a10-8918-7572b0de3161",
   "metadata": {},
   "outputs": [
    {
     "name": "stdout",
     "output_type": "stream",
     "text": [
      "List of the first 10 factorial numbers: [1, 1, 2, 6, 24, 120, 720, 5040, 40320, 362880]\n"
     ]
    }
   ],
   "source": [
    "def factorial(n):\n",
    "    if n == 0 or n == 1:\n",
    "        return 1\n",
    "    else:\n",
    "        return n * factorial(n - 1)\n",
    "\n",
    "# Create a list of the first 10 factorial numbers\n",
    "factorial_numbers = [factorial(i) for i in range(10)]\n",
    "\n",
    "# Print the list of factorial numbers\n",
    "print(\"List of the first 10 factorial numbers:\", factorial_numbers)"
   ]
  },
  {
   "cell_type": "raw",
   "id": "8bb5d347-0c51-40bc-b442-8c2f1b351738",
   "metadata": {},
   "source": [
    "Answer-40"
   ]
  },
  {
   "cell_type": "code",
   "execution_count": 59,
   "id": "8f9589db-ffa7-41b7-82e9-0848d574978a",
   "metadata": {},
   "outputs": [
    {
     "name": "stdout",
     "output_type": "stream",
     "text": [
      "The lists have at least one common element.\n"
     ]
    }
   ],
   "source": [
    "# Function to check if two lists have at least one element in common\n",
    "def has_common_element(list1, list2):\n",
    "    for item in list1:\n",
    "        if item in list2:\n",
    "            return True\n",
    "    return False\n",
    "\n",
    "# Example lists\n",
    "list1 = [1, 2, 3, 4, 5]\n",
    "list2 = [4, 5, 6, 7, 8]\n",
    "\n",
    "# Check if the two lists have at least one element in common\n",
    "if has_common_element(list1, list2):\n",
    "    print(\"The lists have at least one common element.\")\n",
    "else:\n",
    "    print(\"The lists do not have any common elements.\")"
   ]
  },
  {
   "cell_type": "raw",
   "id": "d30f8848-d31b-490b-a55e-0150617aa7d8",
   "metadata": {},
   "source": [
    "41. Remove all elements from a list.\n",
    "42. Replace negative numbers in a list with 0.\n",
    "43. Convert a string into a list of words.\n",
    "44. Convert a list of words into a string.\n",
    "45. Create a list of the first `n` powers of 2.\n",
    "46. Find the longest string in a list of strings.\n",
    "47. Find the shortest string in a list of strings.\n",
    "48. Create a list of the first `n` triangular numbers.\n",
    "49. Check if a list contains another list as a subsequence.\n",
    "50. Swap two elements in a list by their indices."
   ]
  },
  {
   "cell_type": "raw",
   "id": "77a951e3-ce04-4105-9378-c3d51b59bab4",
   "metadata": {},
   "source": [
    "Answer-41"
   ]
  },
  {
   "cell_type": "code",
   "execution_count": 60,
   "id": "658245a1-a43b-4cad-b03e-b1dcd0b0a590",
   "metadata": {},
   "outputs": [
    {
     "name": "stdout",
     "output_type": "stream",
     "text": [
      "Empty list: []\n"
     ]
    }
   ],
   "source": [
    "my_list.clear()\n",
    "\n",
    "# Print the empty list\n",
    "print(\"Empty list:\", my_list)"
   ]
  },
  {
   "cell_type": "raw",
   "id": "6b1d593d-50b2-4911-962c-f80f10e75c26",
   "metadata": {},
   "source": [
    "Answer-42"
   ]
  },
  {
   "cell_type": "code",
   "execution_count": 61,
   "id": "0d894ef8-091f-4b20-975f-b38a5fb8e10e",
   "metadata": {},
   "outputs": [
    {
     "name": "stdout",
     "output_type": "stream",
     "text": [
      "List after replacing negative numbers with 0: [10, 0, 20, 0, 30, 0]\n"
     ]
    }
   ],
   "source": [
    "my_list = [10, -5, 20, -15, 30, -25]\n",
    "\n",
    "# Step 1: Iterate through the list and replace negative numbers with 0\n",
    "for i in range(len(my_list)):\n",
    "    if my_list[i] < 0:\n",
    "        my_list[i] = 0\n",
    "\n",
    "# Print the list after replacing negative numbers with 0\n",
    "print(\"List after replacing negative numbers with 0:\", my_list)"
   ]
  },
  {
   "cell_type": "raw",
   "id": "a3dfb179-f637-4d27-8c62-56319114067a",
   "metadata": {},
   "source": [
    "Answer-43"
   ]
  },
  {
   "cell_type": "code",
   "execution_count": 62,
   "id": "f5b4ad1e-7c93-49b2-b3f3-e94f27208f15",
   "metadata": {},
   "outputs": [
    {
     "name": "stdout",
     "output_type": "stream",
     "text": [
      "List of words: ['Hello,', 'this', 'is', 'a', 'sample', 'sentence.']\n"
     ]
    }
   ],
   "source": [
    "my_string = \"Hello, this is a sample sentence.\"\n",
    "\n",
    "# Convert the string into a list of words\n",
    "word_list = my_string.split()\n",
    "\n",
    "# Print the list of words\n",
    "print(\"List of words:\", word_list)"
   ]
  },
  {
   "cell_type": "raw",
   "id": "21ed263f-17dd-4833-aa67-695dd47e7d2d",
   "metadata": {},
   "source": [
    "Answer-44"
   ]
  },
  {
   "cell_type": "code",
   "execution_count": 63,
   "id": "1cae7072-a965-4461-98ac-5aef09607b7f",
   "metadata": {},
   "outputs": [
    {
     "name": "stdout",
     "output_type": "stream",
     "text": [
      "Converted string: Hello, this is a sample sentence.\n"
     ]
    }
   ],
   "source": [
    "word_list = [\"Hello,\", \"this\", \"is\", \"a\", \"sample\", \"sentence.\"]\n",
    "\n",
    "# Convert the list of words into a string\n",
    "my_string = \" \".join(word_list)\n",
    "\n",
    "# Print the resulting string\n",
    "print(\"Converted string:\", my_string)"
   ]
  },
  {
   "cell_type": "raw",
   "id": "488f7861-b266-433f-aaaa-ab10b75d4f9b",
   "metadata": {},
   "source": [
    "Answer-45"
   ]
  },
  {
   "cell_type": "code",
   "execution_count": 64,
   "id": "19309777-e01e-4d75-a7c4-dcc3966e9a52",
   "metadata": {},
   "outputs": [
    {
     "name": "stdout",
     "output_type": "stream",
     "text": [
      "List of the first 5 powers of 2: [1, 2, 4, 8, 16]\n"
     ]
    }
   ],
   "source": [
    "# Specify the value of n\n",
    "n = 5\n",
    "\n",
    "# Create a list of the first n powers of 2 using a loop\n",
    "power_list = [2 ** i for i in range(n)]\n",
    "\n",
    "# Print the list of powers of 2\n",
    "print(\"List of the first\", n, \"powers of 2:\", power_list)"
   ]
  },
  {
   "cell_type": "raw",
   "id": "ed3087bf-1e30-4200-bc55-603d69932fe9",
   "metadata": {},
   "source": [
    "Answer-46"
   ]
  },
  {
   "cell_type": "code",
   "execution_count": 65,
   "id": "0a0d4eb4-dc93-40d0-964b-9186022f450a",
   "metadata": {},
   "outputs": [
    {
     "name": "stdout",
     "output_type": "stream",
     "text": [
      "Longest string: elderberry\n"
     ]
    }
   ],
   "source": [
    "# Example list of strings\n",
    "string_list = [\"apple\", \"banana\", \"cherry\", \"date\", \"elderberry\"]\n",
    "\n",
    "# Find the longest string in the list\n",
    "longest_string = \"\"\n",
    "for s in string_list:\n",
    "    if len(s) > len(longest_string):\n",
    "        longest_string = s\n",
    "\n",
    "# Print the longest string\n",
    "print(\"Longest string:\", longest_string)"
   ]
  },
  {
   "cell_type": "raw",
   "id": "77766da5-4551-419e-bcbd-ab2d0c131c4f",
   "metadata": {},
   "source": [
    "Answer-47"
   ]
  },
  {
   "cell_type": "code",
   "execution_count": 66,
   "id": "6f040719-8b5b-47a8-9990-1a0f268aba7e",
   "metadata": {},
   "outputs": [
    {
     "name": "stdout",
     "output_type": "stream",
     "text": [
      "Shortest string: date\n"
     ]
    }
   ],
   "source": [
    "string_list = [\"apple\", \"banana\", \"cherry\", \"date\", \"elderberry\"]\n",
    "\n",
    "# Find the shortest string in the list\n",
    "shortest_string = string_list[0]  # Initialize with the first string\n",
    "for s in string_list:\n",
    "    if len(s) < len(shortest_string):\n",
    "        shortest_string = s\n",
    "\n",
    "# Print the shortest string\n",
    "print(\"Shortest string:\", shortest_string)"
   ]
  },
  {
   "cell_type": "raw",
   "id": "6dbd4de2-360c-4c6a-a602-45a38ae60102",
   "metadata": {},
   "source": [
    "Answer-48"
   ]
  },
  {
   "cell_type": "code",
   "execution_count": 67,
   "id": "b1c2ad71-7280-4ab4-8324-216b43f75307",
   "metadata": {},
   "outputs": [
    {
     "name": "stdout",
     "output_type": "stream",
     "text": [
      "List of the first 5 triangular numbers: [1, 3, 6, 10, 15]\n"
     ]
    }
   ],
   "source": [
    "def triangular_numbers(n):\n",
    "    return [i * (i + 1) // 2 for i in range(1, n + 1)]\n",
    "\n",
    "# Specify the value of n\n",
    "n = 5\n",
    "\n",
    "# Create a list of the first n triangular numbers\n",
    "triangular_list = triangular_numbers(n)\n",
    "\n",
    "# Print the list of triangular numbers\n",
    "print(\"List of the first\", n, \"triangular numbers:\", triangular_list)"
   ]
  },
  {
   "cell_type": "raw",
   "id": "5474440e-21fb-4c65-89e9-8221199ce809",
   "metadata": {},
   "source": [
    "Answer-49"
   ]
  },
  {
   "cell_type": "code",
   "execution_count": 68,
   "id": "44529f75-3371-43e9-a10a-b25934e3c24f",
   "metadata": {},
   "outputs": [
    {
     "name": "stdout",
     "output_type": "stream",
     "text": [
      "Main list contains the subsequence.\n"
     ]
    }
   ],
   "source": [
    "# Function to check if a list contains another list as a subsequence\n",
    "def is_subsequence(subsequence, main_list):\n",
    "    subseq_index = 0  # Index for the subsequence elements\n",
    "    for element in main_list:\n",
    "        if element == subsequence[subseq_index]:\n",
    "            subseq_index += 1\n",
    "            if subseq_index == len(subsequence):\n",
    "                return True\n",
    "    return False\n",
    "\n",
    "# Example main list and subsequence\n",
    "main_list = [1, 2, 3, 4, 5, 6, 7, 8, 9, 10]\n",
    "subsequence = [3, 5, 8]\n",
    "\n",
    "# Check if the main list contains the subsequence\n",
    "if is_subsequence(subsequence, main_list):\n",
    "    print(\"Main list contains the subsequence.\")\n",
    "else:\n",
    "    print(\"Main list does not contain the subsequence.\")"
   ]
  },
  {
   "cell_type": "raw",
   "id": "ab81982b-251e-4db6-95d7-1ba4b032a4c8",
   "metadata": {},
   "source": [
    "Answer-50"
   ]
  },
  {
   "cell_type": "code",
   "execution_count": 69,
   "id": "a4c9ccb1-7fc5-483c-bb90-e3260663b72d",
   "metadata": {},
   "outputs": [
    {
     "name": "stdout",
     "output_type": "stream",
     "text": [
      "List after swapping elements: [10, 0, 20, 0, 30, 0]\n"
     ]
    }
   ],
   "source": [
    "# Indices of elements to swap\n",
    "index1 = 1\n",
    "index2 = 3\n",
    "\n",
    "# Swap the elements at the specified indices\n",
    "temp = my_list[index1]\n",
    "my_list[index1] = my_list[index2]\n",
    "my_list[index2] = temp\n",
    "\n",
    "# Print the list after swapping\n",
    "print(\"List after swapping elements:\", my_list)"
   ]
  },
  {
   "cell_type": "markdown",
   "id": "650b79e5-3e7d-4940-8e52-1065e5c9fb4d",
   "metadata": {},
   "source": [
    "Tuple Based Questions"
   ]
  },
  {
   "cell_type": "raw",
   "id": "68c2960d-1d34-4496-96f0-eba0bb669408",
   "metadata": {},
   "source": [
    "1. Create a tuple with integers from 1 to 5.\n",
    "2. Access the third element of a tuple.\n",
    "3. Find the length of a tuple without using the `len()` function.\n",
    "4. Count the occurrences of an element in a tuple.\n",
    "5. Find the index of the first occurrence of an element in a tuple.\n",
    "6. Check if an element exists in a tuple.\n",
    "7. Convert a tuple to a list.\n",
    "8. Convert a list to a tuple.\n",
    "9. Unpack the elements of a tuple into variables.\n",
    "10. Create a tuple of even numbers from 1 to 10.\n",
    "11. Create a tuple of odd numbers from 1 to 10.\n",
    "12. Concatenate two tuples.\n",
    "13. Repeat a tuple three times.\n",
    "14. Check if a tuple is empty.\n",
    "15. Create a nested tuple.\n",
    "16. Access the first element of a nested tuple.\n",
    "17. Create a tuple with a single element.\n",
    "18. Compare two tuples.\n",
    "19. Delete a tuple.\n",
    "20. Slice a tuple."
   ]
  },
  {
   "cell_type": "raw",
   "id": "db6289f2-b22b-4da3-8575-961491424215",
   "metadata": {},
   "source": [
    "Answer-1"
   ]
  },
  {
   "cell_type": "code",
   "execution_count": 70,
   "id": "f705cce8-9d9c-4097-9722-7d50b4465777",
   "metadata": {},
   "outputs": [],
   "source": [
    "tup=(1,2,3,4,5)"
   ]
  },
  {
   "cell_type": "raw",
   "id": "32404b5f-9532-4105-9154-78a7bf3228d0",
   "metadata": {},
   "source": [
    "Answer-2"
   ]
  },
  {
   "cell_type": "code",
   "execution_count": 71,
   "id": "7fc87152-968b-467d-b7e4-7aefb20d7e08",
   "metadata": {},
   "outputs": [
    {
     "name": "stdout",
     "output_type": "stream",
     "text": [
      "The third element of the tuple is: 30\n"
     ]
    }
   ],
   "source": [
    "my_tuple = (10, 20, 30, 40, 50)\n",
    "\n",
    "# Step 2: Access the third element of the tuple\n",
    "third_element = my_tuple[2]\n",
    "\n",
    "# Explanation: In this line, we use indexing to access the third element of the tuple.\n",
    "# Since indexing is 0-based, the third element is at index 2.\n",
    "\n",
    "# Step 3: Print the third element\n",
    "print(\"The third element of the tuple is:\", third_element)"
   ]
  },
  {
   "cell_type": "raw",
   "id": "e0640e57-8886-44ec-a793-480b71e0280c",
   "metadata": {},
   "source": [
    "Answer-3"
   ]
  },
  {
   "cell_type": "code",
   "execution_count": 72,
   "id": "96255e49-e144-4e71-a0c3-398a4e3ca52b",
   "metadata": {},
   "outputs": [
    {
     "name": "stdout",
     "output_type": "stream",
     "text": [
      "The length of the tuple is: 5\n"
     ]
    }
   ],
   "source": [
    "# Step 1: Initialize a variable to count the elements\n",
    "count = 0\n",
    "\n",
    "# Step 2: Iterate through the tuple and increment the count for each element\n",
    "for _ in my_tuple:\n",
    "    count += 1\n",
    "\n",
    "# Step 3: Print the length of the tuple\n",
    "print(\"The length of the tuple is:\", count)"
   ]
  },
  {
   "cell_type": "raw",
   "id": "540b4520-ce5b-4ff9-bbf5-b6bb6974cda8",
   "metadata": {},
   "source": [
    "Answer-4"
   ]
  },
  {
   "cell_type": "code",
   "execution_count": 73,
   "id": "51f19037-94af-42ef-8109-c5cbb39e0024",
   "metadata": {},
   "outputs": [
    {
     "name": "stdout",
     "output_type": "stream",
     "text": [
      "The element 20 appears 1 times in the tuple.\n"
     ]
    }
   ],
   "source": [
    "element_to_count = 20\n",
    "count = 0\n",
    "for item in my_tuple:\n",
    "    if item == element_to_count:\n",
    "        count += 1\n",
    "\n",
    "#  Print the count of occurrences\n",
    "print(f\"The element {element_to_count} appears {count} times in the tuple.\")"
   ]
  },
  {
   "cell_type": "raw",
   "id": "1a91a114-148e-4566-93aa-626c6d8f510d",
   "metadata": {},
   "source": [
    "Answer-5"
   ]
  },
  {
   "cell_type": "code",
   "execution_count": 74,
   "id": "97e366f8-0a89-49b6-b90c-6e3c0ed91160",
   "metadata": {},
   "outputs": [
    {
     "name": "stdout",
     "output_type": "stream",
     "text": [
      "The first occurrence of 20 is at index 1.\n"
     ]
    }
   ],
   "source": [
    "# Step 1: Create a tuple\n",
    "my_tuple = (10, 20, 30, 20, 40, 50)\n",
    "\n",
    "# Step 2: Choose the element to find the index of\n",
    "element_to_find = 20\n",
    "\n",
    "# Step 3: Initialize a variable to keep track of the index\n",
    "index = -1  # Initialize with -1 to indicate that the element was not found\n",
    "\n",
    "# Step 4: Iterate through the tuple and find the index of the chosen element\n",
    "for i, item in enumerate(my_tuple):\n",
    "    if item == element_to_find:\n",
    "        index = i\n",
    "        break  # Exit the loop once the first occurrence is found\n",
    "\n",
    "# Step 5: Print the index of the first occurrence\n",
    "if index != -1:\n",
    "    print(f\"The first occurrence of {element_to_find} is at index {index}.\")\n",
    "else:\n",
    "    print(f\"{element_to_find} is not found in the tuple.\")"
   ]
  },
  {
   "cell_type": "raw",
   "id": "efe2e6d4-5b14-4a34-8d95-edec6d9e3b0f",
   "metadata": {},
   "source": [
    "Answer-6"
   ]
  },
  {
   "cell_type": "code",
   "execution_count": 76,
   "id": "a889d19b-629f-4166-84f1-b203bb93da6d",
   "metadata": {},
   "outputs": [
    {
     "name": "stdout",
     "output_type": "stream",
     "text": [
      "30 exists in the tuple.\n"
     ]
    }
   ],
   "source": [
    " #Step 1: Create a tuple\n",
    "my_tuple = (10, 20, 30, 40, 50)\n",
    "\n",
    "# Step 2: Choose the element to check for existence\n",
    "element_to_check = 30\n",
    "\n",
    "# Step 3: Check if the element exists in the tuple using the 'in' operator\n",
    "if element_to_check in my_tuple:\n",
    "    print(f\"{element_to_check} exists in the tuple.\")\n",
    "else:\n",
    "    print(f\"{element_to_check} does not exist in the tuple.\")"
   ]
  },
  {
   "cell_type": "raw",
   "id": "f24a3e76-f245-4883-bd57-b1b30c9b10da",
   "metadata": {},
   "source": [
    "Answer-7"
   ]
  },
  {
   "cell_type": "code",
   "execution_count": 77,
   "id": "ae71c4de-82d6-4b99-90e2-0a559eff4718",
   "metadata": {},
   "outputs": [
    {
     "data": {
      "text/plain": [
       "[10, 20, 30, 40, 50]"
      ]
     },
     "execution_count": 77,
     "metadata": {},
     "output_type": "execute_result"
    }
   ],
   "source": [
    "a=list(my_tuple)\n",
    "a"
   ]
  },
  {
   "cell_type": "raw",
   "id": "78dff347-4e27-4e3e-92fa-491cc24cf6e7",
   "metadata": {},
   "source": [
    "Answer-8"
   ]
  },
  {
   "cell_type": "code",
   "execution_count": 78,
   "id": "37d5c495-9f68-433d-8753-d3ea61a92835",
   "metadata": {},
   "outputs": [
    {
     "data": {
      "text/plain": [
       "(10, 20, 30, 40, 50)"
      ]
     },
     "execution_count": 78,
     "metadata": {},
     "output_type": "execute_result"
    }
   ],
   "source": [
    "b=tuple(a)\n",
    "b"
   ]
  },
  {
   "cell_type": "raw",
   "id": "2a9f2069-e68c-4356-9df2-7e56d3214de1",
   "metadata": {},
   "source": [
    "Answer-9"
   ]
  },
  {
   "cell_type": "code",
   "execution_count": 79,
   "id": "c6e0464f-68c8-4663-92a4-dfaa5821ce48",
   "metadata": {},
   "outputs": [
    {
     "name": "stdout",
     "output_type": "stream",
     "text": [
      "var1: 10\n",
      "var2: 20\n",
      "var3: 30\n"
     ]
    }
   ],
   "source": [
    "# Step 1: Create a tuple\n",
    "my_tuple = (10, 20, 30)\n",
    "\n",
    "# Step 2: Unpack the elements of the tuple into variables\n",
    "var1, var2, var3 = my_tuple\n",
    "\n",
    "# Step 3: Print the variables\n",
    "print(\"var1:\", var1)\n",
    "print(\"var2:\", var2)\n",
    "print(\"var3:\", var3)"
   ]
  },
  {
   "cell_type": "raw",
   "id": "9e12c80b-9f54-4229-9727-c6532c8b6d1f",
   "metadata": {},
   "source": [
    "Answer-10"
   ]
  },
  {
   "cell_type": "code",
   "execution_count": 80,
   "id": "d0268b0e-1c31-4a7e-95a0-c15c72402426",
   "metadata": {},
   "outputs": [
    {
     "name": "stdout",
     "output_type": "stream",
     "text": [
      "Tuple of even numbers: (2, 4, 6, 8, 10)\n"
     ]
    }
   ],
   "source": [
    "# Step 1: Create a list of even numbers using a list comprehension\n",
    "even_numbers_list = [num for num in range(2, 11, 2)]  # Start from 2, step by 2, end at 10\n",
    "\n",
    "# Step 2: Convert the list to a tuple\n",
    "even_numbers_tuple = tuple(even_numbers_list)\n",
    "\n",
    "# Step 3: Print the resulting tuple\n",
    "print(\"Tuple of even numbers:\", even_numbers_tuple)"
   ]
  },
  {
   "cell_type": "raw",
   "id": "16270892-efb5-4ab2-b942-6a92f7d27b94",
   "metadata": {},
   "source": [
    "Answer-11"
   ]
  },
  {
   "cell_type": "code",
   "execution_count": 81,
   "id": "17c7b38a-8c50-419d-9edf-63ef677385b0",
   "metadata": {},
   "outputs": [
    {
     "name": "stdout",
     "output_type": "stream",
     "text": [
      "Tuple of even numbers: (2, 4, 6, 8, 10)\n"
     ]
    }
   ],
   "source": [
    "# Step 1: Create a list of even numbers using a list comprehension\n",
    "even_numbers_list = [num for num in range(2, 11, 2)]  # Start from 2, step by 2, end at 10\n",
    "\n",
    "# Step 2: Convert the list to a tuple\n",
    "even_numbers_tuple = tuple(even_numbers_list)\n",
    "\n",
    "# Step 3: Print the resulting tuple\n",
    "print(\"Tuple of even numbers:\", even_numbers_tuple)"
   ]
  },
  {
   "cell_type": "raw",
   "id": "07e529f9-2029-4a8a-88c6-5911fafd722f",
   "metadata": {},
   "source": [
    "Answer-12"
   ]
  },
  {
   "cell_type": "code",
   "execution_count": 83,
   "id": "6001f07a-2f5b-4d2e-b28e-4df2d15a0694",
   "metadata": {},
   "outputs": [
    {
     "name": "stdout",
     "output_type": "stream",
     "text": [
      "Concatenated tuple: (1, 2, 3, 4, 5, 6)\n"
     ]
    }
   ],
   "source": [
    " #Step 1: Create two tuples\n",
    "tuple1 = (1, 2, 3)\n",
    "tuple2 = (4, 5, 6)\n",
    "\n",
    "# Step 2: Concatenate the two tuples\n",
    "concatenated_tuple = tuple1 + tuple2\n",
    "\n",
    "# Step 3: Print the concatenated tuple\n",
    "print(\"Concatenated tuple:\", concatenated_tuple)"
   ]
  },
  {
   "cell_type": "raw",
   "id": "16b12f69-d268-4b2b-b70d-140a3331848e",
   "metadata": {},
   "source": [
    "Answer-13"
   ]
  },
  {
   "cell_type": "code",
   "execution_count": 84,
   "id": "2a8e9050-86b4-4f74-8ecc-850fb1b31cd8",
   "metadata": {},
   "outputs": [
    {
     "data": {
      "text/plain": [
       "(1, 2, 3, 4, 5, 6, 1, 2, 3, 4, 5, 6, 1, 2, 3, 4, 5, 6)"
      ]
     },
     "execution_count": 84,
     "metadata": {},
     "output_type": "execute_result"
    }
   ],
   "source": [
    "d=concatenated_tuple*3\n",
    "d"
   ]
  },
  {
   "cell_type": "raw",
   "id": "53d16c57-6445-475d-b55c-9cc62a91b6ef",
   "metadata": {},
   "source": [
    "Answer-14"
   ]
  },
  {
   "cell_type": "code",
   "execution_count": 85,
   "id": "c1966833-b9ed-424a-ae85-98b824bd977a",
   "metadata": {},
   "outputs": [
    {
     "name": "stdout",
     "output_type": "stream",
     "text": [
      "The empty_tuple is empty.\n",
      "The non_empty_tuple is not empty.\n"
     ]
    }
   ],
   "source": [
    "# Step 1: Create an empty tuple and a non-empty tuple\n",
    "empty_tuple = ()\n",
    "non_empty_tuple = (1, 2, 3)\n",
    "\n",
    "# Step 2: Check if the tuples are empty\n",
    "if not empty_tuple:\n",
    "    print(\"The empty_tuple is empty.\")\n",
    "else:\n",
    "    print(\"The empty_tuple is not empty.\")\n",
    "\n",
    "if not non_empty_tuple:\n",
    "    print(\"The non_empty_tuple is empty.\")\n",
    "else:\n",
    "    print(\"The non_empty_tuple is not empty.\")"
   ]
  },
  {
   "cell_type": "raw",
   "id": "c572c91a-cca1-4478-ad8a-9151b57fa095",
   "metadata": {},
   "source": [
    "Answer-15"
   ]
  },
  {
   "cell_type": "code",
   "execution_count": 86,
   "id": "e3ca2f06-0fa7-4eb0-a6ed-ff2a0147f9a0",
   "metadata": {},
   "outputs": [
    {
     "name": "stdout",
     "output_type": "stream",
     "text": [
      "Nested tuple: ((1, 2, 3), ('a', 'b', 'c'), (True, False))\n"
     ]
    }
   ],
   "source": [
    "# Step 1: Create a nested tuple\n",
    "nested_tuple = ((1, 2, 3), ('a', 'b', 'c'), (True, False))\n",
    "\n",
    "# Step 2: Print the nested tuple\n",
    "print(\"Nested tuple:\", nested_tuple)"
   ]
  },
  {
   "cell_type": "raw",
   "id": "3f54b5cf-21c7-42c5-b810-d15292bb719a",
   "metadata": {},
   "source": [
    "Answer-16"
   ]
  },
  {
   "cell_type": "code",
   "execution_count": 87,
   "id": "98db31c7-f012-403a-915a-54a919da43b7",
   "metadata": {},
   "outputs": [
    {
     "data": {
      "text/plain": [
       "(1, 2, 3)"
      ]
     },
     "execution_count": 87,
     "metadata": {},
     "output_type": "execute_result"
    }
   ],
   "source": [
    "nested_tuple[0]"
   ]
  },
  {
   "cell_type": "raw",
   "id": "d432b71a-0f82-4008-8085-ea0060d4997a",
   "metadata": {},
   "source": [
    "Answer-17"
   ]
  },
  {
   "cell_type": "code",
   "execution_count": 88,
   "id": "a32a0f47-2cec-4111-8d0e-ef766db2c29b",
   "metadata": {},
   "outputs": [
    {
     "data": {
      "text/plain": [
       "(20,)"
      ]
     },
     "execution_count": 88,
     "metadata": {},
     "output_type": "execute_result"
    }
   ],
   "source": [
    "e=(20,)\n",
    "e"
   ]
  },
  {
   "cell_type": "raw",
   "id": "e337dc0c-600a-4ea2-aa07-4c67ad1e5011",
   "metadata": {},
   "source": [
    "Answer-18"
   ]
  },
  {
   "cell_type": "code",
   "execution_count": 89,
   "id": "73011b38-10ec-4446-be7e-66dfaf0345b3",
   "metadata": {},
   "outputs": [
    {
     "name": "stdout",
     "output_type": "stream",
     "text": [
      "tuple1 == tuple2: False\n",
      "tuple1 != tuple2: True\n",
      "tuple1 < tuple2: True\n",
      "tuple1 <= tuple2: True\n",
      "tuple1 > tuple2: False\n",
      "tuple1 >= tuple2: False\n"
     ]
    }
   ],
   "source": [
    "# Step 1: Create two tuples\n",
    "tuple1 = (1, 2, 3)\n",
    "tuple2 = (1, 2, 4)\n",
    "\n",
    "# Step 2: Compare the two tuples using comparison operators\n",
    "print(\"tuple1 == tuple2:\", tuple1 == tuple2)  # Equality check\n",
    "print(\"tuple1 != tuple2:\", tuple1 != tuple2)  # Inequality check\n",
    "print(\"tuple1 < tuple2:\", tuple1 < tuple2)    # Less than check\n",
    "print(\"tuple1 <= tuple2:\", tuple1 <= tuple2)  # Less than or equal to check\n",
    "print(\"tuple1 > tuple2:\", tuple1 > tuple2)    # Greater than check\n",
    "print(\"tuple1 >= tuple2:\", tuple1 >= tuple2)  # Greater than or equal to check"
   ]
  },
  {
   "cell_type": "raw",
   "id": "eea4acd9-8344-4043-bfce-bca12fa7abf5",
   "metadata": {},
   "source": [
    "Answer-19"
   ]
  },
  {
   "cell_type": "code",
   "execution_count": 90,
   "id": "98723e19-3481-481b-ac70-ecb8710962a7",
   "metadata": {},
   "outputs": [
    {
     "ename": "NameError",
     "evalue": "name 'tuple1' is not defined",
     "output_type": "error",
     "traceback": [
      "\u001b[0;31m---------------------------------------------------------------------------\u001b[0m",
      "\u001b[0;31mNameError\u001b[0m                                 Traceback (most recent call last)",
      "Cell \u001b[0;32mIn[90], line 2\u001b[0m\n\u001b[1;32m      1\u001b[0m \u001b[38;5;28;01mdel\u001b[39;00m tuple1\n\u001b[0;32m----> 2\u001b[0m \u001b[43mtuple1\u001b[49m\n",
      "\u001b[0;31mNameError\u001b[0m: name 'tuple1' is not defined"
     ]
    }
   ],
   "source": [
    "del tuple1\n",
    "tuple1"
   ]
  },
  {
   "cell_type": "raw",
   "id": "8e23f48a-ecab-4187-85a3-23761e1bf854",
   "metadata": {},
   "source": [
    "Answer-20"
   ]
  },
  {
   "cell_type": "code",
   "execution_count": 92,
   "id": "fc2df8e6-74fa-463e-9aea-1c50f1533502",
   "metadata": {},
   "outputs": [
    {
     "data": {
      "text/plain": [
       "(2, 4)"
      ]
     },
     "execution_count": 92,
     "metadata": {},
     "output_type": "execute_result"
    }
   ],
   "source": [
    "f=tuple2[1:3]\n",
    "f"
   ]
  },
  {
   "cell_type": "raw",
   "id": "bd985db1-7431-4ddb-99f8-a915a15057dc",
   "metadata": {},
   "source": [
    "21. Find the maximum value in a tuple.\n",
    "22. Find the minimum value in a tuple.\n",
    "23. Convert a string to a tuple of characters.\n",
    "24. Convert a tuple of characters to a string.\n",
    "25. Create a tuple from multiple data types.\n",
    "26. Check if two tuples are identical.\n",
    "27. Sort the elements of a tuple.\n",
    "28. Convert a tuple of integers to a tuple of strings.\n",
    "29. Convert a tuple of strings to a tuple of integers.\n",
    "30. Merge two tuples.\n",
    "31. Flatten a nested tuple.\n",
    "32. Create a tuple of the first 5 prime numbers.\n",
    "33. Check if a tuple is a palindrome.\n",
    "34. Create a tuple of squares of numbers from 1 to 5.\n",
    "35. Filter out all even numbers from a tuple.\n",
    "36. Multiply all elements in a tuple by 2.\n",
    "37. Create a tuple of random numbers.\n",
    "38. Check if a tuple is sorted.\n",
    "39. Rotate a tuple to the left by `n` positions.\n",
    "40. Rotate a tuple to the right by `n` positions."
   ]
  },
  {
   "cell_type": "raw",
   "id": "a71ad4bc-0aef-4ca9-89cb-e6b7e462d775",
   "metadata": {},
   "source": [
    "Answer-21"
   ]
  },
  {
   "cell_type": "code",
   "execution_count": 93,
   "id": "353060a8-cec6-4a8a-9cb5-fa7fd99855c3",
   "metadata": {},
   "outputs": [
    {
     "data": {
      "text/plain": [
       "4"
      ]
     },
     "execution_count": 93,
     "metadata": {},
     "output_type": "execute_result"
    }
   ],
   "source": [
    "max(f)"
   ]
  },
  {
   "cell_type": "raw",
   "id": "52fbed15-0ac9-46f9-9738-2f179f338d8d",
   "metadata": {},
   "source": [
    "Answer-22"
   ]
  },
  {
   "cell_type": "code",
   "execution_count": 94,
   "id": "2c332cda-640a-4fbc-8cfc-315ecfd63c59",
   "metadata": {},
   "outputs": [
    {
     "data": {
      "text/plain": [
       "2"
      ]
     },
     "execution_count": 94,
     "metadata": {},
     "output_type": "execute_result"
    }
   ],
   "source": [
    "min(f)"
   ]
  },
  {
   "cell_type": "raw",
   "id": "38deefe6-b854-4f2d-886c-99850f912184",
   "metadata": {},
   "source": [
    "Answer-23"
   ]
  },
  {
   "cell_type": "code",
   "execution_count": 95,
   "id": "772e32ed-3401-4344-b434-d478cc658b72",
   "metadata": {},
   "outputs": [
    {
     "data": {
      "text/plain": [
       "('H', 'e', 'l', 'l', 'o', ',', ' ', 'W', 'o', 'r', 'l', 'd', '!')"
      ]
     },
     "execution_count": 95,
     "metadata": {},
     "output_type": "execute_result"
    }
   ],
   "source": [
    "my_string = \"Hello, World!\"\n",
    "e=tuple(my_string)\n",
    "e"
   ]
  },
  {
   "cell_type": "raw",
   "id": "d9bc7a18-7e11-4056-a9a3-51532926d06f",
   "metadata": {},
   "source": [
    "Answer-24"
   ]
  },
  {
   "cell_type": "code",
   "execution_count": 97,
   "id": "e5a847dd-745e-4f63-a884-2e52dd0f82a9",
   "metadata": {},
   "outputs": [
    {
     "data": {
      "text/plain": [
       "'Hello, World!'"
      ]
     },
     "execution_count": 97,
     "metadata": {},
     "output_type": "execute_result"
    }
   ],
   "source": [
    "g=\"\".join(e)\n",
    "g"
   ]
  },
  {
   "cell_type": "raw",
   "id": "5728aa52-1f55-4c51-b240-b7eb43933c39",
   "metadata": {},
   "source": [
    "Answer-25"
   ]
  },
  {
   "cell_type": "code",
   "execution_count": 98,
   "id": "8d68a8b5-65a4-4af3-ae27-0a570fc1df79",
   "metadata": {},
   "outputs": [
    {
     "data": {
      "text/plain": [
       "(1, 'hello', 3.14, True)"
      ]
     },
     "execution_count": 98,
     "metadata": {},
     "output_type": "execute_result"
    }
   ],
   "source": [
    "mixed_tuple = (1, \"hello\", 3.14, True)\n",
    "mixed_tuple"
   ]
  },
  {
   "cell_type": "raw",
   "id": "59782d1a-ccb2-493a-84cd-015e6b7d5086",
   "metadata": {},
   "source": [
    "Answer-26"
   ]
  },
  {
   "cell_type": "code",
   "execution_count": 99,
   "id": "4b96cc0a-9743-43c1-b166-b4b65fa32f05",
   "metadata": {},
   "outputs": [
    {
     "name": "stdout",
     "output_type": "stream",
     "text": [
      "tuple1 and tuple2 are identical: True\n",
      "tuple1 and tuple3 are identical: False\n"
     ]
    }
   ],
   "source": [
    "# Step 1: Create two tuples\n",
    "tuple1 = (1, 2, 3)\n",
    "tuple2 = (1, 2, 3)\n",
    "tuple3 = (4, 5, 6)\n",
    "\n",
    "# Step 2: Compare the tuples for identity using the equality operator\n",
    "are_identical1 = tuple1 == tuple2\n",
    "are_identical2 = tuple1 == tuple3\n",
    "\n",
    "# Step 3: Print the results\n",
    "print(\"tuple1 and tuple2 are identical:\", are_identical1)\n",
    "print(\"tuple1 and tuple3 are identical:\", are_identical2)"
   ]
  },
  {
   "cell_type": "raw",
   "id": "d3c6dcc4-5107-4d97-8ad2-78719d96aca0",
   "metadata": {},
   "source": [
    "Answer-27"
   ]
  },
  {
   "cell_type": "code",
   "execution_count": 100,
   "id": "8bd6f53e-9c9d-4cb5-8561-a5e61125976f",
   "metadata": {},
   "outputs": [
    {
     "name": "stdout",
     "output_type": "stream",
     "text": [
      "Sorted tuple: (1, 2, 3, 5, 8)\n"
     ]
    }
   ],
   "source": [
    "# Step 1: Create a tuple\n",
    "my_tuple = (5, 2, 8, 1, 3)\n",
    "\n",
    "# Step 2: Convert the tuple to a list, sort the list, and convert it back to a tuple\n",
    "sorted_tuple = tuple(sorted(my_tuple))\n",
    "\n",
    "# Step 3: Print the sorted tuple\n",
    "print(\"Sorted tuple:\", sorted_tuple)\n"
   ]
  },
  {
   "cell_type": "raw",
   "id": "179e315c-e504-4e2c-8f48-bd74212edfe4",
   "metadata": {},
   "source": [
    "Answer-28"
   ]
  },
  {
   "cell_type": "code",
   "execution_count": 101,
   "id": "38bda1f2-eeee-4257-b274-51a0d87a985a",
   "metadata": {},
   "outputs": [
    {
     "name": "stdout",
     "output_type": "stream",
     "text": [
      "Tuple of strings: ('1', '2', '3', '4', '5')\n"
     ]
    }
   ],
   "source": [
    "# Step 1: Create a tuple of integers\n",
    "tuple_of_integers = (1, 2, 3, 4, 5)\n",
    "\n",
    "# Step 2: Convert the tuple of integers to a tuple of strings using a list comprehension\n",
    "tuple_of_strings = tuple(str(item) for item in tuple_of_integers)\n",
    "\n",
    "# Step 3: Print the tuple of strings\n",
    "print(\"Tuple of strings:\", tuple_of_strings)"
   ]
  },
  {
   "cell_type": "raw",
   "id": "ec4b65e4-c2f0-4815-b2b6-262c8e998761",
   "metadata": {},
   "source": [
    "Answer-29"
   ]
  },
  {
   "cell_type": "code",
   "execution_count": 102,
   "id": "9571da98-f2d7-43a2-9629-21619736f497",
   "metadata": {},
   "outputs": [
    {
     "name": "stdout",
     "output_type": "stream",
     "text": [
      "Tuple of integers: (10, 20, 30, 40, 50)\n"
     ]
    }
   ],
   "source": [
    "# Step 1: Create a tuple of strings\n",
    "tuple_of_strings = ('10', '20', '30', '40', '50')\n",
    "\n",
    "# Step 2: Convert the tuple of strings to a tuple of integers using a list comprehension\n",
    "tuple_of_integers = tuple(int(item) for item in tuple_of_strings)\n",
    "\n",
    "# Step 3: Print the tuple of integers\n",
    "print(\"Tuple of integers:\", tuple_of_integers)"
   ]
  },
  {
   "cell_type": "raw",
   "id": "81d6a2cd-284a-433d-9840-13b76b1f8b14",
   "metadata": {},
   "source": [
    "Answer-30"
   ]
  },
  {
   "cell_type": "code",
   "execution_count": 103,
   "id": "871f56fc-382c-4626-a7df-0128d2fe8a1a",
   "metadata": {},
   "outputs": [
    {
     "name": "stdout",
     "output_type": "stream",
     "text": [
      "Merged tuple: (1, 2, 3, 4, 5, 6)\n"
     ]
    }
   ],
   "source": [
    "# Step 1: Create two tuples\n",
    "tuple1 = (1, 2, 3)\n",
    "tuple2 = (4, 5, 6)\n",
    "\n",
    "# Step 2: Merge the two tuples using the '+' operator\n",
    "merged_tuple = tuple1 + tuple2\n",
    "\n",
    "# Step 3: Print the merged tuple\n",
    "print(\"Merged tuple:\", merged_tuple)"
   ]
  },
  {
   "cell_type": "raw",
   "id": "b60cffe5-087c-4224-98ce-83e504099462",
   "metadata": {},
   "source": [
    "Answer-31"
   ]
  },
  {
   "cell_type": "code",
   "execution_count": 104,
   "id": "1d744acc-2311-427e-8b9c-1cf36dbde78c",
   "metadata": {},
   "outputs": [
    {
     "name": "stdout",
     "output_type": "stream",
     "text": [
      "Flattened tuple: (1, 2, 3, 4, 5, 6, 7, 8)\n"
     ]
    }
   ],
   "source": [
    " #Recursive function to flatten a nested tuple\n",
    "def flatten_tuple(nested_tuple):\n",
    "    flattened = []\n",
    "    for item in nested_tuple:\n",
    "        if isinstance(item, tuple):\n",
    "            flattened.extend(flatten_tuple(item))\n",
    "        else:\n",
    "            flattened.append(item)\n",
    "    return flattened\n",
    "\n",
    "# Step 1: Create a nested tuple\n",
    "nested_tuple = ((1, 2), (3, 4, 5), (6, (7, 8)))\n",
    "\n",
    "# Step 2: Flatten the nested tuple\n",
    "flattened_tuple = tuple(flatten_tuple(nested_tuple))\n",
    "\n",
    "# Step 3: Print the flattened tuple\n",
    "print(\"Flattened tuple:\", flattened_tuple)"
   ]
  },
  {
   "cell_type": "raw",
   "id": "02264622-04a0-40aa-93de-8c47a02ceb12",
   "metadata": {},
   "source": [
    "Answer-32"
   ]
  },
  {
   "cell_type": "code",
   "execution_count": 105,
   "id": "e38ed4ca-58db-46a5-bac2-0d812f083c7e",
   "metadata": {},
   "outputs": [
    {
     "name": "stdout",
     "output_type": "stream",
     "text": [
      "(2, 3, 5, 7)\n"
     ]
    }
   ],
   "source": [
    " def is_prime(n):\n",
    "    if n <= 1:\n",
    "        return False\n",
    "    for i in range(2, int(n**0.5) + 1):\n",
    "        if n % i == 0:\n",
    "            return False\n",
    "    return True\n",
    " \n",
    "primes = tuple(x for x in range(2, 10) if is_prime(x))\n",
    "print(primes)"
   ]
  },
  {
   "cell_type": "raw",
   "id": "cb2a07c4-27a0-4a3c-b578-d25376548d21",
   "metadata": {},
   "source": [
    "Answer-33"
   ]
  },
  {
   "cell_type": "code",
   "execution_count": 106,
   "id": "1d9c79a4-6b71-495d-b68a-f876a5ac2943",
   "metadata": {},
   "outputs": [
    {
     "name": "stdout",
     "output_type": "stream",
     "text": [
      "palindrome_tuple is a palindrome: True\n",
      "non_palindrome_tuple is a palindrome: False\n"
     ]
    }
   ],
   "source": [
    "# Function to check if a tuple is a palindrome\n",
    "def is_palindrome(tup):\n",
    "    return tup == tup[::-1]\n",
    "\n",
    "# Create tuples for testing\n",
    "palindrome_tuple = (1, 2, 3, 2, 1)\n",
    "non_palindrome_tuple = (1, 2, 3, 4, 5)\n",
    "\n",
    "# Check if the tuples are palindromes\n",
    "is_palindrome1 = is_palindrome(palindrome_tuple)\n",
    "is_palindrome2 = is_palindrome(non_palindrome_tuple)\n",
    "\n",
    "# Print the results\n",
    "print(\"palindrome_tuple is a palindrome:\", is_palindrome1)\n",
    "print(\"non_palindrome_tuple is a palindrome:\", is_palindrome2)"
   ]
  },
  {
   "cell_type": "raw",
   "id": "e85a3b88-dd78-4a38-b998-807919869a35",
   "metadata": {},
   "source": [
    "Answer-34"
   ]
  },
  {
   "cell_type": "code",
   "execution_count": 107,
   "id": "07881580-c2f3-45e1-8af6-2262ba9dfde4",
   "metadata": {},
   "outputs": [
    {
     "name": "stdout",
     "output_type": "stream",
     "text": [
      "Tuple of squares: (1, 4, 9, 16, 25)\n"
     ]
    }
   ],
   "source": [
    "# Create a tuple of squares using a list comprehension\n",
    "squares_tuple = tuple(x ** 2 for x in range(1, 6))\n",
    "\n",
    "# Print the tuple of squares\n",
    "print(\"Tuple of squares:\", squares_tuple)"
   ]
  },
  {
   "cell_type": "raw",
   "id": "3df0cab5-ebeb-4339-93d7-441d36539f71",
   "metadata": {},
   "source": [
    "Answer-35"
   ]
  },
  {
   "cell_type": "code",
   "execution_count": 108,
   "id": "5d36a495-b721-44a4-bbc4-7d9ff34e3826",
   "metadata": {},
   "outputs": [
    {
     "name": "stdout",
     "output_type": "stream",
     "text": [
      "Filtered tuple: (1, 3, 5, 7, 9)\n"
     ]
    }
   ],
   "source": [
    "# Create a tuple\n",
    "original_tuple = (1, 2, 3, 4, 5, 6, 7, 8, 9, 10)\n",
    "\n",
    "# Filter out even numbers using a list comprehension\n",
    "filtered_tuple = tuple(num for num in original_tuple if num % 2 != 0)\n",
    "\n",
    "# Print the filtered tuple\n",
    "print(\"Filtered tuple:\", filtered_tuple)"
   ]
  },
  {
   "cell_type": "raw",
   "id": "cdd55f9c-72fa-4847-b232-bcedfeecfa12",
   "metadata": {},
   "source": [
    "Answer-36"
   ]
  },
  {
   "cell_type": "code",
   "execution_count": 109,
   "id": "19c580fc-7894-457d-860a-ef0809733a3e",
   "metadata": {},
   "outputs": [
    {
     "name": "stdout",
     "output_type": "stream",
     "text": [
      "Doubled tuple: (2, 4, 6, 8, 10)\n"
     ]
    }
   ],
   "source": [
    "# Create a tuple\n",
    "original_tuple = (1, 2, 3, 4, 5)\n",
    "\n",
    "# Multiply all elements by 2 using a list comprehension and convert to a tuple\n",
    "doubled_tuple = tuple(num * 2 for num in original_tuple)\n",
    "\n",
    "# Print the doubled tuple\n",
    "print(\"Doubled tuple:\", doubled_tuple)"
   ]
  },
  {
   "cell_type": "raw",
   "id": "3a5fb852-f2f3-45a7-baa9-d2329b401abf",
   "metadata": {},
   "source": [
    "Answer-37"
   ]
  },
  {
   "cell_type": "code",
   "execution_count": 110,
   "id": "42b9df51-5a22-4259-95e9-51b48a50c559",
   "metadata": {},
   "outputs": [
    {
     "name": "stdout",
     "output_type": "stream",
     "text": [
      "Random tuple: (45, 96, 79, 32, 40, 43, 19, 13, 51, 49)\n"
     ]
    }
   ],
   "source": [
    "import random\n",
    "\n",
    "# Create a tuple of random numbers using a list comprehension\n",
    "random_tuple = tuple(random.randint(1, 100) for _ in range(10))  # Generating 10 random numbers between 1 and 100\n",
    "\n",
    "# Print the tuple of random numbers\n",
    "print(\"Random tuple:\", random_tuple)"
   ]
  },
  {
   "cell_type": "raw",
   "id": "acbccd97-1207-4436-96a9-c47d92ca3960",
   "metadata": {},
   "source": [
    "Answer-38"
   ]
  },
  {
   "cell_type": "code",
   "execution_count": 111,
   "id": "a7c6ff0d-ed5d-4310-bb33-8517635f3864",
   "metadata": {},
   "outputs": [
    {
     "name": "stdout",
     "output_type": "stream",
     "text": [
      "sorted_tuple is sorted: True\n",
      "unsorted_tuple is sorted: False\n"
     ]
    }
   ],
   "source": [
    "# Function to check if a tuple is sorted\n",
    "def is_sorted(tup):\n",
    "    for i in range(len(tup) - 1):\n",
    "        if tup[i] > tup[i + 1]:\n",
    "            return False\n",
    "    return True\n",
    "\n",
    "# Create tuples for testing\n",
    "sorted_tuple = (1, 2, 3, 4, 5)\n",
    "unsorted_tuple = (5, 3, 1, 4, 2)\n",
    "\n",
    "# Check if the tuples are sorted\n",
    "is_sorted1 = is_sorted(sorted_tuple)\n",
    "is_sorted2 = is_sorted(unsorted_tuple)\n",
    "\n",
    "# Print the results\n",
    "print(\"sorted_tuple is sorted:\", is_sorted1)\n",
    "print(\"unsorted_tuple is sorted:\", is_sorted2)"
   ]
  },
  {
   "cell_type": "raw",
   "id": "c79b72a7-a0b8-406a-a9c4-f1a2a5de18c2",
   "metadata": {},
   "source": [
    "Answer-39"
   ]
  },
  {
   "cell_type": "code",
   "execution_count": 112,
   "id": "5f065665-5a57-4a7f-b0b0-3a8fb3f465e5",
   "metadata": {},
   "outputs": [
    {
     "name": "stdout",
     "output_type": "stream",
     "text": [
      "(3, 4, 5, 1, 2)\n"
     ]
    }
   ],
   "source": [
    "def rotate_tuple_left(tup, n):\n",
    "    n = n % len(tup)  # Ensure n is within the range of tuple length\n",
    "    rotated_tuple = tup[n:] + tup[:n]  # Rotate the tuple\n",
    "    return rotated_tuple\n",
    "\n",
    "# Example tuple\n",
    "my_tuple = (1, 2, 3, 4, 5)\n",
    "n_positions = 2\n",
    "result = rotate_tuple_left(my_tuple, n_positions)\n",
    "print(result)"
   ]
  },
  {
   "cell_type": "raw",
   "id": "f3829204-0c5d-4513-8cf4-1cf28b3c822d",
   "metadata": {},
   "source": [
    "Answer-40"
   ]
  },
  {
   "cell_type": "code",
   "execution_count": 113,
   "id": "4be826f1-1611-4007-9f04-b059bbf7c66a",
   "metadata": {},
   "outputs": [
    {
     "name": "stdout",
     "output_type": "stream",
     "text": [
      "(4, 5, 1, 2, 3)\n"
     ]
    }
   ],
   "source": [
    "def rotate_tuple_right(tup, n):\n",
    "    n = n % len(tup)  # Ensure n is within the range of tuple length\n",
    "    rotated_tuple = tup[-n:] + tup[:-n]  # Rotate the tuple\n",
    "    return rotated_tuple\n",
    "\n",
    "# Example tuple\n",
    "my_tuple = (1, 2, 3, 4, 5)\n",
    "n_positions = 2\n",
    "result = rotate_tuple_right(my_tuple, n_positions)\n",
    "print(result)"
   ]
  },
  {
   "cell_type": "raw",
   "id": "6330166f-cec0-406d-a322-8a2eb5dcda53",
   "metadata": {},
   "source": [
    "41. Create a tuple of the first 5 Fibonacci numbers.\n",
    "42. Create a tuple from user input.\n",
    "43. Swap two elements in a tuple.\n",
    "44. Reverse the elements of a tuple.\n",
    "45. Create a tuple of the first `n` powers of 2.\n",
    "46. Find the longest string in a tuple of strings.\n",
    "47. Find the shortest string in a tuple of strings.\n",
    "48. Create a tuple of the first `n` triangular numbers.\n",
    "49. Check if a tuple contains another tuple as a subsequence.\n",
    "50. Create a tuple of alternating 1s and 0s of length `n`."
   ]
  },
  {
   "cell_type": "raw",
   "id": "1f87e6ca-822e-4c3b-98d4-738a9bb4f714",
   "metadata": {},
   "source": [
    "Answer-41"
   ]
  },
  {
   "cell_type": "code",
   "execution_count": 114,
   "id": "ddc909e2-b3b7-49ac-a6fc-398d0eafc5fc",
   "metadata": {},
   "outputs": [
    {
     "name": "stdout",
     "output_type": "stream",
     "text": [
      "(0, 1, 1, 2, 3)\n"
     ]
    }
   ],
   "source": [
    "# Define a function to generate the first n Fibonacci numbers\n",
    "def generate_fibonacci(n):\n",
    "    fibonacci = [0, 1]  # Initialize the list with the first two Fibonacci numbers\n",
    "    while len(fibonacci) < n:  # Continue generating Fibonacci numbers until the list has n elements\n",
    "        next_number = fibonacci[-1] + fibonacci[-2]  # Calculate the next Fibonacci number\n",
    "        fibonacci.append(next_number)  # Add the next Fibonacci number to the list\n",
    "    return tuple(fibonacci)  # Convert the list to a tuple and return it\n",
    "\n",
    "# Call the generate_fibonacci function to create a tuple of the first 5 Fibonacci numbers\n",
    "fibonacci_tuple = generate_fibonacci(5)\n",
    "\n",
    "# Print the resulting tuple\n",
    "print(fibonacci_tuple)"
   ]
  },
  {
   "cell_type": "raw",
   "id": "cfbb98e5-0d8e-450e-b8db-2ffa205cf948",
   "metadata": {},
   "source": [
    "Answer-42"
   ]
  },
  {
   "cell_type": "code",
   "execution_count": 115,
   "id": "21fe7cdf-959d-40f2-9672-4515bcc8bcee",
   "metadata": {},
   "outputs": [
    {
     "name": "stdin",
     "output_type": "stream",
     "text": [
      "Enter elements separated by commas:  s,e,r,e,n,d,i,p,,i,t,y,\n"
     ]
    },
    {
     "name": "stdout",
     "output_type": "stream",
     "text": [
      "User input tuple: ('s', 'e', 'r', 'e', 'n', 'd', 'i', 'p', '', 'i', 't', 'y', '')\n"
     ]
    }
   ],
   "source": [
    "# Taking user input for creating a tuple\n",
    "input_str = input(\"Enter elements separated by commas: \")\n",
    "\n",
    "# Splitting the input string into a list of strings\n",
    "input_list = input_str.split(',')\n",
    "\n",
    "# Converting the list of strings to a tuple\n",
    "user_tuple = tuple(input_list)\n",
    "\n",
    "# Printing the created tuple\n",
    "print(\"User input tuple:\", user_tuple)"
   ]
  },
  {
   "cell_type": "raw",
   "id": "bd5fe978-d92e-4278-8fbf-cbe45544d839",
   "metadata": {},
   "source": [
    "Answer-43"
   ]
  },
  {
   "cell_type": "code",
   "execution_count": 116,
   "id": "97f3a36f-fef8-4cd7-9625-9d8b7123bc9b",
   "metadata": {},
   "outputs": [
    {
     "name": "stdout",
     "output_type": "stream",
     "text": [
      "Swapped tuple: (1, 4, 3, 2, 5)\n"
     ]
    }
   ],
   "source": [
    "my_tuple = (1, 2, 3, 4, 5)\n",
    "\n",
    "# Swap elements at indices 1 and 3\n",
    "index1 = 1\n",
    "index2 = 3\n",
    "swapped_tuple = tuple(\n",
    "    my_tuple[i] if i not in (index1, index2) else\n",
    "    my_tuple[index2] if i == index1 else\n",
    "    my_tuple[index1]\n",
    "    for i in range(len(my_tuple))\n",
    ")\n",
    "\n",
    "# Print the swapped tuple\n",
    "print(\"Swapped tuple:\", swapped_tuple)"
   ]
  },
  {
   "cell_type": "raw",
   "id": "b73d4b45-aa9f-41d7-b255-9dcfcefd184e",
   "metadata": {},
   "source": [
    "Answer-44"
   ]
  },
  {
   "cell_type": "code",
   "execution_count": 117,
   "id": "c606d758-19c8-4b48-8e21-46f73874592c",
   "metadata": {},
   "outputs": [
    {
     "name": "stdout",
     "output_type": "stream",
     "text": [
      "Reversed tuple: (5, 4, 3, 2, 1)\n"
     ]
    }
   ],
   "source": [
    "reversed_tuple = my_tuple[::-1]\n",
    "\n",
    "# Print the reversed tuple\n",
    "print(\"Reversed tuple:\", reversed_tuple)"
   ]
  },
  {
   "cell_type": "raw",
   "id": "7584ed62-403b-45e4-b067-dddba456e278",
   "metadata": {},
   "source": [
    "Answer-45"
   ]
  },
  {
   "cell_type": "code",
   "execution_count": 118,
   "id": "5703ac26-e3d0-4d61-af94-888c77d1c546",
   "metadata": {},
   "outputs": [
    {
     "name": "stdout",
     "output_type": "stream",
     "text": [
      "Tuple of the first 5 powers of 2: (1, 2, 4, 8, 16)\n"
     ]
    }
   ],
   "source": [
    "# Define the value of n\n",
    "n = 5\n",
    "\n",
    "# Create a tuple of the first n powers of 2 using a list comprehension\n",
    "powers_of_2_tuple = tuple(2 ** i for i in range(n))\n",
    "\n",
    "# Print the tuple of powers of 2\n",
    "print(\"Tuple of the first\", n, \"powers of 2:\", powers_of_2_tuple)"
   ]
  },
  {
   "cell_type": "raw",
   "id": "fe172d0c-d205-42b4-9703-3133209e17a1",
   "metadata": {},
   "source": [
    "Answer-46"
   ]
  },
  {
   "cell_type": "code",
   "execution_count": 120,
   "id": "5c809863-8e87-42b3-9e38-a3158e6d1531",
   "metadata": {},
   "outputs": [
    {
     "name": "stdout",
     "output_type": "stream",
     "text": [
      "Longest string: watermelon\n"
     ]
    }
   ],
   "source": [
    "# Create a tuple of strings\n",
    "string_tuple = (\"apple\", \"banana\", \"grape\", \"kiwi\", \"watermelon\")\n",
    "\n",
    "# Find the longest string in the tuple\n",
    "longest_string = max(string_tuple, key=len)\n",
    "\n",
    "# Print the longest string\n",
    "print(\"Longest string:\", longest_string)"
   ]
  },
  {
   "cell_type": "raw",
   "id": "e1930d71-0d46-4ec1-8f9e-999b80e98306",
   "metadata": {},
   "source": [
    "Answer-47"
   ]
  },
  {
   "cell_type": "code",
   "execution_count": 121,
   "id": "2fdaf163-535d-45be-9e70-1e926bf764fb",
   "metadata": {},
   "outputs": [
    {
     "name": "stdout",
     "output_type": "stream",
     "text": [
      "Shortest string: kiwi\n"
     ]
    }
   ],
   "source": [
    "shortest_string = min(string_tuple, key=len)\n",
    "\n",
    "# Print the shortest string\n",
    "print(\"Shortest string:\", shortest_string)"
   ]
  },
  {
   "cell_type": "raw",
   "id": "96892934-749f-45f9-a525-c9705cbd52d8",
   "metadata": {},
   "source": [
    "Answer-48"
   ]
  },
  {
   "cell_type": "code",
   "execution_count": 122,
   "id": "b29260f9-b6aa-450e-bdd7-d928730a8cf0",
   "metadata": {},
   "outputs": [
    {
     "name": "stdout",
     "output_type": "stream",
     "text": [
      "Tuple of the first 5 triangular numbers: (1, 3, 6, 10, 15)\n"
     ]
    }
   ],
   "source": [
    "n = 5\n",
    "\n",
    "# Create a tuple of the first n triangular numbers using a list comprehension\n",
    "triangular_numbers_tuple = tuple((i * (i + 1)) // 2 for i in range(1, n + 1))\n",
    "\n",
    "# Print the tuple of triangular numbers\n",
    "print(\"Tuple of the first\", n, \"triangular numbers:\", triangular_numbers_tuple)"
   ]
  },
  {
   "cell_type": "raw",
   "id": "bc9daf5e-8d22-4191-b448-2b8bd323eeb1",
   "metadata": {},
   "source": [
    "Answer-49"
   ]
  },
  {
   "cell_type": "code",
   "execution_count": 123,
   "id": "4fdc4c56-011a-49f7-bae1-3ea7270e32e2",
   "metadata": {},
   "outputs": [
    {
     "name": "stdout",
     "output_type": "stream",
     "text": [
      "Main tuple contains subsequence tuple: True\n"
     ]
    }
   ],
   "source": [
    "# Function to check if a tuple contains another tuple as a subsequence\n",
    "def contains_subsequence(main_tuple, sub_tuple):\n",
    "    sub_length = len(sub_tuple)\n",
    "    for i in range(len(main_tuple) - sub_length + 1):\n",
    "        if main_tuple[i:i+sub_length] == sub_tuple:\n",
    "            return True\n",
    "    return False\n",
    "\n",
    "# Main tuple\n",
    "main_tuple = (1, 2, 3, 4, 5, 6, 7, 8, 9)\n",
    "\n",
    "# Subsequence tuple\n",
    "sub_tuple = (3, 4, 5)\n",
    "\n",
    "# Check if the main tuple contains the subsequence tuple\n",
    "contains_subseq = contains_subsequence(main_tuple, sub_tuple)\n",
    "\n",
    "# Print the result\n",
    "print(\"Main tuple contains subsequence tuple:\", contains_subseq)"
   ]
  },
  {
   "cell_type": "raw",
   "id": "f62b80dd-c007-4b27-be25-fa930f892eea",
   "metadata": {},
   "source": [
    "Answer-50"
   ]
  },
  {
   "cell_type": "code",
   "execution_count": 124,
   "id": "5a9faf68-84d5-4388-936c-f64658c55f25",
   "metadata": {},
   "outputs": [
    {
     "name": "stdout",
     "output_type": "stream",
     "text": [
      "Tuple of alternating 1s and 0s: (0, 1, 0, 1, 0, 1, 0, 1, 0, 1)\n"
     ]
    }
   ],
   "source": [
    "# Define the value of n\n",
    "n = 10\n",
    "\n",
    "# Create a tuple of alternating 1s and 0s using a list comprehension\n",
    "alternating_tuple = tuple(i % 2 for i in range(n))\n",
    "\n",
    "# Print the tuple of alternating 1s and 0s\n",
    "print(\"Tuple of alternating 1s and 0s:\", alternating_tuple)"
   ]
  },
  {
   "cell_type": "markdown",
   "id": "08a71288-93be-4911-bde8-502562bb6dab",
   "metadata": {},
   "source": [
    "Set Based Questions"
   ]
  },
  {
   "cell_type": "raw",
   "id": "3414eb0a-2aa5-4789-b6fc-8fd24cbf25d3",
   "metadata": {},
   "source": [
    "1. Create a set with integers from 1 to 5.\n",
    "2. Add an element to a set.\n",
    "3. Remove an element from a set.\n",
    "4. Check if an element exists in a set.\n",
    "5. Find the length of a set without using the `len()` function.\n",
    "6. Clear all elements from a set.\n",
    "7. Create a set of even numbers from 1 to 10.\n",
    "8. Create a set of odd numbers from 1 to 10.\n",
    "9. Find the union of two sets.\n",
    "10. Find the intersection of two sets.\n",
    "11. Find the difference between two sets.\n",
    "12. Check if a set is a subset of another set.\n",
    "13. Check if a set is a superset of another set.\n",
    "14. Create a set from a list.\n",
    "15. Convert a set to a list.\n",
    "16. Remove a random element from a set.\n",
    "17. Pop an element from a set.\n",
    "18. Check if two sets have no elements in common.\n",
    "19. Find the symmetric difference between two sets.\n",
    "20. Update a set with elements from another set."
   ]
  },
  {
   "cell_type": "raw",
   "id": "6ae0c592-867c-4453-8e47-f827a7d1bc97",
   "metadata": {},
   "source": [
    "Answer-1"
   ]
  },
  {
   "cell_type": "code",
   "execution_count": 125,
   "id": "0239b5ec-ef19-4b80-9430-fda7b027219c",
   "metadata": {},
   "outputs": [],
   "source": [
    "my_set={1,2,3,4,5}"
   ]
  },
  {
   "cell_type": "raw",
   "id": "660f95fb-0337-48b7-8b92-49252540178b",
   "metadata": {},
   "source": [
    "Answer-2"
   ]
  },
  {
   "cell_type": "code",
   "execution_count": 126,
   "id": "4e6d8acf-8ff3-4ead-8349-62c3905eae36",
   "metadata": {},
   "outputs": [
    {
     "data": {
      "text/plain": [
       "{1, 2, 3, 4, 5, 6}"
      ]
     },
     "execution_count": 126,
     "metadata": {},
     "output_type": "execute_result"
    }
   ],
   "source": [
    "my_set.add(6)\n",
    "my_set"
   ]
  },
  {
   "cell_type": "raw",
   "id": "528ed4ed-b3b1-44c7-9015-b7f9d6eaaae4",
   "metadata": {},
   "source": [
    "Answer-3"
   ]
  },
  {
   "cell_type": "code",
   "execution_count": 127,
   "id": "41f4ed91-5570-4135-9004-f1ddfb2020eb",
   "metadata": {},
   "outputs": [
    {
     "data": {
      "text/plain": [
       "{2, 3, 4, 5, 6}"
      ]
     },
     "execution_count": 127,
     "metadata": {},
     "output_type": "execute_result"
    }
   ],
   "source": [
    "my_set.remove(1)\n",
    "my_set"
   ]
  },
  {
   "cell_type": "raw",
   "id": "0fde2b1b-da77-4e4e-b211-621be27ac01a",
   "metadata": {},
   "source": [
    "Answer-4"
   ]
  },
  {
   "cell_type": "code",
   "execution_count": 128,
   "id": "f34f503d-ba85-4e9c-89fc-23946ca43c4c",
   "metadata": {},
   "outputs": [
    {
     "name": "stdin",
     "output_type": "stream",
     "text": [
      "Enter the element to check:  7\n"
     ]
    },
    {
     "name": "stdout",
     "output_type": "stream",
     "text": [
      "7 exists in the set.\n"
     ]
    }
   ],
   "source": [
    "# Step 1: Create a set with some elements\n",
    "my_set = {1, 3, 5, 7, 9}\n",
    "\n",
    "# Step 2: Ask the user for the element they want to check\n",
    "element_to_check = int(input(\"Enter the element to check: \"))\n",
    "\n",
    "# Step 3: Use the \"in\" keyword to check if the element exists in the set\n",
    "if element_to_check in my_set:\n",
    "    # Step 4: If the element exists in the set, print a message\n",
    "    print(f\"{element_to_check} exists in the set.\")\n",
    "else:\n",
    "    # Step 5: If the element does not exist in the set, print a message\n",
    "    print(f\"{element_to_check} does not exist in the set.\")"
   ]
  },
  {
   "cell_type": "raw",
   "id": "1b1e90e4-f5db-43b8-8936-91e6dd65b60c",
   "metadata": {},
   "source": [
    "Answer-5"
   ]
  },
  {
   "cell_type": "code",
   "execution_count": 129,
   "id": "09aea68c-8609-42d6-8c1e-47f44bffd541",
   "metadata": {},
   "outputs": [
    {
     "name": "stdout",
     "output_type": "stream",
     "text": [
      "Length of the set: 5\n"
     ]
    }
   ],
   "source": [
    "# Initialize a variable to count the elements in the set\n",
    "count = 0\n",
    "\n",
    "# Iterate through each element in the set\n",
    "for _ in my_set:\n",
    "    # Increase the count by 1 for each element\n",
    "    count += 1\n",
    "\n",
    "# Print the count, which is the length of the set\n",
    "print(\"Length of the set:\", count)"
   ]
  },
  {
   "cell_type": "raw",
   "id": "e12bef87-c2ee-478e-8eea-86368cb1147f",
   "metadata": {},
   "source": [
    "Answer-6"
   ]
  },
  {
   "cell_type": "code",
   "execution_count": 130,
   "id": "4b05931b-7d84-430c-b017-cf5ffe1afa6c",
   "metadata": {},
   "outputs": [
    {
     "data": {
      "text/plain": [
       "set()"
      ]
     },
     "execution_count": 130,
     "metadata": {},
     "output_type": "execute_result"
    }
   ],
   "source": [
    "my_set.clear()\n",
    "my_set"
   ]
  },
  {
   "cell_type": "raw",
   "id": "e26058d9-622b-473f-ac30-1990bcfae4cb",
   "metadata": {},
   "source": [
    "Answer-7"
   ]
  },
  {
   "cell_type": "code",
   "execution_count": 131,
   "id": "328b5a93-1dcc-4df7-ac81-e74dc0a4495e",
   "metadata": {},
   "outputs": [
    {
     "name": "stdout",
     "output_type": "stream",
     "text": [
      "{2, 4, 6, 8, 10}\n"
     ]
    }
   ],
   "source": [
    "# Step 1: Initialize an empty set\n",
    "even_numbers_set = set()\n",
    "\n",
    "# Step 2: Iterate through numbers from 1 to 10\n",
    "for num in range(1, 11):\n",
    "    # Step 3: Check if the number is even\n",
    "    if num % 2 == 0:\n",
    "        # Step 4: Add the even number to the set\n",
    "        even_numbers_set.add(num)\n",
    "\n",
    "# Step 5: Print the set of even numbers\n",
    "print(even_numbers_set)"
   ]
  },
  {
   "cell_type": "raw",
   "id": "842bf4ff-010b-4944-ac89-4cbbfe4bb9c5",
   "metadata": {},
   "source": [
    "Answer-8"
   ]
  },
  {
   "cell_type": "code",
   "execution_count": 132,
   "id": "7aa670e6-82d3-48bc-a800-eed0e23ce602",
   "metadata": {},
   "outputs": [
    {
     "name": "stdout",
     "output_type": "stream",
     "text": [
      "{1, 3, 5, 7, 9}\n"
     ]
    }
   ],
   "source": [
    "# Step 1: Initialize an empty set to store odd numbers.\n",
    "odd_numbers_set = set()\n",
    "\n",
    "# Step 2: Iterate through numbers from 1 to 10.\n",
    "for num in range(1, 11):\n",
    "    # Step 3: Check if the current number is odd.\n",
    "    if num % 2 != 0:\n",
    "        # Step 4: If the number is odd, add it to the set.\n",
    "        odd_numbers_set.add(num)\n",
    "\n",
    "# Step 5: Print the final set of odd numbers.\n",
    "print(odd_numbers_set)\n"
   ]
  },
  {
   "cell_type": "raw",
   "id": "730a102d-ae61-4870-9f26-fbbb8bfeb367",
   "metadata": {},
   "source": [
    "Answer-9"
   ]
  },
  {
   "cell_type": "code",
   "execution_count": 133,
   "id": "bc55bdf1-4dbd-4dd8-b027-9a23b5cb2627",
   "metadata": {},
   "outputs": [
    {
     "name": "stdout",
     "output_type": "stream",
     "text": [
      "Set 1: {1, 2, 3, 4, 5}\n",
      "Set 2: {4, 5, 6, 7, 8}\n",
      "Union of Set 1 and Set 2: {1, 2, 3, 4, 5, 6, 7, 8}\n"
     ]
    }
   ],
   "source": [
    "set1 = {1, 2, 3, 4, 5}\n",
    "set2 = {4, 5, 6, 7, 8}\n",
    "\n",
    "# Find the union of the two sets using the `union()` method\n",
    "union_result = set1.union(set2)\n",
    "\n",
    "# Print the original sets and their union\n",
    "print(\"Set 1:\", set1)\n",
    "print(\"Set 2:\", set2)\n",
    "print(\"Union of Set 1 and Set 2:\", union_result)"
   ]
  },
  {
   "cell_type": "raw",
   "id": "70046fab-9e8a-43b0-83d6-7679203e5727",
   "metadata": {},
   "source": [
    "Answer-10"
   ]
  },
  {
   "cell_type": "code",
   "execution_count": 134,
   "id": "538d8edc-8439-47be-8a85-489a40db011c",
   "metadata": {},
   "outputs": [
    {
     "data": {
      "text/plain": [
       "{4, 5}"
      ]
     },
     "execution_count": 134,
     "metadata": {},
     "output_type": "execute_result"
    }
   ],
   "source": [
    "d=set1.intersection(set2)\n",
    "d"
   ]
  },
  {
   "cell_type": "raw",
   "id": "2ecf37aa-dcc6-4341-9a65-1585d0647f1b",
   "metadata": {},
   "source": [
    "Answer-11"
   ]
  },
  {
   "cell_type": "code",
   "execution_count": 135,
   "id": "8b8712e3-2677-427d-8ddf-7032b64ef468",
   "metadata": {},
   "outputs": [
    {
     "data": {
      "text/plain": [
       "{1, 2, 3}"
      ]
     },
     "execution_count": 135,
     "metadata": {},
     "output_type": "execute_result"
    }
   ],
   "source": [
    "e=set1.difference(set2)\n",
    "e"
   ]
  },
  {
   "cell_type": "raw",
   "id": "0b5df46f-a3e1-4bf2-8a51-b955353a7f95",
   "metadata": {},
   "source": [
    "Answer-12"
   ]
  },
  {
   "cell_type": "code",
   "execution_count": 136,
   "id": "0f290596-613d-449f-9519-d609372f5dcf",
   "metadata": {},
   "outputs": [
    {
     "data": {
      "text/plain": [
       "False"
      ]
     },
     "execution_count": 136,
     "metadata": {},
     "output_type": "execute_result"
    }
   ],
   "source": [
    "f=set1.issubset(set2)\n",
    "f"
   ]
  },
  {
   "cell_type": "raw",
   "id": "f944a019-73c3-4c8f-a68c-22248513249d",
   "metadata": {},
   "source": [
    "Answer-13"
   ]
  },
  {
   "cell_type": "code",
   "execution_count": 137,
   "id": "915f2092-3d9e-460d-a371-c4bc16ad26ab",
   "metadata": {},
   "outputs": [
    {
     "data": {
      "text/plain": [
       "False"
      ]
     },
     "execution_count": 137,
     "metadata": {},
     "output_type": "execute_result"
    }
   ],
   "source": [
    "g=set1.issuperset(set2)\n",
    "g"
   ]
  },
  {
   "cell_type": "raw",
   "id": "b6d2d2ed-fc8c-43a2-b9b1-3b645ba0cb81",
   "metadata": {},
   "source": [
    "Answer-14"
   ]
  },
  {
   "cell_type": "code",
   "execution_count": 138,
   "id": "119e44ad-25ad-4f9d-b5a1-c6bd29761a76",
   "metadata": {},
   "outputs": [
    {
     "data": {
      "text/plain": [
       "{0, 10, 20, 30}"
      ]
     },
     "execution_count": 138,
     "metadata": {},
     "output_type": "execute_result"
    }
   ],
   "source": [
    "h=set(my_list)\n",
    "h"
   ]
  },
  {
   "cell_type": "raw",
   "id": "c0771cf9-b4ef-4d49-b275-cb26e3c965c2",
   "metadata": {},
   "source": [
    "Answer-15"
   ]
  },
  {
   "cell_type": "code",
   "execution_count": 139,
   "id": "2a6c8a54-2a19-4817-980d-30331b1aff7c",
   "metadata": {},
   "outputs": [
    {
     "data": {
      "text/plain": [
       "[0, 10, 20, 30]"
      ]
     },
     "execution_count": 139,
     "metadata": {},
     "output_type": "execute_result"
    }
   ],
   "source": [
    "g=list(h)\n",
    "g"
   ]
  },
  {
   "cell_type": "raw",
   "id": "54d8a0ab-7242-45e4-bf01-f1f0b4f951f7",
   "metadata": {},
   "source": [
    "Answer-16"
   ]
  },
  {
   "cell_type": "code",
   "execution_count": 140,
   "id": "b293c432-8d83-4b26-9ac4-e1072425e93e",
   "metadata": {},
   "outputs": [
    {
     "name": "stdout",
     "output_type": "stream",
     "text": [
      "Original set: {1, 2, 3, 4, 5}\n",
      "Updated set after removing 2 : {1, 3, 4, 5}\n"
     ]
    }
   ],
   "source": [
    "import random  # Import the random module\n",
    "\n",
    "# Create a set with some elements\n",
    "my_set = {1, 2, 3, 4, 5}\n",
    "\n",
    "# Display the original set\n",
    "print(\"Original set:\", my_set)\n",
    "\n",
    "# Choose a random element from the set using the random.choice() function\n",
    "random_element = random.choice(list(my_set))\n",
    "\n",
    "# Remove the chosen random element from the set using the remove() method\n",
    "my_set.remove(random_element)\n",
    "\n",
    "# Display the updated set after removing the random element\n",
    "print(\"Updated set after removing\", random_element, \":\", my_set)"
   ]
  },
  {
   "cell_type": "raw",
   "id": "af6e6995-a680-4aae-a52f-f700b1cf2e9a",
   "metadata": {},
   "source": [
    "Answer-17"
   ]
  },
  {
   "cell_type": "code",
   "execution_count": 142,
   "id": "be3171c3-defc-4b05-8288-b0a6562e262f",
   "metadata": {},
   "outputs": [
    {
     "data": {
      "text/plain": [
       "{2, 3, 4, 5}"
      ]
     },
     "execution_count": 142,
     "metadata": {},
     "output_type": "execute_result"
    }
   ],
   "source": [
    "set1.pop()\n",
    "set1"
   ]
  },
  {
   "cell_type": "raw",
   "id": "c9714a51-4661-4df2-9e2c-70232f270294",
   "metadata": {},
   "source": [
    "Answer-18"
   ]
  },
  {
   "cell_type": "code",
   "execution_count": 143,
   "id": "130a2ced-edf8-49de-b917-5b4c12acd868",
   "metadata": {},
   "outputs": [
    {
     "data": {
      "text/plain": [
       "{4, 5}"
      ]
     },
     "execution_count": 143,
     "metadata": {},
     "output_type": "execute_result"
    }
   ],
   "source": [
    "j=set1.intersection(set2)\n",
    "j"
   ]
  },
  {
   "cell_type": "raw",
   "id": "4b858619-48e4-4d0d-bf08-7ea99766d08f",
   "metadata": {},
   "source": [
    "Answer-19"
   ]
  },
  {
   "cell_type": "code",
   "execution_count": 144,
   "id": "b0c63beb-98cc-4d89-acd0-8dc79cab18b0",
   "metadata": {},
   "outputs": [
    {
     "name": "stdout",
     "output_type": "stream",
     "text": [
      "Symmetric Difference: {1, 2, 3, 6, 7, 8}\n"
     ]
    }
   ],
   "source": [
    "# Define two sets\n",
    "set1 = {1, 2, 3, 4, 5}\n",
    "set2 = {4, 5, 6, 7, 8}\n",
    "\n",
    "# Calculate the symmetric difference using the ^ operator\n",
    "symmetric_difference = set1 ^ set2\n",
    "\n",
    "# Print the symmetric difference\n",
    "print(\"Symmetric Difference:\", symmetric_difference)"
   ]
  },
  {
   "cell_type": "raw",
   "id": "ed5963fe-5bb9-4a7c-a7b9-83e9753824d5",
   "metadata": {},
   "source": [
    "Answer-20"
   ]
  },
  {
   "cell_type": "code",
   "execution_count": 145,
   "id": "0178e883-b945-4c05-9d26-f039fec74ffd",
   "metadata": {},
   "outputs": [
    {
     "name": "stdout",
     "output_type": "stream",
     "text": [
      "Set 1: {1, 2, 3}\n",
      "Set 2: {3, 4, 5}\n",
      "Updated Set 1: {1, 2, 3, 4, 5}\n"
     ]
    }
   ],
   "source": [
    "# Create the first set\n",
    "set1 = {1, 2, 3}\n",
    "print(\"Set 1:\", set1)\n",
    "\n",
    "# Create the second set\n",
    "set2 = {3, 4, 5}\n",
    "print(\"Set 2:\", set2)\n",
    "\n",
    "# Update set1 with elements from set2\n",
    "set1.update(set2)\n",
    "print(\"Updated Set 1:\", set1)"
   ]
  },
  {
   "cell_type": "raw",
   "id": "fdf0ef50-6539-447b-be95-65f5e662c5fc",
   "metadata": {},
   "source": [
    "21. Create a set of the first 5 prime numbers.\n",
    "22. Check if two sets are identical.\n",
    "23. Create a frozen set.\n",
    "24. Check if a set is disjoint with another set.\n",
    "25. Create a set of squares of numbers from 1 to 5.\n",
    "26. Filter out all even numbers from a set.\n",
    "27. Multiply all elements in a set by 2.\n",
    "28. Create a set of random numbers.\n",
    "29. Check if a set is empty.\n",
    "30. Create a nested set (hint: use frozenset).\n",
    "31. Remove an element from a set using the discard method.\n",
    "32. Compare two sets.\n",
    "33. Create a set from a string.\n",
    "34. Convert a set of strings to a set of integers.\n",
    "35. Convert a set of integers to a set of strings.\n",
    "36. Create a set from a tuple.\n",
    "37. Convert a set to a tuple.\n",
    "38. Find the maximum value in a set.\n",
    "39. Find the minimum value in a set.\n",
    "40. Create a set from user input."
   ]
  },
  {
   "cell_type": "raw",
   "id": "d1385bbf-abda-4b18-a0da-f675d8442daa",
   "metadata": {},
   "source": [
    "Answer-21"
   ]
  },
  {
   "cell_type": "code",
   "execution_count": 146,
   "id": "a74de897-d14e-4ef0-ad71-fc27fb7e5900",
   "metadata": {},
   "outputs": [
    {
     "name": "stdout",
     "output_type": "stream",
     "text": [
      "Set of the first 5 prime numbers: {2, 3, 5, 7, 11}\n"
     ]
    }
   ],
   "source": [
    "# Function to check if a number is prime\n",
    "def is_prime(num):\n",
    "    if num <= 1:\n",
    "        return False\n",
    "    for i in range(2, int(num ** 0.5) + 1):\n",
    "        if num % i == 0:\n",
    "            return False\n",
    "    return True\n",
    "\n",
    "# Create an empty set to store the prime numbers\n",
    "prime_set = set()\n",
    "\n",
    "# Initialize the number to start checking for primes\n",
    "num = 2\n",
    "\n",
    "# Loop until we have found the first 5 prime numbers\n",
    "while len(prime_set) < 5:\n",
    "    # Check if the current number is prime using the is_prime function\n",
    "    if is_prime(num):\n",
    "        # If the number is prime, add it to the prime_set\n",
    "        prime_set.add(num)\n",
    "         # Move on to the next number for the next iteration\n",
    "    num += 1\n",
    "\n",
    "# Print the set of prime numbers\n",
    "print(\"Set of the first 5 prime numbers:\", prime_set)"
   ]
  },
  {
   "cell_type": "raw",
   "id": "70659a49-958b-4cd9-8ba6-abe598b5957e",
   "metadata": {},
   "source": [
    "Answer-22"
   ]
  },
  {
   "cell_type": "code",
   "execution_count": 147,
   "id": "c686f7ef-445b-4694-be24-762d5ee424f6",
   "metadata": {},
   "outputs": [
    {
     "name": "stdout",
     "output_type": "stream",
     "text": [
      "The sets are identical.\n"
     ]
    }
   ],
   "source": [
    "# Step 1: Define two sets\n",
    "set1 = {1, 2, 3, 4, 5}\n",
    "set2 = {3, 1, 5, 2, 4}  # The order of elements doesn't matter in sets\n",
    "\n",
    "# Step 2: Check if the sets are identical using the `==` operator\n",
    "# Sets are unordered collections, so the order of elements doesn't matter.\n",
    "# The `==` operator compares the content of the sets.\n",
    "if set1 == set2:\n",
    "    print(\"The sets are identical.\")\n",
    "else:\n",
    "    print(\"The sets are not identical.\")"
   ]
  },
  {
   "cell_type": "raw",
   "id": "68bf243c-f144-4445-88dc-86e17a55d287",
   "metadata": {},
   "source": [
    "Answer-23"
   ]
  },
  {
   "cell_type": "code",
   "execution_count": 148,
   "id": "b8561d57-03b2-43cd-a5e8-c1c42ea12842",
   "metadata": {},
   "outputs": [
    {
     "name": "stdout",
     "output_type": "stream",
     "text": [
      "Frozen Set: frozenset({1, 2, 3, 4, 5})\n"
     ]
    }
   ],
   "source": [
    "elements = [1, 2, 3, 4, 5]\n",
    "\n",
    "#  Create a frozen set using the 'frozenset' constructor and passing the list of elements\n",
    "my_frozen_set = frozenset(elements)\n",
    "\n",
    "# Print the frozen set\n",
    "print(\"Frozen Set:\", my_frozen_set)"
   ]
  },
  {
   "cell_type": "raw",
   "id": "cdaaf8a3-4412-450b-b94f-3307726a2607",
   "metadata": {},
   "source": [
    "Answer-24"
   ]
  },
  {
   "cell_type": "code",
   "execution_count": 151,
   "id": "4bcf6acd-5c13-463f-b451-6365c009159d",
   "metadata": {},
   "outputs": [
    {
     "data": {
      "text/plain": [
       "False"
      ]
     },
     "execution_count": 151,
     "metadata": {},
     "output_type": "execute_result"
    }
   ],
   "source": [
    "k=set1.isdisjoint(set2)\n",
    "k"
   ]
  },
  {
   "cell_type": "raw",
   "id": "474e724d-c535-487b-8adb-3d4d8eae2ce5",
   "metadata": {},
   "source": [
    "Answer-25"
   ]
  },
  {
   "cell_type": "code",
   "execution_count": 152,
   "id": "f6a625f5-7b66-4842-9faf-16ca61c0a785",
   "metadata": {},
   "outputs": [
    {
     "name": "stdout",
     "output_type": "stream",
     "text": [
      "{1, 4, 9, 16, 25}\n"
     ]
    }
   ],
   "source": [
    "# Step 1: Create an empty set to store the squares of numbers\n",
    "squares_set = set()\n",
    "\n",
    "# Step 2: Use a loop to iterate through numbers from 1 to 5\n",
    "for num in range(1, 6):\n",
    "    # Step 3: Calculate the square of the current number\n",
    "    square = num ** 2\n",
    "\n",
    "    # Step 4: Add the square to the set\n",
    "    squares_set.add(square)\n",
    "\n",
    "# Step 5: Print the set of squares\n",
    "print(squares_set)"
   ]
  },
  {
   "cell_type": "raw",
   "id": "508ca47c-7399-466f-a2b6-252733cfc650",
   "metadata": {},
   "source": [
    "Answer-26"
   ]
  },
  {
   "cell_type": "code",
   "execution_count": 153,
   "id": "c8b09898-52db-42f4-a074-40a311fe49c5",
   "metadata": {},
   "outputs": [
    {
     "name": "stdout",
     "output_type": "stream",
     "text": [
      "Original Set: {1, 2, 3, 4, 5}\n",
      "Even Numbers Set: {2, 4}\n"
     ]
    }
   ],
   "source": [
    "# Step 1: Create a set with integers from 1 to 5\n",
    "original_set = {1, 2, 3, 4, 5}\n",
    "\n",
    "# Step 2: Initialize an empty set to store the filtered even numbers\n",
    "even_numbers_set = set()\n",
    "\n",
    "# Step 3: Iterate through each element in the original set\n",
    "for num in original_set:\n",
    "    # Step 4: Check if the current number is even (divisible by 2)\n",
    "    if num % 2 == 0:\n",
    "        # Step 5: If even, add it to the even_numbers_set\n",
    "        even_numbers_set.add(num)\n",
    "\n",
    "# Step 6: Print the original set and the set containing even numbers\n",
    "print(\"Original Set:\", original_set)\n",
    "print(\"Even Numbers Set:\", even_numbers_set)"
   ]
  },
  {
   "cell_type": "raw",
   "id": "9c2c7fb6-0f07-43cd-82ae-0f6a43decfdc",
   "metadata": {},
   "source": [
    "Answer-27"
   ]
  },
  {
   "cell_type": "code",
   "execution_count": 154,
   "id": "afee1a54-3c4d-4211-b5e1-e421878b74c4",
   "metadata": {},
   "outputs": [
    {
     "name": "stdout",
     "output_type": "stream",
     "text": [
      "Original Set: {1, 2, 3, 4, 5}\n",
      "Multiplied Set: {2, 4, 6, 8, 10}\n"
     ]
    }
   ],
   "source": [
    "original_set = {1, 2, 3, 4, 5}\n",
    "\n",
    "# Initialize an empty set to store the multiplied elements\n",
    "multiplied_set = set()\n",
    "\n",
    "# Loop through each element in the original set\n",
    "for num in original_set:\n",
    "    # Multiply the current element by 2\n",
    "    multiplied_num = num * 2\n",
    "\n",
    "    # Add the multiplied element to the multiplied_set\n",
    "    multiplied_set.add(multiplied_num)\n",
    "\n",
    "# The original_set remains unchanged\n",
    "print(\"Original Set:\", original_set)\n",
    "\n",
    "# Display the set with elements multiplied by 2\n",
    "print(\"Multiplied Set:\", multiplied_set)"
   ]
  },
  {
   "cell_type": "raw",
   "id": "e136ff79-bf50-4a26-b2db-8b30b5d426a5",
   "metadata": {},
   "source": [
    "Answer-28"
   ]
  },
  {
   "cell_type": "code",
   "execution_count": 155,
   "id": "d320def5-8a76-4c20-9808-7b8497ea7f22",
   "metadata": {},
   "outputs": [
    {
     "name": "stdout",
     "output_type": "stream",
     "text": [
      "Generated set of random numbers: {97, 100, 85, 86, 61}\n"
     ]
    }
   ],
   "source": [
    "# Step 1: Import the `random` module to generate random numbers\n",
    "import random\n",
    "\n",
    "# Step 2: Define the number of random numbers you want in the set\n",
    "num_random_numbers = 5\n",
    "\n",
    "# Step 3: Initialize an empty set to store the random numbers\n",
    "random_number_set = set()\n",
    "\n",
    "# Step 4: Use a loop to generate random numbers and add them to the set\n",
    "for _ in range(num_random_numbers):\n",
    "    # Generate a random integer using the `randint` function from the `random` module\n",
    "    random_num = random.randint(1, 100)  # Generate a random number between 1 and 100\n",
    "    # Add the random number to the set\n",
    "    random_number_set.add(random_num)\n",
    "\n",
    "# Step 5: Print the generated set of random numbers\n",
    "print(\"Generated set of random numbers:\", random_number_set)"
   ]
  },
  {
   "cell_type": "raw",
   "id": "a693ac05-4e8c-4b45-85a1-a0bfad1da9b2",
   "metadata": {},
   "source": [
    "Answer-29"
   ]
  },
  {
   "cell_type": "code",
   "execution_count": 156,
   "id": "4bd285c2-4bdd-4b73-b21e-08aaca0810cd",
   "metadata": {},
   "outputs": [
    {
     "name": "stdout",
     "output_type": "stream",
     "text": [
      "The set is empty.\n"
     ]
    }
   ],
   "source": [
    "# Step 1: Create a set (you can replace this with your own set)\n",
    "my_set = set()\n",
    "\n",
    "# Step 2: Check if the set is empty using the 'if' statement\n",
    "if not my_set:\n",
    "    print(\"The set is empty.\")\n",
    "else:\n",
    "    print(\"The set is not empty.\")"
   ]
  },
  {
   "cell_type": "raw",
   "id": "56f386d0-7842-43b8-bdca-af96112a3465",
   "metadata": {},
   "source": [
    "Answer-30"
   ]
  },
  {
   "cell_type": "code",
   "execution_count": 157,
   "id": "62f58ca6-29e5-4406-aa96-a777eaf456cb",
   "metadata": {},
   "outputs": [
    {
     "name": "stdout",
     "output_type": "stream",
     "text": [
      "Nested Set: {frozenset({1, 2, 3, 4, 5}), frozenset({6, 7, 8, 9, 10})}\n"
     ]
    }
   ],
   "source": [
    "# Step 1: Create the inner sets\n",
    "set1 = {1, 2, 3, 4, 5}\n",
    "set2 = {6, 7, 8, 9, 10}\n",
    "\n",
    "# Step 2: Create frozensets from the inner sets\n",
    "frozen_set1 = frozenset(set1)\n",
    "frozen_set2 = frozenset(set2)\n",
    "\n",
    "# Step 3: Create the nested set using the frozensets\n",
    "nested_set = {frozen_set1, frozen_set2}\n",
    "\n",
    "# Print the nested set\n",
    "print(\"Nested Set:\", nested_set)"
   ]
  },
  {
   "cell_type": "raw",
   "id": "e2580fc2-9c1b-4928-9e44-f0fc099154b2",
   "metadata": {},
   "source": [
    "Answer-31"
   ]
  },
  {
   "cell_type": "code",
   "execution_count": 158,
   "id": "c41f00cd-3224-4b7b-ba2a-ff0de37ade45",
   "metadata": {},
   "outputs": [
    {
     "name": "stdout",
     "output_type": "stream",
     "text": [
      "Initial set: {1, 2, 3, 4, 5}\n",
      "Set after removing 3 : {1, 2, 4, 5}\n"
     ]
    }
   ],
   "source": [
    "# Create a set with some elements\n",
    "my_set = {1, 2, 3, 4, 5}\n",
    "\n",
    "# Display the initial set\n",
    "print(\"Initial set:\", my_set)\n",
    "\n",
    "# Define the element to be removed\n",
    "element_to_remove = 3\n",
    "\n",
    "# Use the discard() method to remove the element from the set\n",
    "# If the element is not present in the set, discard() won't raise an error\n",
    "my_set.discard(element_to_remove)\n",
    "\n",
    "# Display the set after removing the element\n",
    "print(\"Set after removing\", element_to_remove, \":\", my_set)"
   ]
  },
  {
   "cell_type": "raw",
   "id": "93d50960-4b95-4b20-9d35-c9670363884b",
   "metadata": {},
   "source": [
    "Answer-32"
   ]
  },
  {
   "cell_type": "code",
   "execution_count": 159,
   "id": "740b5323-1515-4248-9e68-9a028f613dc7",
   "metadata": {},
   "outputs": [
    {
     "name": "stdout",
     "output_type": "stream",
     "text": [
      "Set 1: {1, 2, 3, 4, 5}\n",
      "Set 2: {4, 5, 6, 7, 8}\n",
      "Is set1 a subset of set2? False\n",
      "Is set2 a subset of set1? False\n",
      "Intersection: {4, 5}\n",
      "Union: {1, 2, 3, 4, 5, 6, 7, 8}\n",
      "Elements in set1 but not in set2: {1, 2, 3}\n",
      "Elements in set2 but not in set1: {8, 6, 7}\n"
     ]
    }
   ],
   "source": [
    "# Step 1: Define two sets\n",
    "set1 = {1, 2, 3, 4, 5}\n",
    "set2 = {4, 5, 6, 7, 8}\n",
    "\n",
    "# Step 2: Use set operations to compare the sets\n",
    "# Check if set1 is a subset of set2\n",
    "is_subset = set1.issubset(set2)\n",
    "\n",
    "# Check if set2 is a subset of set1\n",
    "is_superset = set1.issuperset(set2)\n",
    "\n",
    "# Find the intersection of the sets\n",
    "intersection = set1.intersection(set2)\n",
    "\n",
    "# Find the union of the sets\n",
    "union = set1.union(set2)\n",
    "\n",
    "# Find the elements that are in set1 but not in set2\n",
    "difference1 = set1.difference(set2)\n",
    "# Find the elements that are in set2 but not in set1\n",
    "difference2 = set2.difference(set1)\n",
    "\n",
    "# Step 3: Print the results\n",
    "print(\"Set 1:\", set1)\n",
    "print(\"Set 2:\", set2)\n",
    "print(\"Is set1 a subset of set2?\", is_subset)\n",
    "print(\"Is set2 a subset of set1?\", is_superset)\n",
    "print(\"Intersection:\", intersection)\n",
    "print(\"Union:\", union)\n",
    "print(\"Elements in set1 but not in set2:\", difference1)\n",
    "print(\"Elements in set2 but not in set1:\", difference2)"
   ]
  },
  {
   "cell_type": "raw",
   "id": "a3847cce-bc88-4110-8173-a82aa8c358b7",
   "metadata": {},
   "source": [
    "Answer-33"
   ]
  },
  {
   "cell_type": "code",
   "execution_count": 160,
   "id": "ca6688f9-3ae3-4bd4-8f64-f238c8926eae",
   "metadata": {},
   "outputs": [
    {
     "name": "stdout",
     "output_type": "stream",
     "text": [
      "{'e', 'o', 'h', 'l'}\n"
     ]
    }
   ],
   "source": [
    "# Step 1: Define the input string\n",
    "input_string = \"hello\"\n",
    "\n",
    "# Step 2: Use the set() constructor to create a set from the characters in the string\n",
    "char_set = set(input_string)\n",
    "\n",
    "# Step 3: Print the resulting set\n",
    "print(char_set)"
   ]
  },
  {
   "cell_type": "raw",
   "id": "c2feef47-ec67-4207-bea4-f09cae435e59",
   "metadata": {},
   "source": [
    "Answer-34"
   ]
  },
  {
   "cell_type": "code",
   "execution_count": 161,
   "id": "48927e73-dc70-464f-bca1-62561b06eb4a",
   "metadata": {},
   "outputs": [
    {
     "name": "stdout",
     "output_type": "stream",
     "text": [
      "Original String Set: {'789', '456', '123'}\n",
      "Converted Integer Set: {456, 123, 789}\n"
     ]
    }
   ],
   "source": [
    "# Step 1: Create a set of strings\n",
    "string_set = {\"123\", \"456\", \"789\"}\n",
    "\n",
    "# Step 2: Initialize an empty set to store integers\n",
    "integer_set = set()\n",
    "\n",
    "# Step 3: Iterate through each string in the string set\n",
    "for string in string_set:\n",
    "    # Step 4: Convert the string to an integer using the int() function\n",
    "    integer_value = int(string)\n",
    "\n",
    "    # Step 5: Add the integer to the integer set\n",
    "    integer_set.add(integer_value)\n",
    "\n",
    "# Step 6: Print the original string set and the converted integer set\n",
    "print(\"Original String Set:\", string_set)\n",
    "print(\"Converted Integer Set:\", integer_set)"
   ]
  },
  {
   "cell_type": "raw",
   "id": "ff2d1905-b0a2-4f74-8151-11c53d54cf13",
   "metadata": {},
   "source": [
    "Answer-35"
   ]
  },
  {
   "cell_type": "code",
   "execution_count": 162,
   "id": "16e6a4b3-66eb-4149-aa65-727f1ecf4ac0",
   "metadata": {},
   "outputs": [
    {
     "name": "stdout",
     "output_type": "stream",
     "text": [
      "Original integers_set: {1, 2, 3, 4, 5}\n",
      "Converted strings_set: {'5', '2', '4', '3', '1'}\n"
     ]
    }
   ],
   "source": [
    "# Step 1: Create a set of integers\n",
    "integers_set = {1, 2, 3, 4, 5}\n",
    "\n",
    "# Step 2: Initialize an empty set to store the strings\n",
    "strings_set = set()\n",
    "\n",
    "# Step 3: Iterate through each integer in the integers_set\n",
    "for num in integers_set:\n",
    "    # Step 4: Convert the integer to a string using the str() function\n",
    "    num_str = str(num)\n",
    "\n",
    "    # Step 5: Add the string representation to the strings_set\n",
    "    strings_set.add(num_str)\n",
    "\n",
    "# Step 6: Print the original integers_set and the converted strings_set\n",
    "print(\"Original integers_set:\", integers_set)\n",
    "print(\"Converted strings_set:\", strings_set)"
   ]
  },
  {
   "cell_type": "raw",
   "id": "ed1a91f7-b4a1-4848-b8a5-2a6ded92dfa3",
   "metadata": {},
   "source": [
    "Answer-36"
   ]
  },
  {
   "cell_type": "code",
   "execution_count": 163,
   "id": "cad7c731-1964-4056-bd0b-7b0a242a456f",
   "metadata": {},
   "outputs": [
    {
     "name": "stdout",
     "output_type": "stream",
     "text": [
      "{1, 2, 3, 4, 5}\n"
     ]
    }
   ],
   "source": [
    "# Given tuple\n",
    "input_tuple = (1, 2, 3, 2, 4, 5, 1)\n",
    "\n",
    "# Step 1: Convert the tuple to a set\n",
    "output_set = set(input_tuple)\n",
    "# At this point, the set() function is used to convert the elements of the tuple into a set.\n",
    "# Since sets only contain unique elements, duplicate values are automatically removed.\n",
    "\n",
    "# Step 2: Print the resulting set\n",
    "print(output_set)\n",
    "# The set is now printed, and it will only contain the unique elements from the original tuple."
   ]
  },
  {
   "cell_type": "raw",
   "id": "71d42fc5-50ac-4329-9d43-d77d1a850221",
   "metadata": {},
   "source": [
    "Answer-37"
   ]
  },
  {
   "cell_type": "code",
   "execution_count": 164,
   "id": "90872297-6c36-472c-a068-46cb7ccc9c86",
   "metadata": {},
   "outputs": [
    {
     "name": "stdout",
     "output_type": "stream",
     "text": [
      "Original set: {1, 2, 3, 4, 5}\n",
      "Converted tuple: (1, 2, 3, 4, 5)\n"
     ]
    }
   ],
   "source": [
    "# Step 1: Create a set\n",
    "input_set = {1, 2, 3, 4, 5}\n",
    "\n",
    "# Step 2: Convert the set to a tuple\n",
    "output_tuple = tuple(input_set)\n",
    "\n",
    "# Step 3: Print the original set and the converted tuple\n",
    "print(\"Original set:\", input_set)\n",
    "print(\"Converted tuple:\", output_tuple)"
   ]
  },
  {
   "cell_type": "raw",
   "id": "e3142e2b-4be2-4415-9f31-4ad66bda378b",
   "metadata": {},
   "source": [
    "Answer-38"
   ]
  },
  {
   "cell_type": "code",
   "execution_count": 165,
   "id": "ede16892-4536-48ab-9ea0-94723bf072b6",
   "metadata": {},
   "outputs": [
    {
     "name": "stdout",
     "output_type": "stream",
     "text": [
      "Maximum value: 22\n"
     ]
    }
   ],
   "source": [
    "# Define a set with some values\n",
    "my_set = {15, 7, 22, 13, 8}\n",
    "\n",
    "# Initialize a variable to store the maximum value\n",
    "max_value = None\n",
    "\n",
    "# Iterate through each element in the set\n",
    "for num in my_set:\n",
    "    # Check if max_value is None (first iteration) or if the current number is greater than max_value\n",
    "    if max_value is None or num > max_value:\n",
    "        max_value = num  # Update max_value with the current number if it's greater\n",
    "\n",
    "# Print the maximum value\n",
    "print(\"Maximum value:\", max_value)"
   ]
  },
  {
   "cell_type": "raw",
   "id": "3a926f0b-4fcd-4364-b760-fcf77bf2f073",
   "metadata": {},
   "source": [
    "Answer-39"
   ]
  },
  {
   "cell_type": "code",
   "execution_count": 166,
   "id": "729536f4-6109-403f-993e-fe5baa7117e2",
   "metadata": {},
   "outputs": [
    {
     "name": "stdout",
     "output_type": "stream",
     "text": [
      "The minimum value in the set is: 4\n"
     ]
    }
   ],
   "source": [
    "number_set = {15, 8, 23, 4, 42, 11}\n",
    "\n",
    "# Initialize a variable to store the minimum value\n",
    "min_value = None\n",
    "\n",
    "# Iterate through each element in the set\n",
    "for num in number_set:\n",
    "    # Check if min_value is None (first iteration) or if num is smaller than the current min_value\n",
    "    if min_value is None or num < min_value:\n",
    "        # Update min_value to the current num since it's smaller\n",
    "        min_value = num\n",
    "\n",
    "# Print the minimum value found in the set\n",
    "print(\"The minimum value in the set is:\", min_value)"
   ]
  },
  {
   "cell_type": "raw",
   "id": "505cd6be-6c86-49d0-9e4a-2e122fd8aa5c",
   "metadata": {},
   "source": [
    "Answer-40"
   ]
  },
  {
   "cell_type": "code",
   "execution_count": 167,
   "id": "c84ed068-c9ce-4830-a5fe-f810a89aaacf",
   "metadata": {},
   "outputs": [
    {
     "name": "stdout",
     "output_type": "stream",
     "text": [
      "Enter elements for the set (type 'done' to finish):\n"
     ]
    },
    {
     "name": "stdin",
     "output_type": "stream",
     "text": [
      ">  hello,my,name,is,done\n",
      ">  done\n"
     ]
    },
    {
     "name": "stdout",
     "output_type": "stream",
     "text": [
      "Final set: {'hello,my,name,is,done'}\n"
     ]
    }
   ],
   "source": [
    "# Step 1: Initialize an empty set\n",
    "user_set = set()\n",
    "\n",
    "# Step 2: Get input from the user\n",
    "print(\"Enter elements for the set (type 'done' to finish):\")\n",
    "while True:\n",
    "    user_input = input(\"> \")  # Get input from the user\n",
    "\n",
    "    if user_input.lower() == 'done':\n",
    "        break  # Exit the loop if the user enters 'done'\n",
    "\n",
    "    # Step 3: Add the user input to the set\n",
    "    user_set.add(user_input)\n",
    "\n",
    "# Step 4: Display the final set created from user input\n",
    "print(\"Final set:\", user_set)"
   ]
  },
  {
   "cell_type": "raw",
   "id": "67be9034-4cb7-41c0-9736-a024044a1014",
   "metadata": {},
   "source": [
    "41. Check if the intersection of two sets is empty.\n",
    "42. Create a set of the first 5 Fibonacci numbers.\n",
    "43. Remove duplicates from a list using sets.\n",
    "44. Check if two sets have the same elements, regardless of their count.\n",
    "45. Create a set of the first `n` powers of 2.\n",
    "46. Find the common elements between a set and a list.\n",
    "47. Create a set of the first `n` triangular numbers.\n",
    "48. Check if a set contains another set as a subset.\n",
    "49. Create a set of alternating 1s and 0s of length `n`.\n",
    "50. Merge multiple sets into one."
   ]
  },
  {
   "cell_type": "raw",
   "id": "76500295-4eb3-4c46-9444-cb7a643dff33",
   "metadata": {},
   "source": [
    "Answer-41"
   ]
  },
  {
   "cell_type": "code",
   "execution_count": 168,
   "id": "1c7b7009-b4b4-42e5-acae-5eef7ce04ed3",
   "metadata": {},
   "outputs": [
    {
     "name": "stdout",
     "output_type": "stream",
     "text": [
      "The intersection of the two sets is not empty.\n"
     ]
    }
   ],
   "source": [
    "# Step 1: Define two sets\n",
    "set1 = {1, 2, 3, 4, 5}\n",
    "set2 = {4, 5, 6, 7, 8}\n",
    "\n",
    "# Step 2: Find the intersection of the two sets using the `intersection()` method\n",
    "intersection_result = set1.intersection(set2)\n",
    "\n",
    "# Step 3: Check if the intersection result is empty\n",
    "if not intersection_result:\n",
    "    print(\"The intersection of the two sets is empty.\")\n",
    "else:\n",
    "    print(\"The intersection of the two sets is not empty.\")"
   ]
  },
  {
   "cell_type": "raw",
   "id": "89c92889-0d2b-4b44-bd84-12e51408a1ae",
   "metadata": {},
   "source": [
    "Answer-42"
   ]
  },
  {
   "cell_type": "code",
   "execution_count": 169,
   "id": "74d57f56-d9a8-4a29-a303-9610a9267b3c",
   "metadata": {},
   "outputs": [
    {
     "name": "stdout",
     "output_type": "stream",
     "text": [
      "Set of the first 5 Fibonacci numbers: {0, 1, 2, 3, 5}\n"
     ]
    }
   ],
   "source": [
    "# Create a set to store the first 5 Fibonacci numbers\n",
    "fibonacci_set = set()\n",
    "\n",
    "# Initialize the first two Fibonacci numbers\n",
    "a, b = 0, 1\n",
    "\n",
    "# Loop to generate the first 5 Fibonacci numbers\n",
    "for _ in range(6):\n",
    "    # Add the current Fibonacci number to the set\n",
    "    fibonacci_set.add(a)\n",
    "\n",
    "    # Calculate the next Fibonacci number\n",
    "    a, b = b, a + b\n",
    "\n",
    "# Print the set of Fibonacci numbers\n",
    "print(\"Set of the first 5 Fibonacci numbers:\", fibonacci_set)"
   ]
  },
  {
   "cell_type": "raw",
   "id": "0939d08c-fbe7-42af-8df5-0238338542a9",
   "metadata": {},
   "source": [
    "Answer-43"
   ]
  },
  {
   "cell_type": "code",
   "execution_count": 170,
   "id": "a9105809-71ed-471a-bd46-fa4582122e47",
   "metadata": {},
   "outputs": [
    {
     "name": "stdout",
     "output_type": "stream",
     "text": [
      "Original List: [2, 4, 6, 8, 4, 10, 6, 12, 14, 8]\n",
      "List with Duplicates Removed: [2, 4, 6, 8, 10, 12, 14]\n"
     ]
    }
   ],
   "source": [
    "# Step 1: Define a list with duplicates\n",
    "original_list = [2, 4, 6, 8, 4, 10, 6, 12, 14, 8]\n",
    "\n",
    "# Step 2: Convert the list to a set\n",
    "unique_set = set(original_list)\n",
    "# Now, 'unique_set' contains only unique elements from 'original_list'\n",
    "\n",
    "# Step 3: Convert the set back to a list\n",
    "unique_list = list(unique_set)\n",
    "# Now, 'unique_list' is a list containing only unique elements\n",
    "\n",
    "# Step 4: Print the original list and the list with duplicates removed\n",
    "print(\"Original List:\", original_list)\n",
    "print(\"List with Duplicates Removed:\", unique_list)"
   ]
  },
  {
   "cell_type": "raw",
   "id": "5965085f-67a0-456c-bf3d-c933b364f1c3",
   "metadata": {},
   "source": [
    "Answer-44"
   ]
  },
  {
   "cell_type": "code",
   "execution_count": 171,
   "id": "e834ebcb-eb0e-4bcf-a44d-90ec499fb25b",
   "metadata": {},
   "outputs": [
    {
     "name": "stdout",
     "output_type": "stream",
     "text": [
      "The sets have the same elements.\n"
     ]
    }
   ],
   "source": [
    "def have_same_elements(set1, set2):\n",
    "    # Convert the sets to lists and sort them\n",
    "    sorted_list1 = sorted(list(set1))\n",
    "    sorted_list2 = sorted(list(set2))\n",
    "\n",
    "    # Compare the sorted lists to check if they are equal\n",
    "    return sorted_list1 == sorted_list2\n",
    "\n",
    "# Example sets\n",
    "set1 = {1, 2, 3, 2, 1}\n",
    "set2 = {3, 1, 2}\n",
    "\n",
    "# Check if the sets have the same elements\n",
    "result = have_same_elements(set1, set2)\n",
    "\n",
    "# Print the result\n",
    "if result:\n",
    "    print(\"The sets have the same elements.\")\n",
    "else:\n",
    "    print(\"The sets do not have the same elements.\")"
   ]
  },
  {
   "cell_type": "raw",
   "id": "53459c6e-f2a9-46f0-984f-7ab039347c0f",
   "metadata": {},
   "source": [
    "Answer-45"
   ]
  },
  {
   "cell_type": "code",
   "execution_count": 172,
   "id": "5d53a3d9-3d04-415f-b36a-34e34a5b6c9a",
   "metadata": {},
   "outputs": [
    {
     "name": "stdout",
     "output_type": "stream",
     "text": [
      "{1, 2, 4, 8, 16}\n"
     ]
    }
   ],
   "source": [
    "def generate_powers_of_2(n):\n",
    "    # Initialize an empty set to store the powers of 2\n",
    "    powers_of_2 = set()\n",
    "\n",
    "    # Loop from 0 to n-1\n",
    "    for i in range(n):\n",
    "        # Calculate the current power of 2 using the exponentiation operator **\n",
    "        power = 2 ** i\n",
    "\n",
    "        # Add the current power of 2 to the set\n",
    "        powers_of_2.add(power)\n",
    "\n",
    "    # Return the set of powers of 2\n",
    "    return powers_of_2\n",
    "\n",
    "# Define the value of n\n",
    "n = 5\n",
    "\n",
    "# Call the function to generate the set of powers of 2\n",
    "powers_set = generate_powers_of_2(n)\n",
    "\n",
    "# Print the resulting set\n",
    "print(powers_set)"
   ]
  },
  {
   "cell_type": "raw",
   "id": "9ec1166d-546b-4d90-8c11-2f52e8f375d3",
   "metadata": {},
   "source": [
    "Answer-46"
   ]
  },
  {
   "cell_type": "code",
   "execution_count": 173,
   "id": "882fabd4-23ce-4f54-9a23-b9679f1abf37",
   "metadata": {},
   "outputs": [
    {
     "name": "stdout",
     "output_type": "stream",
     "text": [
      "Common elements: [7, 9, 12]\n"
     ]
    }
   ],
   "source": [
    "# Step 1: Define a set and a list\n",
    "my_set = {3, 7, 9, 12, 15}\n",
    "my_list = [7, 12, 5, 9]\n",
    "\n",
    "# Step 2: Convert the list to a set for efficient comparison\n",
    "list_to_set = set(my_list)\n",
    "\n",
    "# Step 3: Initialize an empty list to store common elements\n",
    "common_elements = []\n",
    "\n",
    "# Step 4: Iterate through the elements in the set\n",
    "for element in my_set:\n",
    "    # Step 5: Check if the element is present in the converted set (list_to_set)\n",
    "    if element in list_to_set:\n",
    "        # Step 6: If the element is present in both the set and the list, add it to the common_elements list\n",
    "        common_elements.append(element)\n",
    "\n",
    "# Step 7: Print the common elements\n",
    "print(\"Common elements:\", common_elements)"
   ]
  },
  {
   "cell_type": "raw",
   "id": "28185527-136b-43c3-9d7d-35caf7ac4b5c",
   "metadata": {},
   "source": [
    "Answer-47"
   ]
  },
  {
   "cell_type": "code",
   "execution_count": 174,
   "id": "d5ec4fef-8e43-427e-b1b5-c495d114c13f",
   "metadata": {},
   "outputs": [
    {
     "name": "stdin",
     "output_type": "stream",
     "text": [
      "Enter the value of n:  8\n"
     ]
    },
    {
     "name": "stdout",
     "output_type": "stream",
     "text": [
      "The set of the first 8 triangular numbers is: {1, 3, 36, 6, 10, 15, 21, 28}\n"
     ]
    }
   ],
   "source": [
    "def generate_triangular_numbers(n):\n",
    "    triangular_numbers = set()  # Create an empty set to store the triangular numbers\n",
    "    for i in range(1, n + 1):\n",
    "        triangular_number = i * (i + 1) // 2  # Calculate the ith triangular number using the formula\n",
    "        triangular_numbers.add(triangular_number)  # Add the calculated triangular number to the set\n",
    "    return triangular_numbers\n",
    "\n",
    "# Input the value of 'n'\n",
    "n = int(input(\"Enter the value of n: \"))\n",
    "\n",
    "# Call the function to generate the set of first 'n' triangular numbers\n",
    "triangular_set = generate_triangular_numbers(n)\n",
    "\n",
    "# Display the set of triangular numbers\n",
    "print(f\"The set of the first {n} triangular numbers is:\", triangular_set)"
   ]
  },
  {
   "cell_type": "raw",
   "id": "b799abce-ab3c-4a12-a3cc-70577c1db948",
   "metadata": {},
   "source": [
    "Answer-48"
   ]
  },
  {
   "cell_type": "code",
   "execution_count": 175,
   "id": "87d2ffbb-b107-4971-bab3-4813ef49cf77",
   "metadata": {},
   "outputs": [
    {
     "name": "stdout",
     "output_type": "stream",
     "text": [
      "set2 is a subset of set1\n"
     ]
    }
   ],
   "source": [
    "# Define two sets\n",
    "set1 = {1, 2, 3, 4, 5}\n",
    "set2 = {3, 4}\n",
    "\n",
    "# Check if set2 is a subset of set1\n",
    "is_subset = set2.issubset(set1)\n",
    "\n",
    "# Print the result\n",
    "if is_subset:\n",
    "    print(\"set2 is a subset of set1\")\n",
    "else:\n",
    "    print(\"set2 is not a subset of set1\")"
   ]
  },
  {
   "cell_type": "raw",
   "id": "42e94770-5526-4088-aa90-f62a120968d7",
   "metadata": {},
   "source": [
    "Answer-49"
   ]
  },
  {
   "cell_type": "code",
   "execution_count": 176,
   "id": "34646602-e9b9-4bf4-9520-23f9283fa426",
   "metadata": {},
   "outputs": [
    {
     "name": "stdout",
     "output_type": "stream",
     "text": [
      "{0, 1}\n"
     ]
    }
   ],
   "source": [
    "def create_alternating_set(n):\n",
    "    # Initialize an empty set to store the alternating sequence.\n",
    "    alternating_set = set()\n",
    "\n",
    "    # Loop to generate alternating 1s and 0s.\n",
    "    for i in range(n):\n",
    "        # Alternate between adding 1 and 0 to the set based on whether i is even or odd.\n",
    "        if i % 2 == 0:\n",
    "            alternating_set.add(1)  # Add 1 if i is even.\n",
    "        else:\n",
    "            alternating_set.add(0)  # Add 0 if i is odd.\n",
    "\n",
    "    return alternating_set\n",
    "\n",
    "# Define the desired length of the alternating set.\n",
    "length_n = 10\n",
    "\n",
    "# Call the function to create the alternating set of length 'length_n'.\n",
    "result = create_alternating_set(length_n)\n",
    "\n",
    "# Print the resulting set.\n",
    "print(result)"
   ]
  },
  {
   "cell_type": "raw",
   "id": "72ad9980-dbe0-48c3-9032-1ec35eb37f96",
   "metadata": {},
   "source": [
    "Answer-50"
   ]
  },
  {
   "cell_type": "code",
   "execution_count": 178,
   "id": "9386d6fa-fd5c-4920-b1b4-7ad225d919c9",
   "metadata": {},
   "outputs": [
    {
     "name": "stdout",
     "output_type": "stream",
     "text": [
      "Merged Set: {1, 2, 3, 4, 5, 6, 7}\n"
     ]
    }
   ],
   "source": [
    "# Step 1: Create multiple sets\n",
    "set1 = {1, 2, 3}\n",
    "set2 = {3, 4, 5}\n",
    "set3 = {5, 6, 7}\n",
    "\n",
    "# Step 2: Use the union() method to merge sets\n",
    "merged_set = set1.union(set2, set3)\n",
    "\n",
    "# Step 3: Print the merged set\n",
    "print(\"Merged Set:\", merged_set)"
   ]
  },
  {
   "cell_type": "code",
   "execution_count": null,
   "id": "f214cadf-336b-4d71-b267-99f3068ffcca",
   "metadata": {},
   "outputs": [],
   "source": []
  }
 ],
 "metadata": {
  "kernelspec": {
   "display_name": "Python 3 (ipykernel)",
   "language": "python",
   "name": "python3"
  },
  "language_info": {
   "codemirror_mode": {
    "name": "ipython",
    "version": 3
   },
   "file_extension": ".py",
   "mimetype": "text/x-python",
   "name": "python",
   "nbconvert_exporter": "python",
   "pygments_lexer": "ipython3",
   "version": "3.10.8"
  }
 },
 "nbformat": 4,
 "nbformat_minor": 5
}
