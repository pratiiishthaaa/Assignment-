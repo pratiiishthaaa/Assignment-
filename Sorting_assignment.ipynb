{
 "cells": [
  {
   "cell_type": "raw",
   "id": "fbb3d0da-5e4d-490d-a7ee-71149791ae4b",
   "metadata": {},
   "source": [
    "Problem 1.Given an array of n numbers, give an algorithm which gives the element appearing maximum\n",
    "number of times?\n",
    "\n",
    "Problem 2 : We are given a list of n-1 integers and these integers are in the range of 1 to n . There are no\n",
    "duplicates in the list. One of the integers is missing in the list. Give an algorithm to find that element Ex:\n",
    "[1,2,4,6,3,7,8] 5 is the missing num.\n",
    "\n",
    "Problem 3 : Given an array of n positive numbers. All numbers occurs even number of times except 1 which\n",
    "occurs odd number of times. Find that number in O(n) time and O(1) space. Ex: [1,2,3,2,3,1,3]. 3 is repeats odd\n",
    "times.\n",
    "\n",
    "Problem 4 : Given an array of n elements. Find two elements in the array such that their sum is equal to given\n",
    "element K.\n",
    "\n",
    "Problem 5 : Given an array of both positive and negative numbers, find two numbers such that their sum is\n",
    "closest to 0. Ex: [ 1 ,60 ,-10, 70, -80,85]. Ans : -80,85."
   ]
  },
  {
   "cell_type": "raw",
   "id": "84751115-7275-439f-a0e2-fc43d4994968",
   "metadata": {},
   "source": [
    "Answer-1"
   ]
  },
  {
   "cell_type": "code",
   "execution_count": 69,
   "id": "ee5605ab-ff65-49d7-a842-67be275b0fba",
   "metadata": {},
   "outputs": [
    {
     "name": "stdout",
     "output_type": "stream",
     "text": [
      "50\n"
     ]
    }
   ],
   "source": [
    "def mostFrequent(arr, n): \n",
    "\n",
    "\t# Sort the array \n",
    "\tarr.sort() \n",
    "\n",
    "\t# find the max frequency using linear traversal \n",
    "\tmax_count = 1\n",
    "\tres = arr[0] \n",
    "\tcurr_count = 1\n",
    "\n",
    "\tfor i in range(1, n): \n",
    "\t\tif (arr[i] == arr[i - 1]): \n",
    "\t\t\tcurr_count += 1\n",
    "\t\telse: \n",
    "\t\t\tcurr_count = 1\n",
    "\n",
    "\t\t# If last element is most frequent \n",
    "\t\tif (curr_count > max_count): \n",
    "\t\t\tmax_count = curr_count \n",
    "\t\t\tres = arr[i - 1] \n",
    "\n",
    "\treturn res \n",
    "\n",
    "# Driver Code \n",
    "arr = [40,50,50,50,30,30] \n",
    "n = len(arr) \n",
    "print(mostFrequent(arr, n)) \n"
   ]
  },
  {
   "cell_type": "raw",
   "id": "3a0ca3ce-4d1b-41a1-88e6-788eb1f94cca",
   "metadata": {},
   "source": [
    "Answer-2"
   ]
  },
  {
   "cell_type": "code",
   "execution_count": 64,
   "id": "857ef1b7-2702-43b0-84f3-68ac345fd3a9",
   "metadata": {},
   "outputs": [
    {
     "name": "stdout",
     "output_type": "stream",
     "text": [
      "3\n"
     ]
    }
   ],
   "source": [
    "def missing_number(n, arr):\n",
    "    # Create hash array of size n+1\n",
    "    hash = [0] * (n + 1)\n",
    "\n",
    "    # Store frequencies of elements\n",
    "    for num in arr:\n",
    "        hash[num] += 1\n",
    "\n",
    "    # Find the missing number\n",
    "    for i in range(1, n + 1):\n",
    "        if hash[i] == 0:\n",
    "            return i\n",
    "    # Edge case handling (though problem guarantees a solution)\n",
    "    return -1\n",
    "\n",
    "# Driver code\n",
    "arr = [1, 2, 4, 5]\n",
    "n = 5\n",
    "print(missing_number(n, arr))\n"
   ]
  },
  {
   "cell_type": "raw",
   "id": "1defa188-7ff7-4fad-9763-4a283f7ff733",
   "metadata": {},
   "source": [
    "Answer-3"
   ]
  },
  {
   "cell_type": "code",
   "execution_count": 68,
   "id": "b2bc2162-b956-4c12-8c2c-bdc69c741410",
   "metadata": {},
   "outputs": [
    {
     "name": "stdout",
     "output_type": "stream",
     "text": [
      "5\n"
     ]
    }
   ],
   "source": [
    "def getOddOccurrence(arr):\n",
    "    # Initialize result\n",
    "    res = 0   \n",
    "    # Traverse the array\n",
    "    for element in arr:\n",
    "        # XOR with the result\n",
    "        res = res ^ element\n",
    "    return res\n",
    "\n",
    "# Test array\n",
    "arr = [ 1,1,1,1,2,2,3,3,4,4,5]\n",
    "\n",
    "print(\"%d\" % getOddOccurrence(arr))\n"
   ]
  },
  {
   "cell_type": "raw",
   "id": "66d1d51b-932b-4cd5-9392-5808f628f8fc",
   "metadata": {
    "tags": []
   },
   "source": [
    "Answer-4"
   ]
  },
  {
   "cell_type": "code",
   "execution_count": 15,
   "id": "6072e249-6eef-4bab-95e9-1ab900ae546e",
   "metadata": {},
   "outputs": [],
   "source": [
    "# Function to check whether any pair exists whose sum is equal to the given target value\n",
    "def two_sum(arr, target):\n",
    "    # Sort the array\n",
    "    arr.sort()\n",
    "\n",
    "    left, right = 0, len(arr) - 1\n",
    "\n",
    "    # Iterate while left pointer is less than right\n",
    "    while left < right:\n",
    "        sum = arr[left] + arr[right]\n",
    "\n",
    "        # Check if the sum matches the target\n",
    "        if sum == target:\n",
    "            print(\"The numbers are \", arr[left],\n",
    "                          \", \", arr[right])\n",
    "            return True\n",
    "        elif sum < target: \n",
    "            left += 1  # Move left pointer to the right\n",
    "        else:\n",
    "            right -= 1 # Move right pointer to the left\n",
    "\n",
    "    # If no pair is found\n",
    "    return False"
   ]
  },
  {
   "cell_type": "code",
   "execution_count": 17,
   "id": "a39fe8e9-a580-4573-bd70-a0fea44053ed",
   "metadata": {},
   "outputs": [
    {
     "name": "stdout",
     "output_type": "stream",
     "text": [
      "The numbers are  -3 ,  1\n"
     ]
    },
    {
     "data": {
      "text/plain": [
       "True"
      ]
     },
     "execution_count": 17,
     "metadata": {},
     "output_type": "execute_result"
    }
   ],
   "source": [
    "arr = [0, -1, 2, -3, 1]\n",
    "target = -2\n",
    "two_sum(arr, target)"
   ]
  },
  {
   "cell_type": "raw",
   "id": "047a87c5-ace3-4ca6-8d11-a0ac7bab5dcf",
   "metadata": {},
   "source": [
    "Answer-5"
   ]
  },
  {
   "cell_type": "code",
   "execution_count": 46,
   "id": "cb38ee83-ec56-4074-b0f3-ddca3b15cf4d",
   "metadata": {},
   "outputs": [
    {
     "name": "stdout",
     "output_type": "stream",
     "text": [
      "The numbers are -80   85\n",
      "5\n"
     ]
    }
   ],
   "source": [
    "def closest_to_zero(arr):\n",
    "    # Sorting the array in ascending order\n",
    "    arr.sort()\n",
    "\n",
    "    i, j = 0, len(arr) - 1\n",
    "\n",
    "    # Initializing sum with the first and last elements\n",
    "    sum_val = arr[i] + arr[j]\n",
    "\n",
    "    # Initializing the result with the absolute value\n",
    "    # of the initial sum\n",
    "    diff = abs(sum_val)\n",
    "\n",
    "    while i < j:\n",
    "      \n",
    "        # If we have zero sum, there's no result\n",
    "        # Hence, we return 0.\n",
    "        if arr[i] + arr[j] == 0:\n",
    "            return 0\n",
    "\n",
    "        # If we get a better result, we update the difference\n",
    "        if abs(arr[i] + arr[j]) < abs(diff):\n",
    "            diff = arr[i] + arr[j]\n",
    "            sum_val = arr[i] + arr[j]\n",
    "        elif abs(arr[i] + arr[j]) == abs(diff):\n",
    "          \n",
    "            # If there are multiple pairs with the same\n",
    "            # minimum absolute difference, return the pair with the larger sum\n",
    "            sum_val = max(sum_val, arr[i] + arr[j])\n",
    "            print(\"The numbers are\",arr[i], \" \",arr[j])\n",
    "\n",
    "        # If the current sum is greater than zero, we search for a smaller sum\n",
    "        if arr[i] + arr[j] > 0:\n",
    "            j -= 1\n",
    "        # Else, we search for a larger sum\n",
    "        else:\n",
    "            i += 1\n",
    "\n",
    "    return sum_val\n",
    "\n",
    "\n",
    "# Driver Code\n",
    "arr = [1 ,60 ,-10, 70, -80,85]\n",
    "print(closest_to_zero(arr))\n"
   ]
  },
  {
   "cell_type": "raw",
   "id": "b0ed8738-9923-489e-928c-3876ed3da812",
   "metadata": {},
   "source": [
    "Problem 6 : Given an array of n elements . Find three elements such that their sum is equal to the given\n",
    "number.\n",
    "\n",
    "Problem 7 : Given an array of n elements . Find three elements i, j, k in the array such that\n",
    "i * i + j * j = k*k.\n",
    "\n",
    "Problem 8 : An element is a majority if it appears more than n/2 times. Give an algorithm takes an array of n\n",
    "element as argument and identifies a majority (if it exists).\n",
    "\n",
    "Problem 9 : Given n × n matrix, and in each row all 1’s are followed by 0’s. Find the row with the maximum\n",
    "number of 0’s.\n",
    "\n",
    "Problem 10 : Sort an array of 0’s, 1’s and 2’s [or R’s, G’s and B’s]: Given an array A[] consisting of 0’s, 1’s and\n",
    "2’s, give an algorithm for sorting A[].The algorithm should put all 0’s first, then all 1’s and finally all 2’s at the\n",
    "end. Example Input = {0,1,1,0,1,2,1,2,0,0,0,1}, Output = {0,0,0,0,0,1,1,1,1,1,2,2}"
   ]
  },
  {
   "cell_type": "raw",
   "id": "bd80f670-81d4-47ef-95be-29261cdfb989",
   "metadata": {},
   "source": [
    "Answer-6"
   ]
  },
  {
   "cell_type": "code",
   "execution_count": 18,
   "id": "7db5e80d-71f6-4fc2-84a8-64b6e60ecfe0",
   "metadata": {},
   "outputs": [],
   "source": [
    "# returns true if there is triplet\n",
    "# with sum equal to 'sum' present in A[]. Also, prints the triplet\n",
    "def find3Numbers(A, arr_size, sum):\n",
    "    # Sort the elements \n",
    "    A.sort()\n",
    "\n",
    "    # Now fix the first element one by one and find the other two elements \n",
    "    for i in range(0, arr_size-2):\n",
    "        \n",
    "        # To find the other two elements, start two index variables from\n",
    "        # two corners of the array and move them toward each other\n",
    "        # index of the first element in the remaining elements\n",
    "        l = i + 1 \n",
    "        # index of the last element\n",
    "        r = arr_size-1 \n",
    "        while (l < r):\n",
    "        \n",
    "            if( A[i] + A[l] + A[r] == sum):\n",
    "                print(\"Triplet is\", A[i], \n",
    "                     ', ', A[l], ', ', A[r]);\n",
    "                return True\n",
    "            \n",
    "            elif (A[i] + A[l] + A[r] < sum):\n",
    "                l += 1\n",
    "            else: # A[i] + A[l] + A[r] > sum\n",
    "                r -= 1\n",
    "    return False\n"
   ]
  },
  {
   "cell_type": "code",
   "execution_count": 23,
   "id": "9d0e2496-3556-4b9e-8fb9-398ac779663e",
   "metadata": {},
   "outputs": [
    {
     "name": "stdout",
     "output_type": "stream",
     "text": [
      "Triplet is 2 ,  5 ,  18\n"
     ]
    },
    {
     "data": {
      "text/plain": [
       "True"
      ]
     },
     "execution_count": 23,
     "metadata": {},
     "output_type": "execute_result"
    }
   ],
   "source": [
    "A = [1, 2, 45,5,18 ,10, 8]\n",
    "sum = 25\n",
    "arr_size = len(A)\n",
    "\n",
    "find3Numbers(A, arr_size, sum)"
   ]
  },
  {
   "cell_type": "raw",
   "id": "2ab7b054-62a9-40de-9d23-6490cccbb6aa",
   "metadata": {},
   "source": [
    "Answer-7"
   ]
  },
  {
   "cell_type": "code",
   "execution_count": 106,
   "id": "d6ac7abb-9f23-4a43-ab01-dc433e9a59ef",
   "metadata": {},
   "outputs": [
    {
     "name": "stdout",
     "output_type": "stream",
     "text": [
      "Yes\n"
     ]
    }
   ],
   "source": [
    "def isTriplet(ar, n):\n",
    "\t# Square all the elements\n",
    "\tfor i in range(n):\n",
    "\t\tar[i] = ar[i] * ar[i]\n",
    "\n",
    "\t# sort array elements\n",
    "\tar.sort()\n",
    "\n",
    "\t# fix one element and find other two\n",
    "\t# i goes from n - 1 to 2\n",
    "\tfor i in range(n-1, 1, -1):\n",
    "\t\t# start two index variables from two corners of the array and \n",
    "\t\t# move them toward each other\n",
    "\t\tj = 0\n",
    "\t\tk = i - 1\n",
    "\t\twhile (j < k):\n",
    "\t\t\t# A triplet found\n",
    "\t\t\tif (ar[j] + ar[k] == ar[i]):\n",
    "\t\t\t\treturn True\n",
    "\t\t\telse:\n",
    "\t\t\t\tif (ar[j] + ar[k] < ar[i]):\n",
    "\t\t\t\t\tj = j + 1\n",
    "\t\t\t\telse:\n",
    "\t\t\t\t\tk = k - 1\n",
    "\t# If we reach here, then no triplet found\n",
    "\treturn False\n",
    "\n",
    "# Driver program to test above function */\n",
    "ar = [3, 1, 4, 6, 5]\n",
    "ar_size = len(ar)\n",
    "if(isTriplet(ar, ar_size)):\n",
    "\tprint(\"Yes\")\n",
    "else:\n",
    "\tprint(\"No\")"
   ]
  },
  {
   "cell_type": "raw",
   "id": "a215b4ba-49b2-40ae-b2c3-fd6dfae0ab86",
   "metadata": {},
   "source": [
    "Answer-8"
   ]
  },
  {
   "cell_type": "code",
   "execution_count": 24,
   "id": "228d5f3d-7493-43ef-9cd2-ef40d58ab7f3",
   "metadata": {},
   "outputs": [],
   "source": [
    "# Function to find Majority element in an array\n",
    "# it returns -1 if there is no majority element\n",
    "def majorityElement(arr, n) :\n",
    "    \n",
    "    # sort the array in O(nlogn)\n",
    "    arr.sort()   \n",
    "    count, max_ele, temp, f = 1, -1, arr[0], 0\n",
    "    for i in range(1, n) :\n",
    "        \n",
    "        # increases the count if the same element occurs\n",
    "        # otherwise starts counting new element\n",
    "        if(temp == arr[i]) :\n",
    "            count += 1\n",
    "        else :\n",
    "            count = 1\n",
    "            temp = arr[i]\n",
    "            \n",
    "        # sets maximum count\n",
    "        # and stores maximum occurred element so far\n",
    "        # if maximum count becomes greater than n/2 it breaks out setting the flag\n",
    "        if(max_ele < count) :\n",
    "            max_ele = count\n",
    "            ele = arr[i]\n",
    "            \n",
    "            if(max_ele > (n//2)) :\n",
    "                f = 1\n",
    "                break\n",
    "            \n",
    "    # returns maximum occurred element\n",
    "    # if there is no such element, returns -1\n",
    "    if f == 1 :\n",
    "        return ele\n",
    "    else :\n",
    "        return -1"
   ]
  },
  {
   "cell_type": "code",
   "execution_count": 34,
   "id": "21a0ff18-58a1-4b0a-a444-8aa4853c5255",
   "metadata": {},
   "outputs": [
    {
     "name": "stdout",
     "output_type": "stream",
     "text": [
      "-1\n"
     ]
    }
   ],
   "source": [
    "# Driver code\n",
    "arr = [1,2,3,4,5,1,2,1,2,1,1,1]\n",
    "n = len(arr)\n",
    "\n",
    "# Function calling \n",
    "print(majorityElement(arr, n))"
   ]
  },
  {
   "cell_type": "raw",
   "id": "22956bf1-9246-46f1-aced-92a9c1a0cad5",
   "metadata": {},
   "source": [
    "Answer-9"
   ]
  },
  {
   "cell_type": "code",
   "execution_count": 74,
   "id": "7d72d226-d49f-4b3e-b50f-e91489754324",
   "metadata": {},
   "outputs": [],
   "source": [
    "# Python implementation of the approach\n",
    "R,C = 4,4\n",
    "\n",
    "# Function to find the index of first index of 0 in a boolean array arr \n",
    "def first(arr , low , high): \n",
    "\n",
    "    if(high >= low): \n",
    "\n",
    "        # Get the middle index \n",
    "        mid = low + (high - low)//2 \n",
    "    \n",
    "        # Check if the element at middle index is first 0\n",
    "        if ( ( mid == 1 or arr[mid-1] == 1) and arr[mid] == 0): \n",
    "            return mid \n",
    "    \n",
    "        # If the element is 1, recur for right side \n",
    "        elif (arr[mid] == 1): \n",
    "            return first(arr, (mid + 1), high); \n",
    "        \n",
    "        # If element is not first 0, recur for left side \n",
    "        else:\n",
    "            return first(arr, low, (mid -1)); \n",
    "\n",
    "    return -1 \n",
    "\n",
    "# Function that returns index of row with maximum number of 0s. \n",
    "def rowWithMax0s(mat): \n",
    "\n",
    "    # Initialize max values \n",
    "    max_row_index,Max = 0,-1 \n",
    "\n",
    "    # Traverse for each row and count number of 0s by finding the index of first 0 \n",
    "    for i in range(R):\n",
    "\n",
    "        index = first (mat[i], 0, C-1)\n",
    "        if (index != -1 and C-index > Max):\n",
    "            Max = C - index; \n",
    "            max_row_index = i\n",
    "\n",
    "    return max_row_index "
   ]
  },
  {
   "cell_type": "code",
   "execution_count": 78,
   "id": "ab2439b2-d35c-4b4f-8f38-c2d4f11c73f8",
   "metadata": {},
   "outputs": [
    {
     "name": "stdout",
     "output_type": "stream",
     "text": [
      "Index of row with maximum 0s is 3\n"
     ]
    }
   ],
   "source": [
    "# Driver Code\n",
    "mat = [[1,1,1,1], \n",
    "       [1,1,1,0], \n",
    "       [1,1,0,0], \n",
    "       [0,0,0,0]]\n",
    "print(\"Index of row with maximum 0s is \" + str(rowWithMax0s(mat)))"
   ]
  },
  {
   "cell_type": "raw",
   "id": "00288bbc-348f-4a04-9a1f-4092c8c6e50c",
   "metadata": {},
   "source": [
    "Answer-10"
   ]
  },
  {
   "cell_type": "code",
   "execution_count": 36,
   "id": "06dd149c-9a5f-4769-b2f6-b70411e35714",
   "metadata": {},
   "outputs": [
    {
     "name": "stdout",
     "output_type": "stream",
     "text": [
      "0 0 0 0 0 0 1 1 1 1 1 1 1 2 2 2 2 2 2 "
     ]
    }
   ],
   "source": [
    "# Function to sort an array of 0s, 1s and 2s\n",
    "def sort012(arr):\n",
    "    c0 = 0\n",
    "    c1 = 0\n",
    "    c2 = 0\n",
    "\n",
    "    # Count 0s, 1s and 2s\n",
    "    for num in arr:\n",
    "        if num == 0:\n",
    "            c0 += 1\n",
    "        elif num == 1:\n",
    "            c1 += 1\n",
    "        else:\n",
    "            c2 += 1\n",
    "\n",
    "    idx = 0\n",
    "    # Place all the 0s\n",
    "    for i in range(c0):\n",
    "        arr[idx] = 0\n",
    "        idx += 1\n",
    "\n",
    "    # Place all the 1s\n",
    "    for i in range(c1):\n",
    "        arr[idx] = 1\n",
    "        idx += 1\n",
    "\n",
    "    # Place all the 2s\n",
    "    for i in range(c2):\n",
    "        arr[idx] = 2\n",
    "        idx += 1\n",
    "\n",
    "arr = [0, 1, 1, 0, 1, 2, 1, 2, 0, 0, 0, 1,2,2,2,0,1,1,2]\n",
    "sort012(arr)\n",
    "\n",
    "for x in arr:\n",
    "  print(x, end = \" \")\n"
   ]
  }
 ],
 "metadata": {
  "kernelspec": {
   "display_name": "Python 3 (ipykernel)",
   "language": "python",
   "name": "python3"
  },
  "language_info": {
   "codemirror_mode": {
    "name": "ipython",
    "version": 3
   },
   "file_extension": ".py",
   "mimetype": "text/x-python",
   "name": "python",
   "nbconvert_exporter": "python",
   "pygments_lexer": "ipython3",
   "version": "3.10.8"
  }
 },
 "nbformat": 4,
 "nbformat_minor": 5
}
