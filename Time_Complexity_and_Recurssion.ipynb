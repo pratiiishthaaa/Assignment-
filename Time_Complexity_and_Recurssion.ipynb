{
 "cells": [
  {
   "cell_type": "raw",
   "id": "bc65e53c-8175-40f4-ad55-7576c377d72c",
   "metadata": {},
   "source": [
    "Problem 1 :\n",
    "def quicksort(arr):\n",
    "if len(arr) <= 1:\n",
    "return arr\n",
    "pivot = arr[len(arr) // 2]\n",
    "left = [x for x in arr if x < pivot]\n",
    "middle = [x for x in arr if x == pivot]\n",
    "right = [x for x in arr if x > pivot]\n",
    "return quicksort(left) + middle + quicksort(right)\n",
    "\n",
    "Average-case time Complexity : O(n log n)\n",
    "Worst-case time complexity: O(n^2)\n",
    "where n is the length of the array"
   ]
  },
  {
   "cell_type": "raw",
   "id": "432267a9-7810-47d3-b85a-46ca0ad4b340",
   "metadata": {},
   "source": [
    "Problem 2 :\n",
    "def nested_loop_example(matrix):\n",
    "rows, cols = len(matrix), len(matrix[0])\n",
    "total = 0\n",
    "for i in range(rows):\n",
    "for j in range(cols):\n",
    "total += matrix[i][j]\n",
    "return total\n",
    "\n",
    "Time complexity : O(rows * cols), where rows is number of rows and cols is number of columns in the matrix"
   ]
  },
  {
   "cell_type": "raw",
   "id": "71f805f0-5f79-468e-a5a8-d0f6b0b39b03",
   "metadata": {},
   "source": [
    "Problem 3 :\n",
    "def example_function(arr):\n",
    "result = 0\n",
    "for element in arr:\n",
    "result += element\n",
    "return result\n",
    "\n",
    "Time complexity : O(n), where n is the length of the array"
   ]
  },
  {
   "cell_type": "raw",
   "id": "f87e86b3-5ba7-475b-a805-9f9169abba42",
   "metadata": {},
   "source": [
    "Problem 4 :\n",
    "def longest_increasing_subsequence(nums):\n",
    "n = len(nums)\n",
    "lis = [1] * n\n",
    "for i in range(1, n):\n",
    "for j in range(0, i):\n",
    "if nums[i] > nums[j] and lis[i] < lis[j] + 1:\n",
    "lis[i] = lis[j] + 1\n",
    "return max(lis)\n",
    "\n",
    "Time complexity: O(n^2), where n is the length of the input array nums"
   ]
  },
  {
   "cell_type": "raw",
   "id": "db34a769-5647-4e09-b6a7-9a125696c7f3",
   "metadata": {},
   "source": [
    "Problem 5 :\n",
    "def mysterious_function(arr):\n",
    "n = len(arr)\n",
    "result = 0\n",
    "for i in range(n):\n",
    "for j in range(i, n):\n",
    "result += arr[i] * arr[j]\n",
    "return result\n",
    "\n",
    "Time complexity: O(n^2), where n is the length of the input array"
   ]
  },
  {
   "cell_type": "raw",
   "id": "ab7b8004-9fb9-49f0-ad26-3097ff8b5196",
   "metadata": {},
   "source": [
    "Problem 6 : Sum of Digits\n",
    "Write a recursive function to calculate the sum of digits of a given positive integer.\n",
    "sum_of_digits(123) -> 6"
   ]
  },
  {
   "cell_type": "code",
   "execution_count": 1,
   "id": "5dd4f43f-fb80-436b-ad26-02c150cf3867",
   "metadata": {},
   "outputs": [
    {
     "name": "stdout",
     "output_type": "stream",
     "text": [
      "6\n"
     ]
    }
   ],
   "source": [
    "def sum_of_digits(num):\n",
    "    if num <= 9:\n",
    "        return num\n",
    "    else:\n",
    "        digit = num % 10\n",
    "        return digit + sum_of_digits(num // 10)\n",
    "\n",
    "## Example usage\n",
    "print(sum_of_digits(123)) "
   ]
  },
  {
   "cell_type": "raw",
   "id": "3f735459-a2ac-476a-a5f8-296e9f703694",
   "metadata": {},
   "source": [
    "Problem 7: Fibonacci Series\n",
    "Write a recursive function to generate the first n numbers of the Fibonacci series.\n",
    "fibonacci_series(6) -> [0, 1, 1, 2, 3, 5]"
   ]
  },
  {
   "cell_type": "code",
   "execution_count": 2,
   "id": "989985e4-b7cd-4a78-bca4-ff274d954fa9",
   "metadata": {},
   "outputs": [
    {
     "name": "stdout",
     "output_type": "stream",
     "text": [
      "[0, 1, 1, 2, 3, 5]\n"
     ]
    }
   ],
   "source": [
    "def fibobacci_series(n):\n",
    "    if n<= 0:\n",
    "        return []\n",
    "    elif n == 1:\n",
    "        return [0]\n",
    "    elif n == 2:\n",
    "        return [0,1]\n",
    "    else:\n",
    "        fibo = fibobacci_series(n-1)\n",
    "        fibo.append(fibo[-1] + fibo[-2])\n",
    "        return fibo\n",
    "\n",
    "##  Example usage\n",
    "print(fibobacci_series(6))\n",
    "        "
   ]
  },
  {
   "cell_type": "raw",
   "id": "fd1ef136-3c25-4c0a-a9d4-b173fd21b15c",
   "metadata": {},
   "source": [
    "Problem 8 : Subset Sum\n",
    "Given a set of positive integers and a target sum, write a recursive function to determine if there exists a subset\n",
    "of the integers that adds up to the target sum.\n",
    "subset_sum([3, 34, 4, 12, 5, 2], 9) -> True"
   ]
  },
  {
   "cell_type": "code",
   "execution_count": 3,
   "id": "955258d3-0503-431c-b7b4-eaeeb1880555",
   "metadata": {},
   "outputs": [
    {
     "name": "stdout",
     "output_type": "stream",
     "text": [
      "True\n"
     ]
    }
   ],
   "source": [
    "def subset_sum(nums, target):\n",
    "    # Base case: if the target is 0, an empty subset is valid\n",
    "    if target == 0:\n",
    "        return True\n",
    "\n",
    "    # Base case: if the set is empty and the target is not 0, no subset is valid\n",
    "    if not nums:\n",
    "        return False\n",
    "\n",
    "    # Recursive case: explore two possibilities - include the current element or exclude it\n",
    "    include_current = subset_sum(nums[1:], target - nums[0])\n",
    "    exclude_current = subset_sum(nums[1:], target)\n",
    "\n",
    "    # Return True if either of the possibilities leads to a valid subset\n",
    "    return include_current or exclude_current\n",
    "\n",
    "# Example usage:\n",
    "nums = [3, 34, 4, 12, 5, 2]\n",
    "target_sum = 9\n",
    "result = subset_sum(nums, target_sum)\n",
    "print(result)"
   ]
  },
  {
   "cell_type": "raw",
   "id": "03d3f7e5-403b-4e0b-b6b6-97748eac129c",
   "metadata": {},
   "source": [
    "Problem 9: Word Break\n",
    "Given a non-empty string and a dictionary of words, write a recursive function to determine if the string can be\n",
    "segmented into a space-separated sequence of dictionary words.\n",
    "word_break( leetcode , [ leet , code ]) -> True"
   ]
  },
  {
   "cell_type": "code",
   "execution_count": 4,
   "id": "4f39c52e-bd90-4984-afaa-7a11da00a172",
   "metadata": {},
   "outputs": [
    {
     "name": "stdout",
     "output_type": "stream",
     "text": [
      "True\n"
     ]
    }
   ],
   "source": [
    "def word_break(wordlist,word):\n",
    "    if word == \"\":\n",
    "        return True\n",
    "    else:\n",
    "        wordlen = len(word)\n",
    "        for i in range(1,wordlen+1):\n",
    "            if word[:i] in wordlist and word_break(wordlist,word[i:]):\n",
    "                return True\n",
    "        return False\n",
    "    \n",
    "#Example usage\n",
    "print(word_break([\"leet\",\"code\"],\"leetcode\"))"
   ]
  },
  {
   "cell_type": "raw",
   "id": "f5c79d61-6988-4c19-a531-0fdd43a14ed8",
   "metadata": {},
   "source": [
    "Problem 10 : N-Queens\n",
    "Implement a recursive function to solve the N Queens problem, where you have to place N queens on an N×N\n",
    "chessboard in such a way that no two queens threaten each other.\n",
    "n_queens(4)\n",
    "[\n",
    "[\".Q..\",\n",
    "\"...Q\",\n",
    "\"Q...\",\n",
    "\"..Q.\"],\n",
    "[\"..Q.\",\n",
    "\"Q...\",\n",
    "\"...Q\",\n",
    "\".Q..\"]\n",
    "]"
   ]
  },
  {
   "cell_type": "code",
   "execution_count": 5,
   "id": "d4c502e7-3b8c-49dc-8686-1bceefa8e40d",
   "metadata": {},
   "outputs": [],
   "source": [
    "# Return True if it's safe to place queen on the board\n",
    "def isSafeToPlaceQueen(board,row,col,n):\n",
    "    \n",
    "    #check in the left side \n",
    "    for i in range(col):\n",
    "        if board[row][i] == 1:\n",
    "            return False\n",
    "    #check in the upper left diagonal\n",
    "    for i,j in zip(range(row,-1,-1),range(col,-1,-1)):\n",
    "        if board[i][j] == 1:\n",
    "            return False\n",
    "    #check in the lower left diagonal\n",
    "    for i,j in zip(range(row,n,1),range(col,-1,-1)):\n",
    "        if board[i][j] == 1:\n",
    "            return False\n",
    "    return True\n",
    "## should return true if we are able to place all the queens\n",
    "def solveNQUtil(board,col,n):\n",
    "    #Base condition\n",
    "    if (col>=n):\n",
    "        return True #means we have been able to put queens in all the columns\n",
    "    #check for all the rows\n",
    "    for row in range(n):\n",
    "        if isSafeToPlaceQueen(board,row,col,n):\n",
    "            board[row][col] = 1 #set the queen\n",
    "            #recursively try for the next columns\n",
    "            if solveNQUtil(board,col+1,n):\n",
    "                return True\n",
    "            #Backtracking\n",
    "            board[row][col] = 0 ## Queen can't be set here\n",
    "        \n",
    "    return False #won't be able to place the queen\n",
    "def printBoard(board,n):\n",
    "    for i in range(n):\n",
    "        for j in range(n):\n",
    "            if board[i][j] == 1:\n",
    "                print(\"Q\",end = \" \")\n",
    "            else:\n",
    "                print(\".\",end = \" \")\n",
    "        print()\n",
    "            \n",
    "            \n",
    "\n",
    "def solveNQ(board,n):\n",
    "    \n",
    "    if not solveNQUtil(board,0,n):\n",
    "        print(\"Solution doesn't exist\")\n",
    "        return\n",
    "    \n",
    "    printBoard(board,n)"
   ]
  },
  {
   "cell_type": "code",
   "execution_count": 6,
   "id": "537e2ce0-2ea9-4adc-9176-ec913506e5cd",
   "metadata": {},
   "outputs": [
    {
     "name": "stdout",
     "output_type": "stream",
     "text": [
      ". . Q . \n",
      "Q . . . \n",
      ". . . Q \n",
      ". Q . . \n"
     ]
    }
   ],
   "source": [
    "import numpy as np\n",
    "board = np.zeros((4,4),int)\n",
    "solveNQ(board,4)"
   ]
  },
  {
   "cell_type": "code",
   "execution_count": null,
   "id": "98a09a6e-9414-46b6-9760-08041b583e99",
   "metadata": {},
   "outputs": [],
   "source": []
  }
 ],
 "metadata": {
  "kernelspec": {
   "display_name": "Python 3 (ipykernel)",
   "language": "python",
   "name": "python3"
  },
  "language_info": {
   "codemirror_mode": {
    "name": "ipython",
    "version": 3
   },
   "file_extension": ".py",
   "mimetype": "text/x-python",
   "name": "python",
   "nbconvert_exporter": "python",
   "pygments_lexer": "ipython3",
   "version": "3.10.8"
  }
 },
 "nbformat": 4,
 "nbformat_minor": 5
}
