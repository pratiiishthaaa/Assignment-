{
 "cells": [
  {
   "cell_type": "markdown",
   "metadata": {
    "id": "q1W928AlnsIq"
   },
   "source": [
    "For Loop :-\n"
   ]
  },
  {
   "cell_type": "raw",
   "metadata": {
    "id": "MTO-AK8SlIxj"
   },
   "source": [
    "1. Print numbers from 1 to 10 using a for loop:"
   ]
  },
  {
   "cell_type": "code",
   "execution_count": 1,
   "metadata": {
    "colab": {
     "base_uri": "https://localhost:8080/"
    },
    "id": "KAc7KMqElNvN",
    "outputId": "876f92c4-5911-4f04-c4f7-71755f0029d7"
   },
   "outputs": [
    {
     "name": "stdout",
     "output_type": "stream",
     "text": [
      "1\n",
      "2\n",
      "3\n",
      "4\n",
      "5\n",
      "6\n",
      "7\n",
      "8\n",
      "9\n",
      "10\n"
     ]
    }
   ],
   "source": [
    "# Using a for loop to print numbers from 1 to 10\n",
    "for num in range(1, 11):\n",
    "    print(num)"
   ]
  },
  {
   "cell_type": "raw",
   "metadata": {
    "id": "oSM3YH7Yl-k9"
   },
   "source": [
    "2. Difference between a for loop and a while loop:\n",
    "\n",
    "A for loop is used for iterating over a sequence (like a range or a list) a predetermined number of times, while a while loop is used for repeating a block of code as long as a certain condition is true."
   ]
  },
  {
   "cell_type": "raw",
   "metadata": {
    "id": "0ja7wQ1MmASX"
   },
   "source": [
    "3. Calculate the sum of all numbers from 1 to 100 using a for loop:"
   ]
  },
  {
   "cell_type": "code",
   "execution_count": 2,
   "metadata": {
    "colab": {
     "base_uri": "https://localhost:8080/"
    },
    "id": "Zj271ij-mQhQ",
    "outputId": "6d20f1be-c1ad-4040-c605-753192eda769"
   },
   "outputs": [
    {
     "name": "stdout",
     "output_type": "stream",
     "text": [
      "Sum of numbers from 1 to 100: 5050\n"
     ]
    }
   ],
   "source": [
    "# Initialize a variable to store the sum\n",
    "sum_of_numbers = 0\n",
    "\n",
    "# Using a for loop to calculate the sum\n",
    "for num in range(1, 101):\n",
    "    sum_of_numbers += num\n",
    "\n",
    "print(\"Sum of numbers from 1 to 100:\", sum_of_numbers)\n"
   ]
  },
  {
   "cell_type": "raw",
   "metadata": {
    "id": "4uAgLaE-mcR4"
   },
   "source": [
    "4.  Iterate through a list using a for loop:"
   ]
  },
  {
   "cell_type": "code",
   "execution_count": 3,
   "metadata": {
    "colab": {
     "base_uri": "https://localhost:8080/"
    },
    "id": "ByQrSvJDmggA",
    "outputId": "4fa92998-5db6-4e7b-89e7-3ae27c79c328"
   },
   "outputs": [
    {
     "name": "stdout",
     "output_type": "stream",
     "text": [
      "1\n",
      "2\n",
      "3\n",
      "4\n",
      "5\n"
     ]
    }
   ],
   "source": [
    "my_list = [1, 2, 3, 4, 5]\n",
    "\n",
    "# Using a for loop to iterate through the list\n",
    "for item in my_list:\n",
    "    print(item)\n"
   ]
  },
  {
   "cell_type": "raw",
   "metadata": {
    "id": "vo5q1ExrmlHa"
   },
   "source": [
    "5.Find the product of all elements in a list using a for loop:\n"
   ]
  },
  {
   "cell_type": "code",
   "execution_count": 4,
   "metadata": {
    "colab": {
     "base_uri": "https://localhost:8080/"
    },
    "id": "MgSdI4tgmtvv",
    "outputId": "09327913-4d4b-4225-fda5-def6fdc61943"
   },
   "outputs": [
    {
     "name": "stdout",
     "output_type": "stream",
     "text": [
      "Product of all elements in the list: 120\n"
     ]
    }
   ],
   "source": [
    "my_list = [2, 3, 4, 5]\n",
    "\n",
    "# Initialize a variable to store the product\n",
    "product = 1\n",
    "\n",
    "# Using a for loop to calculate the product\n",
    "for num in my_list:\n",
    "    product *= num\n",
    "\n",
    "print(\"Product of all elements in the list:\", product)\n"
   ]
  },
  {
   "cell_type": "raw",
   "metadata": {
    "id": "7zDggdsEmxaQ"
   },
   "source": [
    "6. Print all even numbers from 1 to 20 using a for loop:\n"
   ]
  },
  {
   "cell_type": "code",
   "execution_count": 5,
   "metadata": {
    "colab": {
     "base_uri": "https://localhost:8080/"
    },
    "id": "vLYdp0tAm1fY",
    "outputId": "2d0505ad-d874-49d1-a480-8ff259ae9d20"
   },
   "outputs": [
    {
     "name": "stdout",
     "output_type": "stream",
     "text": [
      "2\n",
      "4\n",
      "6\n",
      "8\n",
      "10\n",
      "12\n",
      "14\n",
      "16\n",
      "18\n",
      "20\n"
     ]
    }
   ],
   "source": [
    "# Using a for loop to print even numbers\n",
    "for num in range(2, 21, 2):\n",
    "    print(num)\n"
   ]
  },
  {
   "cell_type": "raw",
   "metadata": {
    "id": "_GoUChVqm5J_"
   },
   "source": [
    "7. Calculate the factorial of a number using a for loop:"
   ]
  },
  {
   "cell_type": "code",
   "execution_count": 6,
   "metadata": {
    "colab": {
     "base_uri": "https://localhost:8080/"
    },
    "id": "57bBaXo5m-4j",
    "outputId": "b0cac3a0-f79c-442b-e7fe-6486bc235607"
   },
   "outputs": [
    {
     "name": "stdin",
     "output_type": "stream",
     "text": [
      "Enter a number:  5\n"
     ]
    },
    {
     "name": "stdout",
     "output_type": "stream",
     "text": [
      "Factorial of 5 is 120\n"
     ]
    }
   ],
   "source": [
    "# Input: Number for which factorial is to be calculated\n",
    "num = int(input(\"Enter a number: \"))\n",
    "\n",
    "# Initialize a variable to store the factorial\n",
    "factorial = 1\n",
    "\n",
    "# Using a for loop to calculate the factorial\n",
    "for i in range(1, num + 1):\n",
    "    factorial *= i\n",
    "\n",
    "print(\"Factorial of\", num, \"is\", factorial)\n"
   ]
  },
  {
   "cell_type": "raw",
   "metadata": {
    "id": "mmTksO-9nBfn"
   },
   "source": [
    "8.Iterate through the characters of a string using a for loop:\n"
   ]
  },
  {
   "cell_type": "code",
   "execution_count": 7,
   "metadata": {
    "colab": {
     "base_uri": "https://localhost:8080/"
    },
    "id": "zYKzVxvlnMRZ",
    "outputId": "1138f81b-d009-4097-c7e4-426b5699d3f5"
   },
   "outputs": [
    {
     "name": "stdout",
     "output_type": "stream",
     "text": [
      "H\n",
      "e\n",
      "l\n",
      "l\n",
      "o\n",
      ",\n",
      " \n",
      "W\n",
      "o\n",
      "r\n",
      "l\n",
      "d\n",
      "!\n"
     ]
    }
   ],
   "source": [
    "my_string = \"Hello, World!\"\n",
    "\n",
    "# Using a for loop to iterate through the string\n",
    "for char in my_string:\n",
    "    print(char)\n"
   ]
  },
  {
   "cell_type": "raw",
   "metadata": {
    "id": "9nI_nrbznQb4"
   },
   "source": [
    "9. Find the largest number in a list using a for loop:\n"
   ]
  },
  {
   "cell_type": "code",
   "execution_count": 8,
   "metadata": {
    "colab": {
     "base_uri": "https://localhost:8080/"
    },
    "id": "DBMV9P2-nVI4",
    "outputId": "a422d30c-e2f3-4f8c-a2f5-6afeabb892ea"
   },
   "outputs": [
    {
     "name": "stdout",
     "output_type": "stream",
     "text": [
      "The largest number in the list is: 88\n"
     ]
    }
   ],
   "source": [
    "my_list = [34, 12, 88, 45, 67, 22]\n",
    "\n",
    "# Initialize a variable to store the largest number\n",
    "largest = my_list[0]\n",
    "\n",
    "# Using a for loop to find the largest number\n",
    "for num in my_list:\n",
    "    if num > largest:\n",
    "        largest = num\n",
    "\n",
    "print(\"The largest number in the list is:\", largest)\n"
   ]
  },
  {
   "cell_type": "raw",
   "metadata": {
    "id": "msjg53TgnYPx"
   },
   "source": [
    "10. Print the Fibonacci sequence up to a specified limit using a for loop:"
   ]
  },
  {
   "cell_type": "code",
   "execution_count": 9,
   "metadata": {
    "colab": {
     "base_uri": "https://localhost:8080/"
    },
    "id": "msj0tn6indHD",
    "outputId": "2f9f07d1-564a-44a7-cb81-7e1fe50045c5"
   },
   "outputs": [
    {
     "name": "stdin",
     "output_type": "stream",
     "text": [
      "Enter the limit for the Fibonacci sequence:  9\n"
     ]
    },
    {
     "name": "stdout",
     "output_type": "stream",
     "text": [
      "Fibonacci sequence up to 9 : [0, 1, 1, 2, 3, 5, 8]\n"
     ]
    }
   ],
   "source": [
    "# Input: Limit for the Fibonacci sequence\n",
    "limit = int(input(\"Enter the limit for the Fibonacci sequence: \"))\n",
    "\n",
    "# Initialize the first two Fibonacci numbers\n",
    "fibonacci_sequence = [0, 1]\n",
    "\n",
    "# Using a for loop to generate the Fibonacci sequence\n",
    "for i in range(2, limit):\n",
    "    next_num = fibonacci_sequence[-1] + fibonacci_sequence[-2]\n",
    "    if next_num <= limit:\n",
    "        fibonacci_sequence.append(next_num)\n",
    "    else:\n",
    "        break\n",
    "\n",
    "print(\"Fibonacci sequence up to\", limit, \":\", fibonacci_sequence)\n"
   ]
  },
  {
   "cell_type": "raw",
   "metadata": {
    "id": "jWUDUf19nflp"
   },
   "source": [
    "11.Count the number of vowels in a given string using a for loop:\n"
   ]
  },
  {
   "cell_type": "code",
   "execution_count": 10,
   "metadata": {
    "colab": {
     "base_uri": "https://localhost:8080/"
    },
    "id": "0-5rCKbCoRD7",
    "outputId": "8aadc79a-7a73-4563-bda0-671850986459"
   },
   "outputs": [
    {
     "name": "stdin",
     "output_type": "stream",
     "text": [
      "Enter a string:  \"hello my name is anthony gonzalez\"\n"
     ]
    },
    {
     "name": "stdout",
     "output_type": "stream",
     "text": [
      "Number of vowels in the string: 10\n"
     ]
    }
   ],
   "source": [
    "# Input: String for which vowels need to be counted\n",
    "input_string = input(\"Enter a string: \")\n",
    "\n",
    "# Initialize a variable to store the count of vowels\n",
    "vowel_count = 0\n",
    "\n",
    "# Using a for loop to count vowels\n",
    "for char in input_string:\n",
    "    if char.lower() in \"aeiou\":\n",
    "        vowel_count += 1\n",
    "\n",
    "print(\"Number of vowels in the string:\", vowel_count)\n"
   ]
  },
  {
   "cell_type": "raw",
   "metadata": {
    "id": "XPkV06c0oVoT"
   },
   "source": [
    "12.Generate a multiplication table for a given number using a for loop:"
   ]
  },
  {
   "cell_type": "code",
   "execution_count": 11,
   "metadata": {
    "colab": {
     "base_uri": "https://localhost:8080/"
    },
    "id": "pi-qSQAfoaFT",
    "outputId": "51a703a9-6748-4f69-db64-c0f4fa12e4ec"
   },
   "outputs": [
    {
     "name": "stdin",
     "output_type": "stream",
     "text": [
      "Enter a number:  5\n"
     ]
    },
    {
     "name": "stdout",
     "output_type": "stream",
     "text": [
      "5 x 1 = 5\n",
      "5 x 2 = 10\n",
      "5 x 3 = 15\n",
      "5 x 4 = 20\n",
      "5 x 5 = 25\n",
      "5 x 6 = 30\n",
      "5 x 7 = 35\n",
      "5 x 8 = 40\n",
      "5 x 9 = 45\n",
      "5 x 10 = 50\n"
     ]
    }
   ],
   "source": [
    "# Input: Number for which multiplication table is to be generated\n",
    "num = int(input(\"Enter a number: \"))\n",
    "\n",
    "# Using a for loop to generate the multiplication table\n",
    "for i in range(1, 11):\n",
    "    result = num * i\n",
    "    print(f\"{num} x {i} = {result}\")\n"
   ]
  },
  {
   "cell_type": "raw",
   "metadata": {
    "id": "s673cwSZocQF"
   },
   "source": [
    "13.Reverse a list using a for loop:"
   ]
  },
  {
   "cell_type": "code",
   "execution_count": 12,
   "metadata": {
    "colab": {
     "base_uri": "https://localhost:8080/"
    },
    "id": "KEj4RoBQonlD",
    "outputId": "0e23e1ea-2d83-43ec-d9be-47396fda5730"
   },
   "outputs": [
    {
     "name": "stdout",
     "output_type": "stream",
     "text": [
      "Reversed list: [5, 4, 3, 2, 1]\n"
     ]
    }
   ],
   "source": [
    "my_list = [1, 2, 3, 4, 5]\n",
    "\n",
    "# Initialize an empty list to store the reversed elements\n",
    "reversed_list = []\n",
    "\n",
    "# Using a for loop to reverse the list\n",
    "for item in reversed(my_list):\n",
    "    reversed_list.append(item)\n",
    "\n",
    "print(\"Reversed list:\", reversed_list)\n"
   ]
  },
  {
   "cell_type": "raw",
   "metadata": {
    "id": "PEU3G6MgoqvU"
   },
   "source": [
    "14.Find common elements between two lists using a for loop:"
   ]
  },
  {
   "cell_type": "code",
   "execution_count": 13,
   "metadata": {
    "colab": {
     "base_uri": "https://localhost:8080/"
    },
    "id": "e1ruEVUvovaE",
    "outputId": "9f447697-2f6e-4cc6-eb7b-098c2105b389"
   },
   "outputs": [
    {
     "name": "stdout",
     "output_type": "stream",
     "text": [
      "Common elements between the two lists: [3, 4, 5]\n"
     ]
    }
   ],
   "source": [
    "list1 = [1, 2, 3, 4, 5]\n",
    "list2 = [3, 4, 5, 6, 7]\n",
    "\n",
    "# Initialize an empty list to store common elements\n",
    "common_elements = []\n",
    "\n",
    "# Using a for loop to find common elements\n",
    "for item1 in list1:\n",
    "    for item2 in list2:\n",
    "        if item1 == item2:\n",
    "            common_elements.append(item1)\n",
    "\n",
    "print(\"Common elements between the two lists:\", common_elements)\n"
   ]
  },
  {
   "cell_type": "raw",
   "metadata": {
    "id": "Bo9vH2_7ox7O"
   },
   "source": [
    "15.Iterate through the keys and values of a dictionary using a for loop:\n"
   ]
  },
  {
   "cell_type": "code",
   "execution_count": 14,
   "metadata": {
    "colab": {
     "base_uri": "https://localhost:8080/"
    },
    "id": "ZOvtbnx6o1FE",
    "outputId": "a20eaa6d-d396-41c6-9792-505d89340856"
   },
   "outputs": [
    {
     "name": "stdout",
     "output_type": "stream",
     "text": [
      "Key: name, Value: Alice\n",
      "Key: age, Value: 30\n",
      "Key: city, Value: New York\n"
     ]
    }
   ],
   "source": [
    "my_dict = {'name': 'Alice', 'age': 30, 'city': 'New York'}\n",
    "\n",
    "# Using a for loop to iterate through keys and values\n",
    "for key, value in my_dict.items():\n",
    "    print(f\"Key: {key}, Value: {value}\")\n"
   ]
  },
  {
   "cell_type": "raw",
   "metadata": {
    "id": "_lsakEgHo63e"
   },
   "source": [
    "16.Find the GCD (Greatest Common Divisor) of two numbers using a for loop:"
   ]
  },
  {
   "cell_type": "code",
   "execution_count": 15,
   "metadata": {
    "colab": {
     "base_uri": "https://localhost:8080/"
    },
    "id": "JTUR7jUjo89O",
    "outputId": "a402a25a-5a3d-447c-afa8-97959447f7f9"
   },
   "outputs": [
    {
     "name": "stdin",
     "output_type": "stream",
     "text": [
      "Enter the first number:  5\n",
      "Enter the second number:  6\n"
     ]
    },
    {
     "name": "stdout",
     "output_type": "stream",
     "text": [
      "GCD of 5 and 6 is 1\n"
     ]
    }
   ],
   "source": [
    "import math\n",
    "\n",
    "# Input: Two numbers for which GCD is to be calculated\n",
    "num1 = int(input(\"Enter the first number: \"))\n",
    "num2 = int(input(\"Enter the second number: \"))\n",
    "\n",
    "# Calculate GCD using math.gcd\n",
    "gcd = math.gcd(num1, num2)\n",
    "\n",
    "print(\"GCD of\", num1, \"and\", num2, \"is\", gcd)\n"
   ]
  },
  {
   "cell_type": "raw",
   "metadata": {
    "id": "e-Rj3mofpCsl"
   },
   "source": [
    "17.Check if a string is a palindrome using a for loop:"
   ]
  },
  {
   "cell_type": "code",
   "execution_count": 16,
   "metadata": {
    "colab": {
     "base_uri": "https://localhost:8080/"
    },
    "id": "tBoL9Y-8pHlb",
    "outputId": "54dd11a0-4056-4757-d8c3-5cadaa91953d"
   },
   "outputs": [
    {
     "name": "stdin",
     "output_type": "stream",
     "text": [
      "Enter a string:  \"hello\"\n"
     ]
    },
    {
     "name": "stdout",
     "output_type": "stream",
     "text": [
      "The string is not a palindrome.\n"
     ]
    }
   ],
   "source": [
    "# Input: String to check for palindrome\n",
    "input_string = input(\"Enter a string: \")\n",
    "\n",
    "# Remove spaces and convert to lowercase\n",
    "cleaned_string = input_string.replace(\" \", \"\").lower()\n",
    "\n",
    "# Initialize a variable to check for palindrome\n",
    "is_palindrome = True\n",
    "\n",
    "# Using a for loop to check for palindrome\n",
    "for i in range(len(cleaned_string) // 2):\n",
    "    if cleaned_string[i] != cleaned_string[-(i + 1)]:\n",
    "        is_palindrome = False\n",
    "        break\n",
    "\n",
    "if is_palindrome:\n",
    "    print(\"The string is a palindrome.\")\n",
    "else:\n",
    "    print(\"The string is not a palindrome.\")\n"
   ]
  },
  {
   "cell_type": "raw",
   "metadata": {
    "id": "sgkJh7B0pYm7"
   },
   "source": [
    "18.Remove duplicates from a list using a for loop:\n"
   ]
  },
  {
   "cell_type": "code",
   "execution_count": 17,
   "metadata": {
    "colab": {
     "base_uri": "https://localhost:8080/"
    },
    "id": "fy4Sr28gpaYi",
    "outputId": "f365259a-f2fb-409d-fe40-8f45258ffd94"
   },
   "outputs": [
    {
     "name": "stdout",
     "output_type": "stream",
     "text": [
      "List with duplicates removed: [1, 2, 3, 4, 5]\n"
     ]
    }
   ],
   "source": [
    "my_list = [1, 2, 2, 3, 4, 4, 5, 5]\n",
    "\n",
    "# Initialize an empty list to store unique elements\n",
    "unique_list = []\n",
    "\n",
    "# Using a for loop to remove duplicates\n",
    "for item in my_list:\n",
    "    if item not in unique_list:\n",
    "        unique_list.append(item)\n",
    "\n",
    "print(\"List with duplicates removed:\", unique_list)\n"
   ]
  },
  {
   "cell_type": "raw",
   "metadata": {
    "id": "G18Rpa2TpceG"
   },
   "source": [
    "19.Count the number of words in a sentence using a for loop:"
   ]
  },
  {
   "cell_type": "code",
   "execution_count": 18,
   "metadata": {
    "colab": {
     "base_uri": "https://localhost:8080/"
    },
    "id": "iyKkvBLDpfyp",
    "outputId": "70d17b45-9d94-4b4e-dfb1-795aba1f01c4"
   },
   "outputs": [
    {
     "name": "stdin",
     "output_type": "stream",
     "text": [
      "Enter a sentence:  \"my name is anthony gonzalez\"\n"
     ]
    },
    {
     "name": "stdout",
     "output_type": "stream",
     "text": [
      "Number of words in the sentence: 5\n"
     ]
    }
   ],
   "source": [
    "# Input: Sentence to count words\n",
    "sentence = input(\"Enter a sentence: \")\n",
    "\n",
    "# Split the sentence into words using spaces\n",
    "words = sentence.split()\n",
    "\n",
    "# Initialize a variable to count words\n",
    "word_count = len(words)\n",
    "\n",
    "print(\"Number of words in the sentence:\", word_count)\n"
   ]
  },
  {
   "cell_type": "raw",
   "metadata": {
    "id": "NoC7LuCRp2v_"
   },
   "source": [
    "20.Find the sum of all odd numbers from 1 to 50 using a for loop:\n"
   ]
  },
  {
   "cell_type": "code",
   "execution_count": 19,
   "metadata": {
    "colab": {
     "base_uri": "https://localhost:8080/"
    },
    "id": "5sZcqm0ZqFq4",
    "outputId": "4d6a34dc-a303-4425-aef6-bb79ff8d5207"
   },
   "outputs": [
    {
     "name": "stdout",
     "output_type": "stream",
     "text": [
      "Sum of odd numbers from 1 to 50: 625\n"
     ]
    }
   ],
   "source": [
    "# Initialize a variable to store the sum of odd numbers\n",
    "sum_of_odd_numbers = 0\n",
    "\n",
    "# Using a for loop to find the sum of odd numbers\n",
    "for num in range(1, 51, 2):\n",
    "    sum_of_odd_numbers += num\n",
    "\n",
    "print(\"Sum of odd numbers from 1 to 50:\", sum_of_odd_numbers)\n"
   ]
  },
  {
   "cell_type": "raw",
   "metadata": {
    "id": "6IlXsNz0q-vz"
   },
   "source": [
    "21.Check if a given year is a leap year using a for loop:"
   ]
  },
  {
   "cell_type": "code",
   "execution_count": 20,
   "metadata": {
    "colab": {
     "base_uri": "https://localhost:8080/"
    },
    "id": "W4DOMJhZrDPK",
    "outputId": "9e63e5f8-0c74-46bf-ab89-a0215955cd25"
   },
   "outputs": [
    {
     "name": "stdin",
     "output_type": "stream",
     "text": [
      "Enter a year:  2004\n"
     ]
    },
    {
     "name": "stdout",
     "output_type": "stream",
     "text": [
      "2004 is a leap year.\n"
     ]
    }
   ],
   "source": [
    "# Input: Year to check for leap year\n",
    "year = int(input(\"Enter a year: \"))\n",
    "\n",
    "# Initialize a variable to check for leap year\n",
    "is_leap_year = False\n",
    "\n",
    "# Using a for loop to check for leap year\n",
    "if (year % 4 == 0 and year % 100 != 0) or (year % 400 == 0):\n",
    "    is_leap_year = True\n",
    "\n",
    "if is_leap_year:\n",
    "    print(year, \"is a leap year.\")\n",
    "else:\n",
    "    print(year, \"is not a leap year.\")\n"
   ]
  },
  {
   "cell_type": "raw",
   "metadata": {
    "id": "L21oCnkKrR0C"
   },
   "source": [
    "22.Calculate the square root of a number using a for loop (approximation method):\n"
   ]
  },
  {
   "cell_type": "code",
   "execution_count": 21,
   "metadata": {
    "colab": {
     "base_uri": "https://localhost:8080/"
    },
    "id": "J3iBmnNcrUyR",
    "outputId": "b42a62e4-757c-4941-aaba-af2c77f21479"
   },
   "outputs": [
    {
     "name": "stdin",
     "output_type": "stream",
     "text": [
      "Enter a number:  5\n"
     ]
    },
    {
     "name": "stdout",
     "output_type": "stream",
     "text": [
      "Square root: 2.23606797749979\n"
     ]
    }
   ],
   "source": [
    "# Input: Number for which square root is to be calculated\n",
    "num = float(input(\"Enter a number: \"))\n",
    "\n",
    "# Initial approximation for the square root\n",
    "approximation = num / 2\n",
    "\n",
    "# Number of iterations for refining the approximation\n",
    "iterations = 10\n",
    "\n",
    "# Using a for loop to refine the approximation\n",
    "for i in range(iterations):\n",
    "    approximation = 0.5 * (approximation + num / approximation)\n",
    "\n",
    "print(\"Square root:\", approximation)\n"
   ]
  },
  {
   "cell_type": "raw",
   "metadata": {
    "id": "7Pfh1p91rbiC"
   },
   "source": [
    "23.Find the LCM (Least Common Multiple) of two numbers using a for loop:\n"
   ]
  },
  {
   "cell_type": "code",
   "execution_count": 22,
   "metadata": {
    "colab": {
     "base_uri": "https://localhost:8080/"
    },
    "id": "zMlFH92DrenK",
    "outputId": "42f76610-c4f3-44aa-a2b9-f8ec5cf0e6a4"
   },
   "outputs": [
    {
     "name": "stdin",
     "output_type": "stream",
     "text": [
      "Enter the first number:  20\n",
      "Enter the second number:  35\n"
     ]
    },
    {
     "name": "stdout",
     "output_type": "stream",
     "text": [
      "LCM of 20 and 35 is 140\n"
     ]
    }
   ],
   "source": [
    "# Input: Two numbers for which LCM is to be calculated\n",
    "num1 = int(input(\"Enter the first number: \"))\n",
    "num2 = int(input(\"Enter the second number: \"))\n",
    "\n",
    "# Find the maximum of the two numbers\n",
    "maximum = max(num1, num2)\n",
    "\n",
    "# Initialize a variable to store the LCM\n",
    "lcm = maximum\n",
    "\n",
    "# Using a for loop to find the LCM\n",
    "while True:\n",
    "    if lcm % num1 == 0 and lcm % num2 == 0:\n",
    "        break\n",
    "    lcm += maximum\n",
    "\n",
    "print(\"LCM of\", num1, \"and\", num2, \"is\", lcm)\n"
   ]
  },
  {
   "cell_type": "markdown",
   "metadata": {
    "id": "KuFs1FHJmVk8"
   },
   "source": [
    "If else :\n"
   ]
  },
  {
   "cell_type": "raw",
   "metadata": {
    "id": "h6fMikgpmYpb"
   },
   "source": [
    "1.Check if a number is positive, negative, or zero:"
   ]
  },
  {
   "cell_type": "code",
   "execution_count": 23,
   "metadata": {
    "colab": {
     "base_uri": "https://localhost:8080/"
    },
    "id": "rvUf3DK7mlJd",
    "outputId": "6249ffeb-ccf7-4278-8e30-ee7824c46672"
   },
   "outputs": [
    {
     "name": "stdin",
     "output_type": "stream",
     "text": [
      "Enter a number:  5\n"
     ]
    },
    {
     "name": "stdout",
     "output_type": "stream",
     "text": [
      "Positive\n"
     ]
    }
   ],
   "source": [
    "# Input\n",
    "num = float(input(\"Enter a number: \"))\n",
    "\n",
    "# Check using if-else\n",
    "if num > 0:\n",
    "    print(\"Positive\")\n",
    "elif num < 0:\n",
    "    print(\"Negative\")\n",
    "else:\n",
    "    print(\"Zero\")\n"
   ]
  },
  {
   "cell_type": "raw",
   "metadata": {
    "id": "ZhDGLWZVmrwU"
   },
   "source": [
    "2.Check if a given number is even or odd:"
   ]
  },
  {
   "cell_type": "code",
   "execution_count": 24,
   "metadata": {
    "colab": {
     "base_uri": "https://localhost:8080/"
    },
    "id": "N01UOmtUmu0c",
    "outputId": "8b80b1ef-0666-4caf-d0d9-4d7ea0f53071"
   },
   "outputs": [
    {
     "name": "stdin",
     "output_type": "stream",
     "text": [
      "Enter a number:  5\n"
     ]
    },
    {
     "name": "stdout",
     "output_type": "stream",
     "text": [
      "Odd\n"
     ]
    }
   ],
   "source": [
    "# Input\n",
    "num = int(input(\"Enter a number: \"))\n",
    "\n",
    "# Check using if-else\n",
    "if num % 2 == 0:\n",
    "    print(\"Even\")\n",
    "else:\n",
    "    print(\"Odd\")\n"
   ]
  },
  {
   "cell_type": "raw",
   "metadata": {
    "id": "nTF8CUEwmzNd"
   },
   "source": [
    "3.Use nested if-else statements:"
   ]
  },
  {
   "cell_type": "code",
   "execution_count": 25,
   "metadata": {
    "colab": {
     "base_uri": "https://localhost:8080/"
    },
    "id": "VZ9pmxO6m2iD",
    "outputId": "9e9d3593-f587-4a7d-f9d4-aef171d23e9b"
   },
   "outputs": [
    {
     "name": "stdout",
     "output_type": "stream",
     "text": [
      "Positive and Even\n"
     ]
    }
   ],
   "source": [
    "# Nested if-else example\n",
    "x = 10\n",
    "\n",
    "if x > 0:\n",
    "    if x % 2 == 0:\n",
    "        print(\"Positive and Even\")\n",
    "    else:\n",
    "        print(\"Positive and Odd\")\n",
    "elif x < 0:\n",
    "    print(\"Negative\")\n",
    "else:\n",
    "    print(\"Zero\")\n"
   ]
  },
  {
   "cell_type": "raw",
   "metadata": {
    "id": "4lS3Tz-sm7GG"
   },
   "source": [
    "4.Determine the largest of three numbers:"
   ]
  },
  {
   "cell_type": "code",
   "execution_count": 26,
   "metadata": {
    "colab": {
     "base_uri": "https://localhost:8080/"
    },
    "id": "wMKRD8R2m8Xc",
    "outputId": "f8d8f87e-3490-44d1-b7f1-49bb6b48f256"
   },
   "outputs": [
    {
     "name": "stdin",
     "output_type": "stream",
     "text": [
      "Enter first number:  6\n",
      "Enter second number:  7\n",
      "Enter third number:  8\n"
     ]
    },
    {
     "name": "stdout",
     "output_type": "stream",
     "text": [
      "Largest:  8.0\n"
     ]
    }
   ],
   "source": [
    "# Input\n",
    "a = float(input(\"Enter first number: \"))\n",
    "b = float(input(\"Enter second number: \"))\n",
    "c = float(input(\"Enter third number: \"))\n",
    "\n",
    "# Check using if-else\n",
    "if a >= b and a >= c:\n",
    "    print(\"Largest: \", a)\n",
    "elif b >= a and b >= c:\n",
    "    print(\"Largest: \", b)\n",
    "else:\n",
    "    print(\"Largest: \", c)\n"
   ]
  },
  {
   "cell_type": "raw",
   "metadata": {
    "id": "dppx_JWZnC7M"
   },
   "source": [
    "5.Calculate the absolute value of a number:\n"
   ]
  },
  {
   "cell_type": "code",
   "execution_count": 28,
   "metadata": {
    "colab": {
     "base_uri": "https://localhost:8080/"
    },
    "id": "11LrIZn7nLIU",
    "outputId": "33ac0ba5-602d-4a8c-c820-999b5d5f5024"
   },
   "outputs": [
    {
     "name": "stdin",
     "output_type": "stream",
     "text": [
      "Enter a number:  6\n"
     ]
    },
    {
     "name": "stdout",
     "output_type": "stream",
     "text": [
      "Absolute value: 6.0\n"
     ]
    }
   ],
   "source": [
    "# Input\n",
    "num = float(input(\"Enter a number: \"))\n",
    "\n",
    "# Calculate using if-else\n",
    "if num < 0:\n",
    "    abs_num = -num\n",
    "else:\n",
    "    abs_num = num\n",
    "\n",
    "print(\"Absolute value:\", abs_num)\n"
   ]
  },
  {
   "cell_type": "raw",
   "metadata": {
    "id": "ph4MgOwUnb2z"
   },
   "source": [
    "6.Check if a character is a vowel or consonant:"
   ]
  },
  {
   "cell_type": "code",
   "execution_count": 30,
   "metadata": {
    "colab": {
     "base_uri": "https://localhost:8080/"
    },
    "id": "v0mXANg0ndcT",
    "outputId": "75c5cd51-7c0a-4300-a909-d3012bba72ec"
   },
   "outputs": [
    {
     "name": "stdin",
     "output_type": "stream",
     "text": [
      "Enter a character:  a\n"
     ]
    },
    {
     "name": "stdout",
     "output_type": "stream",
     "text": [
      "Vowel\n"
     ]
    }
   ],
   "source": [
    "# Input\n",
    "char = input(\"Enter a character: \")\n",
    "\n",
    "# Check using if-else\n",
    "if char.lower() in 'aeiou':\n",
    "    print(\"Vowel\")\n",
    "else:\n",
    "    print(\"Consonant\")\n"
   ]
  },
  {
   "cell_type": "raw",
   "metadata": {
    "id": "rXconBcWnqPm"
   },
   "source": [
    "7.Check if a user is eligible to vote:\n"
   ]
  },
  {
   "cell_type": "code",
   "execution_count": 31,
   "metadata": {
    "colab": {
     "base_uri": "https://localhost:8080/"
    },
    "id": "x1lTcunXnuba",
    "outputId": "ccb01ed5-6363-48a0-90f9-8313b2b85efc"
   },
   "outputs": [
    {
     "name": "stdin",
     "output_type": "stream",
     "text": [
      "Enter your age:  15\n"
     ]
    },
    {
     "name": "stdout",
     "output_type": "stream",
     "text": [
      "You are not eligible to vote.\n"
     ]
    }
   ],
   "source": [
    "# Input\n",
    "age = int(input(\"Enter your age: \"))\n",
    "\n",
    "# Check using if-else\n",
    "if age >= 18:\n",
    "    print(\"You are eligible to vote.\")\n",
    "else:\n",
    "    print(\"You are not eligible to vote.\")\n"
   ]
  },
  {
   "cell_type": "raw",
   "metadata": {
    "id": "QBYJ2qPjnzA0"
   },
   "source": [
    "8.Calculate the discount amount based on the purchase amount:"
   ]
  },
  {
   "cell_type": "code",
   "execution_count": 32,
   "metadata": {
    "colab": {
     "base_uri": "https://localhost:8080/"
    },
    "id": "kyYiZ1FOn2Xa",
    "outputId": "f91014f8-61e2-4ce1-ff69-0de4b4209fda"
   },
   "outputs": [
    {
     "name": "stdin",
     "output_type": "stream",
     "text": [
      "Enter the purchase amount:  30000\n"
     ]
    },
    {
     "name": "stdout",
     "output_type": "stream",
     "text": [
      "Discount amount: 3000.0\n"
     ]
    }
   ],
   "source": [
    "# Input\n",
    "purchase_amount = float(input(\"Enter the purchase amount: \"))\n",
    "\n",
    "# Calculate discount using if-else\n",
    "if purchase_amount >= 1000:\n",
    "    discount = 0.1 * purchase_amount\n",
    "else:\n",
    "    discount = 0\n",
    "\n",
    "print(\"Discount amount:\", discount)\n"
   ]
  },
  {
   "cell_type": "raw",
   "metadata": {
    "id": "WoGHwI5-n_Tz"
   },
   "source": [
    "9.Check if a number is within a specified range:"
   ]
  },
  {
   "cell_type": "code",
   "execution_count": 33,
   "metadata": {
    "colab": {
     "base_uri": "https://localhost:8080/"
    },
    "id": "XEhConJaoCTt",
    "outputId": "fa3433ae-4b89-4043-a27f-124691ef681f"
   },
   "outputs": [
    {
     "name": "stdin",
     "output_type": "stream",
     "text": [
      "Enter a number:  43\n"
     ]
    },
    {
     "name": "stdout",
     "output_type": "stream",
     "text": [
      "Number is within the range.\n"
     ]
    }
   ],
   "source": [
    "# Input\n",
    "num = float(input(\"Enter a number: \"))\n",
    "\n",
    "# Check using if-else\n",
    "if 10 <= num <= 50:\n",
    "    print(\"Number is within the range.\")\n",
    "else:\n",
    "    print(\"Number is not within the range.\")\n"
   ]
  },
  {
   "cell_type": "raw",
   "metadata": {
    "id": "bAyx0lx_oIFK"
   },
   "source": [
    "10.Determine the grade of a student based on their score:\n"
   ]
  },
  {
   "cell_type": "code",
   "execution_count": 34,
   "metadata": {
    "colab": {
     "base_uri": "https://localhost:8080/"
    },
    "id": "ym0bdCT0oNfk",
    "outputId": "e01d7a2a-3d57-435e-f8de-571e8f7b2499"
   },
   "outputs": [
    {
     "name": "stdin",
     "output_type": "stream",
     "text": [
      "Enter your score:  56\n"
     ]
    },
    {
     "name": "stdout",
     "output_type": "stream",
     "text": [
      "Your grade is: F\n"
     ]
    }
   ],
   "source": [
    "# Input\n",
    "score = float(input(\"Enter your score: \"))\n",
    "\n",
    "# Determine grade using if-else\n",
    "if score >= 90:\n",
    "    grade = \"A\"\n",
    "elif score >= 80:\n",
    "    grade = \"B\"\n",
    "elif score >= 70:\n",
    "    grade = \"C\"\n",
    "elif score >= 60:\n",
    "    grade = \"D\"\n",
    "else:\n",
    "    grade = \"F\"\n",
    "\n",
    "print(\"Your grade is:\", grade)\n"
   ]
  },
  {
   "cell_type": "raw",
   "metadata": {
    "id": "kS8HqZzAoyaw"
   },
   "source": [
    "11.Check if a string is empty or not:\n"
   ]
  },
  {
   "cell_type": "code",
   "execution_count": 35,
   "metadata": {
    "colab": {
     "base_uri": "https://localhost:8080/"
    },
    "id": "WyYuuR4yo095",
    "outputId": "3b1c9883-6f88-41e9-dd0d-ae6a91203070"
   },
   "outputs": [
    {
     "name": "stdin",
     "output_type": "stream",
     "text": [
      "Enter a string:  \"hellooaaa\"\n"
     ]
    },
    {
     "name": "stdout",
     "output_type": "stream",
     "text": [
      "String is not empty.\n"
     ]
    }
   ],
   "source": [
    "# Input\n",
    "string = input(\"Enter a string: \")\n",
    "\n",
    "# Check using if-else\n",
    "if string:\n",
    "    print(\"String is not empty.\")\n",
    "else:\n",
    "    print(\"String is empty.\")\n"
   ]
  },
  {
   "cell_type": "raw",
   "metadata": {
    "id": "AoPCqR2Jo4Dq"
   },
   "source": [
    "12.Identify the type of a triangle based on input values:\n"
   ]
  },
  {
   "cell_type": "code",
   "execution_count": 36,
   "metadata": {
    "colab": {
     "base_uri": "https://localhost:8080/"
    },
    "id": "UzLhvlLSo62Y",
    "outputId": "33f497a7-1feb-47ce-c476-181141b0ef82"
   },
   "outputs": [
    {
     "name": "stdin",
     "output_type": "stream",
     "text": [
      "Enter side 'a' length:  5\n",
      "Enter side 'b' length:  6\n",
      "Enter side 'c' length:  5\n"
     ]
    },
    {
     "name": "stdout",
     "output_type": "stream",
     "text": [
      "Isosceles Triangle\n"
     ]
    }
   ],
   "source": [
    "# Input\n",
    "a = float(input(\"Enter side 'a' length: \"))\n",
    "b = float(input(\"Enter side 'b' length: \"))\n",
    "c = float(input(\"Enter side 'c' length: \"))\n",
    "\n",
    "# Check using if-else\n",
    "if a == b == c:\n",
    "    print(\"Equilateral Triangle\")\n",
    "elif a == b or b == c or a == c:\n",
    "    print(\"Isosceles Triangle\")\n",
    "else:\n",
    "    print(\"Scalene Triangle\")\n"
   ]
  },
  {
   "cell_type": "raw",
   "metadata": {
    "id": "Ih9AYSNkpCkU"
   },
   "source": [
    "13.Determine the day of the week based on a user-provided number:"
   ]
  },
  {
   "cell_type": "code",
   "execution_count": 37,
   "metadata": {
    "colab": {
     "base_uri": "https://localhost:8080/"
    },
    "id": "yrZaOZjUpGwr",
    "outputId": "b4298ba0-e05b-4650-ae5d-417111ccfdfc"
   },
   "outputs": [
    {
     "name": "stdin",
     "output_type": "stream",
     "text": [
      "Enter a day number (1-7):  6\n"
     ]
    },
    {
     "name": "stdout",
     "output_type": "stream",
     "text": [
      "Day: Friday\n"
     ]
    }
   ],
   "source": [
    "# Input\n",
    "day_number = int(input(\"Enter a day number (1-7): \"))\n",
    "\n",
    "# Check using if-else\n",
    "if day_number == 1:\n",
    "    day = \"Sunday\"\n",
    "elif day_number == 2:\n",
    "    day = \"Monday\"\n",
    "elif day_number == 3:\n",
    "    day = \"Tuesday\"\n",
    "elif day_number == 4:\n",
    "    day = \"Wednesday\"\n",
    "elif day_number == 5:\n",
    "    day = \"Thursday\"\n",
    "elif day_number == 6:\n",
    "    day = \"Friday\"\n",
    "elif day_number == 7:\n",
    "    day = \"Saturday\"\n",
    "else:\n",
    "    day = \"Invalid day number\"\n",
    "\n",
    "print(\"Day:\", day)\n"
   ]
  },
  {
   "cell_type": "raw",
   "metadata": {
    "id": "Xa3uCPDFpNZX"
   },
   "source": [
    "14.Check if a given year is a leap year using if-else and a function:"
   ]
  },
  {
   "cell_type": "code",
   "execution_count": 38,
   "metadata": {
    "colab": {
     "base_uri": "https://localhost:8080/"
    },
    "id": "Y74q0RpnpzMe",
    "outputId": "7ed78a35-e1c9-451f-e25e-cee7ecff966c"
   },
   "outputs": [
    {
     "name": "stdin",
     "output_type": "stream",
     "text": [
      "Enter a year:  2024\n"
     ]
    },
    {
     "name": "stdout",
     "output_type": "stream",
     "text": [
      "2024 is a leap year.\n"
     ]
    }
   ],
   "source": [
    "def is_leap_year(year):\n",
    "    if (year % 4 == 0 and year % 100 != 0) or (year % 400 == 0):\n",
    "        return True\n",
    "    else:\n",
    "        return False\n",
    "\n",
    "# Input\n",
    "year = int(input(\"Enter a year: \"))\n",
    "\n",
    "# Check using the function\n",
    "if is_leap_year(year):\n",
    "    print(year, \"is a leap year.\")\n",
    "else:\n",
    "    print(year, \"is not a leap year.\")"
   ]
  },
  {
   "cell_type": "raw",
   "metadata": {
    "id": "Km628ncep4pV"
   },
   "source": [
    "15.Use the \"assert\" statement for debugging checks within if-else blocks:\n"
   ]
  },
  {
   "cell_type": "code",
   "execution_count": 39,
   "metadata": {
    "colab": {
     "base_uri": "https://localhost:8080/"
    },
    "id": "oRhx0RqDp8Fv",
    "outputId": "a87ba578-4d73-456e-d2b0-d01ad45e9d1d"
   },
   "outputs": [
    {
     "name": "stdin",
     "output_type": "stream",
     "text": [
      "Enter a number greater than 10:  34\n"
     ]
    },
    {
     "name": "stdout",
     "output_type": "stream",
     "text": [
      "Number is greater than 10.\n"
     ]
    }
   ],
   "source": [
    "# Input\n",
    "num = int(input(\"Enter a number greater than 10: \"))\n",
    "\n",
    "# Check using assert within if-else\n",
    "if num > 10:\n",
    "    print(\"Number is greater than 10.\")\n",
    "else:\n",
    "    assert num <= 10, \"Number should be greater than 10\"\n",
    "    print(\"Assertion passed.\")\n"
   ]
  },
  {
   "cell_type": "raw",
   "metadata": {
    "id": "zs9DnigOp_a1"
   },
   "source": [
    "16.Determine eligibility for a senior citizen discount based on age:\n"
   ]
  },
  {
   "cell_type": "code",
   "execution_count": 40,
   "metadata": {
    "colab": {
     "base_uri": "https://localhost:8080/"
    },
    "id": "xdOI3RC4qCpA",
    "outputId": "8055c5c4-5d60-4719-f7ff-b05c65ccec4b"
   },
   "outputs": [
    {
     "name": "stdin",
     "output_type": "stream",
     "text": [
      "Enter your age:  45\n"
     ]
    },
    {
     "name": "stdout",
     "output_type": "stream",
     "text": [
      "You are not eligible for a senior citizen discount.\n"
     ]
    }
   ],
   "source": [
    "# Input\n",
    "age = int(input(\"Enter your age: \"))\n",
    "\n",
    "# Check using if-else\n",
    "if age >= 60:\n",
    "    print(\"You are eligible for a senior citizen discount.\")\n",
    "else:\n",
    "    print(\"You are not eligible for a senior citizen discount.\")\n"
   ]
  },
  {
   "cell_type": "raw",
   "metadata": {
    "id": "8jTaqTjVqIWx"
   },
   "source": [
    "17.Categorize a given character as uppercase, lowercase, or neither:\n"
   ]
  },
  {
   "cell_type": "code",
   "execution_count": 41,
   "metadata": {
    "colab": {
     "base_uri": "https://localhost:8080/"
    },
    "id": "Bb6gUWF9qMI0",
    "outputId": "d733e3d8-c9ff-4b6a-cb05-49f6045d9b6c"
   },
   "outputs": [
    {
     "name": "stdin",
     "output_type": "stream",
     "text": [
      "Enter a character:  h\n"
     ]
    },
    {
     "name": "stdout",
     "output_type": "stream",
     "text": [
      "Lowercase\n"
     ]
    }
   ],
   "source": [
    "# Input\n",
    "char = input(\"Enter a character: \")\n",
    "\n",
    "# Check using if-else\n",
    "if char.islower():\n",
    "    print(\"Lowercase\")\n",
    "elif char.isupper():\n",
    "    print(\"Uppercase\")\n",
    "else:\n",
    "    print(\"Neither uppercase nor lowercase\")\n"
   ]
  },
  {
   "cell_type": "raw",
   "metadata": {
    "id": "xXR4PpqArTPO"
   },
   "source": [
    "18.Determine the roots of a quadratic equation using if-else:\n"
   ]
  },
  {
   "cell_type": "code",
   "execution_count": 42,
   "metadata": {
    "colab": {
     "base_uri": "https://localhost:8080/"
    },
    "id": "8EMdJmkJrWu9",
    "outputId": "d3275e17-23d1-453e-d9dc-13547275feda"
   },
   "outputs": [
    {
     "name": "stdin",
     "output_type": "stream",
     "text": [
      "Enter the coefficient 'a':  5\n",
      "Enter the coefficient 'b':  64\n",
      "Enter the coefficient 'c':  3\n"
     ]
    },
    {
     "name": "stdout",
     "output_type": "stream",
     "text": [
      "Two real roots: -0.04704793029256393 and -12.752952069707437\n"
     ]
    }
   ],
   "source": [
    "# Input coefficients of the quadratic equation\n",
    "a = float(input(\"Enter the coefficient 'a': \"))\n",
    "b = float(input(\"Enter the coefficient 'b': \"))\n",
    "c = float(input(\"Enter the coefficient 'c': \"))\n",
    "\n",
    "# Calculate the discriminant\n",
    "discriminant = b**2 - 4*a*c\n",
    "\n",
    "# Check using if-else\n",
    "if discriminant > 0:\n",
    "    root1 = (-b + (discriminant)**0.5) / (2*a)\n",
    "    root2 = (-b - (discriminant)**0.5) / (2*a)\n",
    "    print(\"Two real roots:\", root1, \"and\", root2)\n",
    "elif discriminant == 0:\n",
    "    root = -b / (2*a)\n",
    "    print(\"One real root:\", root)\n",
    "else:\n",
    "    print(\"No real roots\")\n"
   ]
  },
  {
   "cell_type": "raw",
   "metadata": {
    "id": "6jeUZrAIrotI"
   },
   "source": [
    "19.Check if a given year is a century year or not:\n"
   ]
  },
  {
   "cell_type": "code",
   "execution_count": 43,
   "metadata": {
    "colab": {
     "base_uri": "https://localhost:8080/"
    },
    "id": "-0Oa7OTirsmH",
    "outputId": "b37758f6-d189-4aeb-9a82-7b92ba1f4d12"
   },
   "outputs": [
    {
     "name": "stdin",
     "output_type": "stream",
     "text": [
      "Enter a year:  2024\n"
     ]
    },
    {
     "name": "stdout",
     "output_type": "stream",
     "text": [
      "2024 is not a century year.\n"
     ]
    }
   ],
   "source": [
    "# Input\n",
    "year = int(input(\"Enter a year: \"))\n",
    "\n",
    "# Check using if-else\n",
    "if year % 100 == 0:\n",
    "    print(year, \"is a century year.\")\n",
    "else:\n",
    "    print(year, \"is not a century year.\")\n"
   ]
  },
  {
   "cell_type": "raw",
   "metadata": {
    "id": "CBVdv5Gsr8Pi"
   },
   "source": [
    "20.Determine if a given number is a perfect square:\n"
   ]
  },
  {
   "cell_type": "code",
   "execution_count": 44,
   "metadata": {
    "colab": {
     "base_uri": "https://localhost:8080/"
    },
    "id": "PfZXOcPHsAzv",
    "outputId": "5d28a44e-c8f4-4e4b-9ad9-b7d50a9a880f"
   },
   "outputs": [
    {
     "name": "stdin",
     "output_type": "stream",
     "text": [
      "Enter a number:  6\n"
     ]
    },
    {
     "name": "stdout",
     "output_type": "stream",
     "text": [
      "6 is not a perfect square.\n"
     ]
    }
   ],
   "source": [
    "# Input\n",
    "num = int(input(\"Enter a number: \"))\n",
    "\n",
    "# Check using if-else\n",
    "if num > 0 and (num**0.5).is_integer():\n",
    "    print(num, \"is a perfect square.\")\n",
    "else:\n",
    "    print(num, \"is not a perfect square.\")\n"
   ]
  },
  {
   "cell_type": "raw",
   "metadata": {
    "id": "g994v4JCsIpF"
   },
   "source": [
    "21.Explain the purpose of the \"continue\" and \"break\" statements within if-else loops:\n",
    "\n",
    "In Python, the continue statement is used to skip the current iteration of a loop and continue with the next iteration. It is often used within loops to skip certain iterations based on a condition. On the other hand, the break statement is used to exit the loop prematurely, even before all iterations have completed.\n",
    "\n"
   ]
  },
  {
   "cell_type": "raw",
   "metadata": {
    "id": "wrVDXCy1sVes"
   },
   "source": [
    "Example using continue:"
   ]
  },
  {
   "cell_type": "code",
   "execution_count": 45,
   "metadata": {
    "colab": {
     "base_uri": "https://localhost:8080/"
    },
    "id": "RJwcUPXhsZN0",
    "outputId": "b5dd46c1-6595-4e46-f232-5ae20b84ff30"
   },
   "outputs": [
    {
     "name": "stdout",
     "output_type": "stream",
     "text": [
      "1\n",
      "3\n",
      "5\n",
      "7\n",
      "9\n"
     ]
    }
   ],
   "source": [
    "# Skip even numbers\n",
    "for i in range(1, 11):\n",
    "    if i % 2 == 0:\n",
    "        continue  # Skip even numbers\n",
    "    print(i)"
   ]
  },
  {
   "cell_type": "raw",
   "metadata": {
    "id": "2YZFz-KBscXt"
   },
   "source": [
    "Example using break:\n"
   ]
  },
  {
   "cell_type": "code",
   "execution_count": 47,
   "metadata": {
    "colab": {
     "base_uri": "https://localhost:8080/"
    },
    "id": "T-PyUbNNseNq",
    "outputId": "27bd9309-a224-46e2-b3d7-d3a436c12fb4"
   },
   "outputs": [
    {
     "name": "stdout",
     "output_type": "stream",
     "text": [
      "1\n",
      "2\n",
      "3\n",
      "4\n"
     ]
    }
   ],
   "source": [
    "# Exit loop when a condition is met\n",
    "for i in range(1, 20):\n",
    "    if i == 5:\n",
    "        break  # Exit the loop when i becomes 5\n",
    "    print(i)\n"
   ]
  },
  {
   "cell_type": "raw",
   "metadata": {
    "id": "1se3p5G3si4c"
   },
   "source": [
    "22.Calculate the BMI (Body Mass Index) of a person based on their weight and height:\n"
   ]
  },
  {
   "cell_type": "code",
   "execution_count": 48,
   "metadata": {
    "colab": {
     "base_uri": "https://localhost:8080/"
    },
    "id": "rAj-0J1msmJv",
    "outputId": "8cc6846c-a275-4339-bd7e-ff8abc2c97a1"
   },
   "outputs": [
    {
     "name": "stdin",
     "output_type": "stream",
     "text": [
      "Enter your weight in kg:  54\n",
      "Enter your height in meters:  1.5\n"
     ]
    },
    {
     "name": "stdout",
     "output_type": "stream",
     "text": [
      "Your BMI is: 24.0\n",
      "Category: Normal Weight\n"
     ]
    }
   ],
   "source": [
    "# Input\n",
    "weight = float(input(\"Enter your weight in kg: \"))\n",
    "height = float(input(\"Enter your height in meters: \"))\n",
    "\n",
    "# Calculate BMI using if-else\n",
    "bmi = weight / (height ** 2)\n",
    "\n",
    "if bmi < 18.5:\n",
    "    category = \"Underweight\"\n",
    "elif 18.5 <= bmi < 24.9:\n",
    "    category = \"Normal Weight\"\n",
    "elif 25 <= bmi < 29.9:\n",
    "    category = \"Overweight\"\n",
    "else:\n",
    "    category = \"Obese\"\n",
    "\n",
    "print(\"Your BMI is:\", bmi)\n",
    "print(\"Category:\", category)\n"
   ]
  },
  {
   "cell_type": "raw",
   "metadata": {
    "id": "Y2pamLjHs7Kd"
   },
   "source": [
    "23.Use the filter() function with if-else statements to filter elements from a list:"
   ]
  },
  {
   "cell_type": "code",
   "execution_count": 49,
   "metadata": {
    "colab": {
     "base_uri": "https://localhost:8080/"
    },
    "id": "7K7l-mcmtEGx",
    "outputId": "eb75c04c-d00d-4f6d-e482-e07c5f93152a"
   },
   "outputs": [
    {
     "name": "stdout",
     "output_type": "stream",
     "text": [
      "Even numbers: [2, 4, 6, 8, 10]\n"
     ]
    }
   ],
   "source": [
    "# Input list of numbers\n",
    "numbers = [1, 2, 3, 4, 5, 6, 7, 8, 9, 10]\n",
    "\n",
    "# Filter even numbers using filter() and a lambda function\n",
    "filtered_numbers = list(filter(lambda x: x % 2 == 0, numbers))\n",
    "\n",
    "print(\"Even numbers:\", filtered_numbers)\n"
   ]
  },
  {
   "cell_type": "raw",
   "metadata": {
    "id": "d5uQGeQctIls"
   },
   "source": [
    "24.Determine if a given number is prime or not:\n"
   ]
  },
  {
   "cell_type": "code",
   "execution_count": 50,
   "metadata": {
    "colab": {
     "base_uri": "https://localhost:8080/"
    },
    "id": "bc_bpLxvtJ30",
    "outputId": "56c06657-af97-4678-9d4f-8187fdbfaa3c"
   },
   "outputs": [
    {
     "name": "stdin",
     "output_type": "stream",
     "text": [
      "Enter a number:  4\n"
     ]
    },
    {
     "name": "stdout",
     "output_type": "stream",
     "text": [
      "4 is not a prime number.\n"
     ]
    }
   ],
   "source": [
    "# Input\n",
    "num = int(input(\"Enter a number: \"))\n",
    "\n",
    "# Check if the number is prime using if-else\n",
    "if num > 1:\n",
    "    for i in range(2, int(num ** 0.5) + 1):\n",
    "        if num % i == 0:\n",
    "            print(num, \"is not a prime number.\")\n",
    "            break\n",
    "    else:\n",
    "        print(num, \"is a prime number.\")\n",
    "else:\n",
    "    print(num, \"is not a prime number.\")\n"
   ]
  },
  {
   "cell_type": "markdown",
   "metadata": {
    "id": "Q63dZeGsuFzT"
   },
   "source": [
    "Map :-"
   ]
  },
  {
   "cell_type": "raw",
   "metadata": {
    "id": "ekAeIZ1tuIer"
   },
   "source": [
    "Q1: Using map() to square each element of a list of numbers."
   ]
  },
  {
   "cell_type": "code",
   "execution_count": 51,
   "metadata": {
    "colab": {
     "base_uri": "https://localhost:8080/"
    },
    "id": "OmT4-VnnuLW8",
    "outputId": "396f3c43-cafb-4d09-9772-98052a79085e"
   },
   "outputs": [
    {
     "name": "stdout",
     "output_type": "stream",
     "text": [
      "[1, 4, 9, 16, 25]\n"
     ]
    }
   ],
   "source": [
    "# Define a function to square a number\n",
    "def square(x):\n",
    "    return x ** 2\n",
    "\n",
    "# Create a list of numbers\n",
    "numbers = [1, 2, 3, 4, 5]\n",
    "\n",
    "# Use map() to apply the square function to each element in the list\n",
    "squared_numbers = list(map(square, numbers))\n",
    "\n",
    "# Print the result\n",
    "print(squared_numbers)\n"
   ]
  },
  {
   "cell_type": "raw",
   "metadata": {
    "id": "NAp2ccW6uKwq"
   },
   "source": [
    "Q 2: Comparing map() to list comprehension.\n"
   ]
  },
  {
   "cell_type": "code",
   "execution_count": 52,
   "metadata": {
    "colab": {
     "base_uri": "https://localhost:8080/"
    },
    "id": "bZCYJJtYuSN8",
    "outputId": "be9764ae-201e-4f89-8e33-ce63fec7302a"
   },
   "outputs": [
    {
     "name": "stdout",
     "output_type": "stream",
     "text": [
      "['ALICE', 'BOB', 'CHARLIE']\n"
     ]
    }
   ],
   "source": [
    "# Define a list of names\n",
    "names = [\"Alice\", \"Bob\", \"Charlie\"]\n",
    "\n",
    "# Use map() to convert names to uppercase\n",
    "uppercased_names = list(map(str.upper, names))\n",
    "\n",
    "# Print the result\n",
    "print(uppercased_names)\n"
   ]
  },
  {
   "cell_type": "raw",
   "metadata": {
    "id": "qAkcEILduU0y"
   },
   "source": [
    "Q 3: Using map() to calculate the length of each word in a list of strings.\n"
   ]
  },
  {
   "cell_type": "code",
   "execution_count": 53,
   "metadata": {
    "colab": {
     "base_uri": "https://localhost:8080/"
    },
    "id": "Z2qSNlqUuWsr",
    "outputId": "2b8a04e9-9670-4272-9d77-9353e89d00a9"
   },
   "outputs": [
    {
     "name": "stdout",
     "output_type": "stream",
     "text": [
      "[5, 6, 5]\n"
     ]
    }
   ],
   "source": [
    "# Define a list of strings\n",
    "strings = [\"Hello\", \"Python\", \"World\"]\n",
    "\n",
    "# Use map() to apply len() function to each string in the list\n",
    "lengths = list(map(len, strings))\n",
    "\n",
    "# Print the result\n",
    "print(lengths)\n"
   ]
  },
  {
   "cell_type": "raw",
   "metadata": {
    "id": "M8giZYKQuYHu"
   },
   "source": [
    "Q 4: Applying a custom function to elements of multiple lists simultaneously using map().\n"
   ]
  },
  {
   "cell_type": "code",
   "execution_count": 54,
   "metadata": {
    "colab": {
     "base_uri": "https://localhost:8080/"
    },
    "id": "5QvsrM6-uaIo",
    "outputId": "a4f3f08d-1523-4793-d719-26f201a825cb"
   },
   "outputs": [
    {
     "name": "stdout",
     "output_type": "stream",
     "text": [
      "[4, 10, 18]\n"
     ]
    }
   ],
   "source": [
    "# Define custom function that takes two arguments\n",
    "def custom_function(x, y):\n",
    "    return x * y\n",
    "\n",
    "# Create two lists\n",
    "list1 = [1, 2, 3]\n",
    "list2 = [4, 5, 6]\n",
    "\n",
    "# Use map() to apply custom_function to elements of both lists simultaneously\n",
    "result = list(map(custom_function, list1, list2))\n",
    "\n",
    "# Print the result\n",
    "print(result)\n"
   ]
  },
  {
   "cell_type": "raw",
   "metadata": {
    "id": "HI0EtlwvucXS"
   },
   "source": [
    "Q 5: Using map() to convert temperatures from Celsius to Fahrenheit.\n"
   ]
  },
  {
   "cell_type": "code",
   "execution_count": 55,
   "metadata": {
    "colab": {
     "base_uri": "https://localhost:8080/"
    },
    "id": "UdQhmN82ueCE",
    "outputId": "eb231734-1f47-499c-ebf5-7dc5a0a8b589"
   },
   "outputs": [
    {
     "name": "stdout",
     "output_type": "stream",
     "text": [
      "[32.0, 77.0, 212.0]\n"
     ]
    }
   ],
   "source": [
    "# Define a function to convert Celsius to Fahrenheit\n",
    "def celsius_to_fahrenheit(celsius):\n",
    "    return (celsius * 9/5) + 32\n",
    "\n",
    "# Create a list of temperatures in Celsius\n",
    "celsius_temperatures = [0, 25, 100]\n",
    "\n",
    "# Use map() to convert temperatures to Fahrenheit\n",
    "fahrenheit_temperatures = list(map(celsius_to_fahrenheit, celsius_temperatures))\n",
    "\n",
    "# Print the result\n",
    "print(fahrenheit_temperatures)\n"
   ]
  },
  {
   "cell_type": "raw",
   "metadata": {
    "id": "X6JdhuoougcU"
   },
   "source": [
    "Q 6: Using map() to round floating-point numbers to the nearest integer.\n"
   ]
  },
  {
   "cell_type": "code",
   "execution_count": 56,
   "metadata": {
    "colab": {
     "base_uri": "https://localhost:8080/"
    },
    "id": "SHjN8_19uifw",
    "outputId": "14de9c36-6958-4b23-8595-0d5b65a033fb"
   },
   "outputs": [
    {
     "name": "stdout",
     "output_type": "stream",
     "text": [
      "[3, 3, 2]\n"
     ]
    }
   ],
   "source": [
    "# Define a list of floating-point numbers\n",
    "float_numbers = [3.14, 2.718, 1.618]\n",
    "\n",
    "# Use map() to round each number to the nearest integer\n",
    "rounded_numbers = list(map(round, float_numbers))\n",
    "\n",
    "# Print the result\n",
    "print(rounded_numbers)\n"
   ]
  },
  {
   "cell_type": "raw",
   "metadata": {
    "id": "lj1RbY19ulKz"
   },
   "source": [
    "Q 7: Using map() with a lambda function to perform a specific task.\n"
   ]
  },
  {
   "cell_type": "code",
   "execution_count": 57,
   "metadata": {
    "colab": {
     "base_uri": "https://localhost:8080/"
    },
    "id": "AMrAtmDtumir",
    "outputId": "1ef23079-d818-4acd-db71-0cc9a3f40ae3"
   },
   "outputs": [
    {
     "name": "stdout",
     "output_type": "stream",
     "text": [
      "[2, 4, 6, 8, 10]\n"
     ]
    }
   ],
   "source": [
    "# Create a list of numbers\n",
    "numbers = [1, 2, 3, 4, 5]\n",
    "\n",
    "# Use map() with a lambda function to double each number\n",
    "doubled_numbers = list(map(lambda x: x * 2, numbers))\n",
    "\n",
    "# Print the result\n",
    "print(doubled_numbers)\n"
   ]
  },
  {
   "cell_type": "raw",
   "metadata": {
    "id": "5iF6JSLZuobj"
   },
   "source": [
    "Q 8: Using map() with multiple iterables.\n"
   ]
  },
  {
   "cell_type": "code",
   "execution_count": 58,
   "metadata": {
    "colab": {
     "base_uri": "https://localhost:8080/"
    },
    "id": "20xxORYquqgE",
    "outputId": "86cae1ba-2c7e-4cd7-ce94-960121d0b25b"
   },
   "outputs": [
    {
     "name": "stdout",
     "output_type": "stream",
     "text": [
      "[5, 7, 9]\n"
     ]
    }
   ],
   "source": [
    "# Define a custom function that takes two arguments\n",
    "def add(x, y):\n",
    "    return x + y\n",
    "\n",
    "# Create two lists\n",
    "list1 = [1, 2, 3]\n",
    "list2 = [4, 5, 6]\n",
    "\n",
    "# Use map() to apply the add function to elements of both lists simultaneously\n",
    "result = list(map(add, list1, list2))\n",
    "\n",
    "# Print the result\n",
    "print(result)\n"
   ]
  },
  {
   "cell_type": "markdown",
   "metadata": {
    "id": "msUubZKAvgbl"
   },
   "source": [
    "Reduce :-"
   ]
  },
  {
   "cell_type": "raw",
   "metadata": {
    "id": "2PdDOP6BvhGY"
   },
   "source": [
    "1.What is the `reduce()` function in Python, and what module should you import to use it? Provide an example of its basic usage.\n",
    "The reduce() function in Python is part of the functools module, and it is used to apply a specified function cumulatively to the items of an iterable, from left to right, so as to reduce the iterable to a single output. The function you pass to reduce() should take two arguments and return a single result."
   ]
  },
  {
   "cell_type": "raw",
   "metadata": {
    "id": "zLAFp9qYvqv0"
   },
   "source": [
    "Here's an example of its basic usage:"
   ]
  },
  {
   "cell_type": "code",
   "execution_count": 59,
   "metadata": {
    "colab": {
     "base_uri": "https://localhost:8080/"
    },
    "id": "cqu476FXvsjo",
    "outputId": "ebbd2299-f02c-460c-eee1-d9f8a8f0ed41"
   },
   "outputs": [
    {
     "name": "stdout",
     "output_type": "stream",
     "text": [
      "Product: 120\n"
     ]
    }
   ],
   "source": [
    "from functools import reduce\n",
    "\n",
    "# Example function: Multiply two numbers\n",
    "def multiply(x, y):\n",
    "    return x * y\n",
    "\n",
    "# List of numbers\n",
    "numbers = [1, 2, 3, 4, 5]\n",
    "\n",
    "# Use reduce() to find the product of all elements in the list\n",
    "product = reduce(multiply, numbers)\n",
    "print(\"Product:\", product)\n"
   ]
  },
  {
   "cell_type": "raw",
   "metadata": {
    "id": "aobp5tx-v1HW"
   },
   "source": [
    "2.Calculate the product of all elements in a list:\n"
   ]
  },
  {
   "cell_type": "code",
   "execution_count": 60,
   "metadata": {
    "colab": {
     "base_uri": "https://localhost:8080/"
    },
    "id": "okvgRjm6v38p",
    "outputId": "f8927b82-1325-4ec0-dee9-58cb399e78d2"
   },
   "outputs": [
    {
     "name": "stdout",
     "output_type": "stream",
     "text": [
      "Product: 120\n"
     ]
    }
   ],
   "source": [
    "from functools import reduce\n",
    "\n",
    "def multiply(x, y):\n",
    "    return x * y\n",
    "\n",
    "numbers = [1, 2, 3, 4, 5]\n",
    "product = reduce(multiply, numbers)\n",
    "print(\"Product:\", product)\n"
   ]
  },
  {
   "cell_type": "raw",
   "metadata": {
    "id": "G8Mtcye6v58P"
   },
   "source": [
    "3.Find the maximum element in a list of numbers:\n"
   ]
  },
  {
   "cell_type": "code",
   "execution_count": 61,
   "metadata": {
    "colab": {
     "base_uri": "https://localhost:8080/"
    },
    "id": "WDypEk3kv8e8",
    "outputId": "0639867e-4d86-4e4f-f15c-b57e6716f0c9"
   },
   "outputs": [
    {
     "name": "stdout",
     "output_type": "stream",
     "text": [
      "Maximum: 67\n"
     ]
    }
   ],
   "source": [
    "from functools import reduce\n",
    "\n",
    "# Example function: Find the maximum of two numbers\n",
    "def find_max(x, y):\n",
    "    return x if x > y else y\n",
    "\n",
    "numbers = [12, 45, 23, 67, 9, 56]\n",
    "maximum = reduce(find_max, numbers)\n",
    "print(\"Maximum:\", maximum)\n"
   ]
  },
  {
   "cell_type": "raw",
   "metadata": {
    "id": "wMdSUCHZv-x7"
   },
   "source": [
    "4.Concatenate a list of strings into a single string:\n"
   ]
  },
  {
   "cell_type": "code",
   "execution_count": 62,
   "metadata": {
    "colab": {
     "base_uri": "https://localhost:8080/"
    },
    "id": "VG5pTeOVwBq9",
    "outputId": "1e3c23bf-3c32-4867-ebd3-08120c0c2802"
   },
   "outputs": [
    {
     "name": "stdout",
     "output_type": "stream",
     "text": [
      "Concatenated: Hello World Python Programming\n"
     ]
    }
   ],
   "source": [
    "from functools import reduce\n",
    "\n",
    "# Example function: Concatenate two strings with a space in between\n",
    "def concatenate_strings(x, y):\n",
    "    return x + ' ' + y\n",
    "\n",
    "strings = [\"Hello\", \"World\", \"Python\", \"Programming\"]\n",
    "concatenated = reduce(concatenate_strings, strings)\n",
    "print(\"Concatenated:\", concatenated)\n"
   ]
  },
  {
   "cell_type": "raw",
   "metadata": {
    "id": "EGLleltBwFpq"
   },
   "source": [
    "5.Calculate the factorial of a number:\n"
   ]
  },
  {
   "cell_type": "code",
   "execution_count": 63,
   "metadata": {
    "colab": {
     "base_uri": "https://localhost:8080/"
    },
    "id": "ZnE_VBYawIFE",
    "outputId": "2897cd8b-65de-4025-9624-8503084adc76"
   },
   "outputs": [
    {
     "name": "stdout",
     "output_type": "stream",
     "text": [
      "5! = 120\n"
     ]
    }
   ],
   "source": [
    "from functools import reduce\n",
    "\n",
    "# Example function: Calculate factorial\n",
    "def factorial(x, y):\n",
    "    return x * y\n",
    "\n",
    "n = 5\n",
    "# Generate a list of numbers from 1 to n\n",
    "numbers = list(range(1, n + 1))\n",
    "factorial_result = reduce(factorial, numbers, 1)  # Start with an initial value of 1\n",
    "print(f\"{n}! =\", factorial_result)\n"
   ]
  },
  {
   "cell_type": "raw",
   "metadata": {
    "id": "s7BqGo83wKrl"
   },
   "source": [
    "6.Find the Greatest Common Divisor (GCD) of a list of numbers:\n"
   ]
  },
  {
   "cell_type": "code",
   "execution_count": 64,
   "metadata": {
    "colab": {
     "base_uri": "https://localhost:8080/"
    },
    "id": "-Tovoa8pwMJr",
    "outputId": "94ab8597-7310-4185-b641-9807b5c61dba"
   },
   "outputs": [
    {
     "name": "stdout",
     "output_type": "stream",
     "text": [
      "GCD: 12\n"
     ]
    }
   ],
   "source": [
    "from functools import reduce\n",
    "import math\n",
    "\n",
    "# Example function: Calculate GCD using math.gcd\n",
    "def find_gcd(x, y):\n",
    "    return math.gcd(x, y)\n",
    "\n",
    "numbers = [24, 36, 48, 60]\n",
    "gcd = reduce(find_gcd, numbers)\n",
    "print(\"GCD:\", gcd)\n"
   ]
  },
  {
   "cell_type": "raw",
   "metadata": {
    "id": "MKGi5Lf5wPwt"
   },
   "source": [
    "7.Find the sum of the digits of a given number:\n"
   ]
  },
  {
   "cell_type": "code",
   "execution_count": 65,
   "metadata": {
    "colab": {
     "base_uri": "https://localhost:8080/"
    },
    "id": "ly0sFSLFwUt6",
    "outputId": "4659c1f4-d763-4df8-9cc4-dac3fc404589"
   },
   "outputs": [
    {
     "name": "stdout",
     "output_type": "stream",
     "text": [
      "Sum of digits: 15\n"
     ]
    }
   ],
   "source": [
    "from functools import reduce\n",
    "\n",
    "# Example function: Sum of digits\n",
    "def sum_digits(x, y):\n",
    "    return int(x) + int(y)\n",
    "\n",
    "number = \"12345\"\n",
    "digit_sum = reduce(sum_digits, number, 0)  # Start with an initial value of 0\n",
    "print(\"Sum of digits:\", digit_sum)\n"
   ]
  },
  {
   "cell_type": "markdown",
   "metadata": {
    "id": "ySXbO3_YwWhy"
   },
   "source": [
    "# Filter :-\n"
   ]
  },
  {
   "cell_type": "raw",
   "metadata": {
    "id": "l_P1ihZHwn_0"
   },
   "source": [
    "1.Explain the purpose of the `filter()` function in Python and provide an example of how it can be used to filter elements from an iterable."
   ]
  },
  {
   "cell_type": "raw",
   "metadata": {
    "id": "KvaOA4iwwp11"
   },
   "source": [
    "The filter() function in Python is used to filter elements from an iterable (such as a list, tuple, or string) based on a given function's condition. It returns an iterator containing the elements for which the condition is True."
   ]
  },
  {
   "cell_type": "raw",
   "metadata": {
    "id": "X39K340wwuI7"
   },
   "source": [
    "2.Filter Even Numbers:"
   ]
  },
  {
   "cell_type": "code",
   "execution_count": 66,
   "metadata": {
    "colab": {
     "base_uri": "https://localhost:8080/"
    },
    "id": "JTx3JIbCww-_",
    "outputId": "9b2e0f05-d159-4b5e-cfd1-c6fabba0b6f1"
   },
   "outputs": [
    {
     "name": "stdout",
     "output_type": "stream",
     "text": [
      "[2, 4, 6, 8, 10]\n"
     ]
    }
   ],
   "source": [
    "# Define a list of integers\n",
    "numbers = [1, 2, 3, 4, 5, 6, 7, 8, 9, 10]\n",
    "\n",
    "# Define a function to check if a number is even\n",
    "def is_even(x):\n",
    "    return x % 2 == 0\n",
    "\n",
    "# Use filter() to select even numbers from the list\n",
    "even_numbers = list(filter(is_even, numbers))\n",
    "print(even_numbers)  # Output: [2, 4, 6, 8, 10]\n"
   ]
  },
  {
   "cell_type": "raw",
   "metadata": {
    "id": "VIISskl9w1R6"
   },
   "source": [
    "3.Filter Names Starting with a Specific Letter:"
   ]
  },
  {
   "cell_type": "code",
   "execution_count": 67,
   "metadata": {
    "colab": {
     "base_uri": "https://localhost:8080/"
    },
    "id": "TmzMgfk2w3bq",
    "outputId": "df3f54ca-c2f0-4bb4-af37-f085a360334c"
   },
   "outputs": [
    {
     "name": "stdout",
     "output_type": "stream",
     "text": [
      "['Bob']\n"
     ]
    }
   ],
   "source": [
    "# Define a list of names\n",
    "names = [\"Alice\", \"Bob\", \"Charlie\", \"David\", \"Eva\"]\n",
    "\n",
    "# Define a function to check if a name starts with 'B'\n",
    "def starts_with_b(name):\n",
    "    return name[0] == 'B'\n",
    "\n",
    "# Use filter() to select names starting with 'B'\n",
    "b_names = list(filter(starts_with_b, names))\n",
    "print(b_names)  # Output: ['Bob']\n"
   ]
  },
  {
   "cell_type": "raw",
   "metadata": {
    "id": "lPTObBDpw5F8"
   },
   "source": [
    "4.Filter Prime Numbers:"
   ]
  },
  {
   "cell_type": "code",
   "execution_count": 68,
   "metadata": {
    "colab": {
     "base_uri": "https://localhost:8080/"
    },
    "id": "b1mF_NmJw7hk",
    "outputId": "ff265132-9778-478b-94c4-b9a7912aa4f2"
   },
   "outputs": [
    {
     "name": "stdout",
     "output_type": "stream",
     "text": [
      "[2, 3, 5, 7]\n"
     ]
    }
   ],
   "source": [
    "# Define a list of integers\n",
    "numbers = [2, 3, 4, 5, 6, 7, 8, 9, 10]\n",
    "\n",
    "# Define a function to check if a number is prime\n",
    "def is_prime(x):\n",
    "    if x < 2:\n",
    "        return False\n",
    "    for i in range(2, int(x ** 0.5) + 1):\n",
    "        if x % i == 0:\n",
    "            return False\n",
    "    return True\n",
    "\n",
    "# Use filter() to select prime numbers from the list\n",
    "prime_numbers = list(filter(is_prime, numbers))\n",
    "print(prime_numbers)  # Output: [2, 3, 5, 7]\n"
   ]
  },
  {
   "cell_type": "raw",
   "metadata": {
    "id": "KfIiHa6cw9jD"
   },
   "source": [
    "5.Remove None Values from a List:"
   ]
  },
  {
   "cell_type": "code",
   "execution_count": 69,
   "metadata": {
    "colab": {
     "base_uri": "https://localhost:8080/"
    },
    "id": "vpWXuJKnxAIy",
    "outputId": "d6ea8cd4-572d-4e4d-9677-87c81ae247de"
   },
   "outputs": [
    {
     "name": "stdout",
     "output_type": "stream",
     "text": [
      "[1, 3, 5]\n"
     ]
    }
   ],
   "source": [
    "# Define a list with None values\n",
    "values = [1, None, 3, None, 5, None]\n",
    "\n",
    "# Use filter() to remove None values\n",
    "non_none_values = list(filter(lambda x: x is not None, values))\n",
    "print(non_none_values)  # Output: [1, 3, 5]\n"
   ]
  },
  {
   "cell_type": "markdown",
   "metadata": {
    "id": "Zn2BlNrmxCC1"
   },
   "source": [
    "6.Filter Words Longer than a Certain Length:\n",
    "\n"
   ]
  },
  {
   "cell_type": "code",
   "execution_count": 70,
   "metadata": {
    "colab": {
     "base_uri": "https://localhost:8080/"
    },
    "id": "a2qwWkucxEbd",
    "outputId": "6bfad1be-1128-4e14-8636-34bd2fd3b65b"
   },
   "outputs": [
    {
     "name": "stdout",
     "output_type": "stream",
     "text": [
      "['elderberry']\n"
     ]
    }
   ],
   "source": [
    "# Define a list of strings\n",
    "words = [\"apple\", \"banana\", \"cherry\", \"date\", \"elderberry\"]\n",
    "\n",
    "# Define a function to check if a word is longer than 6 characters\n",
    "def is_long_word(word):\n",
    "    return len(word) > 6\n",
    "\n",
    "# Use filter() to select long words from the list\n",
    "long_words = list(filter(is_long_word, words))\n",
    "print(long_words)  # Output: ['cherry', 'elderberry']\n"
   ]
  },
  {
   "cell_type": "raw",
   "metadata": {
    "id": "4-7wlzrNxHZd"
   },
   "source": [
    "7.Filter Elements Greater than a Threshold:"
   ]
  },
  {
   "cell_type": "code",
   "execution_count": 71,
   "metadata": {
    "colab": {
     "base_uri": "https://localhost:8080/"
    },
    "id": "hc9eN2NGxJui",
    "outputId": "d941895c-f08a-46de-8abe-7e69277de2b3"
   },
   "outputs": [
    {
     "name": "stdout",
     "output_type": "stream",
     "text": [
      "[25, 30, 40]\n"
     ]
    }
   ],
   "source": [
    "# Define a list of values\n",
    "values = [10, 25, 5, 30, 15, 40]\n",
    "\n",
    "# Define a threshold value\n",
    "threshold = 20\n",
    "\n",
    "# Use filter() to select values greater than the threshold\n",
    "greater_than_threshold = list(filter(lambda x: x > threshold, values))\n",
    "print(greater_than_threshold)  # Output: [25, 30, 40]\n"
   ]
  },
  {
   "cell_type": "markdown",
   "metadata": {
    "id": "_MOwTjYtegWM"
   },
   "source": [
    "# Recursion:-"
   ]
  },
  {
   "cell_type": "raw",
   "metadata": {
    "id": "9XLFleChelR2"
   },
   "source": [
    "Explain the concept of recursion in Python. How does it differ from iteration?\n"
   ]
  },
  {
   "cell_type": "raw",
   "metadata": {
    "id": "HEV03ZOyfDis"
   },
   "source": [
    "**Recursion in Python:**\n",
    "Recursion is a programming concept where a function calls itself to solve a smaller instance of the same problem. It is an alternative to iteration and is particularly useful for solving problems that exhibit recursive structures."
   ]
  },
  {
   "cell_type": "raw",
   "metadata": {
    "id": "IYOKsB96fHFT"
   },
   "source": [
    "Write a Python program to calculate the factorial of a number using recursion."
   ]
  },
  {
   "cell_type": "code",
   "execution_count": 72,
   "metadata": {
    "colab": {
     "base_uri": "https://localhost:8080/"
    },
    "id": "6dxEycXCfKDF",
    "outputId": "2e62691d-ba0a-4425-9f06-3170f8d5ef53"
   },
   "outputs": [
    {
     "name": "stdout",
     "output_type": "stream",
     "text": [
      "5! = 120\n"
     ]
    }
   ],
   "source": [
    "def factorial(n):\n",
    "    # Base case: If n is 0 or 1, return 1\n",
    "    if n == 0 or n == 1:\n",
    "        return 1\n",
    "    # Recursive case: n! = n * (n-1)!\n",
    "    else:\n",
    "        return n * factorial(n - 1)\n",
    "\n",
    "# Example usage:\n",
    "n = 5\n",
    "result = factorial(n)\n",
    "print(f\"{n}! = {result}\")\n"
   ]
  },
  {
   "cell_type": "raw",
   "metadata": {
    "id": "GbXFQme8fPDD"
   },
   "source": [
    "Create a recursive Python function to find the nth Fibonacci number."
   ]
  },
  {
   "cell_type": "code",
   "execution_count": 73,
   "metadata": {
    "colab": {
     "base_uri": "https://localhost:8080/"
    },
    "id": "3EcL2Ng3fVBi",
    "outputId": "c84336c4-a3e0-4720-82ca-67ee4699560b"
   },
   "outputs": [
    {
     "name": "stdout",
     "output_type": "stream",
     "text": [
      "The 6th Fibonacci number is 8\n"
     ]
    }
   ],
   "source": [
    "def fibonacci(n):\n",
    "    # Base case: If n is 0 or 1, return n\n",
    "    if n <= 1:\n",
    "        return n\n",
    "    # Recursive case: F(n) = F(n-1) + F(n-2)\n",
    "    else:\n",
    "        return fibonacci(n - 1) + fibonacci(n - 2)\n",
    "\n",
    "# Example usage:\n",
    "n = 6\n",
    "result = fibonacci(n)\n",
    "print(f\"The {n}th Fibonacci number is {result}\")\n"
   ]
  },
  {
   "cell_type": "markdown",
   "metadata": {
    "id": "h16zPAs7fXx1"
   },
   "source": [
    "Write a recursive Python function to calculate the sum of all elements in a list."
   ]
  },
  {
   "cell_type": "code",
   "execution_count": 74,
   "metadata": {
    "colab": {
     "base_uri": "https://localhost:8080/"
    },
    "id": "fkrDLP4tfa9h",
    "outputId": "cf96384f-1907-4c66-bfeb-a79d7a7f105d"
   },
   "outputs": [
    {
     "name": "stdout",
     "output_type": "stream",
     "text": [
      "The sum of elements in the list is 15\n"
     ]
    }
   ],
   "source": [
    "def sum_list_elements(arr):\n",
    "    # Base case: If the list is empty, return 0\n",
    "    if len(arr) == 0:\n",
    "        return 0\n",
    "    # Recursive case: Sum the first element and the sum of the rest\n",
    "    else:\n",
    "        return arr[0] + sum_list_elements(arr[1:])\n",
    "\n",
    "# Example usage:\n",
    "my_list = [1, 2, 3, 4, 5]\n",
    "result = sum_list_elements(my_list)\n",
    "print(f\"The sum of elements in the list is {result}\")\n"
   ]
  },
  {
   "cell_type": "raw",
   "metadata": {
    "id": "FlTeG-T1feXF"
   },
   "source": [
    "How can you prevent a recursive function from running indefinitely, causing a stack overflow error?"
   ]
  },
  {
   "cell_type": "raw",
   "metadata": {
    "id": "i49-_VuEfrfv"
   },
   "source": [
    "Preventing Stack Overflow in Recursive Functions:\n",
    "To prevent a recursive function from running indefinitely and causing a stack overflow error, ensure that you have a base case that terminates the recursion. Make sure that each recursive call brings you closer to the base case."
   ]
  },
  {
   "cell_type": "raw",
   "metadata": {
    "id": "znJUlyBXfvK4"
   },
   "source": [
    "Create a recursive Python function to find the greatest common divisor (GCD) of two numbers using the Euclidean algorithm."
   ]
  },
  {
   "cell_type": "code",
   "execution_count": 75,
   "metadata": {
    "colab": {
     "base_uri": "https://localhost:8080/"
    },
    "id": "XDR1IETLfycU",
    "outputId": "8f7feb89-e292-4e44-8c75-09c1a602aead"
   },
   "outputs": [
    {
     "name": "stdout",
     "output_type": "stream",
     "text": [
      "The GCD of 48 and 18 is 6\n"
     ]
    }
   ],
   "source": [
    "def gcd(a, b):\n",
    "    if b == 0:\n",
    "        return a\n",
    "    else:\n",
    "        return gcd(b, a % b)\n",
    "\n",
    "# Example usage:\n",
    "num1, num2 = 48, 18\n",
    "result = gcd(num1, num2)\n",
    "print(f\"The GCD of {num1} and {num2} is {result}\")\n"
   ]
  },
  {
   "cell_type": "raw",
   "metadata": {
    "id": "ksAecZXCf1R5"
   },
   "source": [
    "Write a recursive Python function to reverse a string."
   ]
  },
  {
   "cell_type": "code",
   "execution_count": 76,
   "metadata": {
    "colab": {
     "base_uri": "https://localhost:8080/"
    },
    "id": "QciZ8NVhf5-B",
    "outputId": "bad80dc4-dedd-486e-b24f-4eef88ad2c61"
   },
   "outputs": [
    {
     "name": "stdout",
     "output_type": "stream",
     "text": [
      "Reversed string: !dlroW ,olleH\n"
     ]
    }
   ],
   "source": [
    "def reverse_string(s):\n",
    "    if len(s) == 0:\n",
    "        return s\n",
    "    else:\n",
    "        return reverse_string(s[1:]) + s[0]\n",
    "\n",
    "# Example usage:\n",
    "my_string = \"Hello, World!\"\n",
    "result = reverse_string(my_string)\n",
    "print(f\"Reversed string: {result}\")\n"
   ]
  },
  {
   "cell_type": "raw",
   "metadata": {
    "id": "XgpQrEOPf8ZO"
   },
   "source": [
    "Create a recursive Python function to calculate the power of a number (x^n)."
   ]
  },
  {
   "cell_type": "code",
   "execution_count": 77,
   "metadata": {
    "colab": {
     "base_uri": "https://localhost:8080/"
    },
    "id": "1nBicX2FgAiZ",
    "outputId": "c9a20922-60c9-4be6-f1f1-c58caaa87891"
   },
   "outputs": [
    {
     "name": "stdout",
     "output_type": "stream",
     "text": [
      "2^3 = 8\n"
     ]
    }
   ],
   "source": [
    "def power(x, n):\n",
    "    if n == 0:\n",
    "        return 1\n",
    "    else:\n",
    "        return x * power(x, n - 1)\n",
    "\n",
    "# Example usage:\n",
    "x, n = 2, 3\n",
    "result = power(x, n)\n",
    "print(f\"{x}^{n} = {result}\")\n"
   ]
  },
  {
   "cell_type": "raw",
   "metadata": {
    "id": "guL8tpmzgD1R"
   },
   "source": [
    "Write a recursive Python function to find all permutations of a given string."
   ]
  },
  {
   "cell_type": "code",
   "execution_count": 78,
   "metadata": {
    "colab": {
     "base_uri": "https://localhost:8080/"
    },
    "id": "Qloe5SGogIfC",
    "outputId": "7c89c68f-cd18-4f32-c60b-b85d97575614"
   },
   "outputs": [
    {
     "name": "stdout",
     "output_type": "stream",
     "text": [
      "Permutations of 'abc': ['abc', 'acb', 'bac', 'bca', 'cab', 'cba']\n"
     ]
    }
   ],
   "source": [
    "def get_permutations(s):\n",
    "    if len(s) == 1:\n",
    "        return [s]\n",
    "    permutations = []\n",
    "    for i in range(len(s)):\n",
    "        char = s[i]\n",
    "        remaining_chars = s[:i] + s[i + 1:]\n",
    "        sub_permutations = get_permutations(remaining_chars)\n",
    "        for perm in sub_permutations:\n",
    "            permutations.append(char + perm)\n",
    "    return permutations\n",
    "\n",
    "# Example usage:\n",
    "my_string = \"abc\"\n",
    "result = get_permutations(my_string)\n",
    "print(f\"Permutations of '{my_string}': {result}\")\n"
   ]
  },
  {
   "cell_type": "raw",
   "metadata": {
    "id": "BWSLHH6BgL0A"
   },
   "source": [
    "Write a recursive Python function to check if a string is a palindrome."
   ]
  },
  {
   "cell_type": "code",
   "execution_count": 79,
   "metadata": {
    "colab": {
     "base_uri": "https://localhost:8080/"
    },
    "id": "O9BTDJ9RgOiH",
    "outputId": "12d93728-9a00-4bbe-8802-349b70fa4842"
   },
   "outputs": [
    {
     "name": "stdout",
     "output_type": "stream",
     "text": [
      "'racecar' is a palindrome.\n"
     ]
    }
   ],
   "source": [
    "def is_palindrome(s):\n",
    "    s = s.lower()  # Convert to lowercase for case-insensitive check\n",
    "    if len(s) <= 1:\n",
    "        return True\n",
    "    if s[0] != s[-1]:\n",
    "        return False\n",
    "    return is_palindrome(s[1:-1])\n",
    "\n",
    "# Example usage:\n",
    "my_string = \"racecar\"\n",
    "result = is_palindrome(my_string)\n",
    "if result:\n",
    "    print(f\"'{my_string}' is a palindrome.\")\n",
    "else:\n",
    "    print(f\"'{my_string}' is not a palindrome.\")\n"
   ]
  },
  {
   "cell_type": "raw",
   "metadata": {
    "id": "3J2VsT5UgQue"
   },
   "source": [
    "Create a recursive Python function to generate all possible combinations of a list of elements.\n"
   ]
  },
  {
   "cell_type": "code",
   "execution_count": 80,
   "metadata": {
    "colab": {
     "base_uri": "https://localhost:8080/"
    },
    "id": "sDb2KUt-gTlX",
    "outputId": "997bd9e2-9a6f-45d2-b777-807d95896b52"
   },
   "outputs": [
    {
     "name": "stdout",
     "output_type": "stream",
     "text": [
      "Combinations of [1, 2, 3]: [[], [1], [2], [1, 2], [3], [1, 3], [2, 3], [1, 2, 3]]\n"
     ]
    }
   ],
   "source": [
    "def get_combinations(arr):\n",
    "    if len(arr) == 0:\n",
    "        return [[]]\n",
    "    combinations = []\n",
    "    first_element = arr[0]\n",
    "    remaining_elements = arr[1:]\n",
    "    for combo in get_combinations(remaining_elements):\n",
    "        combinations.append(combo)\n",
    "        combinations.append([first_element] + combo)\n",
    "    return combinations\n",
    "\n",
    "# Example usage:\n",
    "my_list = [1, 2, 3]\n",
    "result = get_combinations(my_list)\n",
    "print(f\"Combinations of {my_list}: {result}\")\n"
   ]
  },
  {
   "cell_type": "raw",
   "metadata": {
    "id": "J2MuYyncgWH3"
   },
   "source": [
    "# Basics of Functions:"
   ]
  },
  {
   "cell_type": "raw",
   "metadata": {
    "id": "-Wz2TBPpgZqF"
   },
   "source": [
    "What is a function in Python, and why is it used?"
   ]
  },
  {
   "cell_type": "raw",
   "metadata": {
    "id": "DuaTbhqEgjKm"
   },
   "source": [
    "In Python, a function is a reusable block of code that performs a specific task or set of tasks. Functions are used to organize and modularize code, making it easier to read, understand, and maintain. They promote code reusability by allowing you to define a set of instructions that can be executed multiple times with different inputs. Functions also help in breaking down complex problems into smaller, manageable parts."
   ]
  },
  {
   "cell_type": "raw",
   "metadata": {
    "id": "_sCg0WSRgkmJ"
   },
   "source": [
    "How do you define a function in Python? Provide an example.\n",
    "To define a function in Python, you use the def keyword, followed by the function name, a pair of parentheses ( ), and a colon :. The function body is indented and contains the code to be executed when the function is called.\n",
    "\n",
    "Here's an example of a simple function that greets a person:"
   ]
  },
  {
   "cell_type": "code",
   "execution_count": 81,
   "metadata": {
    "id": "5pJNRZC3gqL7"
   },
   "outputs": [],
   "source": [
    "def greet(name):\n",
    "    print(f\"Hello, {name}!\")\n",
    "\n",
    "# Function defined, but not yet called\n"
   ]
  },
  {
   "cell_type": "raw",
   "metadata": {
    "id": "oefaW4W-gxqp"
   },
   "source": [
    "Explain the difference between a function definition and a function call."
   ]
  },
  {
   "cell_type": "raw",
   "metadata": {
    "id": "jCTMkWMlg1LJ"
   },
   "source": [
    "Function Definition: The function definition is where you specify the name of the function, its parameters (if any), and the code that should be executed when the function is called. It defines the structure of the function but doesn't execute it. In the example above, def greet(name): is a function definition.\n",
    "\n",
    "Function Call:A function call is the act of invoking a function that has been defined previously. It involves specifying the function's name followed by parentheses containing the arguments (if any) that you want to pass to the function. When a function is called, the code inside the function definition is executed with the provided arguments. In the example above, greet(\"Alice\") is a function call."
   ]
  },
  {
   "cell_type": "raw",
   "metadata": {
    "id": "dJkrJB-Og6ie"
   },
   "source": [
    "Write a Python program that defines a function to calculate the sum of two numbers and then calls the function."
   ]
  },
  {
   "cell_type": "code",
   "execution_count": 82,
   "metadata": {
    "colab": {
     "base_uri": "https://localhost:8080/"
    },
    "id": "z9v49uNBg8ZS",
    "outputId": "aaccadfd-2f5e-4d0f-f3bc-cb17ae35e5c0"
   },
   "outputs": [
    {
     "name": "stdout",
     "output_type": "stream",
     "text": [
      "Sum: 8\n"
     ]
    }
   ],
   "source": [
    "# Function definition\n",
    "def add_numbers(a, b):\n",
    "    return a + b\n",
    "\n",
    "# Function call\n",
    "result = add_numbers(5, 3)\n",
    "print(\"Sum:\", result)\n"
   ]
  },
  {
   "cell_type": "raw",
   "metadata": {
    "id": "yc1dHJO7g-mv"
   },
   "source": [
    "What is a function signature, and what information does it typically include?\n"
   ]
  },
  {
   "cell_type": "raw",
   "metadata": {
    "id": "SRWe6OOfhCED"
   },
   "source": [
    "A function signature is a part of a function definition that includes the following information:\n",
    "\n",
    "The function name.\n",
    "The parameters or arguments that the function accepts (if any).\n",
    "The return type (if the function returns a value).\n",
    "For example, in the function definition def add_numbers(a, b):, the function signature includes:\n",
    "\n",
    "Function name: add_numbers\n",
    "Parameters: a and b\n",
    "Return type: The return type is not explicitly specified, but it is assumed to be int because the function returns the sum of two numbers."
   ]
  },
  {
   "cell_type": "raw",
   "metadata": {
    "id": "duwIwbTjhEsl"
   },
   "source": [
    "Create a Python function that takes two arguments and returns their product."
   ]
  },
  {
   "cell_type": "code",
   "execution_count": 83,
   "metadata": {
    "colab": {
     "base_uri": "https://localhost:8080/"
    },
    "id": "PKxIxLv9hGnu",
    "outputId": "496bde73-bf3f-469a-c63d-6eb1d62c3aa0"
   },
   "outputs": [
    {
     "name": "stdout",
     "output_type": "stream",
     "text": [
      "Product: 24\n"
     ]
    }
   ],
   "source": [
    "def multiply_numbers(x, y):\n",
    "    return x * y\n",
    "\n",
    "# Function call\n",
    "result = multiply_numbers(4, 6)\n",
    "print(\"Product:\", result)\n"
   ]
  },
  {
   "cell_type": "raw",
   "metadata": {
    "id": "_QFZQZGohP-e"
   },
   "source": [
    "# Function Parameters and Arguments:"
   ]
  },
  {
   "cell_type": "raw",
   "metadata": {
    "id": "qrXX-UgahTJI"
   },
   "source": [
    "Concepts of Formal Parameters and Actual Arguments in Python Functions:\n",
    "\n"
   ]
  },
  {
   "cell_type": "raw",
   "metadata": {
    "id": "4rzEEaCahat_"
   },
   "source": [
    "Formal Parameters: Formal parameters are placeholders or variables defined in a function's parameter list. They represent the values that a function expects to receive when it is called. Formal parameters are used within the function to perform operations. In function definitions, formal parameters are listed inside the parentheses.\n",
    "\n",
    "Actual Arguments: Actual arguments (also known as arguments or function arguments) are the values that are passed to a function when it is called. These values are provided by the caller and are used to populate the formal parameters of the function. Actual arguments can be constants, variables, expressions, or even other function calls."
   ]
  },
  {
   "cell_type": "raw",
   "metadata": {
    "id": "qNgYMhfEpHeC"
   },
   "source": [
    "Python Program with Default Argument Values:\n",
    "\n"
   ]
  },
  {
   "cell_type": "code",
   "execution_count": 84,
   "metadata": {
    "colab": {
     "base_uri": "https://localhost:8080/"
    },
    "id": "ItcELNMBpOCF",
    "outputId": "da54be43-a2dd-402f-b174-8685ebadbc4b"
   },
   "outputs": [
    {
     "name": "stdout",
     "output_type": "stream",
     "text": [
      "Hello, Alice!\n",
      "Hi, Bob!\n"
     ]
    }
   ],
   "source": [
    "def greet(name, greeting=\"Hello\"):\n",
    "    print(f\"{greeting}, {name}!\")\n",
    "\n",
    "# Function call with only one argument\n",
    "greet(\"Alice\")  # Uses the default greeting \"Hello\"\n",
    "\n",
    "# Function call with both arguments provided\n",
    "greet(\"Bob\", \"Hi\")  # Uses the provided greeting \"Hi\"\n"
   ]
  },
  {
   "cell_type": "raw",
   "metadata": {
    "id": "Wz7RL6FWpRVI"
   },
   "source": [
    "In this example, the greet function has a default value of \"Hello\" for the greeting parameter. If the caller provides a value for greeting, it overrides the default."
   ]
  },
  {
   "cell_type": "raw",
   "metadata": {
    "id": "F055zks0pTzS"
   },
   "source": [
    "Using Keyword Arguments in Python Function Calls:"
   ]
  },
  {
   "cell_type": "code",
   "execution_count": 85,
   "metadata": {
    "colab": {
     "base_uri": "https://localhost:8080/"
    },
    "id": "jhR3LVWhpVUC",
    "outputId": "866a3268-484e-4d98-e790-5899e21a7b61"
   },
   "outputs": [
    {
     "name": "stdout",
     "output_type": "stream",
     "text": [
      "Result 1: 108.0\n",
      "Result 2: 53.0\n"
     ]
    }
   ],
   "source": [
    "def calculate_total(price, tax_rate=0.07):\n",
    "    total = price + (price * tax_rate)\n",
    "    return total\n",
    "\n",
    "# Using keyword arguments\n",
    "result1 = calculate_total(price=100, tax_rate=0.08)\n",
    "result2 = calculate_total(tax_rate=0.06, price=50)\n",
    "\n",
    "print(\"Result 1:\", result1)  # Uses custom tax_rate\n",
    "print(\"Result 2:\", result2)  # Uses custom price and tax_rate\n"
   ]
  },
  {
   "cell_type": "raw",
   "metadata": {
    "id": "Wea5SgevpZk9"
   },
   "source": [
    "Python Function for Sum of Variable Number of Arguments:"
   ]
  },
  {
   "cell_type": "code",
   "execution_count": 86,
   "metadata": {
    "colab": {
     "base_uri": "https://localhost:8080/"
    },
    "id": "AKUMwvLvpahY",
    "outputId": "05c9889b-63a5-4297-cbbe-96115f22a63d"
   },
   "outputs": [
    {
     "name": "stdout",
     "output_type": "stream",
     "text": [
      "Sum: 15\n"
     ]
    }
   ],
   "source": [
    "def calculate_sum(*args):\n",
    "    total = sum(args)\n",
    "    return total\n",
    "\n",
    "result = calculate_sum(1, 2, 3, 4, 5)\n",
    "print(\"Sum:\", result)\n"
   ]
  },
  {
   "cell_type": "raw",
   "metadata": {
    "id": "y1bmAdfbphN4"
   },
   "source": [
    "Purpose of *args and **kwargs Syntax:"
   ]
  },
  {
   "cell_type": "raw",
   "metadata": {
    "id": "C01gA-VJplHU"
   },
   "source": [
    "*args (short for \"arguments\") allows you to pass a variable number of positional arguments to a function. It collects these arguments into a tuple.\n",
    "\n",
    "**kwargs (short for \"keyword arguments\") allows you to pass a variable number of keyword arguments to a function. It collects these arguments into a dictionary."
   ]
  },
  {
   "cell_type": "raw",
   "metadata": {
    "id": "xkqEq0pKpoPx"
   },
   "source": [
    "# Return Values and Scoping:"
   ]
  },
  {
   "cell_type": "raw",
   "metadata": {
    "id": "K3241CclqA3u"
   },
   "source": [
    "Role of the return Statement in Python Functions:"
   ]
  },
  {
   "cell_type": "raw",
   "metadata": {
    "id": "ErVXQxhCqCyG"
   },
   "source": [
    "The return statement is used in Python functions to specify what value or values the function should produce as its output. It allows a function to return a result to the caller. When a return statement is encountered, the function's execution stops, and the specified value (or None if no value is provided) is returned to the caller.\n",
    "\n",
    "Here are examples of using the return statement:"
   ]
  },
  {
   "cell_type": "code",
   "execution_count": 87,
   "metadata": {
    "colab": {
     "base_uri": "https://localhost:8080/"
    },
    "id": "S44bl9mnqGCS",
    "outputId": "c08c0799-26f6-47b2-b216-e53bdf9396a1"
   },
   "outputs": [
    {
     "name": "stdout",
     "output_type": "stream",
     "text": [
      "7\n"
     ]
    }
   ],
   "source": [
    "def add(a, b):\n",
    "    result = a + b\n",
    "    return result\n",
    "\n",
    "sum_result = add(3, 4)  # Calling the function and storing the result\n",
    "print(sum_result)  # Output: 7\n"
   ]
  },
  {
   "cell_type": "raw",
   "metadata": {
    "id": "QiCykSgZqIDH"
   },
   "source": [
    "Variable Scope in Python:"
   ]
  },
  {
   "cell_type": "raw",
   "metadata": {
    "id": "d6-RZpktqK8u"
   },
   "source": [
    "Variable scope in Python refers to the region or context in which a variable is defined and can be accessed. There are two main types of variable scope in Python:\n",
    "\n",
    "Local Variables: Variables defined within a function are called local variables. They are accessible only within the function where they are defined.\n",
    "\n",
    "Global Variables: Variables defined outside of any function, at the module level, are called global variables. They can be accessed from any function within the same module."
   ]
  },
  {
   "cell_type": "raw",
   "metadata": {
    "id": "blz5DCstqNcs"
   },
   "source": [
    "Python Program Demonstrating Global Variables in Functions:"
   ]
  },
  {
   "cell_type": "code",
   "execution_count": 88,
   "metadata": {
    "colab": {
     "base_uri": "https://localhost:8080/"
    },
    "id": "wcTKCONUqQ5V",
    "outputId": "42124740-62c5-41ae-d233-665444f434ce"
   },
   "outputs": [
    {
     "name": "stdout",
     "output_type": "stream",
     "text": [
      "Inside the function: global_var = 10\n",
      "Outside the function: global_var = 10\n"
     ]
    }
   ],
   "source": [
    "# Global variable\n",
    "global_var = 10\n",
    "\n",
    "def my_function():\n",
    "    # Access global variable within the function\n",
    "    print(\"Inside the function: global_var =\", global_var)\n",
    "\n",
    "my_function()\n",
    "print(\"Outside the function: global_var =\", global_var)\n"
   ]
  },
  {
   "cell_type": "raw",
   "metadata": {
    "id": "1qAA0faUqP3X"
   },
   "source": [
    "Python Function to Calculate Factorial and Return:"
   ]
  },
  {
   "cell_type": "code",
   "execution_count": 89,
   "metadata": {
    "colab": {
     "base_uri": "https://localhost:8080/"
    },
    "id": "OJKTFrjgqWYh",
    "outputId": "7680a7f4-fa3d-430d-f6b9-1f9d1d25a96a"
   },
   "outputs": [
    {
     "name": "stdout",
     "output_type": "stream",
     "text": [
      "Factorial of 5 is 120\n"
     ]
    }
   ],
   "source": [
    "def factorial(n):\n",
    "    if n == 0:\n",
    "        return 1\n",
    "    else:\n",
    "        result = 1\n",
    "        for i in range(1, n + 1):\n",
    "            result *= i\n",
    "        return result\n",
    "\n",
    "# Example usage:\n",
    "n = 5\n",
    "fact = factorial(n)\n",
    "print(f\"Factorial of {n} is {fact}\")  # Output: Factorial of 5 is 120\n"
   ]
  },
  {
   "cell_type": "raw",
   "metadata": {
    "id": "eXeKR_9HqY6V"
   },
   "source": [
    "Accessing Variables Defined Outside a Function:\n",
    "To access variables defined outside a function from within the function, you can simply reference the variable by name. Python will first look for the variable's value within the function's scope. If it's not found, Python will then look in the global scope.\n"
   ]
  },
  {
   "cell_type": "code",
   "execution_count": 90,
   "metadata": {
    "colab": {
     "base_uri": "https://localhost:8080/"
    },
    "id": "VHRGpSC9qava",
    "outputId": "f9e366fe-f3d0-4535-9475-7940d5604e55"
   },
   "outputs": [
    {
     "name": "stdout",
     "output_type": "stream",
     "text": [
      "Inside the function: global_var = 42\n",
      "Outside the function: global_var = 42\n"
     ]
    }
   ],
   "source": [
    "global_var = 42\n",
    "\n",
    "def access_global():\n",
    "    print(\"Inside the function: global_var =\", global_var)\n",
    "\n",
    "access_global()\n",
    "print(\"Outside the function: global_var =\", global_var)\n"
   ]
  },
  {
   "cell_type": "raw",
   "metadata": {
    "id": "FjeQCxU2qorw"
   },
   "source": [
    "# Lambda Functions and Higher-Order Functions:"
   ]
  },
  {
   "cell_type": "raw",
   "metadata": {
    "id": "06HuZc1fqqME"
   },
   "source": [
    "Lambda Functions in Python:"
   ]
  },
  {
   "cell_type": "raw",
   "metadata": {
    "id": "qsnMhMWaqvom"
   },
   "source": [
    "Lambda functions, also known as anonymous functions or lambda expressions, are small, unnamed functions defined using the lambda keyword. They are typically used for short, simple operations that can be defined in a single line. Lambda functions can take any number of arguments but can only have one expression. They are often used when you need a simple function for a short period and don't want to define a full function using def.\n",
    "\n",
    "Here's the basic syntax of a lambda function:"
   ]
  },
  {
   "cell_type": "code",
   "execution_count": 91,
   "metadata": {
    "colab": {
     "base_uri": "https://localhost:8080/"
    },
    "id": "exH_TEsoqyKQ",
    "outputId": "f54c18d4-299d-40d9-81a6-eb203a7f7656"
   },
   "outputs": [
    {
     "data": {
      "text/plain": [
       "<function __main__.<lambda>(arguments)>"
      ]
     },
     "execution_count": 91,
     "metadata": {},
     "output_type": "execute_result"
    }
   ],
   "source": [
    "lambda arguments: expression\n"
   ]
  },
  {
   "cell_type": "raw",
   "metadata": {
    "id": "4kkOSwo9q0eV"
   },
   "source": [
    "Lambda Function to Sort a List of Tuples Based on the Second Element:"
   ]
  },
  {
   "cell_type": "code",
   "execution_count": 92,
   "metadata": {
    "colab": {
     "base_uri": "https://localhost:8080/"
    },
    "id": "kUIm14Qcq2Eh",
    "outputId": "c166df99-83df-4bc1-9fa0-b62cb9df212f"
   },
   "outputs": [
    {
     "name": "stdout",
     "output_type": "stream",
     "text": [
      "Sorted List: [(6, 1), (2, 4), (3, 5), (1, 8)]\n"
     ]
    }
   ],
   "source": [
    "# List of tuples\n",
    "my_list = [(3, 5), (1, 8), (2, 4), (6, 1)]\n",
    "\n",
    "# Sort the list based on the second element of each tuple\n",
    "sorted_list = sorted(my_list, key=lambda x: x[1])\n",
    "\n",
    "print(\"Sorted List:\", sorted_list)\n"
   ]
  },
  {
   "cell_type": "raw",
   "metadata": {
    "id": "MJQAnNlAq66o"
   },
   "source": [
    "Higher-Order Functions in Python:"
   ]
  },
  {
   "cell_type": "raw",
   "metadata": {
    "id": "-WXneiFPq73Y"
   },
   "source": [
    "A higher-order function is a function that takes one or more functions as arguments and/or returns a function as its result. In Python, functions are first-class citizens, which means they can be treated like any other data type. Higher-order functions enable you to abstract and generalize operations, making your code more flexible and concise.\n",
    "\n",
    "Here's an example of a higher-order function:"
   ]
  },
  {
   "cell_type": "code",
   "execution_count": 93,
   "metadata": {
    "colab": {
     "base_uri": "https://localhost:8080/"
    },
    "id": "qHwwDBFtq-OZ",
    "outputId": "0be485a3-e901-4097-a0df-c64ebfe4c5e6"
   },
   "outputs": [
    {
     "name": "stdout",
     "output_type": "stream",
     "text": [
      "Squared Numbers: [1, 4, 9, 16, 25]\n"
     ]
    }
   ],
   "source": [
    "def apply_operation(numbers, operation):\n",
    "    result = []\n",
    "    for num in numbers:\n",
    "        result.append(operation(num))\n",
    "    return result\n",
    "\n",
    "# Example usage: Applying a lambda function to square each number\n",
    "numbers = [1, 2, 3, 4, 5]\n",
    "squared_numbers = apply_operation(numbers, lambda x: x ** 2)\n",
    "print(\"Squared Numbers:\", squared_numbers)\n"
   ]
  },
  {
   "cell_type": "raw",
   "metadata": {
    "id": "sVoM6b5zrC6K"
   },
   "source": [
    "# Built-in Functions:"
   ]
  },
  {
   "cell_type": "raw",
   "metadata": {
    "id": "8RTg2vJarErp"
   },
   "source": [
    "Role of Built-in Functions like len(), max(), and min() in Python:"
   ]
  },
  {
   "cell_type": "raw",
   "metadata": {
    "id": "i8j6eglHrMfq"
   },
   "source": [
    "Built-in functions in Python are functions that are available in the Python standard library and can be used directly without the need for additional imports. Functions like len(), max(), and min() serve specific purposes:\n",
    "\n",
    "len(iterable): This function returns the number of items in an iterable, such as a list, tuple, string, or dictionary. It provides a convenient way to determine the length or size of a data structure.\n",
    "\n",
    "max(iterable, key=func, default=None): max() returns the maximum element from an iterable or the maximum of two or more arguments. You can specify an optional key function to determine how elements are compared. The default argument specifies a default value to return if the iterable is empty.\n",
    "\n",
    "min(iterable, key=func, default=None): min() returns the minimum element from an iterable or the minimum of two or more arguments. Like max(), you can provide a key function and a default value.\n",
    "\n",
    "Here's a Python program demonstrating the use of these functions:"
   ]
  },
  {
   "cell_type": "code",
   "execution_count": 94,
   "metadata": {
    "colab": {
     "base_uri": "https://localhost:8080/"
    },
    "id": "K_adcwzYrPFB",
    "outputId": "a50bb9ac-c872-4f62-f9dd-93020f489c3d"
   },
   "outputs": [
    {
     "name": "stdout",
     "output_type": "stream",
     "text": [
      "Length of the list: 11\n",
      "Maximum element: 9\n",
      "Minimum element: 1\n"
     ]
    }
   ],
   "source": [
    "my_list = [3, 1, 4, 1, 5, 9, 2, 6, 5, 3, 5]\n",
    "\n",
    "# Using built-in functions\n",
    "list_length = len(my_list)\n",
    "maximum = max(my_list)\n",
    "minimum = min(my_list)\n",
    "\n",
    "print(f\"Length of the list: {list_length}\")\n",
    "print(f\"Maximum element: {maximum}\")\n",
    "print(f\"Minimum element: {minimum}\")\n"
   ]
  },
  {
   "cell_type": "raw",
   "metadata": {
    "id": "KKRWYSGqrRq5"
   },
   "source": [
    "Using the map() Function:"
   ]
  },
  {
   "cell_type": "raw",
   "metadata": {
    "id": "9h0lqyS3rTNb"
   },
   "source": [
    "The map() function in Python is used to apply a specified function to each element of an iterable (e.g., a list) and return an iterable (e.g., a new list) with the results. It allows you to transform the elements of a collection without the need for explicit loops.\n",
    "\n",
    "Here's an example:"
   ]
  },
  {
   "cell_type": "code",
   "execution_count": 95,
   "metadata": {
    "colab": {
     "base_uri": "https://localhost:8080/"
    },
    "id": "FRFvqtRGrWEA",
    "outputId": "57b04ed9-88a9-4d4f-c427-725ec433c704"
   },
   "outputs": [
    {
     "name": "stdout",
     "output_type": "stream",
     "text": [
      "Original Numbers: [1, 2, 3, 4, 5]\n",
      "Squared Numbers: [1, 4, 9, 16, 25]\n"
     ]
    }
   ],
   "source": [
    "def square(x):\n",
    "    return x ** 2\n",
    "\n",
    "numbers = [1, 2, 3, 4, 5]\n",
    "\n",
    "# Using map to square each element\n",
    "squared_numbers = map(square, numbers)\n",
    "\n",
    "# Converting the result to a list\n",
    "squared_numbers_list = list(squared_numbers)\n",
    "\n",
    "print(\"Original Numbers:\", numbers)\n",
    "print(\"Squared Numbers:\", squared_numbers_list)\n"
   ]
  },
  {
   "cell_type": "raw",
   "metadata": {
    "id": "cceJgygVrZKb"
   },
   "source": [
    "How the filter() Function Works and When to Use It:\n"
   ]
  },
  {
   "cell_type": "raw",
   "metadata": {
    "id": "nsaWL79Dra_w"
   },
   "source": [
    "The filter() function is used to filter elements from an iterable (e.g., a list) based on a specified condition (usually expressed as a function). It returns an iterable containing only the elements for which the condition evaluates to True. You would use the filter() function when you want to selectively retain elements that meet certain criteria.\n",
    "\n",
    "Here's an example:"
   ]
  },
  {
   "cell_type": "code",
   "execution_count": 96,
   "metadata": {
    "colab": {
     "base_uri": "https://localhost:8080/"
    },
    "id": "I1tVyhuFreP9",
    "outputId": "fe91961e-96d9-4601-aebb-e34ffaa58831"
   },
   "outputs": [
    {
     "name": "stdout",
     "output_type": "stream",
     "text": [
      "Original Numbers: [1, 2, 3, 4, 5, 6, 7, 8, 9, 10]\n",
      "Even Numbers: [2, 4, 6, 8, 10]\n"
     ]
    }
   ],
   "source": [
    "def is_even(x):\n",
    "    return x % 2 == 0\n",
    "\n",
    "numbers = [1, 2, 3, 4, 5, 6, 7, 8, 9, 10]\n",
    "\n",
    "# Using filter to retain only even numbers\n",
    "even_numbers = filter(is_even, numbers)\n",
    "\n",
    "# Converting the result to a list\n",
    "even_numbers_list = list(even_numbers)\n",
    "\n",
    "print(\"Original Numbers:\", numbers)\n",
    "print(\"Even Numbers:\", even_numbers_list)\n"
   ]
  },
  {
   "cell_type": "raw",
   "metadata": {
    "id": "OH0SrFGvrhOZ"
   },
   "source": [
    "Using the reduce() Function:"
   ]
  },
  {
   "cell_type": "markdown",
   "metadata": {
    "id": "URFFRsnDrj0-"
   },
   "source": [
    "The reduce() function is not part of the built-in functions in Python 3, but it is available in the functools module. It is used to reduce (or accumulate) a sequence of values to a single result by repeatedly applying a binary function (a function that takes two arguments) to the elements. It is often used to find the product, sum, or other cumulative operations on a list of values."
   ]
  },
  {
   "cell_type": "code",
   "execution_count": 97,
   "metadata": {
    "colab": {
     "base_uri": "https://localhost:8080/"
    },
    "id": "hWBTVPV9rlt9",
    "outputId": "d062977e-1ef8-47ef-d49b-49fdef10d227"
   },
   "outputs": [
    {
     "name": "stdout",
     "output_type": "stream",
     "text": [
      "Original Numbers: [1, 2, 3, 4, 5]\n",
      "Product of Numbers: 120\n"
     ]
    }
   ],
   "source": [
    "from functools import reduce\n",
    "\n",
    "def multiply(x, y):\n",
    "    return x * y\n",
    "\n",
    "numbers = [1, 2, 3, 4, 5]\n",
    "\n",
    "# Using reduce to find the product of all elements\n",
    "product = reduce(multiply, numbers)\n",
    "\n",
    "print(\"Original Numbers:\", numbers)\n",
    "print(\"Product of Numbers:\", product)\n"
   ]
  },
  {
   "cell_type": "raw",
   "metadata": {
    "id": "mwnhPw_arrp9"
   },
   "source": [
    "# Function Documentation and Best Practices:"
   ]
  },
  {
   "cell_type": "raw",
   "metadata": {
    "id": "jJm5E-LmrtoI"
   },
   "source": [
    "Purpose of Docstrings in Python Functions:\n"
   ]
  },
  {
   "cell_type": "raw",
   "metadata": {
    "id": "YXUoRs-Hrv3E"
   },
   "source": [
    "Docstrings (documentation strings) in Python are used to provide documentation and information about a function, module, class, or method. They serve as a way to describe what a piece of code does and how it should be used. The primary purposes of docstrings are:\n",
    "\n",
    "Documentation: Docstrings provide a clear and concise explanation of what a function does, its parameters, return values, and usage examples. They make it easier for other developers (and yourself) to understand and use the code.\n",
    "\n",
    "Autogeneration of Documentation: Many tools and libraries can automatically generate documentation from docstrings. For example, tools like Sphinx can create documentation websites based on docstrings, making it essential for creating well-documented code.\n",
    "\n",
    "Interactive Help: Docstrings can be accessed interactively in Python using the help() function or in integrated development environments (IDEs) to provide context and guidance about code usage.\n",
    "\n",
    "Writing Docstrings:\n",
    "\n",
    "A docstring is typically a triple-quoted string that appears as the first statement inside a function, module, class, or method definition. There are different conventions for writing docstrings, but one widely accepted format is the Google-style docstring. Here's how to write one:"
   ]
  },
  {
   "cell_type": "code",
   "execution_count": 98,
   "metadata": {
    "id": "rR25vOO5r5TE"
   },
   "outputs": [],
   "source": [
    "def my_function(param1, param2):\n",
    "    \"\"\"\n",
    "    This is a short description of what the function does.\n",
    "\n",
    "    Args:\n",
    "        param1 (type): Description of the first parameter.\n",
    "        param2 (type): Description of the second parameter.\n",
    "\n",
    "    Returns:\n",
    "        type: Description of the return value.\n",
    "\n",
    "    Raises:\n",
    "        ExceptionType: Description of exceptions raised (if any).\n",
    "    \"\"\"\n",
    "    # Function code goes here\n",
    "    pass\n"
   ]
  },
  {
   "cell_type": "raw",
   "metadata": {
    "id": "AZgFomzsr9WN"
   },
   "source": [
    "The first line should be a brief, one-line description of the function's purpose.\n",
    "The \"Args\" section lists the function's parameters, their types, and descriptions.\n",
    "The \"Returns\" section describes the return value and its type.\n",
    "The \"Raises\" section specifies any exceptions the function may raise and their descriptions."
   ]
  },
  {
   "cell_type": "raw",
   "metadata": {
    "id": "8-v7JC4Qr-Gq"
   },
   "source": [
    "Best Practices for Naming Functions and Variables:"
   ]
  },
  {
   "cell_type": "raw",
   "metadata": {
    "id": "TCOjihHJsMf-"
   },
   "source": [
    "Use Descriptive Names: Choose names that clearly and concisely describe the purpose and meaning of the function or variable. Avoid single-letter or overly cryptic names.\n",
    "\n",
    "Follow Naming Conventions:\n",
    "\n",
    "Use lowercase letters for variable and function names (e.g., my_variable, calculate_sum).\n",
    "Use underscores to separate words in variable and function names (e.g., word_count).\n",
    "Use lowercase letters with words separated by underscores for function names (e.g., calculate_total_price).\n",
    "Be Consistent: Maintain a consistent naming style throughout your codebase. If you follow a particular naming convention, stick to it.\n",
    "\n",
    "Avoid Reserved Words: Do not use Python's reserved words or built-in function names as variable or function names to avoid conflicts (e.g., avoid naming a variable print or list).\n",
    "\n",
    "Use Meaningful Function and Variable Names:\n",
    "\n",
    "Functions: Choose function names that describe what the function does (e.g., calculate_average, find_max_value).\n",
    "Variables: Use variable names that indicate the data they store (e.g., user_age, product_name).\n",
    "Use PEP 8 Guidelines: PEP 8 is the official style guide for Python, and it provides detailed recommendations for naming conventions and code formatting. Adhering to PEP 8 guidelines can help maintain consistency and readability in your code.\n",
    "\n",
    "Consider Context: Choose names that make sense within the context of your program or project. Avoid overly generic names that may lead to confusion.\n",
    "\n",
    "Document Complex Code: If a function or variable has a non-obvious purpose, document it with a descriptive docstring to clarify its role and usage."
   ]
  }
 ],
 "metadata": {
  "colab": {
   "provenance": []
  },
  "kernelspec": {
   "display_name": "Python 3 (ipykernel)",
   "language": "python",
   "name": "python3"
  },
  "language_info": {
   "codemirror_mode": {
    "name": "ipython",
    "version": 3
   },
   "file_extension": ".py",
   "mimetype": "text/x-python",
   "name": "python",
   "nbconvert_exporter": "python",
   "pygments_lexer": "ipython3",
   "version": "3.10.8"
  }
 },
 "nbformat": 4,
 "nbformat_minor": 4
}
