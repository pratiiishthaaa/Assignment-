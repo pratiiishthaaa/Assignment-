{
 "cells": [
  {
   "cell_type": "raw",
   "id": "3d999e8b-65a4-474d-9d20-56f7527098e0",
   "metadata": {},
   "source": [
    "1. Given an array, check if it contains any duplicates or not.\n",
    "arr = [1, 2, 4, 2, 5, 9]\n",
    "Output = True\n",
    "\n",
    "2. Given an array and an integer k, rotate the array to the right by k steps.\n",
    "arr = [1, 2, 3, 4, 5, 6, 7] k = 3\n",
    "Output = [5, 6, 7, 1, 2, 3, 4]\n",
    "\n",
    "3. Reverse the given array in-place, means without using any extra data structure.\n",
    "arr = [2, 4, 5, 7, 9, 12]\n",
    "Output = [12, 9, 7, 5, 4, 2]\n",
    "\n",
    "4. Given an array of integers, find the maximum element in an array\n",
    "arr = [10, 5, 20, 8, 15]\n",
    "Output = 20\n",
    "\n",
    "5. Given a sorted array, remove the duplicate element without using any extra data structure.\n",
    "arr = [1, 1, 2, 2, 2, 3, 3, 4, 4, 4, 5, 5]\n",
    "Output = [1, 2, 3, 4, 5]"
   ]
  },
  {
   "cell_type": "raw",
   "id": "d61dd34f-955e-42a4-a892-4d2c97cadc30",
   "metadata": {},
   "source": [
    "Answer-1"
   ]
  },
  {
   "cell_type": "code",
   "execution_count": 1,
   "id": "0a7f68a5-38c7-4708-9fc3-ee62994d72b0",
   "metadata": {},
   "outputs": [],
   "source": [
    "def check_duplicates(arr):\n",
    "    n = len(arr)\n",
    "    \n",
    "    # Outer loop to pick each element one by one\n",
    "    for i in range(n - 1):\n",
    "      \n",
    "        # Inner loop \n",
    "        for j in range(i + 1, n):\n",
    "          \n",
    "            # If a duplicate is found return True\n",
    "            if arr[i] == arr[j]:\n",
    "                return True \n",
    "    return False\n",
    "arr=[1, 2, 4, 2, 5, 9]"
   ]
  },
  {
   "cell_type": "code",
   "execution_count": 2,
   "id": "6ebedd8f-7bea-44bf-a903-a81cfbe36501",
   "metadata": {},
   "outputs": [
    {
     "data": {
      "text/plain": [
       "True"
      ]
     },
     "execution_count": 2,
     "metadata": {},
     "output_type": "execute_result"
    }
   ],
   "source": [
    "check_duplicates(arr)"
   ]
  },
  {
   "cell_type": "raw",
   "id": "d65179a3-c8db-4d98-8d0e-c5f022c14669",
   "metadata": {},
   "source": [
    "Answer-2"
   ]
  },
  {
   "cell_type": "code",
   "execution_count": 3,
   "id": "5fd3c74a-8940-41d1-8795-b4cc1de6eb20",
   "metadata": {},
   "outputs": [],
   "source": [
    "def RightRotate(a, n, k):\n",
    "\n",
    "    # If rotation is greater \n",
    "    # than size of array\n",
    "    k = k % n;\n",
    "    for i in range(0, n):\n",
    "\n",
    "        if(i < k):\n",
    "            # Printing rightmost \n",
    "            # kth elements\n",
    "            print(a[n + i - k], end = \" \");\n",
    "        else:\n",
    "            # Prints array after\n",
    "            # 'k' elements\n",
    "            print(a[i - k], end = \" \");\n",
    "    print(\"\\n\")"
   ]
  },
  {
   "cell_type": "code",
   "execution_count": 4,
   "id": "961742ee-e78d-40e3-9aa6-1de9d95c04e2",
   "metadata": {},
   "outputs": [
    {
     "name": "stdout",
     "output_type": "stream",
     "text": [
      "5 6 7 1 2 3 4 \n",
      "\n"
     ]
    }
   ],
   "source": [
    "arr = [1, 2, 3, 4, 5, 6, 7]\n",
    "n=len(arr)\n",
    "RightRotate(arr,n,3)"
   ]
  },
  {
   "cell_type": "raw",
   "id": "22a75f06-86aa-4712-b7a8-45968b606fc1",
   "metadata": {},
   "source": [
    "Answer-3"
   ]
  },
  {
   "cell_type": "code",
   "execution_count": 5,
   "id": "17f2d059-1be6-436d-85e4-96902049b71e",
   "metadata": {},
   "outputs": [
    {
     "name": "stdout",
     "output_type": "stream",
     "text": [
      "[12, 9, 7, 5, 4, 2]\n"
     ]
    }
   ],
   "source": [
    "array = [2, 4, 5, 7, 9, 12]\n",
    "# Using inbuilt method in Python\n",
    "reversed_array = list(reversed(array))\n",
    "\n",
    "# Print the reversed array\n",
    "print(reversed_array)"
   ]
  },
  {
   "cell_type": "raw",
   "id": "827536a5-ed31-41ca-bc32-e27142547cc8",
   "metadata": {},
   "source": [
    "Answer-4"
   ]
  },
  {
   "cell_type": "code",
   "execution_count": 6,
   "id": "6c7dce73-448a-48ab-9537-facaf4076d2a",
   "metadata": {},
   "outputs": [
    {
     "name": "stdout",
     "output_type": "stream",
     "text": [
      "20\n"
     ]
    }
   ],
   "source": [
    "arr = [10, 5, 20, 8, 15]\n",
    "arr.sort()\n",
    "\n",
    "print (arr[-1])"
   ]
  },
  {
   "cell_type": "raw",
   "id": "e0565613-500e-4632-8e21-7a875cd559cd",
   "metadata": {},
   "source": [
    "Answer-5"
   ]
  },
  {
   "cell_type": "code",
   "execution_count": 11,
   "id": "6d728426-8fc1-49e4-979a-34dce55c8465",
   "metadata": {},
   "outputs": [
    {
     "name": "stdout",
     "output_type": "stream",
     "text": [
      "1 2 3 4 5 "
     ]
    }
   ],
   "source": [
    "def remove_duplicates(arr):\n",
    "    n = len(arr)\n",
    "    if n == 0 or n == 1:\n",
    "        return n\n",
    "    j = 0\n",
    "    for i in range(n - 1):\n",
    "        if arr[i] != arr[i + 1]:\n",
    "            arr[j] = arr[i]\n",
    "            j += 1\n",
    "\n",
    "    arr[j] = arr[n - 1]\n",
    "\n",
    "    return j + 1\n",
    "\n",
    "if __name__ == \"__main__\":\n",
    "    arr = [1, 1, 2, 2, 2, 3, 3, 4, 4, 4, 5, 5]\n",
    "    n = len(arr)\n",
    "\n",
    "    # remove_duplicates() returns new size of array.\n",
    "    n = remove_duplicates(arr)\n",
    "\n",
    "    # Print updated array\n",
    "    for i in range(n):\n",
    "        print(arr[i], end=\" \")\n"
   ]
  }
 ],
 "metadata": {
  "kernelspec": {
   "display_name": "Python 3 (ipykernel)",
   "language": "python",
   "name": "python3"
  },
  "language_info": {
   "codemirror_mode": {
    "name": "ipython",
    "version": 3
   },
   "file_extension": ".py",
   "mimetype": "text/x-python",
   "name": "python",
   "nbconvert_exporter": "python",
   "pygments_lexer": "ipython3",
   "version": "3.10.8"
  }
 },
 "nbformat": 4,
 "nbformat_minor": 5
}
